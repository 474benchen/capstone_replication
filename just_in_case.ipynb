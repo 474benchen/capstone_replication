{
 "cells": [
  {
   "cell_type": "markdown",
   "id": "9395c475",
   "metadata": {
    "jp-MarkdownHeadingCollapsed": true
   },
   "source": [
    "## DSC 180AB Data Science Capstone\n",
    "### Replication Project"
   ]
  },
  {
   "cell_type": "markdown",
   "id": "9e49e865",
   "metadata": {},
   "source": [
    "Team Members: Stephanie Chavez, Benjamin Chen, Sam Horio, Jayson Leach, Natalie Wu"
   ]
  },
  {
   "cell_type": "markdown",
   "id": "9aa1c3d2",
   "metadata": {},
   "source": [
    "### Table of Contents\n",
    "To return to the table of contents, click on the number at any major section heading."
   ]
  },
  {
   "cell_type": "markdown",
   "id": "1dacfbb4",
   "metadata": {
    "tags": []
   },
   "source": [
    "[1. Introduction](#1.-Introduction)\n",
    "\n",
    "[2. Exploratory Data Analysis](#2.-Exploratory-Data-Analysis)\n",
    "\n",
    "[3. Model Development](#3.-Model-Development)\n",
    "\n",
    "[4. Model Evaluation](#4.-Model-Evaluation)\n",
    "\n",
    "[5. Bias Mitigation](#5.-Bias-Mitigation)\n",
    "\n",
    "[6. Results Summary](#6.-Results-Summary)\n",
    "\n",
    "[7. Explainability](#7.-Explainability)\n",
    "\n",
    "[8. Conclusion & Discussion](#8.-Conclusion-&-Discussion)\n"
   ]
  },
  {
   "cell_type": "markdown",
   "id": "76354145-7d96-4a89-92ec-4dfa713ff959",
   "metadata": {
    "tags": []
   },
   "source": [
    "## This tutorial demonstrates classification model learning with bias mitigation as a part of a Care Management use case using Medical Expenditure data."
   ]
  },
  {
   "cell_type": "markdown",
   "id": "7799d7d3-7572-4e08-9e3a-812ba39befda",
   "metadata": {},
   "source": [
    "The notebook demonstrates how the AIF 360 toolkit can be used to detect and reduce bias when learning classifiers using a variety of fairness metrics and algorithms . It also demonstrates how explanations can be generated for predictions made by models learnt with the toolkit using LIME.\n",
    "\n",
    "* Classifiers are built using Logistic Regression as well as Random Forests.\n",
    "* Bias detection is demonstrated using several metrics, including disparate impact, average odds difference, statistical parity difference, equal opportunity difference, and Theil index.\n",
    "* Bias alleviation is explored via a variety of methods, including reweighing (pre-processing algorithm), prejudice remover (in-processing algorithm), and disparate impact remover (pre-processing technique).\n",
    "* Data from the [Medical Expenditure Panel Survey](https://urldefense.com/v3/__https://meps.ahrq.gov/mepsweb/__;!!Mih3wA!BOEOztl97chVva97r53aT50dEFwNxxI2GkzmaN6Ka1BWLdgKKh2LJXrxTrJ7odgsEuyLI8wAkAntFYG1ghc$ ) is used in this tutorial.\n",
    "\n",
    "\n",
    "The Medical Expenditure Panel Survey (MEPS) provides nationally representative estimates of health expenditure, utilization, payment sources, health status, and health insurance coverage among the noninstitutionalized U.S. population. These government-produced data sets examine how people use the US healthcare system.\n",
    "\n",
    "MEPS is administered by the Agency for Healthcare Research and Quality (AHRQ) and is divided into three components: \n",
    "* Household\n",
    "* Insurance/Employer, and \n",
    "* Medical Provider. \n",
    "\n",
    "These components provide comprehensive national estimates of health care use and payment by individuals, families, and any other demographic group of interest."
   ]
  },
  {
   "cell_type": "markdown",
   "id": "954e8582",
   "metadata": {},
   "source": [
    "### Abstract\n",
    "The increasing integration of AI across various domains raises important questions about its potential biases and equitable treatment of different groups. These issues revolve around the quality of data and the concept of algorithmic fairness. However, addressing these concerns cannot rely solely on legal or government regulations; it demands a comprehensive examination at the confluence of ethics and technical expertise. Therefore, it is crucial to dedicate thoughtful consideration to the detection and mitigation of bias and fairness issues throughout the entire machine learning model life cycle.\n",
    "\n",
    "In this research, we use the Medical Expenditure Panel Survey dataset to investigate the detection and mitigation of racial bias in a medical care management scenario, employing the IBM AI Fairness 360 toolkit. Our ultimate goal is to provide valuable insights and tools to data science practitioners and the communities affected by these biases, facilitating the promotion of AI fairness and transparency."
   ]
  },
  {
   "cell_type": "markdown",
   "id": "ebad3269",
   "metadata": {},
   "source": [
    "### [1.](#Table-of-Contents) Introduction"
   ]
  },
  {
   "cell_type": "markdown",
   "id": "c682f615",
   "metadata": {},
   "source": [
    "The [AI Fairness 360 toolkit](https://urldefense.com/v3/__https://github.com/Trusted-AI/AIF360__;!!Mih3wA!BOEOztl97chVva97r53aT50dEFwNxxI2GkzmaN6Ka1BWLdgKKh2LJXrxTrJ7odgsEuyLI8wAkAntlAxz2VI$ ) is an extensible open-source library containing techniques developed by the research community to help detect and mitigate bias in machine learning models throughout the AI application lifecycle. AI Fairness 360 package is available in both Python and R. Documentation is available [here](https://urldefense.com/v3/__https://aif360.readthedocs.io/en/v0.2.3/index.html)*5Cn__;JQ!!Mih3wA!BOEOztl97chVva97r53aT50dEFwNxxI2GkzmaN6Ka1BWLdgKKh2LJXrxTrJ7odgsEuyLI8wAkAntKVyrvtU$ \n",
    "The AI Fairness 360 package includes: \n",
    "- a comprehensive set of metrics for datasets and models to test for biases,\n",
    "- explanations for these metrics, and\n",
    "- algorithms to mitigate bias in datasets and models\n",
    "It is designed to translate algorithmic research from the lab into the actual practice of domains as wide-ranging as finance, human capital management, healthcare, and education"
   ]
  },
  {
   "cell_type": "markdown",
   "id": "17d9f1e7",
   "metadata": {},
   "source": [
    "As machine learning becomes more prevalent in the coming years, there are many ethical considerations to take into account when building models that affect the real world. For AI to be considered ethically fair, it requires evaluation of how representative the data being used to train these algorithms is of the population and if it contains sensitive information about individuals that should be safeguarded to prevent discriminatory treatment, i.e., protected attributes. Additionally, when the algorithms use this data, it’s important to examine if they make different types of errors across certain groups and whether or not they’re disparately accurate for certain groups. To be more precise, we want to observe if the algorithm predicts outcomes better for one group than for another, as well as if it produces differing false positive or false negative rates for certain groups. With the intent to enable equity across all participants, we aim to improve the bias detection within AI systems and mitigate them through algorithmic means."
   ]
  },
  {
   "cell_type": "markdown",
   "id": "523227a6-425b-4dba-bb8a-81ea10e59102",
   "metadata": {
    "tags": []
   },
   "source": [
    "#### 1.1 Use Case\n",
    "\n",
    "**In order to demonstrate how AIF360 can be used to detect and mitigate bias in classfier models, we adopt the following use case:**\n",
    "\n",
    "* Data scientist develops a 'fair' healthcare utilization scoring model with respect to defined protected classes. Fairness may be dictated by legal or government regulations, such as a requirement that additional care decisions be not predicated on factors such as race of the patient.\n",
    "* Developer takes the model AND performance characteristics / specs of the model (e.g. accuracy, fairness tests, etc. basically the model factsheet) and deploys the model in an enterprise app that prioritizes cases for care management.\n",
    "* The app is put into production and starts scoring people and making recommendations. \n",
    "* Explanations are generated for each recommendation\n",
    "* Both recommendations and associated explanations are given to nurses as a part of the care management process. The nurses can evaluate the recommendations for quality and correctness and provide feedback.\n",
    "* Nurse feedback as well as analysis of usage data with respect to specs of the model w.r.t accuracy and fairness is communicated to AI Ops specialist and LOB user periodically.\n",
    "* When significant drift in model specs relative to the model factsheet is observed, the model is sent back for retraining."
   ]
  },
  {
   "cell_type": "markdown",
   "id": "c47d37f3",
   "metadata": {},
   "source": [
    "#### 1.2 Literature Review & Prior Work\n",
    "With the rise of artificial intelligence brings a growing concern with its application in the public health sphere. Historical and systemic prejudices, along with a lack of representation in the data collection processes have bred empirical evidence that support these concerns1. Ethical considerations in AI necessitate representative population samples in research, mirroring the diversity of the demographics they aim to depict. \n",
    "\n",
    "For instance, health sector research frequently highlights data on traditionally marginalized groups, such as the Black and Hispanic communities, yet tends to overlook indigenous Native American populations. In the United States, Native Americans exhibit the lowest life expectancy among all racial or ethnic groups. They faced the highest COVID-19 infection rates, yet received disproportionately lower healthcare support, as evidenced by the stark decline in life expectancy from the average 71.8 to 65.2 years between 2019 and 20212. The skewed distribution of health surveys, which often omit critical segments of the population, introduces systemic bias. This in turn may result in recommendations that fail to address the true needs of these communities. For the purpose of this paper, bias mitigation could be approached through transparent sampling methods and the application of data preprocessing techniques.\n",
    "\n",
    "Furthermore, informed consent and transparency are crucial in gathering and processing sensitive data. A lack of clarity regarding the use and extent of data application can foster distrust in AI, particularly affecting research participation rates. This aspect is particularly notable among the most vulnerable groups, who may be hesitant to share their data due to historical mistreatment by the medical industrial complex. Black women, who disproportionately suffer from pregnancy-related mortality—a rate 2.6 times higher than that of their white counterparts—are historically subjected to medical experimentation and stereotypes regarding pain tolerance3. Addressing these deeply ingrained systemic issues yields a growing need towards robust transparency and the implementation of clear, comprehensible informed consent processes. Enhancing understanding through the use of plain language explanations of data use and AI algorithmic functions could foster more trust and accessibility.\n",
    "\n",
    "Regarding findings on the disparities between insurance, income, and racial/ethnicity and how they affect children’s usual source of care, people in high-income families were significantly less likely than any income group to lack a usual source of healthcare. Although these numbers have decreased since, there has only been a 1.1% decrease in US children without usual healthcare between 2004 and 20144. Although factors such as ethnicity, race, and income may not appear to directly affect all young adolescents, the insurance and subsequent health care these children receive are often reflective of the system they were brought up in. Thus, contextualizing the issue and/or concern, being inclusive of the population sample, and opening up a broader conversation as to better educating vulnerable populations can lead to a potentially beneficial and revitalized healthcare system.\n",
    "\n",
    "When conducting data analysis on our dataset, it is imperative to prioritize diversity, equity, and inclusion when determining the integrity and relevance of prior work and domain research, particularly within the scope of public health. Prior research must be meticulously scrutinized for its domain knowledge in DEI in order to identify latent biases stemming from the inclusion and the omission of diverse populations in the data collection process. Contextual awareness allows for a more nuanced understanding of the data, and in turn fosters the development of AI systems that are truly inclusive and equitable. The integration of DEI expertise in AI research is not optional but a necessary criterion for ethical rigor, societal relevance, and the future of medical scientific research. Thus, we aim to provide a classification model that accounts for sensitive features that may impact an individual's ability to access additional healthcare. The pursuit of comprehensive inclusivity in data—both in collection and analysis—stands as a beacon for the advancement of a healthcare paradigm that is equitable and universally beneficial.\n",
    "\n",
    "#### Citations\n",
    "Dwork, Cynthia, and Martha Minow. “Distrust of Artificial Intelligence: Sources & Responses from Computer Science & Law.” Daedalus, vol. 151, no. 2, 2022, pp. 309–21. JSTOR, https://www.jstor.org/stable/48662044. Accessed 4 Nov. 2023.\n",
    "\n",
    "Leggat-Barr, Katherine, et al. “COVID-19 Risk Factors and Mortality among Native Americans.” Demographic Research, vol. 45, 2021, pp. 1185–218. JSTOR, https://www.jstor.org/stable/48640810. Accessed 4 Nov. 2023.\n",
    "\n",
    "Njoku, Anuli et al. “Listen to the Whispers before They Become Screams: Addressing Black Maternal Morbidity and Mortality in the United States.” Healthcare (Basel, Switzerland) vol. 11,3 438. 3 Feb. 2023, doi:10.3390/healthcare11030438\n",
    "\n",
    "Naomi Zewde, PhD and Terceira Berdahl, PhD. \n",
    "“Children's Usual Source of Care: Insurance, Income, and Racial/Ethnic Disparities.” Medical Expenditure Panel Survey, Statistical brief #501. Agency for Healthcare Research and Quality, https://meps.ahrq.gov/data_files/publications/st501/stat501.pdf. Accessed 5 Nov. 2023."
   ]
  },
  {
   "cell_type": "markdown",
   "id": "f8b3fccd-dada-42d4-a408-42582b8d060f",
   "metadata": {
    "tags": []
   },
   "source": [
    "#### 1.3 Description of Relevant Data\n",
    "For this replication project, we’re focusing on the Medical Expenditure Panel Survey (MEPS) for years 2015 to 2016, a government-produced dataset that examines how people use the U.S. healthcare system and such is organized into three components: (1) household, (2) insurance/employer, and (3) medical provider. This dataset provides comprehensive estimates of health care use and payment based on a nationally representative sample of the civilian noninstitutionalized population of the United States. Such data is suitable for the investigation of detecting and mitigating racial bias in a medical care management scenario as the MEPS contains large diverse/representative data, detailed information on healthcare with a variety of features, and longitudinal data collected over multiple years. This allows for a comprehensive examination of racial disparities and bias in healthcare over time, and statistically robust results. However, the said dataset could be less useful for more specific analyses, such as racially/ethnically subgroups or geographically, and could suffer from a time lag, which affects the generalization and timeliness of the research.on evolving healthcare disparities and data.\n",
    "\n",
    "The specific data being used is the 2015 Full Year Consolidated Data File (i.e. MEPS HC-181) and the 2016 Full Year Consolidated Data File (i.e. MEPS HC-192). In the 2015 file, the MEPS survey data obtained in rounds 3, 4, and 5 of panel 19 (2014) and rounds 1, 2, and 3 of panel 20 (2015). The 2016 file consists of data from rounds 3, 4, and 5 of panel 20 (2015) and rounds 1, 2, 3 of panel 21 (2016). Both contain all the final 2015 person-level variables, including survey administration, language of interview variable, demographics, parent identifiers, health status, disability days variables, access to care, employment, quality of care, patient satisfaction, health insurance, use variables, income variables, and expenditure variables– which were previously released on the HC-174 and HC-181 files. For our research, three datasets were constructed for different stages of building the model. Panel 19, round 5 was used for learning the model; panel 20, round 3 was used for deployment/testing the model’s steps; panel 21, round 3 was used for retraining and deployment/testing of the updated model.\n",
    "\n",
    "Using MEPS, specifically the household component, we want to build a “fair” healthcare utilization scoring model to determine if a person is high-utilizer of medical care and therefore, needs additional care. The classification model uses race as the sensitive feature, i.e., protected attribute, and to identify these potential candidates.For each dataset, the sensitive attribute ‘RACE’ was constructed so that ‘Whites’ (privileged class) was defined by RACEV2X = 1 (White) and HISPANX = 2 (non-Hispanic), and ‘Non-Whites’ included all other individuals. In addition to race, the model utilized other features, including demographics (e.g. race, age, gender, active-duty status), physical/mental health assessments, diagnosis codes (e.g. history of diagnosis of cancer, or diabetes), and limitations (e.g. cognitive or hearing or vision limitation). \n",
    "\n",
    "In order to measure utilization, we create the feature ‘UTILIZATION,’ which measures the total number of trips requiring medical care, by summing the features: OBTOTV15(16), the number of office based visits; OPTOTV15(16), the number of outpatient visits; ERTOT15(16), the number of ER visits; IPNGTD15(16), the number of inpatient nights, and + HHTOTD16. If UTILIZATION >= 10, around the average utilization for the population, the person is considered ‘high’ utilization, which is what the classification model aims to predict. Each dataset consisted of around 17% high utilization respondents. For this medical care management scenario, each dataset is split into three parts: a train, a validation, and a test set. The classification model is initially built and tuned using the 2015 panel 19 train/test test, with the initial deployment being simulated to the 2015 panel 20 deployment data. Then, using the 2016 panel 21 deployment data, we observe change in performance and/or fairness over time; if there’s a shift, we use the 2015 train/validation to learn a new model and evaluate it again on the 2016 deployment data."
   ]
  },
  {
   "cell_type": "markdown",
   "id": "4bcd0b66-89d3-4e62-a3af-1b62b3dbaf27",
   "metadata": {
    "jp-MarkdownHeadingCollapsed": true,
    "tags": []
   },
   "source": [
    "#### 1.4 Methodology \n",
    "\n",
    "For each dataset, the sensitive attribute is 'RACE' constructed as follows: 'Whites' (privileged class) defined by the features RACEV2X = 1 (White) and HISPANX = 2 (non Hispanic); 'Non-Whites' that included everyone else.  \n",
    "\n",
    "* Along with race as the sensitive feature, other features used for modeling include demographics  (such as age, gender, active duty status), physical/mental health assessments, diagnosis codes (such as history of diagnosis of cancer, or diabetes), and limitations (such as cognitive or hearing or vision limitation).\n",
    "* To measure utilization, a composite feature, 'UTILIZATION', was created to measure the total number of trips requiring some sort of medical care by summing up the following features: OBTOTV15(16), the number of office based visits;  OPTOTV15(16), the number of outpatient visits; ERTOT15(16), the number of ER visits;  IPNGTD15(16), the number of inpatient nights, and  + HHTOTD16, the number of home health visits.\n",
    "* The model classification task is to predict whether a person would have 'high' utilization (defined as UTILIZATION >= 10, roughly the average utilization for the considered population). High utilization respondents constituted around 17% of each dataset.\n",
    "* To simulate the scenario, each dataset is split into 3 parts: a train, a validation, and a test/deployment part.\n",
    "\n",
    "**We assume that the model is initially built and tuned using the 2015 Panel 19 train/test data**\n",
    "* It is then put into practice and used to score people to identify potential candidates for care management. \n",
    "* Initial deployment is simulated to 2015 Panel 20 deployment data. \n",
    "* To show change in performance and/or fairness over time, the 2016 Panel 21 deployment data is used. \n",
    "* Finally, if drift is observed, the 2015 train/validation data is used to learn a new model and evaluated again on the 2016 deployment data"
   ]
  },
  {
   "cell_type": "markdown",
   "id": "913a44da",
   "metadata": {},
   "source": [
    "### 1.5 Insert writeup of overall replication project goals and big picture thinking (2-3 paragraphs).  \n",
    "* Why do we care about this? \n",
    "* What would the benefit of predicting utilization be? \n",
    "* What might occur if there are errors?\n",
    "* Who are the affected parties and stakeholders?\n",
    "* Other thoughts?"
   ]
  },
  {
   "cell_type": "markdown",
   "id": "5cd7569b-9388-4939-9422-6d134dbc0303",
   "metadata": {},
   "source": [
    "**Write up here:**"
   ]
  },
  {
   "cell_type": "markdown",
   "id": "20f776c5-8ed6-49c3-9f12-f2afed0605d4",
   "metadata": {},
   "source": [
    "---\n",
    "End of Introduction"
   ]
  },
  {
   "cell_type": "markdown",
   "id": "5f1413d0",
   "metadata": {},
   "source": [
    "### [2.](#Table-of-Contents) Exploratory Data Analysis (EDA)\n"
   ]
  },
  {
   "cell_type": "markdown",
   "id": "e6c4a57f-abcf-47c6-961e-baec728e930a",
   "metadata": {},
   "source": [
    "The specific data used is the [2015 Full Year Consolidated Data File](https://urldefense.com/v3/__https://meps.ahrq.gov/mepsweb/data_stats/download_data_files_detail.jsp?cboPufNumber=HC-181__;!!Mih3wA!BOEOztl97chVva97r53aT50dEFwNxxI2GkzmaN6Ka1BWLdgKKh2LJXrxTrJ7odgsEuyLI8wAkAnt6P5AG7M$ ) as well as the [2016 Full Year Consolidated Data File](https://urldefense.com/v3/__https://meps.ahrq.gov/mepsweb/data_stats/download_data_files_detail.jsp?cboPufNumber=HC-192).*5Cn__;JQ!!Mih3wA!BOEOztl97chVva97r53aT50dEFwNxxI2GkzmaN6Ka1BWLdgKKh2LJXrxTrJ7odgsEuyLI8wAkAntl5zrAwQ$ \n",
    "* The 2015 file contains data from rounds 3,4,5 of panel 19 (2014) and rounds 1,2,3 of panel 20 (2015). \n",
    "* The 2016 file contains data from rounds 3,4,5 of panel 20 (2015) and rounds 1,2,3 of panel 21 (2016).\n",
    "\n",
    "In this example, three datasets were constructed: one from panel 19, round 5 (used for learning models), one from panel 20, round 3 (used for deployment/testing of model - steps); the other from panel 21, round 3 (used for re-training and deployment/testing of updated model).\n",
    "\n",
    "See the corresponding [Codebook](https://urldefense.com/v3/__https://meps.ahrq.gov/mepsweb/data_stats/download_data_files_detail.jsp?cboPufNumber=HC-181__;!!Mih3wA!BOEOztl97chVva97r53aT50dEFwNxxI2GkzmaN6Ka1BWLdgKKh2LJXrxTrJ7odgsEuyLI8wAkAnt6P5AG7M$ ) for information on variables.\n",
    "\n",
    "##### Key MEPS dataset features include:\n",
    "* **Utilization**: To measure utilization, a composite feature, 'UTILIZATION', was created to measure the total number of trips requiring some sort of medical care by summing up the following features: OBTOTV15(16), the number of office based visits;  OPTOTV15(16), the number of outpatient visits; ERTOT15(16), the number of ER visits;  IPNGTD15(16), the number of inpatient nights, and  + HHTOTD16, the number of home health visits.\n",
    "* The model classification task is to predict whether a person would have **'high'** utilization (defined as UTILIZATION >= 10, roughly the average utilization for the considered population). High utilization respondents constituted around 17% of each dataset."
   ]
  },
  {
   "cell_type": "markdown",
   "id": "d7368b94-7451-4cf1-8a66-229d2a07907d",
   "metadata": {
    "jp-MarkdownHeadingCollapsed": true,
    "tags": []
   },
   "source": [
    "#### 2.0 Pre-processing Scripts (for each Panel)\n",
    "\n",
    "There is currently minimal EDA for this tutorial within IBM AIF360 Medical Expenditure Tutorial. Therefore, we have adapted  utility scripts from IBM AIF360 Tutorial for ease of understanding for how datasets were pre-processed. These will be used primarily for EDA purposes. We will utilize IBM's tutorial for the remainder of the project. We have utilized Pandas for this portion of the project. \n",
    "\n",
    "**Note:** these pre-processing script below are run for each data file, and then filtered for each panel. This was done in order to match subsequent portions of the tutorial, and how train/test/validation datasets were split."
   ]
  },
  {
   "cell_type": "markdown",
   "id": "49b833fd",
   "metadata": {
    "tags": []
   },
   "source": [
    "#### 2.1 Get and Load Dataset, Apply Pre-processing"
   ]
  },
  {
   "cell_type": "code",
   "execution_count": 1,
   "id": "52b887ff",
   "metadata": {},
   "outputs": [],
   "source": [
    "%%capture output\n",
    "# silence aif warnings\n",
    "\n",
    "# Imports\n",
    "import sys\n",
    "\n",
    "%matplotlib inline\n",
    "import matplotlib.pyplot as plt\n",
    "import numpy as np\n",
    "from IPython.display import Markdown, display\n",
    "import pandas as pd\n",
    "import seaborn as sns\n",
    "\n",
    "# Datasets\n",
    "from aif360.datasets import MEPSDataset19\n",
    "from aif360.datasets import MEPSDataset20\n",
    "from aif360.datasets import MEPSDataset21\n",
    "\n",
    "# Fairness metrics\n",
    "from aif360.metrics import BinaryLabelDatasetMetric\n",
    "from aif360.metrics import ClassificationMetric\n",
    "\n",
    "from sklearn.pipeline import make_pipeline\n",
    "\n",
    "# import processing function(s)\n",
    "from pre_processing import pre_processing"
   ]
  },
  {
   "cell_type": "code",
   "execution_count": 2,
   "id": "0cda8ade-95db-4e09-a4fa-92c469311434",
   "metadata": {},
   "outputs": [],
   "source": [
    "raw_181 = pd.read_csv('data/h181.csv')"
   ]
  },
  {
   "cell_type": "markdown",
   "id": "059c3d64-d4c9-4d83-9173-e67f361797e8",
   "metadata": {},
   "source": [
    "#### Apply pre-processing scripts"
   ]
  },
  {
   "cell_type": "code",
   "execution_count": 3,
   "id": "aa60a926-0bec-4611-a670-e15caf7ccd2d",
   "metadata": {},
   "outputs": [],
   "source": [
    "default_mappings = {\n",
    "    'label_maps': [{1.0: '>= 10 Visits', 0.0: '< 10 Visits'}],\n",
    "    'protected_attribute_maps': [{1.0: 'White', 0.0: 'Non-White'}]}"
   ]
  },
  {
   "cell_type": "markdown",
   "id": "2eb94a97-e567-4b2e-ba81-52291f0ab66c",
   "metadata": {},
   "source": [
    "##### Taken from pre-processing scripts to retain same columns used in model development for tutorial"
   ]
  },
  {
   "cell_type": "code",
   "execution_count": 4,
   "id": "0fa62be8-3771-4878-90d5-501890be645b",
   "metadata": {},
   "outputs": [],
   "source": [
    "# idk what this section is useful for\n",
    "label_name='UTILIZATION'\n",
    "favorable_classes=[1.0]\n",
    "protected_attribute_names=['RACE']\n",
    "privileged_classes=[['White']]\n",
    "instance_weights_name='PERWT15F'\n",
    "categorical_features=['REGION','SEX','MARRY',\n",
    "                                 'FTSTU','ACTDTY','HONRDC','RTHLTH','MNHLTH','HIBPDX','CHDDX','ANGIDX',\n",
    "                                 'MIDX','OHRTDX','STRKDX','EMPHDX','CHBRON','CHOLDX','CANCERDX','DIABDX',\n",
    "                                 'JTPAIN','ARTHDX','ARTHTYPE','ASTHDX','ADHDADDX','PREGNT','WLKLIM',\n",
    "                                 'ACTLIM','SOCLIM','COGLIM','DFHEAR42','DFSEE42', 'ADSMOK42', 'PHQ242',\n",
    "                                 'EMPST','POVCAT','INSCOV']\n",
    "\n",
    "features_to_drop=[]\n",
    "na_values=[]\n",
    "# custom_preprocessing=default_preprocessing <- don't need this yet for EDA\n",
    "metadata=default_mappings"
   ]
  },
  {
   "cell_type": "code",
   "execution_count": 5,
   "id": "590aaa93-f929-469b-99b7-4e8ec9f681d8",
   "metadata": {},
   "outputs": [],
   "source": [
    "df_panel_19 = pre_processing(raw_181, 19)\n",
    "df_panel_19_reduced = df_panel_19.copy()"
   ]
  },
  {
   "cell_type": "code",
   "execution_count": 6,
   "id": "85ee5b62-b00f-44c4-8dce-a92504fc8cc6",
   "metadata": {},
   "outputs": [],
   "source": [
    "df_panel_20 =pre_processing(raw_181, 20)\n",
    "df_panel_20_reduced = df_panel_20.copy()"
   ]
  },
  {
   "cell_type": "markdown",
   "id": "46f025d0-245e-4819-86a0-52d47f0671b4",
   "metadata": {},
   "source": [
    "#### 2.2 Data shape and features"
   ]
  },
  {
   "cell_type": "code",
   "execution_count": 7,
   "id": "ceb589d9-6609-4b63-a81f-a4cf9758b227",
   "metadata": {},
   "outputs": [
    {
     "data": {
      "text/html": [
       "<div>\n",
       "<style scoped>\n",
       "    .dataframe tbody tr th:only-of-type {\n",
       "        vertical-align: middle;\n",
       "    }\n",
       "\n",
       "    .dataframe tbody tr th {\n",
       "        vertical-align: top;\n",
       "    }\n",
       "\n",
       "    .dataframe thead th {\n",
       "        text-align: right;\n",
       "    }\n",
       "</style>\n",
       "<table border=\"1\" class=\"dataframe\">\n",
       "  <thead>\n",
       "    <tr style=\"text-align: right;\">\n",
       "      <th></th>\n",
       "      <th>Description</th>\n",
       "      <th>Data Type</th>\n",
       "    </tr>\n",
       "  </thead>\n",
       "  <tbody>\n",
       "    <tr>\n",
       "      <th>REGION</th>\n",
       "      <td>Region</td>\n",
       "      <td>Categorical</td>\n",
       "    </tr>\n",
       "    <tr>\n",
       "      <th>AGE</th>\n",
       "      <td>Age</td>\n",
       "      <td>Numerical</td>\n",
       "    </tr>\n",
       "    <tr>\n",
       "      <th>SEX</th>\n",
       "      <td>Sex</td>\n",
       "      <td>Categorical</td>\n",
       "    </tr>\n",
       "    <tr>\n",
       "      <th>RACE</th>\n",
       "      <td>Race</td>\n",
       "      <td>Categorical</td>\n",
       "    </tr>\n",
       "    <tr>\n",
       "      <th>MARRY</th>\n",
       "      <td>Marital Status</td>\n",
       "      <td>Categorical</td>\n",
       "    </tr>\n",
       "    <tr>\n",
       "      <th>FTSTU</th>\n",
       "      <td>Student Status</td>\n",
       "      <td>Categorical</td>\n",
       "    </tr>\n",
       "    <tr>\n",
       "      <th>ACTDTY</th>\n",
       "      <td>Military Status</td>\n",
       "      <td>Categorical</td>\n",
       "    </tr>\n",
       "    <tr>\n",
       "      <th>HONRDC</th>\n",
       "      <td>Honorable Discharge Status</td>\n",
       "      <td>Categorical</td>\n",
       "    </tr>\n",
       "    <tr>\n",
       "      <th>RTHLTH</th>\n",
       "      <td>Percieved Health Status</td>\n",
       "      <td>Categorical</td>\n",
       "    </tr>\n",
       "    <tr>\n",
       "      <th>MNHLTH</th>\n",
       "      <td>Mental Health Status</td>\n",
       "      <td>Categorical</td>\n",
       "    </tr>\n",
       "    <tr>\n",
       "      <th>HIBPDX</th>\n",
       "      <td>High Blood Pressure Diagnosis</td>\n",
       "      <td>Categorical</td>\n",
       "    </tr>\n",
       "    <tr>\n",
       "      <th>CHDDX</th>\n",
       "      <td>Coronary Heart Disease Diagnosis</td>\n",
       "      <td>Categorical</td>\n",
       "    </tr>\n",
       "    <tr>\n",
       "      <th>ANGIDX</th>\n",
       "      <td>Angina Diagnosis</td>\n",
       "      <td>Categorical</td>\n",
       "    </tr>\n",
       "    <tr>\n",
       "      <th>MIDX</th>\n",
       "      <td>Heart Attack (MI) Diagnosis</td>\n",
       "      <td>Categorical</td>\n",
       "    </tr>\n",
       "    <tr>\n",
       "      <th>OHRTDX</th>\n",
       "      <td>Other Heart Disease Diagnosis</td>\n",
       "      <td>Categorical</td>\n",
       "    </tr>\n",
       "    <tr>\n",
       "      <th>STRKDX</th>\n",
       "      <td>Stroke Diagnosis</td>\n",
       "      <td>Categorical</td>\n",
       "    </tr>\n",
       "    <tr>\n",
       "      <th>EMPHDX</th>\n",
       "      <td>Emphysema Diagnosis</td>\n",
       "      <td>Categorical</td>\n",
       "    </tr>\n",
       "    <tr>\n",
       "      <th>CHBRON</th>\n",
       "      <td>Chronic Bronchitis (&gt; 12 Months) Diagnosis</td>\n",
       "      <td>Categorical</td>\n",
       "    </tr>\n",
       "    <tr>\n",
       "      <th>CHOLDX</th>\n",
       "      <td>High Cholesterol Diagnosis</td>\n",
       "      <td>Categorical</td>\n",
       "    </tr>\n",
       "    <tr>\n",
       "      <th>CANCERDX</th>\n",
       "      <td>Cancer Diagnosis</td>\n",
       "      <td>Categorical</td>\n",
       "    </tr>\n",
       "    <tr>\n",
       "      <th>DIABDX</th>\n",
       "      <td>Diabetes Diagnosis</td>\n",
       "      <td>Categorical</td>\n",
       "    </tr>\n",
       "    <tr>\n",
       "      <th>JTPAIN</th>\n",
       "      <td>Joint Pain (&gt; 12 Months) Diagnosis</td>\n",
       "      <td>Categorical</td>\n",
       "    </tr>\n",
       "    <tr>\n",
       "      <th>ARTHDX</th>\n",
       "      <td>Arthritis Diagnosis</td>\n",
       "      <td>Categorical</td>\n",
       "    </tr>\n",
       "    <tr>\n",
       "      <th>ARTHTYPE</th>\n",
       "      <td>Arthritis Type</td>\n",
       "      <td>Categorical</td>\n",
       "    </tr>\n",
       "    <tr>\n",
       "      <th>ASTHDX</th>\n",
       "      <td>Asthma Diagnosis</td>\n",
       "      <td>Categorical</td>\n",
       "    </tr>\n",
       "    <tr>\n",
       "      <th>ADHDADDX</th>\n",
       "      <td>ADHD ADD Diagnois</td>\n",
       "      <td>Categorical</td>\n",
       "    </tr>\n",
       "    <tr>\n",
       "      <th>PREGNT</th>\n",
       "      <td>Pregnancy Status</td>\n",
       "      <td>Categorical</td>\n",
       "    </tr>\n",
       "    <tr>\n",
       "      <th>WLKLIM</th>\n",
       "      <td>Limitation in Physical Activity</td>\n",
       "      <td>Categorical</td>\n",
       "    </tr>\n",
       "    <tr>\n",
       "      <th>ACTLIM</th>\n",
       "      <td>Limitation in Work, Housework, School</td>\n",
       "      <td>Categorical</td>\n",
       "    </tr>\n",
       "    <tr>\n",
       "      <th>SOCLIM</th>\n",
       "      <td>Social Limitations</td>\n",
       "      <td>Categorical</td>\n",
       "    </tr>\n",
       "    <tr>\n",
       "      <th>COGLIM</th>\n",
       "      <td>Cognitive Limitations</td>\n",
       "      <td>Categorical</td>\n",
       "    </tr>\n",
       "    <tr>\n",
       "      <th>DFHEAR42</th>\n",
       "      <td>Serious Difficulty Hearing</td>\n",
       "      <td>Categorical</td>\n",
       "    </tr>\n",
       "    <tr>\n",
       "      <th>DFSEE42</th>\n",
       "      <td>Serious Difficulty Seeing with Glasses</td>\n",
       "      <td>Categorical</td>\n",
       "    </tr>\n",
       "    <tr>\n",
       "      <th>ADSMOK42</th>\n",
       "      <td>Currently Smoke</td>\n",
       "      <td>Categorical</td>\n",
       "    </tr>\n",
       "    <tr>\n",
       "      <th>PCS42</th>\n",
       "      <td>Physical Component Summary</td>\n",
       "      <td>Numerical</td>\n",
       "    </tr>\n",
       "    <tr>\n",
       "      <th>MCS42</th>\n",
       "      <td>Mental Component Summary</td>\n",
       "      <td>Numerical</td>\n",
       "    </tr>\n",
       "    <tr>\n",
       "      <th>K6SUM42</th>\n",
       "      <td>Overall Rating of Feelings 30 Days</td>\n",
       "      <td>Categorical</td>\n",
       "    </tr>\n",
       "    <tr>\n",
       "      <th>PHQ242</th>\n",
       "      <td>Overall Rating of Feelings 2 Weeks</td>\n",
       "      <td>Categorical</td>\n",
       "    </tr>\n",
       "    <tr>\n",
       "      <th>EMPST</th>\n",
       "      <td>Employment Status</td>\n",
       "      <td>Categorical</td>\n",
       "    </tr>\n",
       "    <tr>\n",
       "      <th>POVCAT</th>\n",
       "      <td>Family Income as Percent of Poverty Line</td>\n",
       "      <td>Categorical</td>\n",
       "    </tr>\n",
       "    <tr>\n",
       "      <th>INSCOV</th>\n",
       "      <td>Health Insurance Coverage</td>\n",
       "      <td>Categorical</td>\n",
       "    </tr>\n",
       "    <tr>\n",
       "      <th>UTILIZATION</th>\n",
       "      <td>Utilization Based on Number of Trips</td>\n",
       "      <td>Categorical</td>\n",
       "    </tr>\n",
       "    <tr>\n",
       "      <th>PERWT15F</th>\n",
       "      <td>Final Person Statistical Weight</td>\n",
       "      <td>Numerical</td>\n",
       "    </tr>\n",
       "  </tbody>\n",
       "</table>\n",
       "</div>"
      ],
      "text/plain": [
       "                                            Description    Data Type\n",
       "REGION                                           Region  Categorical\n",
       "AGE                                                 Age    Numerical\n",
       "SEX                                                 Sex  Categorical\n",
       "RACE                                               Race  Categorical\n",
       "MARRY                                    Marital Status  Categorical\n",
       "FTSTU                                    Student Status  Categorical\n",
       "ACTDTY                                  Military Status  Categorical\n",
       "HONRDC                       Honorable Discharge Status  Categorical\n",
       "RTHLTH                          Percieved Health Status  Categorical\n",
       "MNHLTH                             Mental Health Status  Categorical\n",
       "HIBPDX                    High Blood Pressure Diagnosis  Categorical\n",
       "CHDDX                  Coronary Heart Disease Diagnosis  Categorical\n",
       "ANGIDX                                 Angina Diagnosis  Categorical\n",
       "MIDX                        Heart Attack (MI) Diagnosis  Categorical\n",
       "OHRTDX                    Other Heart Disease Diagnosis  Categorical\n",
       "STRKDX                                 Stroke Diagnosis  Categorical\n",
       "EMPHDX                              Emphysema Diagnosis  Categorical\n",
       "CHBRON       Chronic Bronchitis (> 12 Months) Diagnosis  Categorical\n",
       "CHOLDX                       High Cholesterol Diagnosis  Categorical\n",
       "CANCERDX                               Cancer Diagnosis  Categorical\n",
       "DIABDX                               Diabetes Diagnosis  Categorical\n",
       "JTPAIN               Joint Pain (> 12 Months) Diagnosis  Categorical\n",
       "ARTHDX                              Arthritis Diagnosis  Categorical\n",
       "ARTHTYPE                                 Arthritis Type  Categorical\n",
       "ASTHDX                                 Asthma Diagnosis  Categorical\n",
       "ADHDADDX                              ADHD ADD Diagnois  Categorical\n",
       "PREGNT                                 Pregnancy Status  Categorical\n",
       "WLKLIM                  Limitation in Physical Activity  Categorical\n",
       "ACTLIM            Limitation in Work, Housework, School  Categorical\n",
       "SOCLIM                               Social Limitations  Categorical\n",
       "COGLIM                            Cognitive Limitations  Categorical\n",
       "DFHEAR42                     Serious Difficulty Hearing  Categorical\n",
       "DFSEE42          Serious Difficulty Seeing with Glasses  Categorical\n",
       "ADSMOK42                                Currently Smoke  Categorical\n",
       "PCS42                        Physical Component Summary    Numerical\n",
       "MCS42                          Mental Component Summary    Numerical\n",
       "K6SUM42              Overall Rating of Feelings 30 Days  Categorical\n",
       "PHQ242               Overall Rating of Feelings 2 Weeks  Categorical\n",
       "EMPST                                 Employment Status  Categorical\n",
       "POVCAT         Family Income as Percent of Poverty Line  Categorical\n",
       "INSCOV                        Health Insurance Coverage  Categorical\n",
       "UTILIZATION        Utilization Based on Number of Trips  Categorical\n",
       "PERWT15F                Final Person Statistical Weight    Numerical"
      ]
     },
     "execution_count": 7,
     "metadata": {},
     "output_type": "execute_result"
    }
   ],
   "source": [
    "# Identify feature names\n",
    "# Check for categorical features\n",
    "feat = ['REGION','AGE','SEX','RACE','MARRY',\n",
    "                                 'FTSTU','ACTDTY','HONRDC','RTHLTH','MNHLTH','HIBPDX','CHDDX','ANGIDX',\n",
    "                                 'MIDX','OHRTDX','STRKDX','EMPHDX','CHBRON','CHOLDX','CANCERDX','DIABDX',\n",
    "                                 'JTPAIN','ARTHDX','ARTHTYPE','ASTHDX','ADHDADDX','PREGNT','WLKLIM',\n",
    "                                 'ACTLIM','SOCLIM','COGLIM','DFHEAR42','DFSEE42', 'ADSMOK42',\n",
    "                                 'PCS42','MCS42','K6SUM42','PHQ242','EMPST','POVCAT','INSCOV','UTILIZATION', 'PERWT15F']\n",
    "d = [['Region', 'Categorical'], ['Age', 'Numerical'], ['Sex', 'Categorical'], ['Race', 'Categorical'],\n",
    "     ['Marital Status', 'Categorical'], ['Student Status', 'Categorical'], ['Military Status', 'Categorical'],\n",
    "     ['Honorable Discharge Status', 'Categorical'], ['Percieved Health Status', 'Categorical'],\n",
    "     ['Mental Health Status', 'Categorical'], ['High Blood Pressure Diagnosis', 'Categorical'],\n",
    "     ['Coronary Heart Disease Diagnosis', 'Categorical'], ['Angina Diagnosis', 'Categorical'],\n",
    "     ['Heart Attack (MI) Diagnosis', 'Categorical'], ['Other Heart Disease Diagnosis', 'Categorical'],\n",
    "     ['Stroke Diagnosis', 'Categorical'], ['Emphysema Diagnosis', 'Categorical'],\n",
    "     ['Chronic Bronchitis (> 12 Months) Diagnosis', 'Categorical'], ['High Cholesterol Diagnosis', 'Categorical'],\n",
    "     ['Cancer Diagnosis', 'Categorical'], ['Diabetes Diagnosis', 'Categorical'],\n",
    "     ['Joint Pain (> 12 Months) Diagnosis', 'Categorical'], ['Arthritis Diagnosis', 'Categorical'],\n",
    "     ['Arthritis Type', 'Categorical'], ['Asthma Diagnosis', 'Categorical'], ['ADHD ADD Diagnois', 'Categorical'],\n",
    "     ['Pregnancy Status', 'Categorical'], ['Limitation in Physical Activity', 'Categorical'],\n",
    "     ['Limitation in Work, Housework, School', 'Categorical'], ['Social Limitations', 'Categorical'],\n",
    "     ['Cognitive Limitations', 'Categorical'], ['Serious Difficulty Hearing', 'Categorical'],\n",
    "     ['Serious Difficulty Seeing with Glasses', 'Categorical'], ['Currently Smoke', 'Categorical'],\n",
    "     ['Physical Component Summary', 'Numerical'], ['Mental Component Summary', 'Numerical'],\n",
    "     ['Overall Rating of Feelings 30 Days', 'Categorical'], ['Overall Rating of Feelings 2 Weeks', 'Categorical'],\n",
    "     ['Employment Status', 'Categorical'], ['Family Income as Percent of Poverty Line', 'Categorical'],\n",
    "     ['Health Insurance Coverage', 'Categorical'], ['Utilization Based on Number of Trips', 'Categorical'],\n",
    "     ['Final Person Statistical Weight', 'Numerical']]\n",
    "feature_key = pd.DataFrame(data=d, index=feat, columns = ['Description', 'Data Type'])\n",
    "feature_key"
   ]
  },
  {
   "cell_type": "code",
   "execution_count": 8,
   "id": "0d0858de-a75d-4b12-9305-d51613d2226e",
   "metadata": {},
   "outputs": [
    {
     "data": {
      "text/html": [
       "<div>\n",
       "<style scoped>\n",
       "    .dataframe tbody tr th:only-of-type {\n",
       "        vertical-align: middle;\n",
       "    }\n",
       "\n",
       "    .dataframe tbody tr th {\n",
       "        vertical-align: top;\n",
       "    }\n",
       "\n",
       "    .dataframe thead th {\n",
       "        text-align: right;\n",
       "    }\n",
       "</style>\n",
       "<table border=\"1\" class=\"dataframe\">\n",
       "  <thead>\n",
       "    <tr style=\"text-align: right;\">\n",
       "      <th></th>\n",
       "      <th>count</th>\n",
       "      <th>mean</th>\n",
       "      <th>std</th>\n",
       "      <th>min</th>\n",
       "      <th>25%</th>\n",
       "      <th>50%</th>\n",
       "      <th>75%</th>\n",
       "      <th>max</th>\n",
       "    </tr>\n",
       "  </thead>\n",
       "  <tbody>\n",
       "    <tr>\n",
       "      <th>REGION</th>\n",
       "      <td>15830.0</td>\n",
       "      <td>2.825584</td>\n",
       "      <td>1.002033</td>\n",
       "      <td>1.0</td>\n",
       "      <td>2.000000</td>\n",
       "      <td>3.000000</td>\n",
       "      <td>4.000000</td>\n",
       "      <td>4.000000</td>\n",
       "    </tr>\n",
       "    <tr>\n",
       "      <th>AGE</th>\n",
       "      <td>15830.0</td>\n",
       "      <td>35.090461</td>\n",
       "      <td>22.475549</td>\n",
       "      <td>0.0</td>\n",
       "      <td>15.000000</td>\n",
       "      <td>33.000000</td>\n",
       "      <td>53.000000</td>\n",
       "      <td>85.000000</td>\n",
       "    </tr>\n",
       "    <tr>\n",
       "      <th>SEX</th>\n",
       "      <td>15830.0</td>\n",
       "      <td>1.521162</td>\n",
       "      <td>0.499568</td>\n",
       "      <td>1.0</td>\n",
       "      <td>1.000000</td>\n",
       "      <td>2.000000</td>\n",
       "      <td>2.000000</td>\n",
       "      <td>2.000000</td>\n",
       "    </tr>\n",
       "    <tr>\n",
       "      <th>MARRY</th>\n",
       "      <td>15830.0</td>\n",
       "      <td>3.661213</td>\n",
       "      <td>2.121255</td>\n",
       "      <td>1.0</td>\n",
       "      <td>1.000000</td>\n",
       "      <td>5.000000</td>\n",
       "      <td>6.000000</td>\n",
       "      <td>10.000000</td>\n",
       "    </tr>\n",
       "    <tr>\n",
       "      <th>FTSTU</th>\n",
       "      <td>15830.0</td>\n",
       "      <td>-0.720088</td>\n",
       "      <td>0.910025</td>\n",
       "      <td>-1.0</td>\n",
       "      <td>-1.000000</td>\n",
       "      <td>-1.000000</td>\n",
       "      <td>-1.000000</td>\n",
       "      <td>3.000000</td>\n",
       "    </tr>\n",
       "    <tr>\n",
       "      <th>ACTDTY</th>\n",
       "      <td>15830.0</td>\n",
       "      <td>2.581364</td>\n",
       "      <td>0.758747</td>\n",
       "      <td>1.0</td>\n",
       "      <td>2.000000</td>\n",
       "      <td>2.000000</td>\n",
       "      <td>3.000000</td>\n",
       "      <td>4.000000</td>\n",
       "    </tr>\n",
       "    <tr>\n",
       "      <th>HONRDC</th>\n",
       "      <td>15830.0</td>\n",
       "      <td>2.224889</td>\n",
       "      <td>0.512242</td>\n",
       "      <td>1.0</td>\n",
       "      <td>2.000000</td>\n",
       "      <td>2.000000</td>\n",
       "      <td>3.000000</td>\n",
       "      <td>4.000000</td>\n",
       "    </tr>\n",
       "    <tr>\n",
       "      <th>RTHLTH</th>\n",
       "      <td>15830.0</td>\n",
       "      <td>2.187871</td>\n",
       "      <td>1.054677</td>\n",
       "      <td>-1.0</td>\n",
       "      <td>1.000000</td>\n",
       "      <td>2.000000</td>\n",
       "      <td>3.000000</td>\n",
       "      <td>5.000000</td>\n",
       "    </tr>\n",
       "    <tr>\n",
       "      <th>MNHLTH</th>\n",
       "      <td>15830.0</td>\n",
       "      <td>1.993051</td>\n",
       "      <td>1.002657</td>\n",
       "      <td>-1.0</td>\n",
       "      <td>1.000000</td>\n",
       "      <td>2.000000</td>\n",
       "      <td>3.000000</td>\n",
       "      <td>5.000000</td>\n",
       "    </tr>\n",
       "    <tr>\n",
       "      <th>HIBPDX</th>\n",
       "      <td>15830.0</td>\n",
       "      <td>0.918067</td>\n",
       "      <td>1.267763</td>\n",
       "      <td>-1.0</td>\n",
       "      <td>-1.000000</td>\n",
       "      <td>1.000000</td>\n",
       "      <td>2.000000</td>\n",
       "      <td>2.000000</td>\n",
       "    </tr>\n",
       "    <tr>\n",
       "      <th>CHDDX</th>\n",
       "      <td>15830.0</td>\n",
       "      <td>1.114908</td>\n",
       "      <td>1.340741</td>\n",
       "      <td>-1.0</td>\n",
       "      <td>-1.000000</td>\n",
       "      <td>2.000000</td>\n",
       "      <td>2.000000</td>\n",
       "      <td>2.000000</td>\n",
       "    </tr>\n",
       "    <tr>\n",
       "      <th>ANGIDX</th>\n",
       "      <td>15830.0</td>\n",
       "      <td>1.135629</td>\n",
       "      <td>1.346520</td>\n",
       "      <td>-1.0</td>\n",
       "      <td>-1.000000</td>\n",
       "      <td>2.000000</td>\n",
       "      <td>2.000000</td>\n",
       "      <td>2.000000</td>\n",
       "    </tr>\n",
       "    <tr>\n",
       "      <th>MIDX</th>\n",
       "      <td>15830.0</td>\n",
       "      <td>1.127922</td>\n",
       "      <td>1.344410</td>\n",
       "      <td>-1.0</td>\n",
       "      <td>-1.000000</td>\n",
       "      <td>2.000000</td>\n",
       "      <td>2.000000</td>\n",
       "      <td>2.000000</td>\n",
       "    </tr>\n",
       "    <tr>\n",
       "      <th>OHRTDX</th>\n",
       "      <td>15830.0</td>\n",
       "      <td>1.078143</td>\n",
       "      <td>1.329630</td>\n",
       "      <td>-1.0</td>\n",
       "      <td>-1.000000</td>\n",
       "      <td>2.000000</td>\n",
       "      <td>2.000000</td>\n",
       "      <td>2.000000</td>\n",
       "    </tr>\n",
       "    <tr>\n",
       "      <th>STRKDX</th>\n",
       "      <td>15830.0</td>\n",
       "      <td>1.123752</td>\n",
       "      <td>1.343250</td>\n",
       "      <td>-1.0</td>\n",
       "      <td>-1.000000</td>\n",
       "      <td>2.000000</td>\n",
       "      <td>2.000000</td>\n",
       "      <td>2.000000</td>\n",
       "    </tr>\n",
       "    <tr>\n",
       "      <th>EMPHDX</th>\n",
       "      <td>15830.0</td>\n",
       "      <td>1.138471</td>\n",
       "      <td>1.347286</td>\n",
       "      <td>-1.0</td>\n",
       "      <td>-1.000000</td>\n",
       "      <td>2.000000</td>\n",
       "      <td>2.000000</td>\n",
       "      <td>2.000000</td>\n",
       "    </tr>\n",
       "    <tr>\n",
       "      <th>CHBRON</th>\n",
       "      <td>15830.0</td>\n",
       "      <td>1.136450</td>\n",
       "      <td>1.348992</td>\n",
       "      <td>-1.0</td>\n",
       "      <td>-1.000000</td>\n",
       "      <td>2.000000</td>\n",
       "      <td>2.000000</td>\n",
       "      <td>2.000000</td>\n",
       "    </tr>\n",
       "    <tr>\n",
       "      <th>CHOLDX</th>\n",
       "      <td>15830.0</td>\n",
       "      <td>0.940114</td>\n",
       "      <td>1.277653</td>\n",
       "      <td>-1.0</td>\n",
       "      <td>-1.000000</td>\n",
       "      <td>2.000000</td>\n",
       "      <td>2.000000</td>\n",
       "      <td>2.000000</td>\n",
       "    </tr>\n",
       "    <tr>\n",
       "      <th>CANCERDX</th>\n",
       "      <td>15830.0</td>\n",
       "      <td>1.090587</td>\n",
       "      <td>1.333515</td>\n",
       "      <td>-1.0</td>\n",
       "      <td>-1.000000</td>\n",
       "      <td>2.000000</td>\n",
       "      <td>2.000000</td>\n",
       "      <td>2.000000</td>\n",
       "    </tr>\n",
       "    <tr>\n",
       "      <th>DIABDX</th>\n",
       "      <td>15830.0</td>\n",
       "      <td>1.075679</td>\n",
       "      <td>1.328846</td>\n",
       "      <td>-1.0</td>\n",
       "      <td>-1.000000</td>\n",
       "      <td>2.000000</td>\n",
       "      <td>2.000000</td>\n",
       "      <td>2.000000</td>\n",
       "    </tr>\n",
       "    <tr>\n",
       "      <th>JTPAIN</th>\n",
       "      <td>15830.0</td>\n",
       "      <td>0.920910</td>\n",
       "      <td>1.271451</td>\n",
       "      <td>-1.0</td>\n",
       "      <td>-1.000000</td>\n",
       "      <td>1.000000</td>\n",
       "      <td>2.000000</td>\n",
       "      <td>2.000000</td>\n",
       "    </tr>\n",
       "    <tr>\n",
       "      <th>ARTHDX</th>\n",
       "      <td>15830.0</td>\n",
       "      <td>0.966582</td>\n",
       "      <td>1.288929</td>\n",
       "      <td>-1.0</td>\n",
       "      <td>-1.000000</td>\n",
       "      <td>2.000000</td>\n",
       "      <td>2.000000</td>\n",
       "      <td>2.000000</td>\n",
       "    </tr>\n",
       "    <tr>\n",
       "      <th>ARTHTYPE</th>\n",
       "      <td>15830.0</td>\n",
       "      <td>-0.379469</td>\n",
       "      <td>1.338561</td>\n",
       "      <td>-1.0</td>\n",
       "      <td>-1.000000</td>\n",
       "      <td>-1.000000</td>\n",
       "      <td>-1.000000</td>\n",
       "      <td>3.000000</td>\n",
       "    </tr>\n",
       "    <tr>\n",
       "      <th>ASTHDX</th>\n",
       "      <td>15830.0</td>\n",
       "      <td>1.906759</td>\n",
       "      <td>0.290779</td>\n",
       "      <td>1.0</td>\n",
       "      <td>2.000000</td>\n",
       "      <td>2.000000</td>\n",
       "      <td>2.000000</td>\n",
       "      <td>2.000000</td>\n",
       "    </tr>\n",
       "    <tr>\n",
       "      <th>ADHDADDX</th>\n",
       "      <td>15830.0</td>\n",
       "      <td>-0.304296</td>\n",
       "      <td>1.245504</td>\n",
       "      <td>-1.0</td>\n",
       "      <td>-1.000000</td>\n",
       "      <td>-1.000000</td>\n",
       "      <td>-1.000000</td>\n",
       "      <td>2.000000</td>\n",
       "    </tr>\n",
       "    <tr>\n",
       "      <th>PREGNT</th>\n",
       "      <td>15830.0</td>\n",
       "      <td>-0.393178</td>\n",
       "      <td>1.195652</td>\n",
       "      <td>-1.0</td>\n",
       "      <td>-1.000000</td>\n",
       "      <td>-1.000000</td>\n",
       "      <td>-1.000000</td>\n",
       "      <td>2.000000</td>\n",
       "    </tr>\n",
       "    <tr>\n",
       "      <th>WLKLIM</th>\n",
       "      <td>15830.0</td>\n",
       "      <td>1.900569</td>\n",
       "      <td>0.310441</td>\n",
       "      <td>-1.0</td>\n",
       "      <td>2.000000</td>\n",
       "      <td>2.000000</td>\n",
       "      <td>2.000000</td>\n",
       "      <td>2.000000</td>\n",
       "    </tr>\n",
       "    <tr>\n",
       "      <th>ACTLIM</th>\n",
       "      <td>15830.0</td>\n",
       "      <td>1.713898</td>\n",
       "      <td>0.784799</td>\n",
       "      <td>-1.0</td>\n",
       "      <td>2.000000</td>\n",
       "      <td>2.000000</td>\n",
       "      <td>2.000000</td>\n",
       "      <td>2.000000</td>\n",
       "    </tr>\n",
       "    <tr>\n",
       "      <th>SOCLIM</th>\n",
       "      <td>15830.0</td>\n",
       "      <td>1.952369</td>\n",
       "      <td>0.228447</td>\n",
       "      <td>-1.0</td>\n",
       "      <td>2.000000</td>\n",
       "      <td>2.000000</td>\n",
       "      <td>2.000000</td>\n",
       "      <td>2.000000</td>\n",
       "    </tr>\n",
       "    <tr>\n",
       "      <th>COGLIM</th>\n",
       "      <td>15830.0</td>\n",
       "      <td>1.106759</td>\n",
       "      <td>1.340637</td>\n",
       "      <td>-1.0</td>\n",
       "      <td>-1.000000</td>\n",
       "      <td>2.000000</td>\n",
       "      <td>2.000000</td>\n",
       "      <td>2.000000</td>\n",
       "    </tr>\n",
       "    <tr>\n",
       "      <th>DFHEAR42</th>\n",
       "      <td>15830.0</td>\n",
       "      <td>1.900821</td>\n",
       "      <td>0.473993</td>\n",
       "      <td>-1.0</td>\n",
       "      <td>2.000000</td>\n",
       "      <td>2.000000</td>\n",
       "      <td>2.000000</td>\n",
       "      <td>2.000000</td>\n",
       "    </tr>\n",
       "    <tr>\n",
       "      <th>DFSEE42</th>\n",
       "      <td>15830.0</td>\n",
       "      <td>1.905054</td>\n",
       "      <td>0.470381</td>\n",
       "      <td>-1.0</td>\n",
       "      <td>2.000000</td>\n",
       "      <td>2.000000</td>\n",
       "      <td>2.000000</td>\n",
       "      <td>2.000000</td>\n",
       "    </tr>\n",
       "    <tr>\n",
       "      <th>ADSMOK42</th>\n",
       "      <td>15830.0</td>\n",
       "      <td>0.726153</td>\n",
       "      <td>1.419339</td>\n",
       "      <td>-1.0</td>\n",
       "      <td>-1.000000</td>\n",
       "      <td>2.000000</td>\n",
       "      <td>2.000000</td>\n",
       "      <td>2.000000</td>\n",
       "    </tr>\n",
       "    <tr>\n",
       "      <th>PCS42</th>\n",
       "      <td>15830.0</td>\n",
       "      <td>29.358455</td>\n",
       "      <td>25.996522</td>\n",
       "      <td>-9.0</td>\n",
       "      <td>-1.000000</td>\n",
       "      <td>39.505000</td>\n",
       "      <td>54.800000</td>\n",
       "      <td>72.070000</td>\n",
       "    </tr>\n",
       "    <tr>\n",
       "      <th>MCS42</th>\n",
       "      <td>15830.0</td>\n",
       "      <td>30.851517</td>\n",
       "      <td>26.968146</td>\n",
       "      <td>-9.0</td>\n",
       "      <td>-1.000000</td>\n",
       "      <td>42.480000</td>\n",
       "      <td>56.580000</td>\n",
       "      <td>75.510000</td>\n",
       "    </tr>\n",
       "    <tr>\n",
       "      <th>K6SUM42</th>\n",
       "      <td>15830.0</td>\n",
       "      <td>1.274289</td>\n",
       "      <td>3.955331</td>\n",
       "      <td>-9.0</td>\n",
       "      <td>-1.000000</td>\n",
       "      <td>0.000000</td>\n",
       "      <td>2.000000</td>\n",
       "      <td>24.000000</td>\n",
       "    </tr>\n",
       "    <tr>\n",
       "      <th>PHQ242</th>\n",
       "      <td>15830.0</td>\n",
       "      <td>-0.003853</td>\n",
       "      <td>1.278136</td>\n",
       "      <td>-1.0</td>\n",
       "      <td>-1.000000</td>\n",
       "      <td>0.000000</td>\n",
       "      <td>0.000000</td>\n",
       "      <td>6.000000</td>\n",
       "    </tr>\n",
       "    <tr>\n",
       "      <th>EMPST</th>\n",
       "      <td>15830.0</td>\n",
       "      <td>1.375426</td>\n",
       "      <td>1.854929</td>\n",
       "      <td>-1.0</td>\n",
       "      <td>-1.000000</td>\n",
       "      <td>1.000000</td>\n",
       "      <td>4.000000</td>\n",
       "      <td>4.000000</td>\n",
       "    </tr>\n",
       "    <tr>\n",
       "      <th>POVCAT</th>\n",
       "      <td>15830.0</td>\n",
       "      <td>3.298547</td>\n",
       "      <td>1.476351</td>\n",
       "      <td>1.0</td>\n",
       "      <td>2.000000</td>\n",
       "      <td>4.000000</td>\n",
       "      <td>5.000000</td>\n",
       "      <td>5.000000</td>\n",
       "    </tr>\n",
       "    <tr>\n",
       "      <th>INSCOV</th>\n",
       "      <td>15830.0</td>\n",
       "      <td>1.585344</td>\n",
       "      <td>0.688718</td>\n",
       "      <td>1.0</td>\n",
       "      <td>1.000000</td>\n",
       "      <td>1.000000</td>\n",
       "      <td>2.000000</td>\n",
       "      <td>3.000000</td>\n",
       "    </tr>\n",
       "    <tr>\n",
       "      <th>UTILIZATION</th>\n",
       "      <td>15830.0</td>\n",
       "      <td>0.171699</td>\n",
       "      <td>0.377131</td>\n",
       "      <td>0.0</td>\n",
       "      <td>0.000000</td>\n",
       "      <td>0.000000</td>\n",
       "      <td>0.000000</td>\n",
       "      <td>1.000000</td>\n",
       "    </tr>\n",
       "    <tr>\n",
       "      <th>PERWT15F</th>\n",
       "      <td>15830.0</td>\n",
       "      <td>8930.337369</td>\n",
       "      <td>8521.260446</td>\n",
       "      <td>0.0</td>\n",
       "      <td>3428.548713</td>\n",
       "      <td>6146.458935</td>\n",
       "      <td>11749.810086</td>\n",
       "      <td>94264.071559</td>\n",
       "    </tr>\n",
       "  </tbody>\n",
       "</table>\n",
       "</div>"
      ],
      "text/plain": [
       "               count         mean          std  min          25%          50%  \\\n",
       "REGION       15830.0     2.825584     1.002033  1.0     2.000000     3.000000   \n",
       "AGE          15830.0    35.090461    22.475549  0.0    15.000000    33.000000   \n",
       "SEX          15830.0     1.521162     0.499568  1.0     1.000000     2.000000   \n",
       "MARRY        15830.0     3.661213     2.121255  1.0     1.000000     5.000000   \n",
       "FTSTU        15830.0    -0.720088     0.910025 -1.0    -1.000000    -1.000000   \n",
       "ACTDTY       15830.0     2.581364     0.758747  1.0     2.000000     2.000000   \n",
       "HONRDC       15830.0     2.224889     0.512242  1.0     2.000000     2.000000   \n",
       "RTHLTH       15830.0     2.187871     1.054677 -1.0     1.000000     2.000000   \n",
       "MNHLTH       15830.0     1.993051     1.002657 -1.0     1.000000     2.000000   \n",
       "HIBPDX       15830.0     0.918067     1.267763 -1.0    -1.000000     1.000000   \n",
       "CHDDX        15830.0     1.114908     1.340741 -1.0    -1.000000     2.000000   \n",
       "ANGIDX       15830.0     1.135629     1.346520 -1.0    -1.000000     2.000000   \n",
       "MIDX         15830.0     1.127922     1.344410 -1.0    -1.000000     2.000000   \n",
       "OHRTDX       15830.0     1.078143     1.329630 -1.0    -1.000000     2.000000   \n",
       "STRKDX       15830.0     1.123752     1.343250 -1.0    -1.000000     2.000000   \n",
       "EMPHDX       15830.0     1.138471     1.347286 -1.0    -1.000000     2.000000   \n",
       "CHBRON       15830.0     1.136450     1.348992 -1.0    -1.000000     2.000000   \n",
       "CHOLDX       15830.0     0.940114     1.277653 -1.0    -1.000000     2.000000   \n",
       "CANCERDX     15830.0     1.090587     1.333515 -1.0    -1.000000     2.000000   \n",
       "DIABDX       15830.0     1.075679     1.328846 -1.0    -1.000000     2.000000   \n",
       "JTPAIN       15830.0     0.920910     1.271451 -1.0    -1.000000     1.000000   \n",
       "ARTHDX       15830.0     0.966582     1.288929 -1.0    -1.000000     2.000000   \n",
       "ARTHTYPE     15830.0    -0.379469     1.338561 -1.0    -1.000000    -1.000000   \n",
       "ASTHDX       15830.0     1.906759     0.290779  1.0     2.000000     2.000000   \n",
       "ADHDADDX     15830.0    -0.304296     1.245504 -1.0    -1.000000    -1.000000   \n",
       "PREGNT       15830.0    -0.393178     1.195652 -1.0    -1.000000    -1.000000   \n",
       "WLKLIM       15830.0     1.900569     0.310441 -1.0     2.000000     2.000000   \n",
       "ACTLIM       15830.0     1.713898     0.784799 -1.0     2.000000     2.000000   \n",
       "SOCLIM       15830.0     1.952369     0.228447 -1.0     2.000000     2.000000   \n",
       "COGLIM       15830.0     1.106759     1.340637 -1.0    -1.000000     2.000000   \n",
       "DFHEAR42     15830.0     1.900821     0.473993 -1.0     2.000000     2.000000   \n",
       "DFSEE42      15830.0     1.905054     0.470381 -1.0     2.000000     2.000000   \n",
       "ADSMOK42     15830.0     0.726153     1.419339 -1.0    -1.000000     2.000000   \n",
       "PCS42        15830.0    29.358455    25.996522 -9.0    -1.000000    39.505000   \n",
       "MCS42        15830.0    30.851517    26.968146 -9.0    -1.000000    42.480000   \n",
       "K6SUM42      15830.0     1.274289     3.955331 -9.0    -1.000000     0.000000   \n",
       "PHQ242       15830.0    -0.003853     1.278136 -1.0    -1.000000     0.000000   \n",
       "EMPST        15830.0     1.375426     1.854929 -1.0    -1.000000     1.000000   \n",
       "POVCAT       15830.0     3.298547     1.476351  1.0     2.000000     4.000000   \n",
       "INSCOV       15830.0     1.585344     0.688718  1.0     1.000000     1.000000   \n",
       "UTILIZATION  15830.0     0.171699     0.377131  0.0     0.000000     0.000000   \n",
       "PERWT15F     15830.0  8930.337369  8521.260446  0.0  3428.548713  6146.458935   \n",
       "\n",
       "                      75%           max  \n",
       "REGION           4.000000      4.000000  \n",
       "AGE             53.000000     85.000000  \n",
       "SEX              2.000000      2.000000  \n",
       "MARRY            6.000000     10.000000  \n",
       "FTSTU           -1.000000      3.000000  \n",
       "ACTDTY           3.000000      4.000000  \n",
       "HONRDC           3.000000      4.000000  \n",
       "RTHLTH           3.000000      5.000000  \n",
       "MNHLTH           3.000000      5.000000  \n",
       "HIBPDX           2.000000      2.000000  \n",
       "CHDDX            2.000000      2.000000  \n",
       "ANGIDX           2.000000      2.000000  \n",
       "MIDX             2.000000      2.000000  \n",
       "OHRTDX           2.000000      2.000000  \n",
       "STRKDX           2.000000      2.000000  \n",
       "EMPHDX           2.000000      2.000000  \n",
       "CHBRON           2.000000      2.000000  \n",
       "CHOLDX           2.000000      2.000000  \n",
       "CANCERDX         2.000000      2.000000  \n",
       "DIABDX           2.000000      2.000000  \n",
       "JTPAIN           2.000000      2.000000  \n",
       "ARTHDX           2.000000      2.000000  \n",
       "ARTHTYPE        -1.000000      3.000000  \n",
       "ASTHDX           2.000000      2.000000  \n",
       "ADHDADDX        -1.000000      2.000000  \n",
       "PREGNT          -1.000000      2.000000  \n",
       "WLKLIM           2.000000      2.000000  \n",
       "ACTLIM           2.000000      2.000000  \n",
       "SOCLIM           2.000000      2.000000  \n",
       "COGLIM           2.000000      2.000000  \n",
       "DFHEAR42         2.000000      2.000000  \n",
       "DFSEE42          2.000000      2.000000  \n",
       "ADSMOK42         2.000000      2.000000  \n",
       "PCS42           54.800000     72.070000  \n",
       "MCS42           56.580000     75.510000  \n",
       "K6SUM42          2.000000     24.000000  \n",
       "PHQ242           0.000000      6.000000  \n",
       "EMPST            4.000000      4.000000  \n",
       "POVCAT           5.000000      5.000000  \n",
       "INSCOV           2.000000      3.000000  \n",
       "UTILIZATION      0.000000      1.000000  \n",
       "PERWT15F     11749.810086  94264.071559  "
      ]
     },
     "execution_count": 8,
     "metadata": {},
     "output_type": "execute_result"
    }
   ],
   "source": [
    "df_panel_19_reduced.describe().T"
   ]
  },
  {
   "cell_type": "code",
   "execution_count": 9,
   "id": "b909ddc9-e7ab-4f65-ba42-a43d4c4a31c9",
   "metadata": {},
   "outputs": [
    {
     "data": {
      "text/html": [
       "<div>\n",
       "<style scoped>\n",
       "    .dataframe tbody tr th:only-of-type {\n",
       "        vertical-align: middle;\n",
       "    }\n",
       "\n",
       "    .dataframe tbody tr th {\n",
       "        vertical-align: top;\n",
       "    }\n",
       "\n",
       "    .dataframe thead th {\n",
       "        text-align: right;\n",
       "    }\n",
       "</style>\n",
       "<table border=\"1\" class=\"dataframe\">\n",
       "  <thead>\n",
       "    <tr style=\"text-align: right;\">\n",
       "      <th></th>\n",
       "      <th>count</th>\n",
       "      <th>mean</th>\n",
       "      <th>std</th>\n",
       "      <th>min</th>\n",
       "      <th>25%</th>\n",
       "      <th>50%</th>\n",
       "      <th>75%</th>\n",
       "      <th>max</th>\n",
       "    </tr>\n",
       "  </thead>\n",
       "  <tbody>\n",
       "    <tr>\n",
       "      <th>REGION</th>\n",
       "      <td>17570.0</td>\n",
       "      <td>2.778201</td>\n",
       "      <td>1.016363</td>\n",
       "      <td>1.0</td>\n",
       "      <td>2.000000</td>\n",
       "      <td>3.000000</td>\n",
       "      <td>4.00000</td>\n",
       "      <td>4.000000</td>\n",
       "    </tr>\n",
       "    <tr>\n",
       "      <th>AGE</th>\n",
       "      <td>17570.0</td>\n",
       "      <td>35.396187</td>\n",
       "      <td>22.662113</td>\n",
       "      <td>0.0</td>\n",
       "      <td>15.000000</td>\n",
       "      <td>34.000000</td>\n",
       "      <td>53.00000</td>\n",
       "      <td>85.000000</td>\n",
       "    </tr>\n",
       "    <tr>\n",
       "      <th>SEX</th>\n",
       "      <td>17570.0</td>\n",
       "      <td>1.519465</td>\n",
       "      <td>0.499635</td>\n",
       "      <td>1.0</td>\n",
       "      <td>1.000000</td>\n",
       "      <td>2.000000</td>\n",
       "      <td>2.00000</td>\n",
       "      <td>2.000000</td>\n",
       "    </tr>\n",
       "    <tr>\n",
       "      <th>MARRY</th>\n",
       "      <td>17570.0</td>\n",
       "      <td>3.626010</td>\n",
       "      <td>2.148104</td>\n",
       "      <td>1.0</td>\n",
       "      <td>1.000000</td>\n",
       "      <td>5.000000</td>\n",
       "      <td>6.00000</td>\n",
       "      <td>10.000000</td>\n",
       "    </tr>\n",
       "    <tr>\n",
       "      <th>FTSTU</th>\n",
       "      <td>17570.0</td>\n",
       "      <td>-0.718668</td>\n",
       "      <td>0.908419</td>\n",
       "      <td>-1.0</td>\n",
       "      <td>-1.000000</td>\n",
       "      <td>-1.000000</td>\n",
       "      <td>-1.00000</td>\n",
       "      <td>3.000000</td>\n",
       "    </tr>\n",
       "    <tr>\n",
       "      <th>ACTDTY</th>\n",
       "      <td>17570.0</td>\n",
       "      <td>2.594764</td>\n",
       "      <td>0.767781</td>\n",
       "      <td>1.0</td>\n",
       "      <td>2.000000</td>\n",
       "      <td>2.000000</td>\n",
       "      <td>3.00000</td>\n",
       "      <td>4.000000</td>\n",
       "    </tr>\n",
       "    <tr>\n",
       "      <th>HONRDC</th>\n",
       "      <td>17570.0</td>\n",
       "      <td>2.223734</td>\n",
       "      <td>0.518731</td>\n",
       "      <td>1.0</td>\n",
       "      <td>2.000000</td>\n",
       "      <td>2.000000</td>\n",
       "      <td>3.00000</td>\n",
       "      <td>4.000000</td>\n",
       "    </tr>\n",
       "    <tr>\n",
       "      <th>RTHLTH</th>\n",
       "      <td>17570.0</td>\n",
       "      <td>2.167103</td>\n",
       "      <td>1.084599</td>\n",
       "      <td>-1.0</td>\n",
       "      <td>1.000000</td>\n",
       "      <td>2.000000</td>\n",
       "      <td>3.00000</td>\n",
       "      <td>5.000000</td>\n",
       "    </tr>\n",
       "    <tr>\n",
       "      <th>MNHLTH</th>\n",
       "      <td>17570.0</td>\n",
       "      <td>1.942971</td>\n",
       "      <td>1.012665</td>\n",
       "      <td>-1.0</td>\n",
       "      <td>1.000000</td>\n",
       "      <td>2.000000</td>\n",
       "      <td>3.00000</td>\n",
       "      <td>5.000000</td>\n",
       "    </tr>\n",
       "    <tr>\n",
       "      <th>HIBPDX</th>\n",
       "      <td>17570.0</td>\n",
       "      <td>0.922595</td>\n",
       "      <td>1.268244</td>\n",
       "      <td>-1.0</td>\n",
       "      <td>-1.000000</td>\n",
       "      <td>1.000000</td>\n",
       "      <td>2.00000</td>\n",
       "      <td>2.000000</td>\n",
       "    </tr>\n",
       "    <tr>\n",
       "      <th>CHDDX</th>\n",
       "      <td>17570.0</td>\n",
       "      <td>1.121912</td>\n",
       "      <td>1.341231</td>\n",
       "      <td>-1.0</td>\n",
       "      <td>-1.000000</td>\n",
       "      <td>2.000000</td>\n",
       "      <td>2.00000</td>\n",
       "      <td>2.000000</td>\n",
       "    </tr>\n",
       "    <tr>\n",
       "      <th>ANGIDX</th>\n",
       "      <td>17570.0</td>\n",
       "      <td>1.139556</td>\n",
       "      <td>1.346080</td>\n",
       "      <td>-1.0</td>\n",
       "      <td>-1.000000</td>\n",
       "      <td>2.000000</td>\n",
       "      <td>2.00000</td>\n",
       "      <td>2.000000</td>\n",
       "    </tr>\n",
       "    <tr>\n",
       "      <th>MIDX</th>\n",
       "      <td>17570.0</td>\n",
       "      <td>1.129141</td>\n",
       "      <td>1.343247</td>\n",
       "      <td>-1.0</td>\n",
       "      <td>-1.000000</td>\n",
       "      <td>2.000000</td>\n",
       "      <td>2.00000</td>\n",
       "      <td>2.000000</td>\n",
       "    </tr>\n",
       "    <tr>\n",
       "      <th>OHRTDX</th>\n",
       "      <td>17570.0</td>\n",
       "      <td>1.089812</td>\n",
       "      <td>1.331764</td>\n",
       "      <td>-1.0</td>\n",
       "      <td>-1.000000</td>\n",
       "      <td>2.000000</td>\n",
       "      <td>2.00000</td>\n",
       "      <td>2.000000</td>\n",
       "    </tr>\n",
       "    <tr>\n",
       "      <th>STRKDX</th>\n",
       "      <td>17570.0</td>\n",
       "      <td>1.127205</td>\n",
       "      <td>1.342711</td>\n",
       "      <td>-1.0</td>\n",
       "      <td>-1.000000</td>\n",
       "      <td>2.000000</td>\n",
       "      <td>2.00000</td>\n",
       "      <td>2.000000</td>\n",
       "    </tr>\n",
       "    <tr>\n",
       "      <th>EMPHDX</th>\n",
       "      <td>17570.0</td>\n",
       "      <td>1.142402</td>\n",
       "      <td>1.346839</td>\n",
       "      <td>-1.0</td>\n",
       "      <td>-1.000000</td>\n",
       "      <td>2.000000</td>\n",
       "      <td>2.00000</td>\n",
       "      <td>2.000000</td>\n",
       "    </tr>\n",
       "    <tr>\n",
       "      <th>CHBRON</th>\n",
       "      <td>17570.0</td>\n",
       "      <td>1.132442</td>\n",
       "      <td>1.350997</td>\n",
       "      <td>-1.0</td>\n",
       "      <td>-1.000000</td>\n",
       "      <td>2.000000</td>\n",
       "      <td>2.00000</td>\n",
       "      <td>2.000000</td>\n",
       "    </tr>\n",
       "    <tr>\n",
       "      <th>CHOLDX</th>\n",
       "      <td>17570.0</td>\n",
       "      <td>0.953045</td>\n",
       "      <td>1.281671</td>\n",
       "      <td>-1.0</td>\n",
       "      <td>-1.000000</td>\n",
       "      <td>2.000000</td>\n",
       "      <td>2.00000</td>\n",
       "      <td>2.000000</td>\n",
       "    </tr>\n",
       "    <tr>\n",
       "      <th>CANCERDX</th>\n",
       "      <td>17570.0</td>\n",
       "      <td>1.093625</td>\n",
       "      <td>1.332932</td>\n",
       "      <td>-1.0</td>\n",
       "      <td>-1.000000</td>\n",
       "      <td>2.000000</td>\n",
       "      <td>2.00000</td>\n",
       "      <td>2.000000</td>\n",
       "    </tr>\n",
       "    <tr>\n",
       "      <th>DIABDX</th>\n",
       "      <td>17570.0</td>\n",
       "      <td>1.078486</td>\n",
       "      <td>1.328222</td>\n",
       "      <td>-1.0</td>\n",
       "      <td>-1.000000</td>\n",
       "      <td>2.000000</td>\n",
       "      <td>2.00000</td>\n",
       "      <td>2.000000</td>\n",
       "    </tr>\n",
       "    <tr>\n",
       "      <th>JTPAIN</th>\n",
       "      <td>17570.0</td>\n",
       "      <td>0.910074</td>\n",
       "      <td>1.269751</td>\n",
       "      <td>-1.0</td>\n",
       "      <td>-1.000000</td>\n",
       "      <td>1.000000</td>\n",
       "      <td>2.00000</td>\n",
       "      <td>2.000000</td>\n",
       "    </tr>\n",
       "    <tr>\n",
       "      <th>ARTHDX</th>\n",
       "      <td>17570.0</td>\n",
       "      <td>0.988332</td>\n",
       "      <td>1.296163</td>\n",
       "      <td>-1.0</td>\n",
       "      <td>-1.000000</td>\n",
       "      <td>2.000000</td>\n",
       "      <td>2.00000</td>\n",
       "      <td>2.000000</td>\n",
       "    </tr>\n",
       "    <tr>\n",
       "      <th>ARTHTYPE</th>\n",
       "      <td>17570.0</td>\n",
       "      <td>-0.452191</td>\n",
       "      <td>1.266708</td>\n",
       "      <td>-1.0</td>\n",
       "      <td>-1.000000</td>\n",
       "      <td>-1.000000</td>\n",
       "      <td>-1.00000</td>\n",
       "      <td>3.000000</td>\n",
       "    </tr>\n",
       "    <tr>\n",
       "      <th>ASTHDX</th>\n",
       "      <td>17570.0</td>\n",
       "      <td>1.895788</td>\n",
       "      <td>0.305544</td>\n",
       "      <td>1.0</td>\n",
       "      <td>2.000000</td>\n",
       "      <td>2.000000</td>\n",
       "      <td>2.00000</td>\n",
       "      <td>2.000000</td>\n",
       "    </tr>\n",
       "    <tr>\n",
       "      <th>ADHDADDX</th>\n",
       "      <td>17570.0</td>\n",
       "      <td>-0.344451</td>\n",
       "      <td>1.221904</td>\n",
       "      <td>-1.0</td>\n",
       "      <td>-1.000000</td>\n",
       "      <td>-1.000000</td>\n",
       "      <td>-1.00000</td>\n",
       "      <td>2.000000</td>\n",
       "    </tr>\n",
       "    <tr>\n",
       "      <th>PREGNT</th>\n",
       "      <td>17570.0</td>\n",
       "      <td>-0.410643</td>\n",
       "      <td>1.181570</td>\n",
       "      <td>-1.0</td>\n",
       "      <td>-1.000000</td>\n",
       "      <td>-1.000000</td>\n",
       "      <td>-1.00000</td>\n",
       "      <td>2.000000</td>\n",
       "    </tr>\n",
       "    <tr>\n",
       "      <th>WLKLIM</th>\n",
       "      <td>17570.0</td>\n",
       "      <td>1.896585</td>\n",
       "      <td>0.333417</td>\n",
       "      <td>-1.0</td>\n",
       "      <td>2.000000</td>\n",
       "      <td>2.000000</td>\n",
       "      <td>2.00000</td>\n",
       "      <td>2.000000</td>\n",
       "    </tr>\n",
       "    <tr>\n",
       "      <th>ACTLIM</th>\n",
       "      <td>17570.0</td>\n",
       "      <td>1.704212</td>\n",
       "      <td>0.804669</td>\n",
       "      <td>-1.0</td>\n",
       "      <td>2.000000</td>\n",
       "      <td>2.000000</td>\n",
       "      <td>2.00000</td>\n",
       "      <td>2.000000</td>\n",
       "    </tr>\n",
       "    <tr>\n",
       "      <th>SOCLIM</th>\n",
       "      <td>17570.0</td>\n",
       "      <td>1.947581</td>\n",
       "      <td>0.260990</td>\n",
       "      <td>-1.0</td>\n",
       "      <td>2.000000</td>\n",
       "      <td>2.000000</td>\n",
       "      <td>2.00000</td>\n",
       "      <td>2.000000</td>\n",
       "    </tr>\n",
       "    <tr>\n",
       "      <th>COGLIM</th>\n",
       "      <td>17570.0</td>\n",
       "      <td>1.103756</td>\n",
       "      <td>1.342863</td>\n",
       "      <td>-1.0</td>\n",
       "      <td>-1.000000</td>\n",
       "      <td>2.000000</td>\n",
       "      <td>2.00000</td>\n",
       "      <td>2.000000</td>\n",
       "    </tr>\n",
       "    <tr>\n",
       "      <th>DFHEAR42</th>\n",
       "      <td>17570.0</td>\n",
       "      <td>1.886397</td>\n",
       "      <td>0.499259</td>\n",
       "      <td>-1.0</td>\n",
       "      <td>2.000000</td>\n",
       "      <td>2.000000</td>\n",
       "      <td>2.00000</td>\n",
       "      <td>2.000000</td>\n",
       "    </tr>\n",
       "    <tr>\n",
       "      <th>DFSEE42</th>\n",
       "      <td>17570.0</td>\n",
       "      <td>1.899374</td>\n",
       "      <td>0.488940</td>\n",
       "      <td>-1.0</td>\n",
       "      <td>2.000000</td>\n",
       "      <td>2.000000</td>\n",
       "      <td>2.00000</td>\n",
       "      <td>2.000000</td>\n",
       "    </tr>\n",
       "    <tr>\n",
       "      <th>ADSMOK42</th>\n",
       "      <td>17570.0</td>\n",
       "      <td>0.744906</td>\n",
       "      <td>1.415675</td>\n",
       "      <td>-1.0</td>\n",
       "      <td>-1.000000</td>\n",
       "      <td>2.000000</td>\n",
       "      <td>2.00000</td>\n",
       "      <td>2.000000</td>\n",
       "    </tr>\n",
       "    <tr>\n",
       "      <th>PCS42</th>\n",
       "      <td>17570.0</td>\n",
       "      <td>29.609575</td>\n",
       "      <td>25.940198</td>\n",
       "      <td>-9.0</td>\n",
       "      <td>-1.000000</td>\n",
       "      <td>39.730000</td>\n",
       "      <td>54.80000</td>\n",
       "      <td>71.060000</td>\n",
       "    </tr>\n",
       "    <tr>\n",
       "      <th>MCS42</th>\n",
       "      <td>17570.0</td>\n",
       "      <td>31.174532</td>\n",
       "      <td>26.900476</td>\n",
       "      <td>-9.0</td>\n",
       "      <td>-1.000000</td>\n",
       "      <td>42.965000</td>\n",
       "      <td>56.71000</td>\n",
       "      <td>73.160000</td>\n",
       "    </tr>\n",
       "    <tr>\n",
       "      <th>K6SUM42</th>\n",
       "      <td>17570.0</td>\n",
       "      <td>1.318042</td>\n",
       "      <td>3.952222</td>\n",
       "      <td>-9.0</td>\n",
       "      <td>-1.000000</td>\n",
       "      <td>0.000000</td>\n",
       "      <td>2.00000</td>\n",
       "      <td>24.000000</td>\n",
       "    </tr>\n",
       "    <tr>\n",
       "      <th>PHQ242</th>\n",
       "      <td>17570.0</td>\n",
       "      <td>0.015766</td>\n",
       "      <td>1.287219</td>\n",
       "      <td>-1.0</td>\n",
       "      <td>-1.000000</td>\n",
       "      <td>0.000000</td>\n",
       "      <td>0.00000</td>\n",
       "      <td>6.000000</td>\n",
       "    </tr>\n",
       "    <tr>\n",
       "      <th>EMPST</th>\n",
       "      <td>17570.0</td>\n",
       "      <td>1.369437</td>\n",
       "      <td>1.847585</td>\n",
       "      <td>-1.0</td>\n",
       "      <td>-1.000000</td>\n",
       "      <td>1.000000</td>\n",
       "      <td>4.00000</td>\n",
       "      <td>4.000000</td>\n",
       "    </tr>\n",
       "    <tr>\n",
       "      <th>POVCAT</th>\n",
       "      <td>17570.0</td>\n",
       "      <td>3.310757</td>\n",
       "      <td>1.488707</td>\n",
       "      <td>1.0</td>\n",
       "      <td>2.000000</td>\n",
       "      <td>4.000000</td>\n",
       "      <td>5.00000</td>\n",
       "      <td>5.000000</td>\n",
       "    </tr>\n",
       "    <tr>\n",
       "      <th>INSCOV</th>\n",
       "      <td>17570.0</td>\n",
       "      <td>1.569380</td>\n",
       "      <td>0.685918</td>\n",
       "      <td>1.0</td>\n",
       "      <td>1.000000</td>\n",
       "      <td>1.000000</td>\n",
       "      <td>2.00000</td>\n",
       "      <td>3.000000</td>\n",
       "    </tr>\n",
       "    <tr>\n",
       "      <th>UTILIZATION</th>\n",
       "      <td>17570.0</td>\n",
       "      <td>0.172112</td>\n",
       "      <td>0.377488</td>\n",
       "      <td>0.0</td>\n",
       "      <td>0.000000</td>\n",
       "      <td>0.000000</td>\n",
       "      <td>0.00000</td>\n",
       "      <td>1.000000</td>\n",
       "    </tr>\n",
       "    <tr>\n",
       "      <th>PERWT15F</th>\n",
       "      <td>17570.0</td>\n",
       "      <td>9322.578166</td>\n",
       "      <td>8127.601760</td>\n",
       "      <td>0.0</td>\n",
       "      <td>3833.173318</td>\n",
       "      <td>7068.043378</td>\n",
       "      <td>12283.54961</td>\n",
       "      <td>98103.984953</td>\n",
       "    </tr>\n",
       "  </tbody>\n",
       "</table>\n",
       "</div>"
      ],
      "text/plain": [
       "               count         mean          std  min          25%          50%  \\\n",
       "REGION       17570.0     2.778201     1.016363  1.0     2.000000     3.000000   \n",
       "AGE          17570.0    35.396187    22.662113  0.0    15.000000    34.000000   \n",
       "SEX          17570.0     1.519465     0.499635  1.0     1.000000     2.000000   \n",
       "MARRY        17570.0     3.626010     2.148104  1.0     1.000000     5.000000   \n",
       "FTSTU        17570.0    -0.718668     0.908419 -1.0    -1.000000    -1.000000   \n",
       "ACTDTY       17570.0     2.594764     0.767781  1.0     2.000000     2.000000   \n",
       "HONRDC       17570.0     2.223734     0.518731  1.0     2.000000     2.000000   \n",
       "RTHLTH       17570.0     2.167103     1.084599 -1.0     1.000000     2.000000   \n",
       "MNHLTH       17570.0     1.942971     1.012665 -1.0     1.000000     2.000000   \n",
       "HIBPDX       17570.0     0.922595     1.268244 -1.0    -1.000000     1.000000   \n",
       "CHDDX        17570.0     1.121912     1.341231 -1.0    -1.000000     2.000000   \n",
       "ANGIDX       17570.0     1.139556     1.346080 -1.0    -1.000000     2.000000   \n",
       "MIDX         17570.0     1.129141     1.343247 -1.0    -1.000000     2.000000   \n",
       "OHRTDX       17570.0     1.089812     1.331764 -1.0    -1.000000     2.000000   \n",
       "STRKDX       17570.0     1.127205     1.342711 -1.0    -1.000000     2.000000   \n",
       "EMPHDX       17570.0     1.142402     1.346839 -1.0    -1.000000     2.000000   \n",
       "CHBRON       17570.0     1.132442     1.350997 -1.0    -1.000000     2.000000   \n",
       "CHOLDX       17570.0     0.953045     1.281671 -1.0    -1.000000     2.000000   \n",
       "CANCERDX     17570.0     1.093625     1.332932 -1.0    -1.000000     2.000000   \n",
       "DIABDX       17570.0     1.078486     1.328222 -1.0    -1.000000     2.000000   \n",
       "JTPAIN       17570.0     0.910074     1.269751 -1.0    -1.000000     1.000000   \n",
       "ARTHDX       17570.0     0.988332     1.296163 -1.0    -1.000000     2.000000   \n",
       "ARTHTYPE     17570.0    -0.452191     1.266708 -1.0    -1.000000    -1.000000   \n",
       "ASTHDX       17570.0     1.895788     0.305544  1.0     2.000000     2.000000   \n",
       "ADHDADDX     17570.0    -0.344451     1.221904 -1.0    -1.000000    -1.000000   \n",
       "PREGNT       17570.0    -0.410643     1.181570 -1.0    -1.000000    -1.000000   \n",
       "WLKLIM       17570.0     1.896585     0.333417 -1.0     2.000000     2.000000   \n",
       "ACTLIM       17570.0     1.704212     0.804669 -1.0     2.000000     2.000000   \n",
       "SOCLIM       17570.0     1.947581     0.260990 -1.0     2.000000     2.000000   \n",
       "COGLIM       17570.0     1.103756     1.342863 -1.0    -1.000000     2.000000   \n",
       "DFHEAR42     17570.0     1.886397     0.499259 -1.0     2.000000     2.000000   \n",
       "DFSEE42      17570.0     1.899374     0.488940 -1.0     2.000000     2.000000   \n",
       "ADSMOK42     17570.0     0.744906     1.415675 -1.0    -1.000000     2.000000   \n",
       "PCS42        17570.0    29.609575    25.940198 -9.0    -1.000000    39.730000   \n",
       "MCS42        17570.0    31.174532    26.900476 -9.0    -1.000000    42.965000   \n",
       "K6SUM42      17570.0     1.318042     3.952222 -9.0    -1.000000     0.000000   \n",
       "PHQ242       17570.0     0.015766     1.287219 -1.0    -1.000000     0.000000   \n",
       "EMPST        17570.0     1.369437     1.847585 -1.0    -1.000000     1.000000   \n",
       "POVCAT       17570.0     3.310757     1.488707  1.0     2.000000     4.000000   \n",
       "INSCOV       17570.0     1.569380     0.685918  1.0     1.000000     1.000000   \n",
       "UTILIZATION  17570.0     0.172112     0.377488  0.0     0.000000     0.000000   \n",
       "PERWT15F     17570.0  9322.578166  8127.601760  0.0  3833.173318  7068.043378   \n",
       "\n",
       "                     75%           max  \n",
       "REGION           4.00000      4.000000  \n",
       "AGE             53.00000     85.000000  \n",
       "SEX              2.00000      2.000000  \n",
       "MARRY            6.00000     10.000000  \n",
       "FTSTU           -1.00000      3.000000  \n",
       "ACTDTY           3.00000      4.000000  \n",
       "HONRDC           3.00000      4.000000  \n",
       "RTHLTH           3.00000      5.000000  \n",
       "MNHLTH           3.00000      5.000000  \n",
       "HIBPDX           2.00000      2.000000  \n",
       "CHDDX            2.00000      2.000000  \n",
       "ANGIDX           2.00000      2.000000  \n",
       "MIDX             2.00000      2.000000  \n",
       "OHRTDX           2.00000      2.000000  \n",
       "STRKDX           2.00000      2.000000  \n",
       "EMPHDX           2.00000      2.000000  \n",
       "CHBRON           2.00000      2.000000  \n",
       "CHOLDX           2.00000      2.000000  \n",
       "CANCERDX         2.00000      2.000000  \n",
       "DIABDX           2.00000      2.000000  \n",
       "JTPAIN           2.00000      2.000000  \n",
       "ARTHDX           2.00000      2.000000  \n",
       "ARTHTYPE        -1.00000      3.000000  \n",
       "ASTHDX           2.00000      2.000000  \n",
       "ADHDADDX        -1.00000      2.000000  \n",
       "PREGNT          -1.00000      2.000000  \n",
       "WLKLIM           2.00000      2.000000  \n",
       "ACTLIM           2.00000      2.000000  \n",
       "SOCLIM           2.00000      2.000000  \n",
       "COGLIM           2.00000      2.000000  \n",
       "DFHEAR42         2.00000      2.000000  \n",
       "DFSEE42          2.00000      2.000000  \n",
       "ADSMOK42         2.00000      2.000000  \n",
       "PCS42           54.80000     71.060000  \n",
       "MCS42           56.71000     73.160000  \n",
       "K6SUM42          2.00000     24.000000  \n",
       "PHQ242           0.00000      6.000000  \n",
       "EMPST            4.00000      4.000000  \n",
       "POVCAT           5.00000      5.000000  \n",
       "INSCOV           2.00000      3.000000  \n",
       "UTILIZATION      0.00000      1.000000  \n",
       "PERWT15F     12283.54961  98103.984953  "
      ]
     },
     "execution_count": 9,
     "metadata": {},
     "output_type": "execute_result"
    }
   ],
   "source": [
    "df_panel_20_reduced.describe().T"
   ]
  },
  {
   "cell_type": "code",
   "execution_count": 10,
   "id": "c791d933-ea51-4d53-bf52-c3d74575929a",
   "metadata": {},
   "outputs": [
    {
     "data": {
      "text/plain": [
       "((15830, 43), (17570, 43))"
      ]
     },
     "execution_count": 10,
     "metadata": {},
     "output_type": "execute_result"
    }
   ],
   "source": [
    "# Shapes\n",
    "df_panel_19_reduced.shape, df_panel_20_reduced.shape"
   ]
  },
  {
   "cell_type": "markdown",
   "id": "fb155077-bc0e-46a2-a870-c721654ecf77",
   "metadata": {},
   "source": [
    "#### 2.3 Outlier Detection and Handling"
   ]
  },
  {
   "cell_type": "code",
   "execution_count": 11,
   "id": "2a1f0d00-160f-4869-bbfe-f6d1297a01d3",
   "metadata": {},
   "outputs": [],
   "source": [
    "# # Null handling"
   ]
  },
  {
   "cell_type": "code",
   "execution_count": 12,
   "id": "8963a036",
   "metadata": {},
   "outputs": [],
   "source": [
    "# handle -9 which is null value in columns PCS42, MCS42, K6SUM42\n",
    "df_panel_19_reduced = df_panel_19_reduced[(df_panel_19_reduced['PCS42'] != -9)\n",
    "                        & (df_panel_19_reduced['MCS42'] != -9) & (df_panel_19_reduced['K6SUM42'] != -9)]\n",
    "df_panel_20_reduced = df_panel_20_reduced[(df_panel_20_reduced['PCS42'] != -9)\n",
    "                        & (df_panel_20_reduced['MCS42'] != -9) & (df_panel_20_reduced['K6SUM42'] != -9)]"
   ]
  },
  {
   "cell_type": "code",
   "execution_count": 13,
   "id": "7ed74186-b856-4296-ad54-2b7c43499942",
   "metadata": {},
   "outputs": [
    {
     "data": {
      "text/html": [
       "<div>\n",
       "<style scoped>\n",
       "    .dataframe tbody tr th:only-of-type {\n",
       "        vertical-align: middle;\n",
       "    }\n",
       "\n",
       "    .dataframe tbody tr th {\n",
       "        vertical-align: top;\n",
       "    }\n",
       "\n",
       "    .dataframe thead th {\n",
       "        text-align: right;\n",
       "    }\n",
       "</style>\n",
       "<table border=\"1\" class=\"dataframe\">\n",
       "  <thead>\n",
       "    <tr style=\"text-align: right;\">\n",
       "      <th></th>\n",
       "      <th>Description</th>\n",
       "      <th>Data Type</th>\n",
       "    </tr>\n",
       "  </thead>\n",
       "  <tbody>\n",
       "    <tr>\n",
       "      <th>AGE</th>\n",
       "      <td>Age</td>\n",
       "      <td>Numerical</td>\n",
       "    </tr>\n",
       "    <tr>\n",
       "      <th>PCS42</th>\n",
       "      <td>Physical Component Summary</td>\n",
       "      <td>Numerical</td>\n",
       "    </tr>\n",
       "    <tr>\n",
       "      <th>MCS42</th>\n",
       "      <td>Mental Component Summary</td>\n",
       "      <td>Numerical</td>\n",
       "    </tr>\n",
       "    <tr>\n",
       "      <th>PERWT15F</th>\n",
       "      <td>Final Person Statistical Weight</td>\n",
       "      <td>Numerical</td>\n",
       "    </tr>\n",
       "  </tbody>\n",
       "</table>\n",
       "</div>"
      ],
      "text/plain": [
       "                              Description  Data Type\n",
       "AGE                                   Age  Numerical\n",
       "PCS42          Physical Component Summary  Numerical\n",
       "MCS42            Mental Component Summary  Numerical\n",
       "PERWT15F  Final Person Statistical Weight  Numerical"
      ]
     },
     "execution_count": 13,
     "metadata": {},
     "output_type": "execute_result"
    }
   ],
   "source": [
    "# only numerical can have outliers\n",
    "feature_key[feature_key['Data Type'] == 'Numerical'] "
   ]
  },
  {
   "cell_type": "markdown",
   "id": "8cbdfd5c-d894-48fe-9d4a-83722a3e5956",
   "metadata": {},
   "source": [
    "PCS42, MCS42, PERWT15F are difficult to consider as outliers - as such, we will leave them as is. This leaves us with investigating AGE."
   ]
  },
  {
   "cell_type": "code",
   "execution_count": 14,
   "id": "d09b5b51-210a-4d0a-a5b8-6fe695a9667e",
   "metadata": {},
   "outputs": [
    {
     "data": {
      "image/png": "[encoded data removed]",
      "text/plain": [
       "<Figure size 640x480 with 2 Axes>"
      ]
     },
     "metadata": {},
     "output_type": "display_data"
    }
   ],
   "source": [
    "fig, (ax1, ax2) = plt.subplots(1, 2)\n",
    "sns.histplot(df_panel_19_reduced['AGE'], stat = \"probability\", ax = ax1)\n",
    "sns.histplot(df_panel_20_reduced['AGE'], stat = \"probability\", ax = ax2)\n",
    "ax1.set_title('age distribution of panel 19')\n",
    "ax2.set_title('age distribution of panel 20')\n",
    "plt.show()"
   ]
  },
  {
   "cell_type": "markdown",
   "id": "c14eb1c9-1273-42ad-867a-eb0770a13307",
   "metadata": {},
   "source": [
    "There's a concerning number of ages that are less than 18, which is rather unexpected. The age of consent is 18, meaning that we'd expect the minimum age to be 18 for someone to participate in this study."
   ]
  },
  {
   "cell_type": "code",
   "execution_count": 15,
   "id": "be5ca155-ba7a-46c9-9089-4b6325eb1019",
   "metadata": {},
   "outputs": [
    {
     "data": {
      "text/plain": [
       "AGE\n",
       "13    281\n",
       "10    274\n",
       "6     272\n",
       "8     271\n",
       "9     270\n",
       "7     268\n",
       "14    265\n",
       "5     263\n",
       "11    258\n",
       "12    255\n",
       "17    250\n",
       "16    248\n",
       "3     232\n",
       "15    231\n",
       "4     227\n",
       "1     220\n",
       "2     209\n",
       "0     180\n",
       "Name: count, dtype: int64"
      ]
     },
     "execution_count": 15,
     "metadata": {},
     "output_type": "execute_result"
    }
   ],
   "source": [
    "df_panel_19_reduced[df_panel_19_reduced['AGE'] < 18]['AGE'].value_counts()"
   ]
  },
  {
   "cell_type": "code",
   "execution_count": 16,
   "id": "875e576a-5ea8-4c9a-8f97-89c0433d412c",
   "metadata": {},
   "outputs": [
    {
     "data": {
      "text/plain": [
       "AGE\n",
       "14    319\n",
       "6     319\n",
       "9     307\n",
       "8     306\n",
       "16    297\n",
       "10    294\n",
       "3     292\n",
       "11    278\n",
       "5     277\n",
       "7     277\n",
       "4     275\n",
       "15    272\n",
       "13    261\n",
       "12    258\n",
       "17    257\n",
       "2     240\n",
       "1     239\n",
       "0     186\n",
       "Name: count, dtype: int64"
      ]
     },
     "execution_count": 16,
     "metadata": {},
     "output_type": "execute_result"
    }
   ],
   "source": [
    "df_panel_20_reduced[df_panel_20_reduced['AGE'] < 18]['AGE'].value_counts()"
   ]
  },
  {
   "cell_type": "markdown",
   "id": "c73dec45-46b5-42fc-8054-b8876661bad1",
   "metadata": {},
   "source": [
    "There's a large proportion of observations in the data on people less than 18, which is concerning as the legal age of consent is 18. A bit of research tells us that MEPS collects data on people as young as 10 - so let's use that as our floor for age. We will consider all observations with an age less than 10 as outliers."
   ]
  },
  {
   "cell_type": "code",
   "execution_count": 17,
   "id": "4bc0e391-eaa9-494c-9612-5fbacfe0116b",
   "metadata": {},
   "outputs": [],
   "source": [
    "# floor age // discard observations with an age less than the cut off\n",
    "age_cutoff = 10\n",
    "df_panel_19_reduced = df_panel_19_reduced[df_panel_19_reduced['AGE'] >= age_cutoff]\n",
    "df_panel_20_reduced = df_panel_20_reduced[df_panel_20_reduced['AGE'] >= age_cutoff]"
   ]
  },
  {
   "cell_type": "markdown",
   "id": "73fa3de1-a9c8-4949-9bb4-18967129d713",
   "metadata": {},
   "source": [
    "We can see that the highest age in the distribution is about 85 - though this is well above the mean of around 35 between both panels, we choose to retain it as (reasonably) large ages is an important phenomena to retain as older people likely have to use health services more."
   ]
  },
  {
   "cell_type": "code",
   "execution_count": 18,
   "id": "9132afff",
   "metadata": {},
   "outputs": [
    {
     "data": {
      "text/plain": [
       "((13197, 43), (14594, 43))"
      ]
     },
     "execution_count": 18,
     "metadata": {},
     "output_type": "execute_result"
    }
   ],
   "source": [
    "# Shapes after removing nulls and providing cutoffs\n",
    "df_panel_19_reduced.shape, df_panel_20_reduced.shape"
   ]
  },
  {
   "cell_type": "markdown",
   "id": "61c08e9d-b4e4-495b-90ee-c524476ddf3f",
   "metadata": {},
   "source": [
    "#### 2.4 Correlation Analysis"
   ]
  },
  {
   "cell_type": "code",
   "execution_count": 19,
   "id": "bf405c3a-6ec2-41a4-8975-eb3ccfce6d69",
   "metadata": {},
   "outputs": [
    {
     "data": {
      "image/png": "[encoded data removed]",
      "text/plain": [
       "<Figure size 622.375x500 with 1 Axes>"
      ]
     },
     "metadata": {},
     "output_type": "display_data"
    }
   ],
   "source": [
    "# identified disparity in occurance of high utilization with categories of race\n",
    "non_white_counts = df_panel_19_reduced[df_panel_19_reduced['RACE'] == 'Non-White']['UTILIZATION'].value_counts()\n",
    "white_counts = df_panel_19_reduced[df_panel_19_reduced['RACE'] != 'Non-White']['UTILIZATION'].value_counts()\n",
    "\n",
    "# data preparation\n",
    "util_data_1 = df_panel_19_reduced.copy()[['RACE', 'UTILIZATION', 'AGE']].rename(columns={'AGE': 'COUNT'})\n",
    "util_data_1['UTILIZATION'] = util_data_1['UTILIZATION'].replace([0, 1], ['Low', 'High'])\n",
    "util_data_1 = util_data_1.groupby(['RACE', 'UTILIZATION']).count().reset_index()\n",
    "\n",
    "# Calculate proportions\n",
    "util_data_1['PROPORTION'] = util_data_1.groupby('RACE')['COUNT'].transform(lambda x: x / x.sum())\n",
    "\n",
    "# Visualize with proportions\n",
    "sns.catplot(data=util_data_1, kind=\"bar\", x=\"UTILIZATION\", y=\"PROPORTION\", hue=\"RACE\", palette=['tomato', 'deepskyblue'])\n",
    "plt.title('White vs. Non-White Utilization (Panel 19)')\n",
    "plt.show()"
   ]
  },
  {
   "cell_type": "code",
   "execution_count": 20,
   "id": "6d9841ff-85cc-402c-a626-6d0a1ea7b3b9",
   "metadata": {},
   "outputs": [
    {
     "data": {
      "image/png": "[encoded data removed]",
      "text/plain": [
       "<Figure size 637.75x500 with 1 Axes>"
      ]
     },
     "metadata": {},
     "output_type": "display_data"
    }
   ],
   "source": [
    "# identified disparity in occurance of high utilization with categories of employment\n",
    "# -1 inapplicable, 1 employed, 2 job to return, 3 job during period, 4 unemployed\n",
    "# df_panel_19_reduced[df_panel_19_reduced['EMPST'] == 4]['UTILIZATION'].value_counts(), df_panel_19_reduced[(df_panel_19_reduced['EMPST'] != 4) & (df_panel_19_reduced['EMPST'] != -1)]['UTILIZATION'].value_counts()\n",
    "# select and modify useful columns, remove inapplicables\n",
    "util_data_2 = df_panel_19_reduced.copy()[['EMPST', 'UTILIZATION', 'AGE']].rename(columns={'AGE': 'COUNT'})\n",
    "util_data_2 = util_data_2[util_data_2['EMPST'] != -1]\n",
    "util_data_2['EMPST'] = util_data_2['EMPST'].replace([1, 2, 3], 'Employed').replace(4, 'Unemployed')\n",
    "util_data_2['UTILIZATION'] = util_data_2['UTILIZATION'].replace([0, 1], ['Low', 'High'])\n",
    "util_data_2 = util_data_2.groupby(['EMPST', 'UTILIZATION']).count().reset_index()\n",
    "\n",
    "# Calculate proportions\n",
    "util_data_2['PROPORTION'] = util_data_2.groupby('EMPST')['COUNT'].transform(lambda x: x / x.sum())\n",
    "\n",
    "# Visualize with proportions\n",
    "sns.catplot(data=util_data_2, kind=\"bar\", x=\"UTILIZATION\", y=\"PROPORTION\", hue=\"EMPST\", palette=['deepskyblue', 'tomato'])\n",
    "plt.title('Employed vs. Unemployed Utilization (Panel 19)')\n",
    "plt.show()"
   ]
  },
  {
   "cell_type": "code",
   "execution_count": 21,
   "id": "35a06dc4-74b3-4d01-891b-31692d3142e5",
   "metadata": {},
   "outputs": [
    {
     "data": {
      "image/png": "[encoded data removed]",
      "text/plain": [
       "<Figure size 1000x500 with 2 Axes>"
      ]
     },
     "metadata": {},
     "output_type": "display_data"
    }
   ],
   "source": [
    "# identified disparity in occurance of high utilization with age\n",
    "# select and modify useful columns, remove inapplicables\n",
    "util_data_3 = df_panel_19_reduced.copy()\n",
    "util_data_3['UTILIZATION'] = util_data_3['UTILIZATION'].replace([0,1], ['Low', 'High'])\n",
    "# visualize\n",
    "sns.displot(util_data_3, x=\"AGE\", col=\"UTILIZATION\")\n",
    "plt.show()"
   ]
  },
  {
   "cell_type": "code",
   "execution_count": 22,
   "id": "cb47bd93-df17-434d-ab72-c4a2ac8851ec",
   "metadata": {},
   "outputs": [
    {
     "data": {
      "image/png": "[encoded data removed]",
      "text/plain": [
       "<Figure size 1000x600 with 1 Axes>"
      ]
     },
     "metadata": {},
     "output_type": "display_data"
    }
   ],
   "source": [
    "df = df_panel_19_reduced.copy()\n",
    "df['UTILIZATION'] = df['UTILIZATION'].replace([0,1], ['Low', 'High'])\n",
    "# Calculate the minimum and maximum ages in the dataset\n",
    "min_age = df['AGE'].min()\n",
    "max_age = df['AGE'].max()\n",
    "\n",
    "# Define the bin edges with a 5-year interval\n",
    "bin_edges = list(range(min_age, max_age + 6, 5))\n",
    "bin_labels = [f'{start}-{start + 4}' for start in bin_edges[:-1]]\n",
    "\n",
    "# Create age bins\n",
    "df['Age Bin'] = pd.cut(df['AGE'], bins=bin_edges, labels=bin_labels, right=False)\n",
    "\n",
    "# Calculate average proportions within each age bin\n",
    "proportions_data = df.groupby(['Age Bin', 'UTILIZATION'], observed=True).size().unstack()\n",
    "proportions_data['Proportion'] = proportions_data['High'] / (proportions_data['High'] + proportions_data['Low'])\n",
    "proportions_data = proportions_data.reset_index()\n",
    "\n",
    "# Create a bar plot\n",
    "plt.figure(figsize=(10, 6))\n",
    "sns.barplot(data=proportions_data, x='Age Bin', y='Proportion', hue_order=['Low', 'High'])\n",
    "plt.xlabel('Age Bin')\n",
    "plt.ylabel('Average Proportion')\n",
    "plt.title('Average Proportion of High Utilization Aggregated per 5 Years')\n",
    "plt.show()\n",
    "\n",
    "# as age increases, high utilization increases -> 65+ seems to be a group of interest"
   ]
  },
  {
   "cell_type": "code",
   "execution_count": 23,
   "id": "173e7b7e-dc3d-43aa-8f95-fbbcd5b70eff",
   "metadata": {},
   "outputs": [
    {
     "data": {
      "image/png": "[encoded data removed]",
      "text/plain": [
       "<Figure size 640x480 with 2 Axes>"
      ]
     },
     "metadata": {},
     "output_type": "display_data"
    }
   ],
   "source": [
    "# Correlation plots\n",
    "# not sure of which columns we all want to use yet but these are the ones I would keep in features_to_keep.\n",
    "# Looking at the full correlation matrix for all the columns, a lot of the ones left out are highly correlated to a\n",
    "# column included. Feel free to look at the full matrix for context.\n",
    "cor = df_panel_19_reduced[['SEX', 'RACE', 'AGE', 'FTSTU', 'MARRY', 'RTHLTH', 'MNHLTH', 'HIBPDX', 'WLKLIM', 'PREGNT', 'PCS42', 'MCS42', 'K6SUM42', 'PHQ242', 'EMPST', 'POVCAT', 'INSCOV', 'UTILIZATION', 'PERWT15F']].replace(['Non-White', 'White'],[0, 1]).corr()\n",
    "hm = sns.heatmap(cor, vmin=-1, cmap='coolwarm')\n",
    "plt.title('Correlation Matrix')\n",
    "plt.show()"
   ]
  },
  {
   "cell_type": "markdown",
   "id": "e59e719c-534b-4a9a-9184-39c7044bdd5b",
   "metadata": {},
   "source": [
    "#### 2.5 Other analysis"
   ]
  },
  {
   "cell_type": "code",
   "execution_count": 24,
   "id": "3f256ebf-021a-4a88-86f0-e85cc744039c",
   "metadata": {},
   "outputs": [
    {
     "data": {
      "image/png": "[encoded data removed]",
      "text/plain": [
       "<Figure size 597.111x500 with 1 Axes>"
      ]
     },
     "metadata": {},
     "output_type": "display_data"
    }
   ],
   "source": [
    "# Comparing utilization between different insurance types\n",
    "# It seems that those with Public insurance tend to have a relatively higher utilization score\n",
    "\n",
    "ins_df = df_panel_19_reduced.copy()[['INSCOV', 'UTILIZATION', 'AGE']]\n",
    "ins_df = ins_df[ins_df['INSCOV'] != -1]\n",
    "ins_df['INSCOV'] = ins_df['INSCOV'].replace({1: \"Private\", 2: \"Public\", 3: \"Uninsured\"})\n",
    "ins_df['UTILIZATION'] = ins_df['UTILIZATION'].replace({0: \"Low\", 1: \"High\"})\n",
    "ins_df = ins_df.groupby(['UTILIZATION', 'INSCOV'])['AGE'].count().reset_index()\n",
    "ins_df['PROPS'] = ins_df['AGE'] / (ins_df['AGE'].sum())\n",
    "\n",
    "sns.catplot(data=ins_df, kind=\"bar\", x=\"INSCOV\", y=\"PROPS\", hue=\"UTILIZATION\", palette=['deepskyblue', 'tomato'])\n",
    "plt.title('Utilization by Insurance Type (Panel 19)')\n",
    "plt.ylabel('Proportion')\n",
    "plt.xlabel('Insurance Type')\n",
    "plt.show()"
   ]
  },
  {
   "cell_type": "code",
   "execution_count": 25,
   "id": "a5b93c44-490d-4534-bd39-0c8e1afed0d5",
   "metadata": {},
   "outputs": [
    {
     "data": {
      "image/png": "[encoded data removed]",
      "text/plain": [
       "<Figure size 597.111x500 with 1 Axes>"
      ]
     },
     "metadata": {},
     "output_type": "display_data"
    }
   ],
   "source": [
    "reg_df = df_panel_19_reduced.copy()[['REGION', 'UTILIZATION', 'AGE']]\n",
    "reg_df = reg_df[reg_df['REGION'] != -1]\n",
    "reg_df['REGION'] = reg_df['REGION'].replace({1: \"Northeast\", 2: \"Midwest\", 3: \"South\", 4: 'West'})\n",
    "reg_df['UTILIZATION'] = reg_df['UTILIZATION'].replace({0: \"Low\", 1: \"High\"})\n",
    "reg_df = reg_df.groupby(['UTILIZATION', 'REGION'])['AGE'].count().reset_index()\n",
    "reg_df['PROPS'] = reg_df['AGE'] / (reg_df['AGE'].sum())\n",
    "\n",
    "sns.catplot(data=reg_df, kind=\"bar\", x=\"REGION\", y=\"PROPS\", hue=\"UTILIZATION\", palette=['deepskyblue', 'tomato'])\n",
    "plt.title('Utilization by Region (Panel 19)')\n",
    "plt.ylabel('Proportion')\n",
    "plt.xlabel('Insurance Type')\n",
    "plt.show()"
   ]
  },
  {
   "cell_type": "code",
   "execution_count": 26,
   "id": "3a92def4-47e1-42eb-bde8-a1ef9e1810eb",
   "metadata": {},
   "outputs": [
    {
     "data": {
      "text/plain": [
       "<matplotlib.legend.Legend at 0x7fd4ba066f40>"
      ]
     },
     "execution_count": 26,
     "metadata": {},
     "output_type": "execute_result"
    },
    {
     "data": {
      "image/png": "[encoded data removed]",
      "text/plain": [
       "<Figure size 640x480 with 1 Axes>"
      ]
     },
     "metadata": {},
     "output_type": "display_data"
    }
   ],
   "source": [
    "# looking at diseases by region\n",
    "\n",
    "cols = ['REGION'] + [i for i in df_panel_19_reduced.columns if i.endswith('DX')]\n",
    "regdx_df = df_panel_19_reduced.copy()[cols]\n",
    "regdx_df['REGION'] = regdx_df['REGION'].replace({1: \"Northeast\", 2: \"Midwest\", 3: \"South\", 4: 'West'})\n",
    "regdx_df = regdx_df[~regdx_df.eq(-1).any(axis=1)]\n",
    "regdx_df = regdx_df.replace({2: 0})\n",
    "regdx_df = regdx_df.groupby('REGION').sum()\n",
    "regdx_df = regdx_df[regdx_df.sum().sort_values()[-5:].index] #only using the top 5 dx for simplicity's sake\n",
    "regdx_dens = regdx_df.divide(regdx_df.sum(axis = 1), axis = 0)\n",
    "\n",
    "regdx_dens.plot(kind='bar', stacked=True)\n",
    "plt.title('DX Distribution by Region (Panel 19)')\n",
    "plt.ylabel('Proportion')\n",
    "plt.xlabel('Region')\n",
    "plt.legend(fontsize = 10, bbox_to_anchor=(1.025, 1.02))"
   ]
  },
  {
   "cell_type": "markdown",
   "id": "89cb0cec-6f20-4201-bdaa-feb032b62411",
   "metadata": {
    "tags": []
   },
   "source": [
    "\n",
    "### End of Replication Part 01 -  EDA\n"
   ]
  },
  {
   "cell_type": "markdown",
   "id": "bef7f4e6-b2f0-4c7c-ab1f-9094a6339865",
   "metadata": {
    "jp-MarkdownHeadingCollapsed": true,
    "tags": []
   },
   "source": [
    "-----\n",
    "### Start of Replication Part 02 -  Model Development, and Fairness Evaluation\n",
    "\n",
    "#### There are **two** components to Replication Project Part #02\n",
    "1. Training models without de-biasing, using IBM's tutorial\n",
    "2. Training models without de-biasing, using your own model development techniques including (1) Feature Selection, (2) Encoding, (3) Binning Features, and other items \n",
    "\n",
    "#### We will now return to IBM AIF360's [Medical Expenditure Tutorial](https://urldefense.com/v3/__https://nbviewer.org/github/IBM/AIF360/blob/master/examples/tutorial_medical_expenditure.ipynb__;!!Mih3wA!BOEOztl97chVva97r53aT50dEFwNxxI2GkzmaN6Ka1BWLdgKKh2LJXrxTrJ7odgsEuyLI8wAkAntxJCXF4o$ ) \n",
    "_*Note that it is primarily Scikit-learn based_\n",
    "\n",
    "* A reminder, you will need to fork [AIF360's repository](https://urldefense.com/v3/__https://github.com/Trusted-AI/AIF360__;!!Mih3wA!BOEOztl97chVva97r53aT50dEFwNxxI2GkzmaN6Ka1BWLdgKKh2LJXrxTrJ7odgsEuyLI8wAkAntlAxz2VI$ ) into your own GitHub and access the notebook locally or via your method of choice\n",
    "* AIF360's Repository can be found under: `AIF360`/`Examples`/tutorial_medical_expenditure.ipynb\n",
    "* Ensure you have your `aif360` environment turned and activated using a miniconda prompt\n",
    "* Use Jupyter Labs\n",
    "* Refer to [Week 03](https://urldefense.com/v3/__https://nanrahman.github.io/capstone-responsible-ai/weeks/03-Replication-Part-00/__;!!Mih3wA!BOEOztl97chVva97r53aT50dEFwNxxI2GkzmaN6Ka1BWLdgKKh2LJXrxTrJ7odgsEuyLI8wAkAntCqYttZg$ ) content on the course Website to access the `Quickstart Guide`\n",
    "\n",
    "\n",
    "\n",
    "\n"
   ]
  },
  {
   "cell_type": "markdown",
   "id": "5550894e-d038-45ae-aea8-fbbcdf9e1b09",
   "metadata": {
    "jp-MarkdownHeadingCollapsed": true,
    "tags": []
   },
   "source": [
    "### [3.](#Table-of-Contents) Model Development without Debiasing \n"
   ]
  },
  {
   "cell_type": "markdown",
   "id": "d6b80716-116d-4a6f-b3ab-d74ed6becb20",
   "metadata": {},
   "source": [
    "First, load all necessary packages"
   ]
  },
  {
   "cell_type": "code",
   "execution_count": 27,
   "id": "bddca008-8041-47b5-915e-3df884b48823",
   "metadata": {},
   "outputs": [],
   "source": [
    "import sys\n",
    "sys.path.insert(0, '../')\n",
    "\n",
    "%matplotlib inline\n",
    "import matplotlib.pyplot as plt\n",
    "import numpy as np\n",
    "from IPython.display import Markdown, display\n",
    "\n",
    "# Datasets\n",
    "from aif360.datasets import MEPSDataset19\n",
    "from aif360.datasets import MEPSDataset20\n",
    "from aif360.datasets import MEPSDataset21\n",
    "from aif360.datasets import StandardDataset\n",
    "\n",
    "# Fairness metrics\n",
    "from aif360.metrics import BinaryLabelDatasetMetric\n",
    "from aif360.metrics import ClassificationMetric\n",
    "\n",
    "# Explainers\n",
    "from aif360.explainers import MetricTextExplainer\n",
    "\n",
    "# Train Test Split\n",
    "from sklearn.model_selection import train_test_split\n",
    "\n",
    "# Pre-processing from Sklearn\n",
    "from sklearn.preprocessing import StandardScaler\n",
    "from sklearn.preprocessing import FunctionTransformer\n",
    "\n",
    "# Classifiers\n",
    "from sklearn.ensemble import RandomForestClassifier\n",
    "from sklearn.linear_model import LogisticRegression\n",
    "from sklearn.model_selection import GridSearchCV\n",
    "from sklearn.pipeline import make_pipeline\n",
    "\n",
    "# Bias mitigation techniques\n",
    "from aif360.algorithms.preprocessing import Reweighing\n",
    "from aif360.algorithms.inprocessing import PrejudiceRemover\n",
    "\n",
    "# LIME\n",
    "from aif360.datasets.lime_encoder import LimeEncoder\n",
    "import lime\n",
    "from lime.lime_tabular import LimeTabularExplainer\n",
    "\n",
    "np.random.seed(1)"
   ]
  },
  {
   "cell_type": "markdown",
   "id": "80c80809-7254-49b7-8cce-0adfdee9a135",
   "metadata": {},
   "source": [
    "### 3.1. Load data & create splits for learning/validating/testing model"
   ]
  },
  {
   "cell_type": "code",
   "execution_count": 28,
   "id": "a3c66f90",
   "metadata": {},
   "outputs": [],
   "source": [
    "# combine panel 19 and 20 raw data\n",
    "X = pd.concat([df_panel_19, df_panel_20], ignore_index=True)\n",
    "\n",
    "# White and Non-White to 1 and 0 (change to default_mappings)\n",
    "X = X.replace({'White':1, 'Non-White':0})"
   ]
  },
  {
   "cell_type": "code",
   "execution_count": 29,
   "id": "40d7eb6c",
   "metadata": {},
   "outputs": [],
   "source": [
    "# transforming dataframe into AIF compatible format\n",
    "dataset = StandardDataset(X, label_name = 'UTILIZATION', favorable_classes=[1],\n",
    "                 protected_attribute_names= ['RACE'], privileged_classes = [[1]], metadata=default_mappings)"
   ]
  },
  {
   "cell_type": "code",
   "execution_count": 30,
   "id": "6645db93",
   "metadata": {},
   "outputs": [],
   "source": [
    "# Splitting into 70/15/15 train/val/test\n",
    "dataset_X_train, dataset_X_val, dataset_X_test = dataset.split([0.7, 0.85], shuffle=True)"
   ]
  },
  {
   "cell_type": "markdown",
   "id": "26851f9c",
   "metadata": {},
   "source": [
    "##### Utility Functions for Bias Metric Evaluation"
   ]
  },
  {
   "cell_type": "code",
   "execution_count": 31,
   "id": "8f2c340a-970c-4df5-a912-c5b658102d1f",
   "metadata": {},
   "outputs": [],
   "source": [
    "from utility import test, describe_metrics"
   ]
  },
  {
   "cell_type": "markdown",
   "id": "16a94295-27c2-482c-966f-751714b61e7e",
   "metadata": {
    "tags": []
   },
   "source": [
    "### 3.2. Learning a Logistic Regression (LR) classifier on original data"
   ]
  },
  {
   "cell_type": "code",
   "execution_count": 32,
   "id": "3d6535a8",
   "metadata": {},
   "outputs": [
    {
     "data": {
      "text/html": [
       "<style>#sk-container-id-1 {color: black;background-color: white;}#sk-container-id-1 pre{padding: 0;}#sk-container-id-1 div.sk-toggleable {background-color: white;}#sk-container-id-1 label.sk-toggleable__label {cursor: pointer;display: block;width: 100%;margin-bottom: 0;padding: 0.3em;box-sizing: border-box;text-align: center;}#sk-container-id-1 label.sk-toggleable__label-arrow:before {content: \"▸\";float: left;margin-right: 0.25em;color: #696969;}#sk-container-id-1 label.sk-toggleable__label-arrow:hover:before {color: black;}#sk-container-id-1 div.sk-estimator:hover label.sk-toggleable__label-arrow:before {color: black;}#sk-container-id-1 div.sk-toggleable__content {max-height: 0;max-width: 0;overflow: hidden;text-align: left;background-color: #f0f8ff;}#sk-container-id-1 div.sk-toggleable__content pre {margin: 0.2em;color: black;border-radius: 0.25em;background-color: #f0f8ff;}#sk-container-id-1 input.sk-toggleable__control:checked~div.sk-toggleable__content {max-height: 200px;max-width: 100%;overflow: auto;}#sk-container-id-1 input.sk-toggleable__control:checked~label.sk-toggleable__label-arrow:before {content: \"▾\";}#sk-container-id-1 div.sk-estimator input.sk-toggleable__control:checked~label.sk-toggleable__label {background-color: #d4ebff;}#sk-container-id-1 div.sk-label input.sk-toggleable__control:checked~label.sk-toggleable__label {background-color: #d4ebff;}#sk-container-id-1 input.sk-hidden--visually {border: 0;clip: rect(1px 1px 1px 1px);clip: rect(1px, 1px, 1px, 1px);height: 1px;margin: -1px;overflow: hidden;padding: 0;position: absolute;width: 1px;}#sk-container-id-1 div.sk-estimator {font-family: monospace;background-color: #f0f8ff;border: 1px dotted black;border-radius: 0.25em;box-sizing: border-box;margin-bottom: 0.5em;}#sk-container-id-1 div.sk-estimator:hover {background-color: #d4ebff;}#sk-container-id-1 div.sk-parallel-item::after {content: \"\";width: 100%;border-bottom: 1px solid gray;flex-grow: 1;}#sk-container-id-1 div.sk-label:hover label.sk-toggleable__label {background-color: #d4ebff;}#sk-container-id-1 div.sk-serial::before {content: \"\";position: absolute;border-left: 1px solid gray;box-sizing: border-box;top: 0;bottom: 0;left: 50%;z-index: 0;}#sk-container-id-1 div.sk-serial {display: flex;flex-direction: column;align-items: center;background-color: white;padding-right: 0.2em;padding-left: 0.2em;position: relative;}#sk-container-id-1 div.sk-item {position: relative;z-index: 1;}#sk-container-id-1 div.sk-parallel {display: flex;align-items: stretch;justify-content: center;background-color: white;position: relative;}#sk-container-id-1 div.sk-item::before, #sk-container-id-1 div.sk-parallel-item::before {content: \"\";position: absolute;border-left: 1px solid gray;box-sizing: border-box;top: 0;bottom: 0;left: 50%;z-index: -1;}#sk-container-id-1 div.sk-parallel-item {display: flex;flex-direction: column;z-index: 1;position: relative;background-color: white;}#sk-container-id-1 div.sk-parallel-item:first-child::after {align-self: flex-end;width: 50%;}#sk-container-id-1 div.sk-parallel-item:last-child::after {align-self: flex-start;width: 50%;}#sk-container-id-1 div.sk-parallel-item:only-child::after {width: 0;}#sk-container-id-1 div.sk-dashed-wrapped {border: 1px dashed gray;margin: 0 0.4em 0.5em 0.4em;box-sizing: border-box;padding-bottom: 0.4em;background-color: white;}#sk-container-id-1 div.sk-label label {font-family: monospace;font-weight: bold;display: inline-block;line-height: 1.2em;}#sk-container-id-1 div.sk-label-container {text-align: center;}#sk-container-id-1 div.sk-container {/* jupyter's `normalize.less` sets `[hidden] { display: none; }` but bootstrap.min.css set `[hidden] { display: none !important; }` so we also need the `!important` here to be able to override the default hidden behavior on the sphinx rendered scikit-learn.org. See: https://github.com/scikit-learn/scikit-learn/issues/21755 */display: inline-block !important;position: relative;}#sk-container-id-1 div.sk-text-repr-fallback {display: none;}</style><div id=\"sk-container-id-1\" class=\"sk-top-container\"><div class=\"sk-text-repr-fallback\"><pre>LogisticRegression(C=100, penalty=&#x27;l1&#x27;, random_state=1, solver=&#x27;liblinear&#x27;)</pre><b>In a Jupyter environment, please rerun this cell to show the HTML representation or trust the notebook. <br />On GitHub, the HTML representation is unable to render, please try loading this page with nbviewer.org.</b></div><div class=\"sk-container\" hidden><div class=\"sk-item\"><div class=\"sk-estimator sk-toggleable\"><input class=\"sk-toggleable__control sk-hidden--visually\" id=\"sk-estimator-id-1\" type=\"checkbox\" checked><label for=\"sk-estimator-id-1\" class=\"sk-toggleable__label sk-toggleable__label-arrow\">LogisticRegression</label><div class=\"sk-toggleable__content\"><pre>LogisticRegression(C=100, penalty=&#x27;l1&#x27;, random_state=1, solver=&#x27;liblinear&#x27;)</pre></div></div></div></div></div>"
      ],
      "text/plain": [
       "LogisticRegression(C=100, penalty='l1', random_state=1, solver='liblinear')"
      ]
     },
     "execution_count": 32,
     "metadata": {},
     "output_type": "execute_result"
    }
   ],
   "source": [
    "# hyper parameter tuning\n",
    "params = {'penalty': ['l1','l2'], 'C': [0.001, 0.01, 0.1, 1, 10, 100, 1000]}\n",
    "clf = GridSearchCV(LogisticRegression(solver = 'liblinear', random_state=1), params, refit=True)\n",
    "clf = clf.fit(dataset_X_train.features, dataset_X_train.labels.ravel())\n",
    "clf.best_estimator_"
   ]
  },
  {
   "cell_type": "code",
   "execution_count": 33,
   "id": "b8beb0a6",
   "metadata": {},
   "outputs": [
    {
     "data": {
      "text/html": [
       "<style>#sk-container-id-2 {color: black;background-color: white;}#sk-container-id-2 pre{padding: 0;}#sk-container-id-2 div.sk-toggleable {background-color: white;}#sk-container-id-2 label.sk-toggleable__label {cursor: pointer;display: block;width: 100%;margin-bottom: 0;padding: 0.3em;box-sizing: border-box;text-align: center;}#sk-container-id-2 label.sk-toggleable__label-arrow:before {content: \"▸\";float: left;margin-right: 0.25em;color: #696969;}#sk-container-id-2 label.sk-toggleable__label-arrow:hover:before {color: black;}#sk-container-id-2 div.sk-estimator:hover label.sk-toggleable__label-arrow:before {color: black;}#sk-container-id-2 div.sk-toggleable__content {max-height: 0;max-width: 0;overflow: hidden;text-align: left;background-color: #f0f8ff;}#sk-container-id-2 div.sk-toggleable__content pre {margin: 0.2em;color: black;border-radius: 0.25em;background-color: #f0f8ff;}#sk-container-id-2 input.sk-toggleable__control:checked~div.sk-toggleable__content {max-height: 200px;max-width: 100%;overflow: auto;}#sk-container-id-2 input.sk-toggleable__control:checked~label.sk-toggleable__label-arrow:before {content: \"▾\";}#sk-container-id-2 div.sk-estimator input.sk-toggleable__control:checked~label.sk-toggleable__label {background-color: #d4ebff;}#sk-container-id-2 div.sk-label input.sk-toggleable__control:checked~label.sk-toggleable__label {background-color: #d4ebff;}#sk-container-id-2 input.sk-hidden--visually {border: 0;clip: rect(1px 1px 1px 1px);clip: rect(1px, 1px, 1px, 1px);height: 1px;margin: -1px;overflow: hidden;padding: 0;position: absolute;width: 1px;}#sk-container-id-2 div.sk-estimator {font-family: monospace;background-color: #f0f8ff;border: 1px dotted black;border-radius: 0.25em;box-sizing: border-box;margin-bottom: 0.5em;}#sk-container-id-2 div.sk-estimator:hover {background-color: #d4ebff;}#sk-container-id-2 div.sk-parallel-item::after {content: \"\";width: 100%;border-bottom: 1px solid gray;flex-grow: 1;}#sk-container-id-2 div.sk-label:hover label.sk-toggleable__label {background-color: #d4ebff;}#sk-container-id-2 div.sk-serial::before {content: \"\";position: absolute;border-left: 1px solid gray;box-sizing: border-box;top: 0;bottom: 0;left: 50%;z-index: 0;}#sk-container-id-2 div.sk-serial {display: flex;flex-direction: column;align-items: center;background-color: white;padding-right: 0.2em;padding-left: 0.2em;position: relative;}#sk-container-id-2 div.sk-item {position: relative;z-index: 1;}#sk-container-id-2 div.sk-parallel {display: flex;align-items: stretch;justify-content: center;background-color: white;position: relative;}#sk-container-id-2 div.sk-item::before, #sk-container-id-2 div.sk-parallel-item::before {content: \"\";position: absolute;border-left: 1px solid gray;box-sizing: border-box;top: 0;bottom: 0;left: 50%;z-index: -1;}#sk-container-id-2 div.sk-parallel-item {display: flex;flex-direction: column;z-index: 1;position: relative;background-color: white;}#sk-container-id-2 div.sk-parallel-item:first-child::after {align-self: flex-end;width: 50%;}#sk-container-id-2 div.sk-parallel-item:last-child::after {align-self: flex-start;width: 50%;}#sk-container-id-2 div.sk-parallel-item:only-child::after {width: 0;}#sk-container-id-2 div.sk-dashed-wrapped {border: 1px dashed gray;margin: 0 0.4em 0.5em 0.4em;box-sizing: border-box;padding-bottom: 0.4em;background-color: white;}#sk-container-id-2 div.sk-label label {font-family: monospace;font-weight: bold;display: inline-block;line-height: 1.2em;}#sk-container-id-2 div.sk-label-container {text-align: center;}#sk-container-id-2 div.sk-container {/* jupyter's `normalize.less` sets `[hidden] { display: none; }` but bootstrap.min.css set `[hidden] { display: none !important; }` so we also need the `!important` here to be able to override the default hidden behavior on the sphinx rendered scikit-learn.org. See: https://github.com/scikit-learn/scikit-learn/issues/21755 */display: inline-block !important;position: relative;}#sk-container-id-2 div.sk-text-repr-fallback {display: none;}</style><div id=\"sk-container-id-2\" class=\"sk-top-container\"><div class=\"sk-text-repr-fallback\"><pre>Pipeline(steps=[(&#x27;standardscaler&#x27;, StandardScaler()),\n",
       "                (&#x27;logisticregression&#x27;,\n",
       "                 LogisticRegression(C=100, penalty=&#x27;l1&#x27;, random_state=1,\n",
       "                                    solver=&#x27;liblinear&#x27;))])</pre><b>In a Jupyter environment, please rerun this cell to show the HTML representation or trust the notebook. <br />On GitHub, the HTML representation is unable to render, please try loading this page with nbviewer.org.</b></div><div class=\"sk-container\" hidden><div class=\"sk-item sk-dashed-wrapped\"><div class=\"sk-label-container\"><div class=\"sk-label sk-toggleable\"><input class=\"sk-toggleable__control sk-hidden--visually\" id=\"sk-estimator-id-2\" type=\"checkbox\" ><label for=\"sk-estimator-id-2\" class=\"sk-toggleable__label sk-toggleable__label-arrow\">Pipeline</label><div class=\"sk-toggleable__content\"><pre>Pipeline(steps=[(&#x27;standardscaler&#x27;, StandardScaler()),\n",
       "                (&#x27;logisticregression&#x27;,\n",
       "                 LogisticRegression(C=100, penalty=&#x27;l1&#x27;, random_state=1,\n",
       "                                    solver=&#x27;liblinear&#x27;))])</pre></div></div></div><div class=\"sk-serial\"><div class=\"sk-item\"><div class=\"sk-estimator sk-toggleable\"><input class=\"sk-toggleable__control sk-hidden--visually\" id=\"sk-estimator-id-3\" type=\"checkbox\" ><label for=\"sk-estimator-id-3\" class=\"sk-toggleable__label sk-toggleable__label-arrow\">StandardScaler</label><div class=\"sk-toggleable__content\"><pre>StandardScaler()</pre></div></div></div><div class=\"sk-item\"><div class=\"sk-estimator sk-toggleable\"><input class=\"sk-toggleable__control sk-hidden--visually\" id=\"sk-estimator-id-4\" type=\"checkbox\" ><label for=\"sk-estimator-id-4\" class=\"sk-toggleable__label sk-toggleable__label-arrow\">LogisticRegression</label><div class=\"sk-toggleable__content\"><pre>LogisticRegression(C=100, penalty=&#x27;l1&#x27;, random_state=1, solver=&#x27;liblinear&#x27;)</pre></div></div></div></div></div></div></div>"
      ],
      "text/plain": [
       "Pipeline(steps=[('standardscaler', StandardScaler()),\n",
       "                ('logisticregression',\n",
       "                 LogisticRegression(C=100, penalty='l1', random_state=1,\n",
       "                                    solver='liblinear'))])"
      ]
     },
     "execution_count": 33,
     "metadata": {},
     "output_type": "execute_result"
    }
   ],
   "source": [
    "# applying best estimator\n",
    "\n",
    "log_clf = make_pipeline(StandardScaler(), clf.best_estimator_)\n",
    "log_clf.fit(dataset_X_train.features, dataset_X_train.labels.ravel())"
   ]
  },
  {
   "cell_type": "code",
   "execution_count": 34,
   "id": "1b2e7610",
   "metadata": {},
   "outputs": [
    {
     "name": "stdout",
     "output_type": "stream",
     "text": [
      "Threshold corresponding to Best balanced accuracy: 0.1800\n",
      "Best balanced accuracy: 0.7513\n",
      "Corresponding 1-min(DI, 1/DI) value: 0.6201\n",
      "Corresponding average odds difference value: -0.2350\n",
      "Corresponding statistical parity difference value: -0.2923\n",
      "Corresponding equal opportunity difference value: -0.2206\n",
      "Corresponding Theil index value: 0.0971\n"
     ]
    }
   ],
   "source": [
    "# validation metric summary\n",
    "thresh_arr = np.linspace(0.01, 0.5, 50)\n",
    "log_val_metrics = test(dataset=dataset_X_val,\n",
    "                   model=log_clf,\n",
    "                   thresh_arr=thresh_arr)\n",
    "log_org_best_ind = np.argmax(log_val_metrics['bal_acc'])\n",
    "describe_metrics(log_val_metrics, thresh_arr)"
   ]
  },
  {
   "cell_type": "markdown",
   "id": "22318c2a-8698-4430-9670-41366dd9a39e",
   "metadata": {},
   "source": [
    "### 3.3. Learning a Random Forest (RF) classifier on original data"
   ]
  },
  {
   "cell_type": "code",
   "execution_count": 35,
   "id": "688e8cea",
   "metadata": {},
   "outputs": [
    {
     "data": {
      "text/html": [
       "<style>#sk-container-id-3 {color: black;background-color: white;}#sk-container-id-3 pre{padding: 0;}#sk-container-id-3 div.sk-toggleable {background-color: white;}#sk-container-id-3 label.sk-toggleable__label {cursor: pointer;display: block;width: 100%;margin-bottom: 0;padding: 0.3em;box-sizing: border-box;text-align: center;}#sk-container-id-3 label.sk-toggleable__label-arrow:before {content: \"▸\";float: left;margin-right: 0.25em;color: #696969;}#sk-container-id-3 label.sk-toggleable__label-arrow:hover:before {color: black;}#sk-container-id-3 div.sk-estimator:hover label.sk-toggleable__label-arrow:before {color: black;}#sk-container-id-3 div.sk-toggleable__content {max-height: 0;max-width: 0;overflow: hidden;text-align: left;background-color: #f0f8ff;}#sk-container-id-3 div.sk-toggleable__content pre {margin: 0.2em;color: black;border-radius: 0.25em;background-color: #f0f8ff;}#sk-container-id-3 input.sk-toggleable__control:checked~div.sk-toggleable__content {max-height: 200px;max-width: 100%;overflow: auto;}#sk-container-id-3 input.sk-toggleable__control:checked~label.sk-toggleable__label-arrow:before {content: \"▾\";}#sk-container-id-3 div.sk-estimator input.sk-toggleable__control:checked~label.sk-toggleable__label {background-color: #d4ebff;}#sk-container-id-3 div.sk-label input.sk-toggleable__control:checked~label.sk-toggleable__label {background-color: #d4ebff;}#sk-container-id-3 input.sk-hidden--visually {border: 0;clip: rect(1px 1px 1px 1px);clip: rect(1px, 1px, 1px, 1px);height: 1px;margin: -1px;overflow: hidden;padding: 0;position: absolute;width: 1px;}#sk-container-id-3 div.sk-estimator {font-family: monospace;background-color: #f0f8ff;border: 1px dotted black;border-radius: 0.25em;box-sizing: border-box;margin-bottom: 0.5em;}#sk-container-id-3 div.sk-estimator:hover {background-color: #d4ebff;}#sk-container-id-3 div.sk-parallel-item::after {content: \"\";width: 100%;border-bottom: 1px solid gray;flex-grow: 1;}#sk-container-id-3 div.sk-label:hover label.sk-toggleable__label {background-color: #d4ebff;}#sk-container-id-3 div.sk-serial::before {content: \"\";position: absolute;border-left: 1px solid gray;box-sizing: border-box;top: 0;bottom: 0;left: 50%;z-index: 0;}#sk-container-id-3 div.sk-serial {display: flex;flex-direction: column;align-items: center;background-color: white;padding-right: 0.2em;padding-left: 0.2em;position: relative;}#sk-container-id-3 div.sk-item {position: relative;z-index: 1;}#sk-container-id-3 div.sk-parallel {display: flex;align-items: stretch;justify-content: center;background-color: white;position: relative;}#sk-container-id-3 div.sk-item::before, #sk-container-id-3 div.sk-parallel-item::before {content: \"\";position: absolute;border-left: 1px solid gray;box-sizing: border-box;top: 0;bottom: 0;left: 50%;z-index: -1;}#sk-container-id-3 div.sk-parallel-item {display: flex;flex-direction: column;z-index: 1;position: relative;background-color: white;}#sk-container-id-3 div.sk-parallel-item:first-child::after {align-self: flex-end;width: 50%;}#sk-container-id-3 div.sk-parallel-item:last-child::after {align-self: flex-start;width: 50%;}#sk-container-id-3 div.sk-parallel-item:only-child::after {width: 0;}#sk-container-id-3 div.sk-dashed-wrapped {border: 1px dashed gray;margin: 0 0.4em 0.5em 0.4em;box-sizing: border-box;padding-bottom: 0.4em;background-color: white;}#sk-container-id-3 div.sk-label label {font-family: monospace;font-weight: bold;display: inline-block;line-height: 1.2em;}#sk-container-id-3 div.sk-label-container {text-align: center;}#sk-container-id-3 div.sk-container {/* jupyter's `normalize.less` sets `[hidden] { display: none; }` but bootstrap.min.css set `[hidden] { display: none !important; }` so we also need the `!important` here to be able to override the default hidden behavior on the sphinx rendered scikit-learn.org. See: https://github.com/scikit-learn/scikit-learn/issues/21755 */display: inline-block !important;position: relative;}#sk-container-id-3 div.sk-text-repr-fallback {display: none;}</style><div id=\"sk-container-id-3\" class=\"sk-top-container\"><div class=\"sk-text-repr-fallback\"><pre>RandomForestClassifier(class_weight=&#x27;balanced&#x27;)</pre><b>In a Jupyter environment, please rerun this cell to show the HTML representation or trust the notebook. <br />On GitHub, the HTML representation is unable to render, please try loading this page with nbviewer.org.</b></div><div class=\"sk-container\" hidden><div class=\"sk-item\"><div class=\"sk-estimator sk-toggleable\"><input class=\"sk-toggleable__control sk-hidden--visually\" id=\"sk-estimator-id-5\" type=\"checkbox\" checked><label for=\"sk-estimator-id-5\" class=\"sk-toggleable__label sk-toggleable__label-arrow\">RandomForestClassifier</label><div class=\"sk-toggleable__content\"><pre>RandomForestClassifier(class_weight=&#x27;balanced&#x27;)</pre></div></div></div></div></div>"
      ],
      "text/plain": [
       "RandomForestClassifier(class_weight='balanced')"
      ]
     },
     "execution_count": 35,
     "metadata": {},
     "output_type": "execute_result"
    }
   ],
   "source": [
    "# Training Random Forest\n",
    "\n",
    "rf_clf = RandomForestClassifier(class_weight = 'balanced') \n",
    "#'High Utilization' class makes up only ~20% of the test/val sets; unbalanced\n",
    "rf_clf.fit(dataset_X_train.features, dataset_X_train.labels.ravel())"
   ]
  },
  {
   "cell_type": "markdown",
   "id": "68a5bb1b",
   "metadata": {},
   "source": [
    "##### Validation Set Fairness Metric Summary"
   ]
  },
  {
   "cell_type": "code",
   "execution_count": 36,
   "id": "6bede1bb",
   "metadata": {},
   "outputs": [],
   "source": [
    "thresh_arr = np.linspace(0.01, 0.5, 50)\n",
    "rf_val_metrics = test(dataset=dataset_X_val,\n",
    "                   model=rf_clf,\n",
    "                   thresh_arr=thresh_arr)\n",
    "rf_org_best_ind = np.argmax(rf_val_metrics['bal_acc'])"
   ]
  },
  {
   "cell_type": "code",
   "execution_count": 37,
   "id": "97384f48",
   "metadata": {},
   "outputs": [
    {
     "name": "stdout",
     "output_type": "stream",
     "text": [
      "Threshold corresponding to Best balanced accuracy: 0.2000\n",
      "Best balanced accuracy: 0.7606\n",
      "Corresponding 1-min(DI, 1/DI) value: 0.5304\n",
      "Corresponding average odds difference value: -0.1723\n",
      "Corresponding statistical parity difference value: -0.2350\n",
      "Corresponding equal opportunity difference value: -0.1540\n",
      "Corresponding Theil index value: 0.0934\n"
     ]
    }
   ],
   "source": [
    "describe_metrics(rf_val_metrics, thresh_arr)"
   ]
  },
  {
   "cell_type": "markdown",
   "id": "7a7e7c0b",
   "metadata": {},
   "source": [
    "##### Test Set Fairness Metric Summary"
   ]
  },
  {
   "cell_type": "code",
   "execution_count": 38,
   "id": "195b8872",
   "metadata": {},
   "outputs": [],
   "source": [
    "thresh_arr = np.linspace(0.01, 0.5, 50)\n",
    "rf_test_metrics = test(dataset=dataset_X_test,\n",
    "                   model=rf_clf,\n",
    "                   thresh_arr=thresh_arr)"
   ]
  },
  {
   "cell_type": "code",
   "execution_count": 39,
   "id": "54b7f984",
   "metadata": {},
   "outputs": [
    {
     "name": "stdout",
     "output_type": "stream",
     "text": [
      "Threshold corresponding to Best balanced accuracy: 0.2000\n",
      "Best balanced accuracy: 0.7638\n",
      "Corresponding 1-min(DI, 1/DI) value: 0.5577\n",
      "Corresponding average odds difference value: -0.1724\n",
      "Corresponding statistical parity difference value: -0.2568\n",
      "Corresponding equal opportunity difference value: -0.1339\n",
      "Corresponding Theil index value: 0.0928\n"
     ]
    }
   ],
   "source": [
    "describe_metrics(rf_test_metrics, thresh_arr)"
   ]
  },
  {
   "cell_type": "markdown",
   "id": "780381f0-6341-4b13-901e-112e156b829b",
   "metadata": {
    "tags": []
   },
   "source": [
    "### Section 3 Write Up here\n",
    "\n",
    "### Part-01: For **both** the logistic regression and random forest classifiers learned on the original data, please include explain the results of your fairness metrics. For _each_ metric result briefly describe what this value means in 1-2 sentences (is it fair, is it not fair? Why?)\n",
    "\n",
    "**Fairness Metric Summary** \n",
    "* Threshold corresponding to Best balanced accuracy:\n",
    "* Best balanced accuracy: \n",
    "* Corresponding 1-min(DI, 1/DI) value: \n",
    "* Corresponding average odds difference value: \n",
    "* Corresponding statistical parity difference value: \n",
    "* Corresponding equal opportunity difference value:\n",
    "* Corresponding Theil index value:"
   ]
  },
  {
   "cell_type": "markdown",
   "id": "b94c725b",
   "metadata": {},
   "source": [
    "##### Logistic Regression Test Set\n",
    "* Threshold corresponding to Best balanced accuracy: 0.1800\n",
    "* Best balanced accuracy: 0.7513 \\\n",
    "This metric suggests that the model did slightly worse than randomly selected classification. This is seen by the imbalance in the classes being around 80/20.\n",
    "* Corresponding 1-min(DI, 1/DI) value: 0.6201 \\\n",
    "This metric shows that the rate of predicted positives are not equal between the privileged and unprivileged groups. With a value of 0.62, this metric suggests unfairness.\n",
    "* Corresponding average odds difference value: -0.2350 \\\n",
    "This metric shows that the error rate for the unprivileged group is higher than that of the privileged group. This metric suggests unfairness.\n",
    "* Corresponding statistical parity difference value: -0.2923 \\\n",
    "This metric shows that the unprivileged group has a lower probability of a favorable outcome compared to the privileged group.\n",
    "* Corresponding equal opportunity difference value: -0.2206 \\\n",
    "This metric shows that the privileged group has a high true positive rate when compared to the unprivileged group.\n",
    "* Corresponding Theil index value: 0.0971 \\\n",
    "This metric suggests slight unfairness, showing that there is a little economic inequality present."
   ]
  },
  {
   "cell_type": "markdown",
   "id": "b9fa3da5",
   "metadata": {},
   "source": [
    "##### Random Forest Test Set\n",
    "* Threshold corresponding to Best balanced accuracy: 0.2000\n",
    "* Best balanced accuracy: 0.7638 \\\n",
    "This metric suggests that the model did slightly worse than randomly selected classification. This is seen by the imbalance in the classes being around 80/20.\n",
    "\n",
    "* Corresponding 1-min(DI, 1/DI) value: 0.5577 \\\n",
    "This metric value of .54 shows that the rate of predicted positives are not equal between the privileged and unprivileged groups. This metric suggests unfairness.\n",
    "\n",
    "* Corresponding average odds difference value: -0.1724 \\\n",
    "This metric shows that the error rate for the unprivileged group is higher than that of the privileged group. This metric suggests unfairness.\n",
    "\n",
    "* Corresponding statistical parity difference value: -0.2568 \\\n",
    "This metric shows that the unprivileged group has a lower probability of a favorable outcome compared to the privileged group.\n",
    "\n",
    "* Corresponding equal opportunity difference value: -0.1339 \\\n",
    "This metric shows that the privileged group has a high true positive rate when compared to the unprivileged group.\n",
    "\n",
    "* Corresponding Theil index value: 0.0928 \\\n",
    "This metric suggests that there is some, but really not much, economic inequality present."
   ]
  },
  {
   "cell_type": "markdown",
   "id": "382bcf77",
   "metadata": {},
   "source": [
    "### Part-02: Please write one paragraph for each question.\n",
    "1. How can we determine which metrics to use, given our data and use case? You can refer to [Course material](https://urldefense.com/v3/__https://nanrahman.github.io/capstone-responsible-ai/weeks/06-Fairness-Assessments/__;!!Mih3wA!BOEOztl97chVva97r53aT50dEFwNxxI2GkzmaN6Ka1BWLdgKKh2LJXrxTrJ7odgsEuyLI8wAkAntO_2AYl4$ ), online research and Guidance provided by [AIF360](https://urldefense.com/v3/__http://aif360.mybluemix.net/resources*)*5Cn__;IyU!!Mih3wA!BOEOztl97chVva97r53aT50dEFwNxxI2GkzmaN6Ka1BWLdgKKh2LJXrxTrJ7odgsEuyLI8wAkAntaNs6CTw$ \n",
    "   \n",
    "   Given that we’re utilizing the MEPS data to identify high-utilization patients, we should use metrics that evaluate the outcomes across groups and make sure they’re being treated equally. Out of the competing fairness metrics, we should prioritize the 1-min (DI, 1/DI) value, statistical parity difference value, and equal opportunity difference value. By examining disparate impact (DI), measuring the proportion of true positives or true negatives for different demographic groups, we can pinpoint unfair treatment and its impact on various patient subgroups. Simultaneously, statistical parity seeks an even distribution of positive outcomes, ensuring consistency among demographic group. Additionally, equal opportunity focuses on equalizing true positive rates, ensuring similar accuracy in identifying high-utilization patients across different demographic groups.\n",
    "\n",
    "\n",
    "2. When you have competing fairness metrics, how to pick which to prioritize?\n",
    "    \n",
    "    In the case there are competing fairness metrics, you have to consider the specific goals of your study and its ethical considerations. Moreover, the trade-offs between metrics need to be evaluated, taking into account the aspects of fairness that are most relevant for your purpose. For example, in this study, we want to emphasize metrics that address disparities without compromising overall model performance because we’re trying to identify high-utilization patients from MEPS data and evaluate the disparities between the privileged and unprivileged classes.\n",
    " \n",
    " \n",
    "3. What do you do when you encounter different definitions for similar metrics?\n",
    "    \n",
    "    When encountering different definitions for similar metrics, it’s important to carefully assess and understand the nuances of each one. After that, you should compare the definitions while thinking about your specific application and study objectives, as adopting one definition over another can lead to different implications in terms of model performance and fairness. Consulting relevant literature and gaining more domain knowledge can provide more insight as well. After narrowing down the definition, it’s important to be transparent by documenting it in the work it’s being used in. For comparison purposes, analyses can be conducted using multiple definitions to assess the robustness of results and provide a comprehensive view of the metric’s behavior across different definitions.\n",
    "\n",
    "\n",
    "4. Based on this, which model and fairness metric appears the best to proceed with?\n",
    "    Algorithms such as Random Forest or Gradient Boosting could be useful here due to their ability to handle large and complex datasets with numerous features. These models have the potential to be highly accurate and are able to model non-linear relationships, which is crucial in healthcare data that often involves complex interactions between variables. Regarding the fairness metrics, we believe that the 1-min (DI, 1/DI) value, statistical parity difference, and equal opportunity difference should be prioritized. The 1-min (DI, 1/DI) value is crucial for identifying if certain groups are unfairly disadvantaged. The statistical parity difference metric is essential for ensuring that the positive outcomes (like identifying high-utilization patients) are evenly distributed across different demographic groups. Lastly, the equal opportunity difference metric is also vital in ensuring that the model has similar true positive rates across groups, which is especially important in healthcare scenarios where missing high-utilization patients can have significant consequences. A model that can combine the robustness and accuracy of algorithms like Random Forest or Gradient Boosting, paired with a careful application of the chosen fairness metrics, is a combination that will help ensure that the model is not only effective in identifying high-utilization patients but also fair and unbiased in its predictions across different demographic groups."
   ]
  },
  {
   "cell_type": "markdown",
   "id": "d53682fc-9332-498f-abe9-209744d7cbbd",
   "metadata": {
    "jp-MarkdownHeadingCollapsed": true,
    "tags": []
   },
   "source": [
    "### [4.](#Table-of-Contents) Additional Model Development\n",
    "\n"
   ]
  },
  {
   "cell_type": "markdown",
   "id": "de965d1e-5cf4-45f6-84e5-4b5a5caf34c2",
   "metadata": {
    "tags": []
   },
   "source": [
    "### 4.1A Load data & create splits for learning/validating/testing model"
   ]
  },
  {
   "cell_type": "code",
   "execution_count": 40,
   "id": "dcb04691",
   "metadata": {},
   "outputs": [],
   "source": [
    "# combine panel 19 and 20 reduced data\n",
    "X = pd.concat([df_panel_19_reduced, df_panel_20_reduced], ignore_index=True)\n",
    "\n",
    "# White and Non-White to 1 and 0 (change to default_mappings)\n",
    "X = X.replace({'White':1, 'Non-White':0})"
   ]
  },
  {
   "cell_type": "code",
   "execution_count": 41,
   "id": "c84d3cb3",
   "metadata": {},
   "outputs": [],
   "source": [
    "# transforming dataframe into AIF compatible format\n",
    "dataset = StandardDataset(X, label_name = 'UTILIZATION', favorable_classes=[1],\n",
    "                 protected_attribute_names= ['RACE'], privileged_classes = [[1]], metadata=default_mappings)"
   ]
  },
  {
   "cell_type": "code",
   "execution_count": 42,
   "id": "80312dc9",
   "metadata": {},
   "outputs": [],
   "source": [
    "# Splitting into 70/15/15 train/val/test\n",
    "dataset_X_train, dataset_X_val, dataset_X_test = dataset.split([0.7, 0.85], shuffle=True)"
   ]
  },
  {
   "cell_type": "markdown",
   "id": "8ae16fc0-16de-49ab-bb8a-70a1d58cc4ab",
   "metadata": {
    "tags": []
   },
   "source": [
    "### 4.1B Utilize findings from your EDA to complete any additional model development"
   ]
  },
  {
   "cell_type": "code",
   "execution_count": 43,
   "id": "fcf86f7a-1a16-4383-a3ee-544337442742",
   "metadata": {},
   "outputs": [],
   "source": [
    "# Examples:\n",
    "\n",
    "# Feature selection // I can't begin to tell you what features are actually important\n",
    "# encoding // everything is quite literally encoded already\n",
    "# binning categorical features // why would we bin categorical? I Think they mean numerical\n",
    "\n",
    "# not really sure what things we could do rn, I feel like we would need to really understand the dataset\n",
    "\n",
    "# Feel free to use the codebook from MEPS to explore other variables"
   ]
  },
  {
   "cell_type": "code",
   "execution_count": 44,
   "id": "8a0a37c2-6844-4a62-bf2a-75889b919e57",
   "metadata": {
    "scrolled": true
   },
   "outputs": [],
   "source": [
    "#### binning weight, 1 being the lowest representation and 5 being the highest\n",
    "# since weight is so weirdly collected i figured this would help, but it still is unclear in context. \n",
    "# tbh don't think it made a difference lol, feel free to delete/change\n",
    "\n",
    "# Ben: I don't think it's a bad idea to use the statistical weight - but I think it won't help much for utilization\n",
    "# in fact, preserving the raw value might be better here\n",
    "dev_X = X.copy()\n",
    "# dev_X['WeightBins'] = pd.cut(dev_X['PERWT15F'], 5, labels = [1, 2, 3, 4, 5])\n",
    "# dev_X = dev_X.drop(columns = 'PERWT15F')"
   ]
  },
  {
   "cell_type": "code",
   "execution_count": 45,
   "id": "71b1fc94",
   "metadata": {},
   "outputs": [],
   "source": [
    "# binning other numerical columns\n",
    "# selecting number of bins in order to separate -1 into its own bin\n",
    "dev_X['PCS42Bins'] = pd.cut(dev_X['PCS42'], 14, labels = [-1, 1, 2, 3, 4, 5, 6, 7, 8, 9, 10, 11, 12, 13])\n",
    "dev_X['MCS42Bins'] = pd.cut(dev_X['MCS42'], 11, labels = [-1, 1, 2, 3, 4, 5, 6, 7, 8, 9, 10])\n",
    "dev_X = dev_X.drop(columns = ['PCS42', 'MCS42'])"
   ]
  },
  {
   "cell_type": "code",
   "execution_count": 46,
   "id": "09089fb7-f52b-4bda-adeb-e5e503408281",
   "metadata": {},
   "outputs": [],
   "source": [
    "# lets bin age with bin size 10 -> ID assigned by taking the floor of the age (i.e. 19 -> 1)\n",
    "bins = list(range(10,100, 10))\n",
    "labels = list(range(1,9))\n",
    "dev_X['AGEBins'] = pd.cut(dev_X['AGE'], bins =  bins, labels=labels, right=False)\n",
    "dev_X = dev_X.drop(columns = ['AGE'])"
   ]
  },
  {
   "cell_type": "code",
   "execution_count": 47,
   "id": "01b74201",
   "metadata": {},
   "outputs": [],
   "source": [
    "dev_dataset = StandardDataset(dev_X, label_name = 'UTILIZATION', favorable_classes=[1],\n",
    "                 protected_attribute_names= ['RACE'], privileged_classes = [[1]], metadata=default_mappings)"
   ]
  },
  {
   "cell_type": "code",
   "execution_count": 48,
   "id": "d0d05437",
   "metadata": {},
   "outputs": [],
   "source": [
    "# Splitting into 70/15/15 train/val/test\n",
    "dev_dataset_X_train, dev_dataset_X_val, dev_dataset_X_test = dev_dataset.split([0.7, 0.85], shuffle=True)"
   ]
  },
  {
   "cell_type": "markdown",
   "id": "22345104-7e28-43c0-af32-efffcf8b4920",
   "metadata": {
    "tags": []
   },
   "source": [
    "### 4.2. Learning a Logistic Regression (LR) classifier on original data"
   ]
  },
  {
   "cell_type": "code",
   "execution_count": 49,
   "id": "37eb5576",
   "metadata": {},
   "outputs": [
    {
     "data": {
      "text/html": [
       "<style>#sk-container-id-4 {color: black;background-color: white;}#sk-container-id-4 pre{padding: 0;}#sk-container-id-4 div.sk-toggleable {background-color: white;}#sk-container-id-4 label.sk-toggleable__label {cursor: pointer;display: block;width: 100%;margin-bottom: 0;padding: 0.3em;box-sizing: border-box;text-align: center;}#sk-container-id-4 label.sk-toggleable__label-arrow:before {content: \"▸\";float: left;margin-right: 0.25em;color: #696969;}#sk-container-id-4 label.sk-toggleable__label-arrow:hover:before {color: black;}#sk-container-id-4 div.sk-estimator:hover label.sk-toggleable__label-arrow:before {color: black;}#sk-container-id-4 div.sk-toggleable__content {max-height: 0;max-width: 0;overflow: hidden;text-align: left;background-color: #f0f8ff;}#sk-container-id-4 div.sk-toggleable__content pre {margin: 0.2em;color: black;border-radius: 0.25em;background-color: #f0f8ff;}#sk-container-id-4 input.sk-toggleable__control:checked~div.sk-toggleable__content {max-height: 200px;max-width: 100%;overflow: auto;}#sk-container-id-4 input.sk-toggleable__control:checked~label.sk-toggleable__label-arrow:before {content: \"▾\";}#sk-container-id-4 div.sk-estimator input.sk-toggleable__control:checked~label.sk-toggleable__label {background-color: #d4ebff;}#sk-container-id-4 div.sk-label input.sk-toggleable__control:checked~label.sk-toggleable__label {background-color: #d4ebff;}#sk-container-id-4 input.sk-hidden--visually {border: 0;clip: rect(1px 1px 1px 1px);clip: rect(1px, 1px, 1px, 1px);height: 1px;margin: -1px;overflow: hidden;padding: 0;position: absolute;width: 1px;}#sk-container-id-4 div.sk-estimator {font-family: monospace;background-color: #f0f8ff;border: 1px dotted black;border-radius: 0.25em;box-sizing: border-box;margin-bottom: 0.5em;}#sk-container-id-4 div.sk-estimator:hover {background-color: #d4ebff;}#sk-container-id-4 div.sk-parallel-item::after {content: \"\";width: 100%;border-bottom: 1px solid gray;flex-grow: 1;}#sk-container-id-4 div.sk-label:hover label.sk-toggleable__label {background-color: #d4ebff;}#sk-container-id-4 div.sk-serial::before {content: \"\";position: absolute;border-left: 1px solid gray;box-sizing: border-box;top: 0;bottom: 0;left: 50%;z-index: 0;}#sk-container-id-4 div.sk-serial {display: flex;flex-direction: column;align-items: center;background-color: white;padding-right: 0.2em;padding-left: 0.2em;position: relative;}#sk-container-id-4 div.sk-item {position: relative;z-index: 1;}#sk-container-id-4 div.sk-parallel {display: flex;align-items: stretch;justify-content: center;background-color: white;position: relative;}#sk-container-id-4 div.sk-item::before, #sk-container-id-4 div.sk-parallel-item::before {content: \"\";position: absolute;border-left: 1px solid gray;box-sizing: border-box;top: 0;bottom: 0;left: 50%;z-index: -1;}#sk-container-id-4 div.sk-parallel-item {display: flex;flex-direction: column;z-index: 1;position: relative;background-color: white;}#sk-container-id-4 div.sk-parallel-item:first-child::after {align-self: flex-end;width: 50%;}#sk-container-id-4 div.sk-parallel-item:last-child::after {align-self: flex-start;width: 50%;}#sk-container-id-4 div.sk-parallel-item:only-child::after {width: 0;}#sk-container-id-4 div.sk-dashed-wrapped {border: 1px dashed gray;margin: 0 0.4em 0.5em 0.4em;box-sizing: border-box;padding-bottom: 0.4em;background-color: white;}#sk-container-id-4 div.sk-label label {font-family: monospace;font-weight: bold;display: inline-block;line-height: 1.2em;}#sk-container-id-4 div.sk-label-container {text-align: center;}#sk-container-id-4 div.sk-container {/* jupyter's `normalize.less` sets `[hidden] { display: none; }` but bootstrap.min.css set `[hidden] { display: none !important; }` so we also need the `!important` here to be able to override the default hidden behavior on the sphinx rendered scikit-learn.org. See: https://github.com/scikit-learn/scikit-learn/issues/21755 */display: inline-block !important;position: relative;}#sk-container-id-4 div.sk-text-repr-fallback {display: none;}</style><div id=\"sk-container-id-4\" class=\"sk-top-container\"><div class=\"sk-text-repr-fallback\"><pre>LogisticRegression(C=1, penalty=&#x27;l1&#x27;, random_state=1, solver=&#x27;liblinear&#x27;)</pre><b>In a Jupyter environment, please rerun this cell to show the HTML representation or trust the notebook. <br />On GitHub, the HTML representation is unable to render, please try loading this page with nbviewer.org.</b></div><div class=\"sk-container\" hidden><div class=\"sk-item\"><div class=\"sk-estimator sk-toggleable\"><input class=\"sk-toggleable__control sk-hidden--visually\" id=\"sk-estimator-id-6\" type=\"checkbox\" checked><label for=\"sk-estimator-id-6\" class=\"sk-toggleable__label sk-toggleable__label-arrow\">LogisticRegression</label><div class=\"sk-toggleable__content\"><pre>LogisticRegression(C=1, penalty=&#x27;l1&#x27;, random_state=1, solver=&#x27;liblinear&#x27;)</pre></div></div></div></div></div>"
      ],
      "text/plain": [
       "LogisticRegression(C=1, penalty='l1', random_state=1, solver='liblinear')"
      ]
     },
     "execution_count": 49,
     "metadata": {},
     "output_type": "execute_result"
    }
   ],
   "source": [
    "# Use the same methods from Section 3\n",
    "# hyper parameter tuning\n",
    "params = {'penalty': ['l1','l2'], 'C': [0.001, 0.01, 0.1, 1, 10, 100, 1000]}\n",
    "clf = GridSearchCV(LogisticRegression(solver = 'liblinear', random_state=1), params, refit=True)\n",
    "clf = clf.fit(dev_dataset_X_train.features, dev_dataset_X_train.labels.ravel())\n",
    "clf.best_estimator_"
   ]
  },
  {
   "cell_type": "code",
   "execution_count": 50,
   "id": "f1547e0f-a23a-4bbf-82a8-107bab7ac739",
   "metadata": {},
   "outputs": [
    {
     "data": {
      "text/html": [
       "<style>#sk-container-id-5 {color: black;background-color: white;}#sk-container-id-5 pre{padding: 0;}#sk-container-id-5 div.sk-toggleable {background-color: white;}#sk-container-id-5 label.sk-toggleable__label {cursor: pointer;display: block;width: 100%;margin-bottom: 0;padding: 0.3em;box-sizing: border-box;text-align: center;}#sk-container-id-5 label.sk-toggleable__label-arrow:before {content: \"▸\";float: left;margin-right: 0.25em;color: #696969;}#sk-container-id-5 label.sk-toggleable__label-arrow:hover:before {color: black;}#sk-container-id-5 div.sk-estimator:hover label.sk-toggleable__label-arrow:before {color: black;}#sk-container-id-5 div.sk-toggleable__content {max-height: 0;max-width: 0;overflow: hidden;text-align: left;background-color: #f0f8ff;}#sk-container-id-5 div.sk-toggleable__content pre {margin: 0.2em;color: black;border-radius: 0.25em;background-color: #f0f8ff;}#sk-container-id-5 input.sk-toggleable__control:checked~div.sk-toggleable__content {max-height: 200px;max-width: 100%;overflow: auto;}#sk-container-id-5 input.sk-toggleable__control:checked~label.sk-toggleable__label-arrow:before {content: \"▾\";}#sk-container-id-5 div.sk-estimator input.sk-toggleable__control:checked~label.sk-toggleable__label {background-color: #d4ebff;}#sk-container-id-5 div.sk-label input.sk-toggleable__control:checked~label.sk-toggleable__label {background-color: #d4ebff;}#sk-container-id-5 input.sk-hidden--visually {border: 0;clip: rect(1px 1px 1px 1px);clip: rect(1px, 1px, 1px, 1px);height: 1px;margin: -1px;overflow: hidden;padding: 0;position: absolute;width: 1px;}#sk-container-id-5 div.sk-estimator {font-family: monospace;background-color: #f0f8ff;border: 1px dotted black;border-radius: 0.25em;box-sizing: border-box;margin-bottom: 0.5em;}#sk-container-id-5 div.sk-estimator:hover {background-color: #d4ebff;}#sk-container-id-5 div.sk-parallel-item::after {content: \"\";width: 100%;border-bottom: 1px solid gray;flex-grow: 1;}#sk-container-id-5 div.sk-label:hover label.sk-toggleable__label {background-color: #d4ebff;}#sk-container-id-5 div.sk-serial::before {content: \"\";position: absolute;border-left: 1px solid gray;box-sizing: border-box;top: 0;bottom: 0;left: 50%;z-index: 0;}#sk-container-id-5 div.sk-serial {display: flex;flex-direction: column;align-items: center;background-color: white;padding-right: 0.2em;padding-left: 0.2em;position: relative;}#sk-container-id-5 div.sk-item {position: relative;z-index: 1;}#sk-container-id-5 div.sk-parallel {display: flex;align-items: stretch;justify-content: center;background-color: white;position: relative;}#sk-container-id-5 div.sk-item::before, #sk-container-id-5 div.sk-parallel-item::before {content: \"\";position: absolute;border-left: 1px solid gray;box-sizing: border-box;top: 0;bottom: 0;left: 50%;z-index: -1;}#sk-container-id-5 div.sk-parallel-item {display: flex;flex-direction: column;z-index: 1;position: relative;background-color: white;}#sk-container-id-5 div.sk-parallel-item:first-child::after {align-self: flex-end;width: 50%;}#sk-container-id-5 div.sk-parallel-item:last-child::after {align-self: flex-start;width: 50%;}#sk-container-id-5 div.sk-parallel-item:only-child::after {width: 0;}#sk-container-id-5 div.sk-dashed-wrapped {border: 1px dashed gray;margin: 0 0.4em 0.5em 0.4em;box-sizing: border-box;padding-bottom: 0.4em;background-color: white;}#sk-container-id-5 div.sk-label label {font-family: monospace;font-weight: bold;display: inline-block;line-height: 1.2em;}#sk-container-id-5 div.sk-label-container {text-align: center;}#sk-container-id-5 div.sk-container {/* jupyter's `normalize.less` sets `[hidden] { display: none; }` but bootstrap.min.css set `[hidden] { display: none !important; }` so we also need the `!important` here to be able to override the default hidden behavior on the sphinx rendered scikit-learn.org. See: https://github.com/scikit-learn/scikit-learn/issues/21755 */display: inline-block !important;position: relative;}#sk-container-id-5 div.sk-text-repr-fallback {display: none;}</style><div id=\"sk-container-id-5\" class=\"sk-top-container\"><div class=\"sk-text-repr-fallback\"><pre>Pipeline(steps=[(&#x27;standardscaler&#x27;, StandardScaler()),\n",
       "                (&#x27;logisticregression&#x27;,\n",
       "                 LogisticRegression(C=1, penalty=&#x27;l1&#x27;, random_state=1,\n",
       "                                    solver=&#x27;liblinear&#x27;))])</pre><b>In a Jupyter environment, please rerun this cell to show the HTML representation or trust the notebook. <br />On GitHub, the HTML representation is unable to render, please try loading this page with nbviewer.org.</b></div><div class=\"sk-container\" hidden><div class=\"sk-item sk-dashed-wrapped\"><div class=\"sk-label-container\"><div class=\"sk-label sk-toggleable\"><input class=\"sk-toggleable__control sk-hidden--visually\" id=\"sk-estimator-id-7\" type=\"checkbox\" ><label for=\"sk-estimator-id-7\" class=\"sk-toggleable__label sk-toggleable__label-arrow\">Pipeline</label><div class=\"sk-toggleable__content\"><pre>Pipeline(steps=[(&#x27;standardscaler&#x27;, StandardScaler()),\n",
       "                (&#x27;logisticregression&#x27;,\n",
       "                 LogisticRegression(C=1, penalty=&#x27;l1&#x27;, random_state=1,\n",
       "                                    solver=&#x27;liblinear&#x27;))])</pre></div></div></div><div class=\"sk-serial\"><div class=\"sk-item\"><div class=\"sk-estimator sk-toggleable\"><input class=\"sk-toggleable__control sk-hidden--visually\" id=\"sk-estimator-id-8\" type=\"checkbox\" ><label for=\"sk-estimator-id-8\" class=\"sk-toggleable__label sk-toggleable__label-arrow\">StandardScaler</label><div class=\"sk-toggleable__content\"><pre>StandardScaler()</pre></div></div></div><div class=\"sk-item\"><div class=\"sk-estimator sk-toggleable\"><input class=\"sk-toggleable__control sk-hidden--visually\" id=\"sk-estimator-id-9\" type=\"checkbox\" ><label for=\"sk-estimator-id-9\" class=\"sk-toggleable__label sk-toggleable__label-arrow\">LogisticRegression</label><div class=\"sk-toggleable__content\"><pre>LogisticRegression(C=1, penalty=&#x27;l1&#x27;, random_state=1, solver=&#x27;liblinear&#x27;)</pre></div></div></div></div></div></div></div>"
      ],
      "text/plain": [
       "Pipeline(steps=[('standardscaler', StandardScaler()),\n",
       "                ('logisticregression',\n",
       "                 LogisticRegression(C=1, penalty='l1', random_state=1,\n",
       "                                    solver='liblinear'))])"
      ]
     },
     "execution_count": 50,
     "metadata": {},
     "output_type": "execute_result"
    }
   ],
   "source": [
    "# applying best estimator\n",
    "log_clf = make_pipeline(StandardScaler(), clf.best_estimator_)\n",
    "log_clf.fit(dev_dataset_X_train.features, dev_dataset_X_train.labels.ravel())"
   ]
  },
  {
   "cell_type": "code",
   "execution_count": 51,
   "id": "9c6c5ba8",
   "metadata": {},
   "outputs": [],
   "source": [
    "# validation metric summary\n",
    "thresh_arr = np.linspace(0.01, 0.5, 50)\n",
    "log_val_metrics = test(dataset=dev_dataset_X_val,\n",
    "                   model=log_clf,\n",
    "                   thresh_arr=thresh_arr)\n",
    "log_org_best_ind = np.argmax(log_val_metrics['bal_acc'])"
   ]
  },
  {
   "cell_type": "code",
   "execution_count": 52,
   "id": "bf3ef864",
   "metadata": {},
   "outputs": [
    {
     "name": "stdout",
     "output_type": "stream",
     "text": [
      "Threshold corresponding to Best balanced accuracy: 0.1700\n",
      "Best balanced accuracy: 0.7521\n",
      "Corresponding 1-min(DI, 1/DI) value: 0.5671\n",
      "Corresponding average odds difference value: -0.2110\n",
      "Corresponding statistical parity difference value: -0.2941\n",
      "Corresponding equal opportunity difference value: -0.1727\n",
      "Corresponding Theil index value: 0.0994\n"
     ]
    }
   ],
   "source": [
    "describe_metrics(log_val_metrics, thresh_arr)"
   ]
  },
  {
   "cell_type": "markdown",
   "id": "da8258f9-430f-4569-bb8c-f7a1ca1580ef",
   "metadata": {},
   "source": [
    "### 4.3. Learning a Random Forest (RF) classifier on original data"
   ]
  },
  {
   "cell_type": "code",
   "execution_count": 53,
   "id": "d228c01c-6058-4706-9179-206629a8e800",
   "metadata": {},
   "outputs": [],
   "source": [
    "# Use the same methods from Section 3\n",
    "# Training Random Forest\n",
    "rf_params = {'max_depth': [20, 40, 60, 80, 100, None], 'max_features': ['sqrt', 'log2']}\n",
    "rf_clf = GridSearchCV(RandomForestClassifier(class_weight = 'balanced'), rf_params, refit=True)\n",
    "\n",
    "rf_clf.fit(dev_dataset_X_train.features, dev_dataset_X_train.labels.ravel())\n",
    "rf_clf_b = rf_clf.best_estimator_"
   ]
  },
  {
   "cell_type": "code",
   "execution_count": 54,
   "id": "deab0c0c",
   "metadata": {},
   "outputs": [
    {
     "data": {
      "text/html": [
       "<style>#sk-container-id-6 {color: black;background-color: white;}#sk-container-id-6 pre{padding: 0;}#sk-container-id-6 div.sk-toggleable {background-color: white;}#sk-container-id-6 label.sk-toggleable__label {cursor: pointer;display: block;width: 100%;margin-bottom: 0;padding: 0.3em;box-sizing: border-box;text-align: center;}#sk-container-id-6 label.sk-toggleable__label-arrow:before {content: \"▸\";float: left;margin-right: 0.25em;color: #696969;}#sk-container-id-6 label.sk-toggleable__label-arrow:hover:before {color: black;}#sk-container-id-6 div.sk-estimator:hover label.sk-toggleable__label-arrow:before {color: black;}#sk-container-id-6 div.sk-toggleable__content {max-height: 0;max-width: 0;overflow: hidden;text-align: left;background-color: #f0f8ff;}#sk-container-id-6 div.sk-toggleable__content pre {margin: 0.2em;color: black;border-radius: 0.25em;background-color: #f0f8ff;}#sk-container-id-6 input.sk-toggleable__control:checked~div.sk-toggleable__content {max-height: 200px;max-width: 100%;overflow: auto;}#sk-container-id-6 input.sk-toggleable__control:checked~label.sk-toggleable__label-arrow:before {content: \"▾\";}#sk-container-id-6 div.sk-estimator input.sk-toggleable__control:checked~label.sk-toggleable__label {background-color: #d4ebff;}#sk-container-id-6 div.sk-label input.sk-toggleable__control:checked~label.sk-toggleable__label {background-color: #d4ebff;}#sk-container-id-6 input.sk-hidden--visually {border: 0;clip: rect(1px 1px 1px 1px);clip: rect(1px, 1px, 1px, 1px);height: 1px;margin: -1px;overflow: hidden;padding: 0;position: absolute;width: 1px;}#sk-container-id-6 div.sk-estimator {font-family: monospace;background-color: #f0f8ff;border: 1px dotted black;border-radius: 0.25em;box-sizing: border-box;margin-bottom: 0.5em;}#sk-container-id-6 div.sk-estimator:hover {background-color: #d4ebff;}#sk-container-id-6 div.sk-parallel-item::after {content: \"\";width: 100%;border-bottom: 1px solid gray;flex-grow: 1;}#sk-container-id-6 div.sk-label:hover label.sk-toggleable__label {background-color: #d4ebff;}#sk-container-id-6 div.sk-serial::before {content: \"\";position: absolute;border-left: 1px solid gray;box-sizing: border-box;top: 0;bottom: 0;left: 50%;z-index: 0;}#sk-container-id-6 div.sk-serial {display: flex;flex-direction: column;align-items: center;background-color: white;padding-right: 0.2em;padding-left: 0.2em;position: relative;}#sk-container-id-6 div.sk-item {position: relative;z-index: 1;}#sk-container-id-6 div.sk-parallel {display: flex;align-items: stretch;justify-content: center;background-color: white;position: relative;}#sk-container-id-6 div.sk-item::before, #sk-container-id-6 div.sk-parallel-item::before {content: \"\";position: absolute;border-left: 1px solid gray;box-sizing: border-box;top: 0;bottom: 0;left: 50%;z-index: -1;}#sk-container-id-6 div.sk-parallel-item {display: flex;flex-direction: column;z-index: 1;position: relative;background-color: white;}#sk-container-id-6 div.sk-parallel-item:first-child::after {align-self: flex-end;width: 50%;}#sk-container-id-6 div.sk-parallel-item:last-child::after {align-self: flex-start;width: 50%;}#sk-container-id-6 div.sk-parallel-item:only-child::after {width: 0;}#sk-container-id-6 div.sk-dashed-wrapped {border: 1px dashed gray;margin: 0 0.4em 0.5em 0.4em;box-sizing: border-box;padding-bottom: 0.4em;background-color: white;}#sk-container-id-6 div.sk-label label {font-family: monospace;font-weight: bold;display: inline-block;line-height: 1.2em;}#sk-container-id-6 div.sk-label-container {text-align: center;}#sk-container-id-6 div.sk-container {/* jupyter's `normalize.less` sets `[hidden] { display: none; }` but bootstrap.min.css set `[hidden] { display: none !important; }` so we also need the `!important` here to be able to override the default hidden behavior on the sphinx rendered scikit-learn.org. See: https://github.com/scikit-learn/scikit-learn/issues/21755 */display: inline-block !important;position: relative;}#sk-container-id-6 div.sk-text-repr-fallback {display: none;}</style><div id=\"sk-container-id-6\" class=\"sk-top-container\"><div class=\"sk-text-repr-fallback\"><pre>RandomForestClassifier(class_weight=&#x27;balanced&#x27;, max_depth=20,\n",
       "                       max_features=&#x27;log2&#x27;)</pre><b>In a Jupyter environment, please rerun this cell to show the HTML representation or trust the notebook. <br />On GitHub, the HTML representation is unable to render, please try loading this page with nbviewer.org.</b></div><div class=\"sk-container\" hidden><div class=\"sk-item\"><div class=\"sk-estimator sk-toggleable\"><input class=\"sk-toggleable__control sk-hidden--visually\" id=\"sk-estimator-id-10\" type=\"checkbox\" checked><label for=\"sk-estimator-id-10\" class=\"sk-toggleable__label sk-toggleable__label-arrow\">RandomForestClassifier</label><div class=\"sk-toggleable__content\"><pre>RandomForestClassifier(class_weight=&#x27;balanced&#x27;, max_depth=20,\n",
       "                       max_features=&#x27;log2&#x27;)</pre></div></div></div></div></div>"
      ],
      "text/plain": [
       "RandomForestClassifier(class_weight='balanced', max_depth=20,\n",
       "                       max_features='log2')"
      ]
     },
     "execution_count": 54,
     "metadata": {},
     "output_type": "execute_result"
    }
   ],
   "source": [
    "rf_clf_b.fit(dev_dataset_X_train.features, dev_dataset_X_train.labels.ravel())"
   ]
  },
  {
   "cell_type": "markdown",
   "id": "881186a8",
   "metadata": {},
   "source": [
    "##### Validation Set Fairness Metric Summary"
   ]
  },
  {
   "cell_type": "code",
   "execution_count": 55,
   "id": "1cb325e5",
   "metadata": {},
   "outputs": [],
   "source": [
    "thresh_arr = np.linspace(0.01, 0.5, 50)\n",
    "rf_val_metrics = test(dataset=dev_dataset_X_val,\n",
    "                   model=rf_clf_b,\n",
    "                   thresh_arr=thresh_arr)\n",
    "rf_org_best_ind = np.argmax(rf_val_metrics['bal_acc'])"
   ]
  },
  {
   "cell_type": "code",
   "execution_count": 56,
   "id": "764fde00",
   "metadata": {},
   "outputs": [
    {
     "name": "stdout",
     "output_type": "stream",
     "text": [
      "Threshold corresponding to Best balanced accuracy: 0.2300\n",
      "Best balanced accuracy: 0.7423\n",
      "Corresponding 1-min(DI, 1/DI) value: 0.5267\n",
      "Corresponding average odds difference value: -0.1896\n",
      "Corresponding statistical parity difference value: -0.2832\n",
      "Corresponding equal opportunity difference value: -0.1297\n",
      "Corresponding Theil index value: 0.1001\n"
     ]
    }
   ],
   "source": [
    "describe_metrics(rf_val_metrics, thresh_arr)"
   ]
  },
  {
   "cell_type": "markdown",
   "id": "16048809",
   "metadata": {},
   "source": [
    "##### Test Set Fairness Metric Summary"
   ]
  },
  {
   "cell_type": "code",
   "execution_count": 57,
   "id": "41ceaf1f",
   "metadata": {},
   "outputs": [],
   "source": [
    "thresh_arr = np.linspace(0.01, 0.5, 50)\n",
    "rf_test_metrics = test(dataset=dev_dataset_X_test,\n",
    "                   model=rf_clf_b,\n",
    "                   thresh_arr=thresh_arr)"
   ]
  },
  {
   "cell_type": "code",
   "execution_count": 58,
   "id": "cc16c1bb",
   "metadata": {},
   "outputs": [
    {
     "name": "stdout",
     "output_type": "stream",
     "text": [
      "Threshold corresponding to Best balanced accuracy: 0.2400\n",
      "Best balanced accuracy: 0.7745\n",
      "Corresponding 1-min(DI, 1/DI) value: 0.6021\n",
      "Corresponding average odds difference value: -0.2392\n",
      "Corresponding statistical parity difference value: -0.3395\n",
      "Corresponding equal opportunity difference value: -0.1907\n",
      "Corresponding Theil index value: 0.0897\n"
     ]
    }
   ],
   "source": [
    "describe_metrics(rf_test_metrics, thresh_arr)"
   ]
  },
  {
   "cell_type": "markdown",
   "id": "bc612147-c6ab-4aea-a37f-95f44363cf90",
   "metadata": {
    "tags": []
   },
   "source": [
    "### Section 4 Write Up here\n",
    "\n",
    "**1. For both the logistic regression and random forest classifiers learned on the original data, please include the results of your fairness metrics. For _each_ metric result briefly describe (1-2 sentences) if you saw any differences from your results in Part 3, and what that might mean.**\n",
    "\n",
    "_Fairness Metrics_\n",
    "   * Threshold corresponding to Best balanced accuracy:\n",
    "   * Best balanced accuracy: \n",
    "   * Corresponding 1-min(DI, 1/DI) value: \n",
    "   * Corresponding average odds difference value: \n",
    "   * Corresponding statistical parity difference value: \n",
    "   * Corresponding equal opportunity difference value:\n",
    "   * Corresponding Theil index value:"
   ]
  },
  {
   "cell_type": "markdown",
   "id": "5c1fe2a8",
   "metadata": {},
   "source": [
    "##### Logistic Regression Test Set\n",
    "* Threshold corresponding to Best balanced accuracy: 0.2000\n",
    "* Best balanced accuracy: 0.7606 \\\n",
    "This metric did improve slightly from 0.7513 of part 3, however, it is still below that of a randomly selected classification.\n",
    "* Corresponding 1-min(DI, 1/DI) value: 0.5304 \\\n",
    "This metric shows that the rate of predicted positives is not equal between the groups. Still, the model did improve from 0.6201 of part 3.\n",
    "* Corresponding average odds difference value: -0.1723 \\\n",
    "This metric shows that the error rate for the unprivileged group is higher than that of the privileged group. The model improved from -0.235 of part 3.\n",
    "* Corresponding statistical parity difference value: -0.2350 \\\n",
    "This metric shows that the unprivileged group has a lower probability of a favorable outcome compared to the privileged group. The model improved from -0.2923 of part 3.\n",
    "* Corresponding equal opportunity difference value: -0.1540 \\\n",
    "This metric shows that the privileged group has a higher true positive rate when compared to the unprivileged group. The model improved from -0.2206 of part 3.\n",
    "* Corresponding Theil index value: 0.0934 \\\n",
    "This metric suggests that there is very little economic inequality present. The model almost negligibly improved from 0.0971 of part 3."
   ]
  },
  {
   "cell_type": "markdown",
   "id": "838903ea",
   "metadata": {},
   "source": [
    "##### Random Forest Test Set\n",
    "* Threshold corresponding to Best balanced accuracy: 0.2100\n",
    "* Best balanced accuracy: 0.7700 \\\n",
    "This metric suggests that the model did slightly worse than randomly selected classification. This is seen by the imbalance in the classes being around 80/20.\n",
    "\n",
    "* Corresponding 1-min(DI, 1/DI) value: 0.5753 \\\n",
    "This metric value of .54 shows that the rate of predicted positives are not equal between the privileged and unprivileged groups. This metric suggests unfairness. There is not much difference from part 3, further development would probably change this.\n",
    "\n",
    "* Corresponding average odds difference value: -0.2062 \\\n",
    "This metric shows that the error rate for the unprivileged group is higher than that of the privileged group. This metric suggests unfairness. There is not much difference from part 3, further development would probably change this.\n",
    "\n",
    "* Corresponding statistical parity difference value: -0.2899 \\\n",
    "This metric shows that the unprivileged group has a lower probability of a favorable outcome compared to the privileged group. There is not much difference from part 3, further development would probably change this.\n",
    "\n",
    "* Corresponding equal opportunity difference value: -0.1866 \\\n",
    "This metric shows that the privileged group has a higher true positive rate when compared to the unprivileged group. Slightly greater than the same metric from part 3, suggesting slight improvement on fairness.\n",
    "\n",
    "* Corresponding Theil index value: 0.0943 \\\n",
    "This metric suggests that there is some, but really not much, economic inequality present. This metric is slightly greater than that in part 3, further development would be needed to bring this value down."
   ]
  },
  {
   "cell_type": "markdown",
   "id": "f5edae9b",
   "metadata": {},
   "source": [
    "**2. Based on this, would you make any recommendations during model development? Does it change which model and fairness metric would be the best to proceed with?** (Please write at least one paragraph)\n",
    "\n",
    "   The best balanced accuracy of 0.7475 indicates a relatively high level of accuracy, which is positive. However, the corresponding 1-min(DI, 1/DI) value of 0.5387 shows significant disparate impact, suggesting that one group is favored over another. This is a critical area of concern in healthcare settings, where equitable treatment is of the utmost importance. The average odds difference value of -0.2150 and the statistical parity difference value of -0.2839 may both indicate disparities in treatment or prediction outcomes between different groups. These negative values may suggest that our model is less favorable to the unprivileged group, which is a significant ethical concern. The equal opportunity difference value of -0.1908 further reinforces this concern, indicating that the true positive rate is not the same across groups. This could potentially mean that the model is less accurate in identifying high-utilization patients in certain demographic groups.The Theil index value of 0.1031, while not necessarily high, could still indicate that there is a degree of severity at some level of inequality in the model's predictions. Given the high accuracy, it may be valuable to also explore other models, such as logistic regression, to compare their fairness metrics. Additionally, applying techniques like re-weighting the data, using different sampling strategies, or applying post-processing fairness techniques could help mitigate these biases.By re-weighting, the model can learn to make more equitable predictions across all groups, thus addressing issues like disparate impact or unequal opportunity rates. Different sampling strategies can lead to more balanced training, which helps in reducing bias in the model’s predictions. However, it is important to be careful with oversampling, as it can lead to overfitting. While the Random Forest model shows good accuracy, its fairness metrics indicate significant biases, which may require a re-evaluation of the model choice or the application of more effective bias mitigation strategies. Re-weighting the data and changing sampling strategies could help us address the issue at the data level, and therefore make the training process more equitable. Post-processing techniques, on the other hand, help adjust the model's output to ensure fairness."
   ]
  },
  {
   "cell_type": "markdown",
   "id": "99473a5c-2910-4c77-a53a-f0022871225d",
   "metadata": {
    "tags": []
   },
   "source": [
    "\n",
    "### End of Replication Part 02 -  Model Development and Fairness Evaluation\n",
    "\n",
    "----\n"
   ]
  },
  {
   "cell_type": "markdown",
   "id": "73863b39",
   "metadata": {},
   "source": [
    "# Start of Replication Part 03a -  Bias Mitigation Techniques\n",
    "\n",
    "## There are **two** components to `Replication Project Part #03`\n",
    "\n",
    "### Part 1. Run the full tutorial example. Within AIF360's Repository it can be found under: `AIF360`/`Examples`/tutorial_medical_expenditure.ipynb\n",
    "\n",
    "#### BEFORE YOU BEGIN MAKE SURE THAT:\n",
    "* A reminder, you will need to fork [AIF360's repository](https://github.com/Trusted-AI/AIF360) into your own GitHub and access the notebook locally or via your method of choice\n",
    "* AIF360's Repository can be found under: `AIF360`/`Examples`/tutorial_medical_expenditure.ipynb\n",
    "* Ensure you have your `aif360` environment turned and activated using a miniconda prompt\n",
    "* Use Jupyter Labs\n",
    "* Refer to [Week 03](https://nanrahman.github.io/capstone-responsible-ai/weeks/03-Replication-Part-00/) content on the course Website to access the `Quickstart Guide`\n",
    "\n",
    "#### FOR THE DATA\n",
    "* Downloade the `h181.csv` and `h192.csv` data files uploaded [here](https://www.kaggle.com/datasets/nanrahman/mepsdata)\n",
    "* Place the `h181.csv` and `h192.csv` ino `../aif360/data/raw/meps/` of your forked AIF360 repository\n",
    "\n",
    "### Part 2. Training models WITH de-biasing, trying out another type of de-biasing method\n",
    "\n",
    "*Below is a list of additional notebooks that demonstrate the use of AIF360*\n",
    "\n",
    "* NEW: [sklearn/demo_new_features.ipynb](https://github.com/Trusted-AI/AIF360/blob/master/examples/sklearn/demo_new_features.ipynb): highlights the features of the new scikit-learn-compatible API\n",
    "* [demo_optim_data_preproc.ipynb](https://github.com/Trusted-AI/AIF360/blob/master/examples/demo_optim_data_preproc.ipynb): demonstrates a generalization of the credit scoring tutorial that shows the full machine learning workflow for the optimized data pre-processing algorithm for bias mitigation on several datasets\n",
    "* [demo_adversarial_debiasing.ipynb](https://github.com/Trusted-AI/AIF360/blob/master/examples/demo_adversarial_debiasing.ipynb): demonstrates the use of the adversarial debiasing in-processing algorithm to learn a fair classifier\n",
    "* [demo_calibrated_eqodds_postprocessing.ipynb](https://github.com/Trusted-AI/AIF360/blob/master/examples/demo_calibrated_eqodds_postprocessing.ipynb): demonstrates the use of an odds-equalizing post-processing algorithm for bias mitigiation\n",
    "* [demo_disparate_impact_remover.ipynb](https://github.com/Trusted-AI/AIF360/blob/master/examples/demo_disparate_impact_remover.ipynb): demonstrates the use of a disparate impact remover pre-processing algorithm for bias mitigiation\n",
    "* [demo_lfr.ipynb](https://github.com/Trusted-AI/AIF360/blob/master/examples/demo_lfr.ipynb): demonstrates the use of the learning fair representations algorithm for bias mitigation\n",
    "* [demo_lime.ipynb](https://github.com/Trusted-AI/AIF360/blob/master/examples/demo_lime.ipynb): demonstrates how LIME - Local Interpretable Model-Agnostic Explanations - can be used with models learned with the AIF 360 toolkit to generate explanations for model predictions\n",
    "* [demo_reject_option_classification.ipynb](https://github.com/Trusted-AI/AIF360/blob/master/examples/demo_reject_option_classification.ipynb): demonstrates the use of the Reject Option Classification (ROC) post-processing algorithm for bias mitigation\n",
    "* [demo_reweighing_preproc.ipynb](https://github.com/Trusted-AI/AIF360/blob/master/examples/demo_reweighing_preproc.ipynb): demonstrates the use of a reweighing pre-processing algorithm for bias mitigation\n"
   ]
  },
  {
   "cell_type": "markdown",
   "id": "58b3e294",
   "metadata": {},
   "source": [
    "### [5.](#Table-of-Contents) Bias Mitigation"
   ]
  },
  {
   "cell_type": "markdown",
   "id": "115b3ae2",
   "metadata": {},
   "source": [
    "**Utility function for plotting bias metrics**"
   ]
  },
  {
   "cell_type": "code",
   "execution_count": 59,
   "id": "287d4839",
   "metadata": {},
   "outputs": [],
   "source": [
    "from utility import plot"
   ]
  },
  {
   "cell_type": "markdown",
   "id": "e0f5f312",
   "metadata": {},
   "source": [
    "Load data & create train validation test split"
   ]
  },
  {
   "cell_type": "code",
   "execution_count": 60,
   "id": "e3b2666f",
   "metadata": {},
   "outputs": [],
   "source": [
    "# transforming dataframe into AIF compatible format\n",
    "# using dev_X (data influenced by EDA findings)\n",
    "dataset = StandardDataset(dev_X, label_name = 'UTILIZATION', favorable_classes=[1],\n",
    "                 protected_attribute_names= ['RACE', 'AGEBins'], privileged_classes = [[1]], metadata=default_mappings)"
   ]
  },
  {
   "cell_type": "code",
   "execution_count": 61,
   "id": "079dbd94",
   "metadata": {},
   "outputs": [],
   "source": [
    "# Splitting into 70/15/15 train/val/test\n",
    "dataset_X_train, dataset_X_val, dataset_X_test = dataset.split([0.7, 0.85], shuffle=True)"
   ]
  },
  {
   "cell_type": "markdown",
   "id": "5b712258",
   "metadata": {},
   "source": [
    "### [5A.](#Table-of-Contents) Bias mitigation using pre-processing technique, Reweighing - AIF360 Example\n"
   ]
  },
  {
   "cell_type": "code",
   "execution_count": 62,
   "id": "f62827cd",
   "metadata": {},
   "outputs": [],
   "source": [
    "privileged_groups = [{'RACE': 1}]\n",
    "unprivileged_groups = [{'RACE': 0, 'AGEBins': 7, 'AGEBins': 8}]"
   ]
  },
  {
   "cell_type": "code",
   "execution_count": 63,
   "id": "1dffb70c",
   "metadata": {},
   "outputs": [],
   "source": [
    "RW = Reweighing(unprivileged_groups=unprivileged_groups,\n",
    "                privileged_groups=privileged_groups)\n",
    "dataset_rw_X_train = RW.fit_transform(dataset_X_train)"
   ]
  },
  {
   "cell_type": "markdown",
   "id": "a30cd6bd",
   "metadata": {},
   "source": [
    "#### Logistic Regression"
   ]
  },
  {
   "cell_type": "code",
   "execution_count": 64,
   "id": "439c8abd",
   "metadata": {},
   "outputs": [],
   "source": [
    "fit_params = {'logisticregression__sample_weight': dataset_rw_X_train.instance_weights}"
   ]
  },
  {
   "cell_type": "code",
   "execution_count": 65,
   "id": "bcdfe80f",
   "metadata": {},
   "outputs": [
    {
     "data": {
      "text/html": [
       "<style>#sk-container-id-7 {color: black;background-color: white;}#sk-container-id-7 pre{padding: 0;}#sk-container-id-7 div.sk-toggleable {background-color: white;}#sk-container-id-7 label.sk-toggleable__label {cursor: pointer;display: block;width: 100%;margin-bottom: 0;padding: 0.3em;box-sizing: border-box;text-align: center;}#sk-container-id-7 label.sk-toggleable__label-arrow:before {content: \"▸\";float: left;margin-right: 0.25em;color: #696969;}#sk-container-id-7 label.sk-toggleable__label-arrow:hover:before {color: black;}#sk-container-id-7 div.sk-estimator:hover label.sk-toggleable__label-arrow:before {color: black;}#sk-container-id-7 div.sk-toggleable__content {max-height: 0;max-width: 0;overflow: hidden;text-align: left;background-color: #f0f8ff;}#sk-container-id-7 div.sk-toggleable__content pre {margin: 0.2em;color: black;border-radius: 0.25em;background-color: #f0f8ff;}#sk-container-id-7 input.sk-toggleable__control:checked~div.sk-toggleable__content {max-height: 200px;max-width: 100%;overflow: auto;}#sk-container-id-7 input.sk-toggleable__control:checked~label.sk-toggleable__label-arrow:before {content: \"▾\";}#sk-container-id-7 div.sk-estimator input.sk-toggleable__control:checked~label.sk-toggleable__label {background-color: #d4ebff;}#sk-container-id-7 div.sk-label input.sk-toggleable__control:checked~label.sk-toggleable__label {background-color: #d4ebff;}#sk-container-id-7 input.sk-hidden--visually {border: 0;clip: rect(1px 1px 1px 1px);clip: rect(1px, 1px, 1px, 1px);height: 1px;margin: -1px;overflow: hidden;padding: 0;position: absolute;width: 1px;}#sk-container-id-7 div.sk-estimator {font-family: monospace;background-color: #f0f8ff;border: 1px dotted black;border-radius: 0.25em;box-sizing: border-box;margin-bottom: 0.5em;}#sk-container-id-7 div.sk-estimator:hover {background-color: #d4ebff;}#sk-container-id-7 div.sk-parallel-item::after {content: \"\";width: 100%;border-bottom: 1px solid gray;flex-grow: 1;}#sk-container-id-7 div.sk-label:hover label.sk-toggleable__label {background-color: #d4ebff;}#sk-container-id-7 div.sk-serial::before {content: \"\";position: absolute;border-left: 1px solid gray;box-sizing: border-box;top: 0;bottom: 0;left: 50%;z-index: 0;}#sk-container-id-7 div.sk-serial {display: flex;flex-direction: column;align-items: center;background-color: white;padding-right: 0.2em;padding-left: 0.2em;position: relative;}#sk-container-id-7 div.sk-item {position: relative;z-index: 1;}#sk-container-id-7 div.sk-parallel {display: flex;align-items: stretch;justify-content: center;background-color: white;position: relative;}#sk-container-id-7 div.sk-item::before, #sk-container-id-7 div.sk-parallel-item::before {content: \"\";position: absolute;border-left: 1px solid gray;box-sizing: border-box;top: 0;bottom: 0;left: 50%;z-index: -1;}#sk-container-id-7 div.sk-parallel-item {display: flex;flex-direction: column;z-index: 1;position: relative;background-color: white;}#sk-container-id-7 div.sk-parallel-item:first-child::after {align-self: flex-end;width: 50%;}#sk-container-id-7 div.sk-parallel-item:last-child::after {align-self: flex-start;width: 50%;}#sk-container-id-7 div.sk-parallel-item:only-child::after {width: 0;}#sk-container-id-7 div.sk-dashed-wrapped {border: 1px dashed gray;margin: 0 0.4em 0.5em 0.4em;box-sizing: border-box;padding-bottom: 0.4em;background-color: white;}#sk-container-id-7 div.sk-label label {font-family: monospace;font-weight: bold;display: inline-block;line-height: 1.2em;}#sk-container-id-7 div.sk-label-container {text-align: center;}#sk-container-id-7 div.sk-container {/* jupyter's `normalize.less` sets `[hidden] { display: none; }` but bootstrap.min.css set `[hidden] { display: none !important; }` so we also need the `!important` here to be able to override the default hidden behavior on the sphinx rendered scikit-learn.org. See: https://github.com/scikit-learn/scikit-learn/issues/21755 */display: inline-block !important;position: relative;}#sk-container-id-7 div.sk-text-repr-fallback {display: none;}</style><div id=\"sk-container-id-7\" class=\"sk-top-container\"><div class=\"sk-text-repr-fallback\"><pre>LogisticRegression(C=1, penalty=&#x27;l1&#x27;, random_state=1, solver=&#x27;liblinear&#x27;)</pre><b>In a Jupyter environment, please rerun this cell to show the HTML representation or trust the notebook. <br />On GitHub, the HTML representation is unable to render, please try loading this page with nbviewer.org.</b></div><div class=\"sk-container\" hidden><div class=\"sk-item\"><div class=\"sk-estimator sk-toggleable\"><input class=\"sk-toggleable__control sk-hidden--visually\" id=\"sk-estimator-id-11\" type=\"checkbox\" checked><label for=\"sk-estimator-id-11\" class=\"sk-toggleable__label sk-toggleable__label-arrow\">LogisticRegression</label><div class=\"sk-toggleable__content\"><pre>LogisticRegression(C=1, penalty=&#x27;l1&#x27;, random_state=1, solver=&#x27;liblinear&#x27;)</pre></div></div></div></div></div>"
      ],
      "text/plain": [
       "LogisticRegression(C=1, penalty='l1', random_state=1, solver='liblinear')"
      ]
     },
     "execution_count": 65,
     "metadata": {},
     "output_type": "execute_result"
    }
   ],
   "source": [
    "# Use the same methods from Part 3 & 4\n",
    "# hyper parameter tuning\n",
    "params = {'penalty': ['l1','l2'], 'C': [0.001, 0.01, 0.1, 1, 10, 100, 1000]}\n",
    "clf = GridSearchCV(LogisticRegression(solver = 'liblinear', random_state=1), params, refit=True)\n",
    "clf = clf.fit(dataset_rw_X_train.features, dataset_rw_X_train.labels.ravel())\n",
    "clf.best_estimator_"
   ]
  },
  {
   "cell_type": "code",
   "execution_count": 66,
   "id": "22e451b8",
   "metadata": {},
   "outputs": [
    {
     "data": {
      "text/html": [
       "<style>#sk-container-id-8 {color: black;background-color: white;}#sk-container-id-8 pre{padding: 0;}#sk-container-id-8 div.sk-toggleable {background-color: white;}#sk-container-id-8 label.sk-toggleable__label {cursor: pointer;display: block;width: 100%;margin-bottom: 0;padding: 0.3em;box-sizing: border-box;text-align: center;}#sk-container-id-8 label.sk-toggleable__label-arrow:before {content: \"▸\";float: left;margin-right: 0.25em;color: #696969;}#sk-container-id-8 label.sk-toggleable__label-arrow:hover:before {color: black;}#sk-container-id-8 div.sk-estimator:hover label.sk-toggleable__label-arrow:before {color: black;}#sk-container-id-8 div.sk-toggleable__content {max-height: 0;max-width: 0;overflow: hidden;text-align: left;background-color: #f0f8ff;}#sk-container-id-8 div.sk-toggleable__content pre {margin: 0.2em;color: black;border-radius: 0.25em;background-color: #f0f8ff;}#sk-container-id-8 input.sk-toggleable__control:checked~div.sk-toggleable__content {max-height: 200px;max-width: 100%;overflow: auto;}#sk-container-id-8 input.sk-toggleable__control:checked~label.sk-toggleable__label-arrow:before {content: \"▾\";}#sk-container-id-8 div.sk-estimator input.sk-toggleable__control:checked~label.sk-toggleable__label {background-color: #d4ebff;}#sk-container-id-8 div.sk-label input.sk-toggleable__control:checked~label.sk-toggleable__label {background-color: #d4ebff;}#sk-container-id-8 input.sk-hidden--visually {border: 0;clip: rect(1px 1px 1px 1px);clip: rect(1px, 1px, 1px, 1px);height: 1px;margin: -1px;overflow: hidden;padding: 0;position: absolute;width: 1px;}#sk-container-id-8 div.sk-estimator {font-family: monospace;background-color: #f0f8ff;border: 1px dotted black;border-radius: 0.25em;box-sizing: border-box;margin-bottom: 0.5em;}#sk-container-id-8 div.sk-estimator:hover {background-color: #d4ebff;}#sk-container-id-8 div.sk-parallel-item::after {content: \"\";width: 100%;border-bottom: 1px solid gray;flex-grow: 1;}#sk-container-id-8 div.sk-label:hover label.sk-toggleable__label {background-color: #d4ebff;}#sk-container-id-8 div.sk-serial::before {content: \"\";position: absolute;border-left: 1px solid gray;box-sizing: border-box;top: 0;bottom: 0;left: 50%;z-index: 0;}#sk-container-id-8 div.sk-serial {display: flex;flex-direction: column;align-items: center;background-color: white;padding-right: 0.2em;padding-left: 0.2em;position: relative;}#sk-container-id-8 div.sk-item {position: relative;z-index: 1;}#sk-container-id-8 div.sk-parallel {display: flex;align-items: stretch;justify-content: center;background-color: white;position: relative;}#sk-container-id-8 div.sk-item::before, #sk-container-id-8 div.sk-parallel-item::before {content: \"\";position: absolute;border-left: 1px solid gray;box-sizing: border-box;top: 0;bottom: 0;left: 50%;z-index: -1;}#sk-container-id-8 div.sk-parallel-item {display: flex;flex-direction: column;z-index: 1;position: relative;background-color: white;}#sk-container-id-8 div.sk-parallel-item:first-child::after {align-self: flex-end;width: 50%;}#sk-container-id-8 div.sk-parallel-item:last-child::after {align-self: flex-start;width: 50%;}#sk-container-id-8 div.sk-parallel-item:only-child::after {width: 0;}#sk-container-id-8 div.sk-dashed-wrapped {border: 1px dashed gray;margin: 0 0.4em 0.5em 0.4em;box-sizing: border-box;padding-bottom: 0.4em;background-color: white;}#sk-container-id-8 div.sk-label label {font-family: monospace;font-weight: bold;display: inline-block;line-height: 1.2em;}#sk-container-id-8 div.sk-label-container {text-align: center;}#sk-container-id-8 div.sk-container {/* jupyter's `normalize.less` sets `[hidden] { display: none; }` but bootstrap.min.css set `[hidden] { display: none !important; }` so we also need the `!important` here to be able to override the default hidden behavior on the sphinx rendered scikit-learn.org. See: https://github.com/scikit-learn/scikit-learn/issues/21755 */display: inline-block !important;position: relative;}#sk-container-id-8 div.sk-text-repr-fallback {display: none;}</style><div id=\"sk-container-id-8\" class=\"sk-top-container\"><div class=\"sk-text-repr-fallback\"><pre>Pipeline(steps=[(&#x27;standardscaler&#x27;, StandardScaler()),\n",
       "                (&#x27;logisticregression&#x27;,\n",
       "                 LogisticRegression(C=1, penalty=&#x27;l1&#x27;, random_state=1,\n",
       "                                    solver=&#x27;liblinear&#x27;))])</pre><b>In a Jupyter environment, please rerun this cell to show the HTML representation or trust the notebook. <br />On GitHub, the HTML representation is unable to render, please try loading this page with nbviewer.org.</b></div><div class=\"sk-container\" hidden><div class=\"sk-item sk-dashed-wrapped\"><div class=\"sk-label-container\"><div class=\"sk-label sk-toggleable\"><input class=\"sk-toggleable__control sk-hidden--visually\" id=\"sk-estimator-id-12\" type=\"checkbox\" ><label for=\"sk-estimator-id-12\" class=\"sk-toggleable__label sk-toggleable__label-arrow\">Pipeline</label><div class=\"sk-toggleable__content\"><pre>Pipeline(steps=[(&#x27;standardscaler&#x27;, StandardScaler()),\n",
       "                (&#x27;logisticregression&#x27;,\n",
       "                 LogisticRegression(C=1, penalty=&#x27;l1&#x27;, random_state=1,\n",
       "                                    solver=&#x27;liblinear&#x27;))])</pre></div></div></div><div class=\"sk-serial\"><div class=\"sk-item\"><div class=\"sk-estimator sk-toggleable\"><input class=\"sk-toggleable__control sk-hidden--visually\" id=\"sk-estimator-id-13\" type=\"checkbox\" ><label for=\"sk-estimator-id-13\" class=\"sk-toggleable__label sk-toggleable__label-arrow\">StandardScaler</label><div class=\"sk-toggleable__content\"><pre>StandardScaler()</pre></div></div></div><div class=\"sk-item\"><div class=\"sk-estimator sk-toggleable\"><input class=\"sk-toggleable__control sk-hidden--visually\" id=\"sk-estimator-id-14\" type=\"checkbox\" ><label for=\"sk-estimator-id-14\" class=\"sk-toggleable__label sk-toggleable__label-arrow\">LogisticRegression</label><div class=\"sk-toggleable__content\"><pre>LogisticRegression(C=1, penalty=&#x27;l1&#x27;, random_state=1, solver=&#x27;liblinear&#x27;)</pre></div></div></div></div></div></div></div>"
      ],
      "text/plain": [
       "Pipeline(steps=[('standardscaler', StandardScaler()),\n",
       "                ('logisticregression',\n",
       "                 LogisticRegression(C=1, penalty='l1', random_state=1,\n",
       "                                    solver='liblinear'))])"
      ]
     },
     "execution_count": 66,
     "metadata": {},
     "output_type": "execute_result"
    }
   ],
   "source": [
    "# applying best estimator\n",
    "log_clf = make_pipeline(StandardScaler(), clf.best_estimator_)\n",
    "log_clf.fit(dataset_rw_X_train.features, dataset_rw_X_train.labels.ravel(), **fit_params)"
   ]
  },
  {
   "cell_type": "code",
   "execution_count": 67,
   "id": "1e4cbe84",
   "metadata": {},
   "outputs": [],
   "source": [
    "# validation metric summary\n",
    "dataset_rw_X_val = RW.fit_transform(dataset_X_val)\n",
    "thresh_arr = np.linspace(0.01, 0.5, 50)\n",
    "log_val_metrics = test(dataset=dataset_rw_X_val,\n",
    "                   model=log_clf,\n",
    "                   thresh_arr=thresh_arr)\n",
    "log_org_best_ind = np.argmax(log_val_metrics['bal_acc'])"
   ]
  },
  {
   "cell_type": "code",
   "execution_count": 68,
   "id": "c6abba88",
   "metadata": {},
   "outputs": [
    {
     "name": "stdout",
     "output_type": "stream",
     "text": [
      "Threshold corresponding to Best balanced accuracy: 0.1600\n",
      "Best balanced accuracy: 0.7495\n",
      "Corresponding 1-min(DI, 1/DI) value: 0.4023\n",
      "Corresponding average odds difference value: -0.1165\n",
      "Corresponding statistical parity difference value: -0.1516\n",
      "Corresponding equal opportunity difference value: -0.1064\n",
      "Corresponding Theil index value: 0.0997\n"
     ]
    }
   ],
   "source": [
    "describe_metrics(log_val_metrics, thresh_arr)"
   ]
  },
  {
   "cell_type": "code",
   "execution_count": 69,
   "id": "9371df75",
   "metadata": {},
   "outputs": [
    {
     "data": {
      "image/png": "[encoded data removed]",
      "text/plain": [
       "<Figure size 1000x700 with 2 Axes>"
      ]
     },
     "metadata": {},
     "output_type": "display_data"
    }
   ],
   "source": [
    "# Plotting Disparate Impact for Logistic Regression after Reweighting\n",
    "\n",
    "disp_imp = np.array(log_val_metrics['disp_imp'])\n",
    "disp_imp_err = 1 - np.minimum(disp_imp, 1/disp_imp)\n",
    "plot(thresh_arr, 'Classification Thresholds',\n",
    "     log_val_metrics['bal_acc'], 'Balanced Accuracy',\n",
    "     disp_imp_err, '1 - min(DI, 1/DI)')"
   ]
  },
  {
   "cell_type": "code",
   "execution_count": 70,
   "id": "1fe5a33b",
   "metadata": {},
   "outputs": [
    {
     "data": {
      "image/png": "[encoded data removed]",
      "text/plain": [
       "<Figure size 1000x700 with 2 Axes>"
      ]
     },
     "metadata": {},
     "output_type": "display_data"
    }
   ],
   "source": [
    "# Plotting Avg Odds Diff. for Logistic Regression after Reweighting\n",
    "\n",
    "plot(thresh_arr, 'Classification Thresholds',\n",
    "     log_val_metrics['bal_acc'], 'Balanced Accuracy',\n",
    "     log_val_metrics['avg_odds_diff'], 'avg. odds diff.')"
   ]
  },
  {
   "cell_type": "markdown",
   "id": "f8a8b65b",
   "metadata": {
    "jp-MarkdownHeadingCollapsed": true
   },
   "source": [
    "#### Random Forests"
   ]
  },
  {
   "cell_type": "code",
   "execution_count": 71,
   "id": "93932436",
   "metadata": {},
   "outputs": [],
   "source": [
    "fit_params = {'randomforestclassifier__sample_weight': dataset_rw_X_train.instance_weights}"
   ]
  },
  {
   "cell_type": "code",
   "execution_count": 72,
   "id": "9176299c",
   "metadata": {},
   "outputs": [
    {
     "data": {
      "text/html": [
       "<style>#sk-container-id-9 {color: black;background-color: white;}#sk-container-id-9 pre{padding: 0;}#sk-container-id-9 div.sk-toggleable {background-color: white;}#sk-container-id-9 label.sk-toggleable__label {cursor: pointer;display: block;width: 100%;margin-bottom: 0;padding: 0.3em;box-sizing: border-box;text-align: center;}#sk-container-id-9 label.sk-toggleable__label-arrow:before {content: \"▸\";float: left;margin-right: 0.25em;color: #696969;}#sk-container-id-9 label.sk-toggleable__label-arrow:hover:before {color: black;}#sk-container-id-9 div.sk-estimator:hover label.sk-toggleable__label-arrow:before {color: black;}#sk-container-id-9 div.sk-toggleable__content {max-height: 0;max-width: 0;overflow: hidden;text-align: left;background-color: #f0f8ff;}#sk-container-id-9 div.sk-toggleable__content pre {margin: 0.2em;color: black;border-radius: 0.25em;background-color: #f0f8ff;}#sk-container-id-9 input.sk-toggleable__control:checked~div.sk-toggleable__content {max-height: 200px;max-width: 100%;overflow: auto;}#sk-container-id-9 input.sk-toggleable__control:checked~label.sk-toggleable__label-arrow:before {content: \"▾\";}#sk-container-id-9 div.sk-estimator input.sk-toggleable__control:checked~label.sk-toggleable__label {background-color: #d4ebff;}#sk-container-id-9 div.sk-label input.sk-toggleable__control:checked~label.sk-toggleable__label {background-color: #d4ebff;}#sk-container-id-9 input.sk-hidden--visually {border: 0;clip: rect(1px 1px 1px 1px);clip: rect(1px, 1px, 1px, 1px);height: 1px;margin: -1px;overflow: hidden;padding: 0;position: absolute;width: 1px;}#sk-container-id-9 div.sk-estimator {font-family: monospace;background-color: #f0f8ff;border: 1px dotted black;border-radius: 0.25em;box-sizing: border-box;margin-bottom: 0.5em;}#sk-container-id-9 div.sk-estimator:hover {background-color: #d4ebff;}#sk-container-id-9 div.sk-parallel-item::after {content: \"\";width: 100%;border-bottom: 1px solid gray;flex-grow: 1;}#sk-container-id-9 div.sk-label:hover label.sk-toggleable__label {background-color: #d4ebff;}#sk-container-id-9 div.sk-serial::before {content: \"\";position: absolute;border-left: 1px solid gray;box-sizing: border-box;top: 0;bottom: 0;left: 50%;z-index: 0;}#sk-container-id-9 div.sk-serial {display: flex;flex-direction: column;align-items: center;background-color: white;padding-right: 0.2em;padding-left: 0.2em;position: relative;}#sk-container-id-9 div.sk-item {position: relative;z-index: 1;}#sk-container-id-9 div.sk-parallel {display: flex;align-items: stretch;justify-content: center;background-color: white;position: relative;}#sk-container-id-9 div.sk-item::before, #sk-container-id-9 div.sk-parallel-item::before {content: \"\";position: absolute;border-left: 1px solid gray;box-sizing: border-box;top: 0;bottom: 0;left: 50%;z-index: -1;}#sk-container-id-9 div.sk-parallel-item {display: flex;flex-direction: column;z-index: 1;position: relative;background-color: white;}#sk-container-id-9 div.sk-parallel-item:first-child::after {align-self: flex-end;width: 50%;}#sk-container-id-9 div.sk-parallel-item:last-child::after {align-self: flex-start;width: 50%;}#sk-container-id-9 div.sk-parallel-item:only-child::after {width: 0;}#sk-container-id-9 div.sk-dashed-wrapped {border: 1px dashed gray;margin: 0 0.4em 0.5em 0.4em;box-sizing: border-box;padding-bottom: 0.4em;background-color: white;}#sk-container-id-9 div.sk-label label {font-family: monospace;font-weight: bold;display: inline-block;line-height: 1.2em;}#sk-container-id-9 div.sk-label-container {text-align: center;}#sk-container-id-9 div.sk-container {/* jupyter's `normalize.less` sets `[hidden] { display: none; }` but bootstrap.min.css set `[hidden] { display: none !important; }` so we also need the `!important` here to be able to override the default hidden behavior on the sphinx rendered scikit-learn.org. See: https://github.com/scikit-learn/scikit-learn/issues/21755 */display: inline-block !important;position: relative;}#sk-container-id-9 div.sk-text-repr-fallback {display: none;}</style><div id=\"sk-container-id-9\" class=\"sk-top-container\"><div class=\"sk-text-repr-fallback\"><pre>GridSearchCV(estimator=RandomForestClassifier(class_weight=&#x27;balanced&#x27;),\n",
       "             param_grid={&#x27;max_depth&#x27;: [20, 40, 60, 80, 100, None],\n",
       "                         &#x27;max_features&#x27;: [&#x27;sqrt&#x27;, &#x27;log2&#x27;]})</pre><b>In a Jupyter environment, please rerun this cell to show the HTML representation or trust the notebook. <br />On GitHub, the HTML representation is unable to render, please try loading this page with nbviewer.org.</b></div><div class=\"sk-container\" hidden><div class=\"sk-item sk-dashed-wrapped\"><div class=\"sk-label-container\"><div class=\"sk-label sk-toggleable\"><input class=\"sk-toggleable__control sk-hidden--visually\" id=\"sk-estimator-id-15\" type=\"checkbox\" ><label for=\"sk-estimator-id-15\" class=\"sk-toggleable__label sk-toggleable__label-arrow\">GridSearchCV</label><div class=\"sk-toggleable__content\"><pre>GridSearchCV(estimator=RandomForestClassifier(class_weight=&#x27;balanced&#x27;),\n",
       "             param_grid={&#x27;max_depth&#x27;: [20, 40, 60, 80, 100, None],\n",
       "                         &#x27;max_features&#x27;: [&#x27;sqrt&#x27;, &#x27;log2&#x27;]})</pre></div></div></div><div class=\"sk-parallel\"><div class=\"sk-parallel-item\"><div class=\"sk-item\"><div class=\"sk-label-container\"><div class=\"sk-label sk-toggleable\"><input class=\"sk-toggleable__control sk-hidden--visually\" id=\"sk-estimator-id-16\" type=\"checkbox\" ><label for=\"sk-estimator-id-16\" class=\"sk-toggleable__label sk-toggleable__label-arrow\">estimator: RandomForestClassifier</label><div class=\"sk-toggleable__content\"><pre>RandomForestClassifier(class_weight=&#x27;balanced&#x27;)</pre></div></div></div><div class=\"sk-serial\"><div class=\"sk-item\"><div class=\"sk-estimator sk-toggleable\"><input class=\"sk-toggleable__control sk-hidden--visually\" id=\"sk-estimator-id-17\" type=\"checkbox\" ><label for=\"sk-estimator-id-17\" class=\"sk-toggleable__label sk-toggleable__label-arrow\">RandomForestClassifier</label><div class=\"sk-toggleable__content\"><pre>RandomForestClassifier(class_weight=&#x27;balanced&#x27;)</pre></div></div></div></div></div></div></div></div></div></div>"
      ],
      "text/plain": [
       "GridSearchCV(estimator=RandomForestClassifier(class_weight='balanced'),\n",
       "             param_grid={'max_depth': [20, 40, 60, 80, 100, None],\n",
       "                         'max_features': ['sqrt', 'log2']})"
      ]
     },
     "execution_count": 72,
     "metadata": {},
     "output_type": "execute_result"
    }
   ],
   "source": [
    "# Training Random Forest\n",
    "rf_params = {'max_depth': [20, 40, 60, 80, 100, None], 'max_features': ['sqrt', 'log2']}\n",
    "rf_clf = GridSearchCV(RandomForestClassifier(class_weight = 'balanced'), rf_params, refit=True)\n",
    "\n",
    "rf_clf.fit(dataset_rw_X_train.features, dataset_rw_X_train.labels.ravel())"
   ]
  },
  {
   "cell_type": "code",
   "execution_count": 73,
   "id": "5d6b180c",
   "metadata": {},
   "outputs": [],
   "source": [
    "rf_clf_b = make_pipeline(StandardScaler(), rf_clf.best_estimator_)"
   ]
  },
  {
   "cell_type": "code",
   "execution_count": 74,
   "id": "3de4b6c9",
   "metadata": {},
   "outputs": [
    {
     "data": {
      "text/html": [
       "<style>#sk-container-id-10 {color: black;background-color: white;}#sk-container-id-10 pre{padding: 0;}#sk-container-id-10 div.sk-toggleable {background-color: white;}#sk-container-id-10 label.sk-toggleable__label {cursor: pointer;display: block;width: 100%;margin-bottom: 0;padding: 0.3em;box-sizing: border-box;text-align: center;}#sk-container-id-10 label.sk-toggleable__label-arrow:before {content: \"▸\";float: left;margin-right: 0.25em;color: #696969;}#sk-container-id-10 label.sk-toggleable__label-arrow:hover:before {color: black;}#sk-container-id-10 div.sk-estimator:hover label.sk-toggleable__label-arrow:before {color: black;}#sk-container-id-10 div.sk-toggleable__content {max-height: 0;max-width: 0;overflow: hidden;text-align: left;background-color: #f0f8ff;}#sk-container-id-10 div.sk-toggleable__content pre {margin: 0.2em;color: black;border-radius: 0.25em;background-color: #f0f8ff;}#sk-container-id-10 input.sk-toggleable__control:checked~div.sk-toggleable__content {max-height: 200px;max-width: 100%;overflow: auto;}#sk-container-id-10 input.sk-toggleable__control:checked~label.sk-toggleable__label-arrow:before {content: \"▾\";}#sk-container-id-10 div.sk-estimator input.sk-toggleable__control:checked~label.sk-toggleable__label {background-color: #d4ebff;}#sk-container-id-10 div.sk-label input.sk-toggleable__control:checked~label.sk-toggleable__label {background-color: #d4ebff;}#sk-container-id-10 input.sk-hidden--visually {border: 0;clip: rect(1px 1px 1px 1px);clip: rect(1px, 1px, 1px, 1px);height: 1px;margin: -1px;overflow: hidden;padding: 0;position: absolute;width: 1px;}#sk-container-id-10 div.sk-estimator {font-family: monospace;background-color: #f0f8ff;border: 1px dotted black;border-radius: 0.25em;box-sizing: border-box;margin-bottom: 0.5em;}#sk-container-id-10 div.sk-estimator:hover {background-color: #d4ebff;}#sk-container-id-10 div.sk-parallel-item::after {content: \"\";width: 100%;border-bottom: 1px solid gray;flex-grow: 1;}#sk-container-id-10 div.sk-label:hover label.sk-toggleable__label {background-color: #d4ebff;}#sk-container-id-10 div.sk-serial::before {content: \"\";position: absolute;border-left: 1px solid gray;box-sizing: border-box;top: 0;bottom: 0;left: 50%;z-index: 0;}#sk-container-id-10 div.sk-serial {display: flex;flex-direction: column;align-items: center;background-color: white;padding-right: 0.2em;padding-left: 0.2em;position: relative;}#sk-container-id-10 div.sk-item {position: relative;z-index: 1;}#sk-container-id-10 div.sk-parallel {display: flex;align-items: stretch;justify-content: center;background-color: white;position: relative;}#sk-container-id-10 div.sk-item::before, #sk-container-id-10 div.sk-parallel-item::before {content: \"\";position: absolute;border-left: 1px solid gray;box-sizing: border-box;top: 0;bottom: 0;left: 50%;z-index: -1;}#sk-container-id-10 div.sk-parallel-item {display: flex;flex-direction: column;z-index: 1;position: relative;background-color: white;}#sk-container-id-10 div.sk-parallel-item:first-child::after {align-self: flex-end;width: 50%;}#sk-container-id-10 div.sk-parallel-item:last-child::after {align-self: flex-start;width: 50%;}#sk-container-id-10 div.sk-parallel-item:only-child::after {width: 0;}#sk-container-id-10 div.sk-dashed-wrapped {border: 1px dashed gray;margin: 0 0.4em 0.5em 0.4em;box-sizing: border-box;padding-bottom: 0.4em;background-color: white;}#sk-container-id-10 div.sk-label label {font-family: monospace;font-weight: bold;display: inline-block;line-height: 1.2em;}#sk-container-id-10 div.sk-label-container {text-align: center;}#sk-container-id-10 div.sk-container {/* jupyter's `normalize.less` sets `[hidden] { display: none; }` but bootstrap.min.css set `[hidden] { display: none !important; }` so we also need the `!important` here to be able to override the default hidden behavior on the sphinx rendered scikit-learn.org. See: https://github.com/scikit-learn/scikit-learn/issues/21755 */display: inline-block !important;position: relative;}#sk-container-id-10 div.sk-text-repr-fallback {display: none;}</style><div id=\"sk-container-id-10\" class=\"sk-top-container\"><div class=\"sk-text-repr-fallback\"><pre>Pipeline(steps=[(&#x27;standardscaler&#x27;, StandardScaler()),\n",
       "                (&#x27;randomforestclassifier&#x27;,\n",
       "                 RandomForestClassifier(class_weight=&#x27;balanced&#x27;,\n",
       "                                        max_depth=20))])</pre><b>In a Jupyter environment, please rerun this cell to show the HTML representation or trust the notebook. <br />On GitHub, the HTML representation is unable to render, please try loading this page with nbviewer.org.</b></div><div class=\"sk-container\" hidden><div class=\"sk-item sk-dashed-wrapped\"><div class=\"sk-label-container\"><div class=\"sk-label sk-toggleable\"><input class=\"sk-toggleable__control sk-hidden--visually\" id=\"sk-estimator-id-18\" type=\"checkbox\" ><label for=\"sk-estimator-id-18\" class=\"sk-toggleable__label sk-toggleable__label-arrow\">Pipeline</label><div class=\"sk-toggleable__content\"><pre>Pipeline(steps=[(&#x27;standardscaler&#x27;, StandardScaler()),\n",
       "                (&#x27;randomforestclassifier&#x27;,\n",
       "                 RandomForestClassifier(class_weight=&#x27;balanced&#x27;,\n",
       "                                        max_depth=20))])</pre></div></div></div><div class=\"sk-serial\"><div class=\"sk-item\"><div class=\"sk-estimator sk-toggleable\"><input class=\"sk-toggleable__control sk-hidden--visually\" id=\"sk-estimator-id-19\" type=\"checkbox\" ><label for=\"sk-estimator-id-19\" class=\"sk-toggleable__label sk-toggleable__label-arrow\">StandardScaler</label><div class=\"sk-toggleable__content\"><pre>StandardScaler()</pre></div></div></div><div class=\"sk-item\"><div class=\"sk-estimator sk-toggleable\"><input class=\"sk-toggleable__control sk-hidden--visually\" id=\"sk-estimator-id-20\" type=\"checkbox\" ><label for=\"sk-estimator-id-20\" class=\"sk-toggleable__label sk-toggleable__label-arrow\">RandomForestClassifier</label><div class=\"sk-toggleable__content\"><pre>RandomForestClassifier(class_weight=&#x27;balanced&#x27;, max_depth=20)</pre></div></div></div></div></div></div></div>"
      ],
      "text/plain": [
       "Pipeline(steps=[('standardscaler', StandardScaler()),\n",
       "                ('randomforestclassifier',\n",
       "                 RandomForestClassifier(class_weight='balanced',\n",
       "                                        max_depth=20))])"
      ]
     },
     "execution_count": 74,
     "metadata": {},
     "output_type": "execute_result"
    }
   ],
   "source": [
    "rf_clf_b.fit(dev_dataset_X_train.features, dev_dataset_X_train.labels.ravel(), **fit_params)"
   ]
  },
  {
   "cell_type": "code",
   "execution_count": 75,
   "id": "c8e315c9",
   "metadata": {},
   "outputs": [],
   "source": [
    "# validation metric summary\n",
    "dataset_rw_X_val = RW.fit_transform(dataset_X_val)\n",
    "thresh_arr = np.linspace(0.01, 0.5, 50)\n",
    "rf_val_metrics = test(dataset=dataset_rw_X_val,\n",
    "                   model=rf_clf_b,\n",
    "                   thresh_arr=thresh_arr)\n",
    "rf_org_best_ind = np.argmax(rf_val_metrics['bal_acc'])"
   ]
  },
  {
   "cell_type": "code",
   "execution_count": 76,
   "id": "5144a3a9",
   "metadata": {},
   "outputs": [
    {
     "name": "stdout",
     "output_type": "stream",
     "text": [
      "Threshold corresponding to Best balanced accuracy: 0.3300\n",
      "Best balanced accuracy: 0.9159\n",
      "Corresponding 1-min(DI, 1/DI) value: 0.4259\n",
      "Corresponding average odds difference value: -0.0528\n",
      "Corresponding statistical parity difference value: -0.1081\n",
      "Corresponding equal opportunity difference value: -0.0420\n",
      "Corresponding Theil index value: 0.0363\n"
     ]
    }
   ],
   "source": [
    "describe_metrics(rf_val_metrics, thresh_arr)"
   ]
  },
  {
   "cell_type": "code",
   "execution_count": 77,
   "id": "76f3a666",
   "metadata": {},
   "outputs": [],
   "source": [
    "# test metric summary\n",
    "dataset_rw_X_test = RW.fit_transform(dataset_X_test)\n",
    "thresh_arr = np.linspace(0.01, 0.5, 50)\n",
    "rf_test_metrics = test(dataset=dataset_rw_X_test,\n",
    "                   model=rf_clf_b,\n",
    "                   thresh_arr=thresh_arr)"
   ]
  },
  {
   "cell_type": "code",
   "execution_count": 78,
   "id": "c47740d0",
   "metadata": {},
   "outputs": [
    {
     "name": "stdout",
     "output_type": "stream",
     "text": [
      "Threshold corresponding to Best balanced accuracy: 0.3300\n",
      "Best balanced accuracy: 0.9164\n",
      "Corresponding 1-min(DI, 1/DI) value: 0.4606\n",
      "Corresponding average odds difference value: -0.0619\n",
      "Corresponding statistical parity difference value: -0.1189\n",
      "Corresponding equal opportunity difference value: -0.0462\n",
      "Corresponding Theil index value: 0.0356\n"
     ]
    }
   ],
   "source": [
    "describe_metrics(rf_test_metrics, thresh_arr)"
   ]
  },
  {
   "cell_type": "code",
   "execution_count": 79,
   "id": "776aa781",
   "metadata": {},
   "outputs": [
    {
     "data": {
      "image/png": "[encoded data removed]",
      "text/plain": [
       "<Figure size 1000x700 with 2 Axes>"
      ]
     },
     "metadata": {},
     "output_type": "display_data"
    }
   ],
   "source": [
    "# Plotting Disparate Impact for Random Forest after Reweighting\n",
    "\n",
    "disp_imp = np.array(rf_val_metrics['disp_imp'])\n",
    "disp_imp_err = 1 - np.minimum(disp_imp, 1/disp_imp)\n",
    "plot(thresh_arr, 'Classification Thresholds',\n",
    "     rf_val_metrics['bal_acc'], 'Balanced Accuracy',\n",
    "     disp_imp_err, '1 - min(DI, 1/DI)')"
   ]
  },
  {
   "cell_type": "code",
   "execution_count": 80,
   "id": "7bdc5bd1",
   "metadata": {},
   "outputs": [
    {
     "data": {
      "image/png": "[encoded data removed]",
      "text/plain": [
       "<Figure size 1000x700 with 2 Axes>"
      ]
     },
     "metadata": {},
     "output_type": "display_data"
    }
   ],
   "source": [
    "# Plotting Avg. Odds Diff. for Random Forest after Reweighting\n",
    "\n",
    "plot(thresh_arr, 'Classification Thresholds',\n",
    "     rf_val_metrics['bal_acc'], 'Balanced Accuracy',\n",
    "     rf_val_metrics['avg_odds_diff'], 'avg. odds diff.')"
   ]
  },
  {
   "cell_type": "markdown",
   "id": "3ef02709",
   "metadata": {
    "jp-MarkdownHeadingCollapsed": true
   },
   "source": [
    "### [5B.](#Table-of-Contents) Prejudice Remover (in-processing bias mitigation) -  AIF360 Example\n"
   ]
  },
  {
   "cell_type": "code",
   "execution_count": 81,
   "id": "bb04d976",
   "metadata": {},
   "outputs": [],
   "source": [
    "# designate sensitive attributes\n",
    "sens_attr = dataset_X_train.protected_attribute_names[0]"
   ]
  },
  {
   "cell_type": "code",
   "execution_count": 82,
   "id": "bc3169c7",
   "metadata": {},
   "outputs": [],
   "source": [
    "# Prejudice remover model w/ standard scaler\n",
    "model = PrejudiceRemover(sensitive_attr=sens_attr, eta=25.0)\n",
    "pr_orig_scaler = StandardScaler()"
   ]
  },
  {
   "cell_type": "code",
   "execution_count": 83,
   "id": "14ed0030",
   "metadata": {},
   "outputs": [],
   "source": [
    "# fit model to standard scaled data\n",
    "dataset_pr = dataset_X_train.copy()\n",
    "dataset_pr.features = pr_orig_scaler.fit_transform(dataset_pr.features)\n",
    "pr_model = model.fit(dataset_pr)"
   ]
  },
  {
   "cell_type": "code",
   "execution_count": 84,
   "id": "548c2c42",
   "metadata": {},
   "outputs": [],
   "source": [
    "# adjust validation set\n",
    "dataset_pr_val = dataset_X_val.copy()\n",
    "dataset_pr_val.features = pr_orig_scaler.transform(dataset_pr_val.features)"
   ]
  },
  {
   "cell_type": "code",
   "execution_count": 85,
   "id": "10aef65e",
   "metadata": {},
   "outputs": [
    {
     "name": "stdout",
     "output_type": "stream",
     "text": [
      "Threshold corresponding to Best balanced accuracy: 0.1700\n",
      "Best balanced accuracy: 0.6930\n",
      "Corresponding 1-min(DI, 1/DI) value: 0.1922\n",
      "Corresponding average odds difference value: 0.0277\n",
      "Corresponding statistical parity difference value: -0.0660\n",
      "Corresponding equal opportunity difference value: 0.0959\n",
      "Corresponding Theil index value: 0.1246\n"
     ]
    }
   ],
   "source": [
    "# validation metric summary\n",
    "thresh_arr = np.linspace(0.01, 0.50, 50)\n",
    "val_metrics = test(dataset=dataset_pr_val,\n",
    "                   model=pr_model,\n",
    "                   thresh_arr=thresh_arr)\n",
    "describe_metrics(val_metrics, thresh_arr)"
   ]
  },
  {
   "cell_type": "code",
   "execution_count": 86,
   "id": "07a73795",
   "metadata": {},
   "outputs": [],
   "source": [
    "# adjust test set\n",
    "dataset_pr_test = dataset_X_test.copy()\n",
    "dataset_pr_test.features = pr_orig_scaler.transform(dataset_pr_test.features)"
   ]
  },
  {
   "cell_type": "code",
   "execution_count": 87,
   "id": "59b625e3",
   "metadata": {},
   "outputs": [
    {
     "name": "stdout",
     "output_type": "stream",
     "text": [
      "Threshold corresponding to Best balanced accuracy: 0.1200\n",
      "Best balanced accuracy: 0.6899\n",
      "Corresponding 1-min(DI, 1/DI) value: 0.1058\n",
      "Corresponding average odds difference value: 0.0471\n",
      "Corresponding statistical parity difference value: -0.0463\n",
      "Corresponding equal opportunity difference value: 0.1172\n",
      "Corresponding Theil index value: 0.1105\n"
     ]
    }
   ],
   "source": [
    "# test metric summary\n",
    "thresh_arr = np.linspace(0.01, 0.50, 50)\n",
    "val_metrics = test(dataset=dataset_pr_test,\n",
    "                   model=pr_model,\n",
    "                   thresh_arr=thresh_arr)\n",
    "describe_metrics(val_metrics, thresh_arr)"
   ]
  },
  {
   "cell_type": "markdown",
   "id": "c14cc2f9",
   "metadata": {},
   "source": [
    "### [5C.](#Table-of-Contents) Bias mitigation using a technique of your own\n"
   ]
  },
  {
   "cell_type": "code",
   "execution_count": 88,
   "id": "e8ffb236-b8db-49fa-9497-a001814fbf0e",
   "metadata": {},
   "outputs": [],
   "source": [
    "from aif360.algorithms.preprocessing import DisparateImpactRemover"
   ]
  },
  {
   "cell_type": "code",
   "execution_count": 89,
   "id": "6ac98f02-1d96-4ff5-b833-c0dc6a70ad1c",
   "metadata": {},
   "outputs": [],
   "source": [
    "privileged_groups = [{'RACE': 1}]\n",
    "unprivileged_groups = [{'RACE': 0, 'AGEBins': 7, 'AGEBins': 8}]"
   ]
  },
  {
   "cell_type": "code",
   "execution_count": 90,
   "id": "cafb188b-06f9-4427-84d0-f819573b5c4d",
   "metadata": {},
   "outputs": [],
   "source": [
    "DIR = DisparateImpactRemover(repair_level=0.7, sensitive_attribute = 'RACE')\n",
    "dataset_DIR_X_train = DIR.fit_transform(dataset_X_train)"
   ]
  },
  {
   "cell_type": "markdown",
   "id": "8e2d1dd3-5823-42d6-8e4b-e063aa28440a",
   "metadata": {},
   "source": [
    "#### Logistic Regression"
   ]
  },
  {
   "cell_type": "code",
   "execution_count": 91,
   "id": "6c0f1353-925c-42f8-bf4e-0acae511a3d8",
   "metadata": {},
   "outputs": [],
   "source": [
    "fit_params = {'logisticregression__sample_weight': dataset_DIR_X_train.instance_weights}"
   ]
  },
  {
   "cell_type": "code",
   "execution_count": 92,
   "id": "17da19be-e19c-41ef-88cf-9c80c1ae7252",
   "metadata": {},
   "outputs": [
    {
     "data": {
      "text/html": [
       "<style>#sk-container-id-11 {color: black;background-color: white;}#sk-container-id-11 pre{padding: 0;}#sk-container-id-11 div.sk-toggleable {background-color: white;}#sk-container-id-11 label.sk-toggleable__label {cursor: pointer;display: block;width: 100%;margin-bottom: 0;padding: 0.3em;box-sizing: border-box;text-align: center;}#sk-container-id-11 label.sk-toggleable__label-arrow:before {content: \"▸\";float: left;margin-right: 0.25em;color: #696969;}#sk-container-id-11 label.sk-toggleable__label-arrow:hover:before {color: black;}#sk-container-id-11 div.sk-estimator:hover label.sk-toggleable__label-arrow:before {color: black;}#sk-container-id-11 div.sk-toggleable__content {max-height: 0;max-width: 0;overflow: hidden;text-align: left;background-color: #f0f8ff;}#sk-container-id-11 div.sk-toggleable__content pre {margin: 0.2em;color: black;border-radius: 0.25em;background-color: #f0f8ff;}#sk-container-id-11 input.sk-toggleable__control:checked~div.sk-toggleable__content {max-height: 200px;max-width: 100%;overflow: auto;}#sk-container-id-11 input.sk-toggleable__control:checked~label.sk-toggleable__label-arrow:before {content: \"▾\";}#sk-container-id-11 div.sk-estimator input.sk-toggleable__control:checked~label.sk-toggleable__label {background-color: #d4ebff;}#sk-container-id-11 div.sk-label input.sk-toggleable__control:checked~label.sk-toggleable__label {background-color: #d4ebff;}#sk-container-id-11 input.sk-hidden--visually {border: 0;clip: rect(1px 1px 1px 1px);clip: rect(1px, 1px, 1px, 1px);height: 1px;margin: -1px;overflow: hidden;padding: 0;position: absolute;width: 1px;}#sk-container-id-11 div.sk-estimator {font-family: monospace;background-color: #f0f8ff;border: 1px dotted black;border-radius: 0.25em;box-sizing: border-box;margin-bottom: 0.5em;}#sk-container-id-11 div.sk-estimator:hover {background-color: #d4ebff;}#sk-container-id-11 div.sk-parallel-item::after {content: \"\";width: 100%;border-bottom: 1px solid gray;flex-grow: 1;}#sk-container-id-11 div.sk-label:hover label.sk-toggleable__label {background-color: #d4ebff;}#sk-container-id-11 div.sk-serial::before {content: \"\";position: absolute;border-left: 1px solid gray;box-sizing: border-box;top: 0;bottom: 0;left: 50%;z-index: 0;}#sk-container-id-11 div.sk-serial {display: flex;flex-direction: column;align-items: center;background-color: white;padding-right: 0.2em;padding-left: 0.2em;position: relative;}#sk-container-id-11 div.sk-item {position: relative;z-index: 1;}#sk-container-id-11 div.sk-parallel {display: flex;align-items: stretch;justify-content: center;background-color: white;position: relative;}#sk-container-id-11 div.sk-item::before, #sk-container-id-11 div.sk-parallel-item::before {content: \"\";position: absolute;border-left: 1px solid gray;box-sizing: border-box;top: 0;bottom: 0;left: 50%;z-index: -1;}#sk-container-id-11 div.sk-parallel-item {display: flex;flex-direction: column;z-index: 1;position: relative;background-color: white;}#sk-container-id-11 div.sk-parallel-item:first-child::after {align-self: flex-end;width: 50%;}#sk-container-id-11 div.sk-parallel-item:last-child::after {align-self: flex-start;width: 50%;}#sk-container-id-11 div.sk-parallel-item:only-child::after {width: 0;}#sk-container-id-11 div.sk-dashed-wrapped {border: 1px dashed gray;margin: 0 0.4em 0.5em 0.4em;box-sizing: border-box;padding-bottom: 0.4em;background-color: white;}#sk-container-id-11 div.sk-label label {font-family: monospace;font-weight: bold;display: inline-block;line-height: 1.2em;}#sk-container-id-11 div.sk-label-container {text-align: center;}#sk-container-id-11 div.sk-container {/* jupyter's `normalize.less` sets `[hidden] { display: none; }` but bootstrap.min.css set `[hidden] { display: none !important; }` so we also need the `!important` here to be able to override the default hidden behavior on the sphinx rendered scikit-learn.org. See: https://github.com/scikit-learn/scikit-learn/issues/21755 */display: inline-block !important;position: relative;}#sk-container-id-11 div.sk-text-repr-fallback {display: none;}</style><div id=\"sk-container-id-11\" class=\"sk-top-container\"><div class=\"sk-text-repr-fallback\"><pre>LogisticRegression(C=0.1, penalty=&#x27;l1&#x27;, random_state=1, solver=&#x27;liblinear&#x27;)</pre><b>In a Jupyter environment, please rerun this cell to show the HTML representation or trust the notebook. <br />On GitHub, the HTML representation is unable to render, please try loading this page with nbviewer.org.</b></div><div class=\"sk-container\" hidden><div class=\"sk-item\"><div class=\"sk-estimator sk-toggleable\"><input class=\"sk-toggleable__control sk-hidden--visually\" id=\"sk-estimator-id-21\" type=\"checkbox\" checked><label for=\"sk-estimator-id-21\" class=\"sk-toggleable__label sk-toggleable__label-arrow\">LogisticRegression</label><div class=\"sk-toggleable__content\"><pre>LogisticRegression(C=0.1, penalty=&#x27;l1&#x27;, random_state=1, solver=&#x27;liblinear&#x27;)</pre></div></div></div></div></div>"
      ],
      "text/plain": [
       "LogisticRegression(C=0.1, penalty='l1', random_state=1, solver='liblinear')"
      ]
     },
     "execution_count": 92,
     "metadata": {},
     "output_type": "execute_result"
    }
   ],
   "source": [
    "# hyper parameter tuning\n",
    "params = {'penalty': ['l1','l2'], 'C': [0.001, 0.01, 0.1, 1, 10, 100, 1000]}\n",
    "clf = GridSearchCV(LogisticRegression(solver = 'liblinear', random_state=1), params, refit=True)\n",
    "clf = clf.fit(dataset_DIR_X_train.features, dataset_DIR_X_train.labels.ravel())\n",
    "clf.best_estimator_"
   ]
  },
  {
   "cell_type": "code",
   "execution_count": 93,
   "id": "e4b9db19-8324-48df-b134-3302e7e0cc82",
   "metadata": {},
   "outputs": [
    {
     "data": {
      "text/html": [
       "<style>#sk-container-id-12 {color: black;background-color: white;}#sk-container-id-12 pre{padding: 0;}#sk-container-id-12 div.sk-toggleable {background-color: white;}#sk-container-id-12 label.sk-toggleable__label {cursor: pointer;display: block;width: 100%;margin-bottom: 0;padding: 0.3em;box-sizing: border-box;text-align: center;}#sk-container-id-12 label.sk-toggleable__label-arrow:before {content: \"▸\";float: left;margin-right: 0.25em;color: #696969;}#sk-container-id-12 label.sk-toggleable__label-arrow:hover:before {color: black;}#sk-container-id-12 div.sk-estimator:hover label.sk-toggleable__label-arrow:before {color: black;}#sk-container-id-12 div.sk-toggleable__content {max-height: 0;max-width: 0;overflow: hidden;text-align: left;background-color: #f0f8ff;}#sk-container-id-12 div.sk-toggleable__content pre {margin: 0.2em;color: black;border-radius: 0.25em;background-color: #f0f8ff;}#sk-container-id-12 input.sk-toggleable__control:checked~div.sk-toggleable__content {max-height: 200px;max-width: 100%;overflow: auto;}#sk-container-id-12 input.sk-toggleable__control:checked~label.sk-toggleable__label-arrow:before {content: \"▾\";}#sk-container-id-12 div.sk-estimator input.sk-toggleable__control:checked~label.sk-toggleable__label {background-color: #d4ebff;}#sk-container-id-12 div.sk-label input.sk-toggleable__control:checked~label.sk-toggleable__label {background-color: #d4ebff;}#sk-container-id-12 input.sk-hidden--visually {border: 0;clip: rect(1px 1px 1px 1px);clip: rect(1px, 1px, 1px, 1px);height: 1px;margin: -1px;overflow: hidden;padding: 0;position: absolute;width: 1px;}#sk-container-id-12 div.sk-estimator {font-family: monospace;background-color: #f0f8ff;border: 1px dotted black;border-radius: 0.25em;box-sizing: border-box;margin-bottom: 0.5em;}#sk-container-id-12 div.sk-estimator:hover {background-color: #d4ebff;}#sk-container-id-12 div.sk-parallel-item::after {content: \"\";width: 100%;border-bottom: 1px solid gray;flex-grow: 1;}#sk-container-id-12 div.sk-label:hover label.sk-toggleable__label {background-color: #d4ebff;}#sk-container-id-12 div.sk-serial::before {content: \"\";position: absolute;border-left: 1px solid gray;box-sizing: border-box;top: 0;bottom: 0;left: 50%;z-index: 0;}#sk-container-id-12 div.sk-serial {display: flex;flex-direction: column;align-items: center;background-color: white;padding-right: 0.2em;padding-left: 0.2em;position: relative;}#sk-container-id-12 div.sk-item {position: relative;z-index: 1;}#sk-container-id-12 div.sk-parallel {display: flex;align-items: stretch;justify-content: center;background-color: white;position: relative;}#sk-container-id-12 div.sk-item::before, #sk-container-id-12 div.sk-parallel-item::before {content: \"\";position: absolute;border-left: 1px solid gray;box-sizing: border-box;top: 0;bottom: 0;left: 50%;z-index: -1;}#sk-container-id-12 div.sk-parallel-item {display: flex;flex-direction: column;z-index: 1;position: relative;background-color: white;}#sk-container-id-12 div.sk-parallel-item:first-child::after {align-self: flex-end;width: 50%;}#sk-container-id-12 div.sk-parallel-item:last-child::after {align-self: flex-start;width: 50%;}#sk-container-id-12 div.sk-parallel-item:only-child::after {width: 0;}#sk-container-id-12 div.sk-dashed-wrapped {border: 1px dashed gray;margin: 0 0.4em 0.5em 0.4em;box-sizing: border-box;padding-bottom: 0.4em;background-color: white;}#sk-container-id-12 div.sk-label label {font-family: monospace;font-weight: bold;display: inline-block;line-height: 1.2em;}#sk-container-id-12 div.sk-label-container {text-align: center;}#sk-container-id-12 div.sk-container {/* jupyter's `normalize.less` sets `[hidden] { display: none; }` but bootstrap.min.css set `[hidden] { display: none !important; }` so we also need the `!important` here to be able to override the default hidden behavior on the sphinx rendered scikit-learn.org. See: https://github.com/scikit-learn/scikit-learn/issues/21755 */display: inline-block !important;position: relative;}#sk-container-id-12 div.sk-text-repr-fallback {display: none;}</style><div id=\"sk-container-id-12\" class=\"sk-top-container\"><div class=\"sk-text-repr-fallback\"><pre>Pipeline(steps=[(&#x27;standardscaler&#x27;, StandardScaler()),\n",
       "                (&#x27;logisticregression&#x27;,\n",
       "                 LogisticRegression(C=0.1, penalty=&#x27;l1&#x27;, random_state=1,\n",
       "                                    solver=&#x27;liblinear&#x27;))])</pre><b>In a Jupyter environment, please rerun this cell to show the HTML representation or trust the notebook. <br />On GitHub, the HTML representation is unable to render, please try loading this page with nbviewer.org.</b></div><div class=\"sk-container\" hidden><div class=\"sk-item sk-dashed-wrapped\"><div class=\"sk-label-container\"><div class=\"sk-label sk-toggleable\"><input class=\"sk-toggleable__control sk-hidden--visually\" id=\"sk-estimator-id-22\" type=\"checkbox\" ><label for=\"sk-estimator-id-22\" class=\"sk-toggleable__label sk-toggleable__label-arrow\">Pipeline</label><div class=\"sk-toggleable__content\"><pre>Pipeline(steps=[(&#x27;standardscaler&#x27;, StandardScaler()),\n",
       "                (&#x27;logisticregression&#x27;,\n",
       "                 LogisticRegression(C=0.1, penalty=&#x27;l1&#x27;, random_state=1,\n",
       "                                    solver=&#x27;liblinear&#x27;))])</pre></div></div></div><div class=\"sk-serial\"><div class=\"sk-item\"><div class=\"sk-estimator sk-toggleable\"><input class=\"sk-toggleable__control sk-hidden--visually\" id=\"sk-estimator-id-23\" type=\"checkbox\" ><label for=\"sk-estimator-id-23\" class=\"sk-toggleable__label sk-toggleable__label-arrow\">StandardScaler</label><div class=\"sk-toggleable__content\"><pre>StandardScaler()</pre></div></div></div><div class=\"sk-item\"><div class=\"sk-estimator sk-toggleable\"><input class=\"sk-toggleable__control sk-hidden--visually\" id=\"sk-estimator-id-24\" type=\"checkbox\" ><label for=\"sk-estimator-id-24\" class=\"sk-toggleable__label sk-toggleable__label-arrow\">LogisticRegression</label><div class=\"sk-toggleable__content\"><pre>LogisticRegression(C=0.1, penalty=&#x27;l1&#x27;, random_state=1, solver=&#x27;liblinear&#x27;)</pre></div></div></div></div></div></div></div>"
      ],
      "text/plain": [
       "Pipeline(steps=[('standardscaler', StandardScaler()),\n",
       "                ('logisticregression',\n",
       "                 LogisticRegression(C=0.1, penalty='l1', random_state=1,\n",
       "                                    solver='liblinear'))])"
      ]
     },
     "execution_count": 93,
     "metadata": {},
     "output_type": "execute_result"
    }
   ],
   "source": [
    "# applying best estimator\n",
    "log_clf = make_pipeline(StandardScaler(), clf.best_estimator_)\n",
    "log_clf.fit(dataset_DIR_X_train.features, dataset_DIR_X_train.labels.ravel(), **fit_params)"
   ]
  },
  {
   "cell_type": "code",
   "execution_count": 94,
   "id": "fb776abb-3984-4d4b-b264-7db8f00fd50a",
   "metadata": {},
   "outputs": [],
   "source": [
    "# validation metric summary\n",
    "dataset_DIR_X_val = DIR.fit_transform(dataset_X_val)\n",
    "thresh_arr = np.linspace(0.01, 0.5, 50)\n",
    "log_val_metrics = test(dataset=dataset_DIR_X_val,\n",
    "                   model=log_clf,\n",
    "                   thresh_arr=thresh_arr)\n",
    "log_org_best_ind = np.argmax(log_val_metrics['bal_acc'])"
   ]
  },
  {
   "cell_type": "code",
   "execution_count": 95,
   "id": "b7e3f1e7-86ab-4f8e-b038-8c7f18275430",
   "metadata": {},
   "outputs": [
    {
     "name": "stdout",
     "output_type": "stream",
     "text": [
      "Threshold corresponding to Best balanced accuracy: 0.1900\n",
      "Best balanced accuracy: 0.7630\n",
      "Corresponding 1-min(DI, 1/DI) value: 0.6007\n",
      "Corresponding average odds difference value: -0.2203\n",
      "Corresponding statistical parity difference value: -0.2991\n",
      "Corresponding equal opportunity difference value: -0.1988\n",
      "Corresponding Theil index value: 0.0968\n"
     ]
    }
   ],
   "source": [
    "describe_metrics(log_val_metrics, thresh_arr)"
   ]
  },
  {
   "cell_type": "code",
   "execution_count": 96,
   "id": "4b61d7ac-2ac9-42b9-ae9c-7fbbd9869d46",
   "metadata": {},
   "outputs": [],
   "source": [
    "# test metric summary\n",
    "dataset_DIR_X_test = DIR.fit_transform(dataset_X_test)\n",
    "thresh_arr = np.linspace(0.01, 0.5, 50)\n",
    "log_test_metrics = test(dataset=dataset_DIR_X_test,\n",
    "                   model=log_clf,\n",
    "                   thresh_arr=thresh_arr)\n",
    "log_org_best_ind = np.argmax(log_val_metrics['bal_acc'])"
   ]
  },
  {
   "cell_type": "code",
   "execution_count": 97,
   "id": "66f34870-2254-44f3-b6f7-1e85c98cdd3d",
   "metadata": {},
   "outputs": [
    {
     "name": "stdout",
     "output_type": "stream",
     "text": [
      "Threshold corresponding to Best balanced accuracy: 0.1700\n",
      "Best balanced accuracy: 0.7573\n",
      "Corresponding 1-min(DI, 1/DI) value: 0.5947\n",
      "Corresponding average odds difference value: -0.2481\n",
      "Corresponding statistical parity difference value: -0.3428\n",
      "Corresponding equal opportunity difference value: -0.1922\n",
      "Corresponding Theil index value: 0.0926\n"
     ]
    }
   ],
   "source": [
    "describe_metrics(log_test_metrics, thresh_arr)"
   ]
  },
  {
   "cell_type": "code",
   "execution_count": 98,
   "id": "f0162d74-61a5-4708-ac19-44cbf9f92dc2",
   "metadata": {},
   "outputs": [],
   "source": [
    "# Plotting Disparate Impact for Logistic Regression after DisparateImpactRemover\n",
    "\n",
    "disp_imp = np.array(log_val_metrics['disp_imp'])\n",
    "disp_imp_err = 1 - np.minimum(disp_imp, 1/disp_imp)\n",
    "plot(thresh_arr, 'Classification Thresholds',\n",
    "     log_val_metrics['bal_acc'], 'Balanced Accuracy',\n",
    "     disp_imp_err, '1 - min(DI, 1/DI)')"
   ]
  },
  {
   "cell_type": "code",
   "execution_count": 99,
   "id": "de0a5d8c-1d80-4a87-9f33-bf7608749e6c",
   "metadata": {},
   "outputs": [],
   "source": [
    "# Plotting Avg Odds Diff. for Logistic Regression after DisparateImpactRemover\n",
    "\n",
    "plot(thresh_arr, 'Classification Thresholds',\n",
    "     log_val_metrics['bal_acc'], 'Balanced Accuracy',\n",
    "     log_val_metrics['avg_odds_diff'], 'avg. odds diff.')"
   ]
  },
  {
   "cell_type": "markdown",
   "id": "5cda1cc4-498d-4dc8-ade9-b304c903a999",
   "metadata": {},
   "source": [
    "#### Random Forest"
   ]
  },
  {
   "cell_type": "code",
   "execution_count": 100,
   "id": "8a431eb7-7697-42a3-9635-8a15a0985c81",
   "metadata": {},
   "outputs": [],
   "source": [
    "fit_params = {'randomforestclassifier__sample_weight': dataset_DIR_X_train.instance_weights}"
   ]
  },
  {
   "cell_type": "code",
   "execution_count": 101,
   "id": "ba69664e-95e5-466b-b10e-8dca42629640",
   "metadata": {},
   "outputs": [
    {
     "data": {
      "text/html": [
       "<style>#sk-container-id-13 {color: black;background-color: white;}#sk-container-id-13 pre{padding: 0;}#sk-container-id-13 div.sk-toggleable {background-color: white;}#sk-container-id-13 label.sk-toggleable__label {cursor: pointer;display: block;width: 100%;margin-bottom: 0;padding: 0.3em;box-sizing: border-box;text-align: center;}#sk-container-id-13 label.sk-toggleable__label-arrow:before {content: \"▸\";float: left;margin-right: 0.25em;color: #696969;}#sk-container-id-13 label.sk-toggleable__label-arrow:hover:before {color: black;}#sk-container-id-13 div.sk-estimator:hover label.sk-toggleable__label-arrow:before {color: black;}#sk-container-id-13 div.sk-toggleable__content {max-height: 0;max-width: 0;overflow: hidden;text-align: left;background-color: #f0f8ff;}#sk-container-id-13 div.sk-toggleable__content pre {margin: 0.2em;color: black;border-radius: 0.25em;background-color: #f0f8ff;}#sk-container-id-13 input.sk-toggleable__control:checked~div.sk-toggleable__content {max-height: 200px;max-width: 100%;overflow: auto;}#sk-container-id-13 input.sk-toggleable__control:checked~label.sk-toggleable__label-arrow:before {content: \"▾\";}#sk-container-id-13 div.sk-estimator input.sk-toggleable__control:checked~label.sk-toggleable__label {background-color: #d4ebff;}#sk-container-id-13 div.sk-label input.sk-toggleable__control:checked~label.sk-toggleable__label {background-color: #d4ebff;}#sk-container-id-13 input.sk-hidden--visually {border: 0;clip: rect(1px 1px 1px 1px);clip: rect(1px, 1px, 1px, 1px);height: 1px;margin: -1px;overflow: hidden;padding: 0;position: absolute;width: 1px;}#sk-container-id-13 div.sk-estimator {font-family: monospace;background-color: #f0f8ff;border: 1px dotted black;border-radius: 0.25em;box-sizing: border-box;margin-bottom: 0.5em;}#sk-container-id-13 div.sk-estimator:hover {background-color: #d4ebff;}#sk-container-id-13 div.sk-parallel-item::after {content: \"\";width: 100%;border-bottom: 1px solid gray;flex-grow: 1;}#sk-container-id-13 div.sk-label:hover label.sk-toggleable__label {background-color: #d4ebff;}#sk-container-id-13 div.sk-serial::before {content: \"\";position: absolute;border-left: 1px solid gray;box-sizing: border-box;top: 0;bottom: 0;left: 50%;z-index: 0;}#sk-container-id-13 div.sk-serial {display: flex;flex-direction: column;align-items: center;background-color: white;padding-right: 0.2em;padding-left: 0.2em;position: relative;}#sk-container-id-13 div.sk-item {position: relative;z-index: 1;}#sk-container-id-13 div.sk-parallel {display: flex;align-items: stretch;justify-content: center;background-color: white;position: relative;}#sk-container-id-13 div.sk-item::before, #sk-container-id-13 div.sk-parallel-item::before {content: \"\";position: absolute;border-left: 1px solid gray;box-sizing: border-box;top: 0;bottom: 0;left: 50%;z-index: -1;}#sk-container-id-13 div.sk-parallel-item {display: flex;flex-direction: column;z-index: 1;position: relative;background-color: white;}#sk-container-id-13 div.sk-parallel-item:first-child::after {align-self: flex-end;width: 50%;}#sk-container-id-13 div.sk-parallel-item:last-child::after {align-self: flex-start;width: 50%;}#sk-container-id-13 div.sk-parallel-item:only-child::after {width: 0;}#sk-container-id-13 div.sk-dashed-wrapped {border: 1px dashed gray;margin: 0 0.4em 0.5em 0.4em;box-sizing: border-box;padding-bottom: 0.4em;background-color: white;}#sk-container-id-13 div.sk-label label {font-family: monospace;font-weight: bold;display: inline-block;line-height: 1.2em;}#sk-container-id-13 div.sk-label-container {text-align: center;}#sk-container-id-13 div.sk-container {/* jupyter's `normalize.less` sets `[hidden] { display: none; }` but bootstrap.min.css set `[hidden] { display: none !important; }` so we also need the `!important` here to be able to override the default hidden behavior on the sphinx rendered scikit-learn.org. See: https://github.com/scikit-learn/scikit-learn/issues/21755 */display: inline-block !important;position: relative;}#sk-container-id-13 div.sk-text-repr-fallback {display: none;}</style><div id=\"sk-container-id-13\" class=\"sk-top-container\"><div class=\"sk-text-repr-fallback\"><pre>GridSearchCV(estimator=RandomForestClassifier(class_weight=&#x27;balanced&#x27;),\n",
       "             param_grid={&#x27;max_depth&#x27;: [20, 40, 60, 80, 100, None],\n",
       "                         &#x27;max_features&#x27;: [&#x27;sqrt&#x27;, &#x27;log2&#x27;]})</pre><b>In a Jupyter environment, please rerun this cell to show the HTML representation or trust the notebook. <br />On GitHub, the HTML representation is unable to render, please try loading this page with nbviewer.org.</b></div><div class=\"sk-container\" hidden><div class=\"sk-item sk-dashed-wrapped\"><div class=\"sk-label-container\"><div class=\"sk-label sk-toggleable\"><input class=\"sk-toggleable__control sk-hidden--visually\" id=\"sk-estimator-id-25\" type=\"checkbox\" ><label for=\"sk-estimator-id-25\" class=\"sk-toggleable__label sk-toggleable__label-arrow\">GridSearchCV</label><div class=\"sk-toggleable__content\"><pre>GridSearchCV(estimator=RandomForestClassifier(class_weight=&#x27;balanced&#x27;),\n",
       "             param_grid={&#x27;max_depth&#x27;: [20, 40, 60, 80, 100, None],\n",
       "                         &#x27;max_features&#x27;: [&#x27;sqrt&#x27;, &#x27;log2&#x27;]})</pre></div></div></div><div class=\"sk-parallel\"><div class=\"sk-parallel-item\"><div class=\"sk-item\"><div class=\"sk-label-container\"><div class=\"sk-label sk-toggleable\"><input class=\"sk-toggleable__control sk-hidden--visually\" id=\"sk-estimator-id-26\" type=\"checkbox\" ><label for=\"sk-estimator-id-26\" class=\"sk-toggleable__label sk-toggleable__label-arrow\">estimator: RandomForestClassifier</label><div class=\"sk-toggleable__content\"><pre>RandomForestClassifier(class_weight=&#x27;balanced&#x27;)</pre></div></div></div><div class=\"sk-serial\"><div class=\"sk-item\"><div class=\"sk-estimator sk-toggleable\"><input class=\"sk-toggleable__control sk-hidden--visually\" id=\"sk-estimator-id-27\" type=\"checkbox\" ><label for=\"sk-estimator-id-27\" class=\"sk-toggleable__label sk-toggleable__label-arrow\">RandomForestClassifier</label><div class=\"sk-toggleable__content\"><pre>RandomForestClassifier(class_weight=&#x27;balanced&#x27;)</pre></div></div></div></div></div></div></div></div></div></div>"
      ],
      "text/plain": [
       "GridSearchCV(estimator=RandomForestClassifier(class_weight='balanced'),\n",
       "             param_grid={'max_depth': [20, 40, 60, 80, 100, None],\n",
       "                         'max_features': ['sqrt', 'log2']})"
      ]
     },
     "execution_count": 101,
     "metadata": {},
     "output_type": "execute_result"
    }
   ],
   "source": [
    "# Training Random Forest\n",
    "rf_params = {'max_depth': [20, 40, 60, 80, 100, None], 'max_features': ['sqrt', 'log2']}\n",
    "rf_clf = GridSearchCV(RandomForestClassifier(class_weight = 'balanced'), rf_params, refit=True)\n",
    "\n",
    "rf_clf.fit(dataset_rw_X_train.features, dataset_rw_X_train.labels.ravel())"
   ]
  },
  {
   "cell_type": "code",
   "execution_count": 102,
   "id": "a1f7d8af-1481-42ce-a3fb-12179989f28d",
   "metadata": {},
   "outputs": [],
   "source": [
    "rf_clf_b = make_pipeline(StandardScaler(), rf_clf.best_estimator_)"
   ]
  },
  {
   "cell_type": "code",
   "execution_count": 103,
   "id": "a8c4474e-24ed-4c37-9cf8-b1ddace7fc20",
   "metadata": {},
   "outputs": [
    {
     "data": {
      "text/html": [
       "<style>#sk-container-id-14 {color: black;background-color: white;}#sk-container-id-14 pre{padding: 0;}#sk-container-id-14 div.sk-toggleable {background-color: white;}#sk-container-id-14 label.sk-toggleable__label {cursor: pointer;display: block;width: 100%;margin-bottom: 0;padding: 0.3em;box-sizing: border-box;text-align: center;}#sk-container-id-14 label.sk-toggleable__label-arrow:before {content: \"▸\";float: left;margin-right: 0.25em;color: #696969;}#sk-container-id-14 label.sk-toggleable__label-arrow:hover:before {color: black;}#sk-container-id-14 div.sk-estimator:hover label.sk-toggleable__label-arrow:before {color: black;}#sk-container-id-14 div.sk-toggleable__content {max-height: 0;max-width: 0;overflow: hidden;text-align: left;background-color: #f0f8ff;}#sk-container-id-14 div.sk-toggleable__content pre {margin: 0.2em;color: black;border-radius: 0.25em;background-color: #f0f8ff;}#sk-container-id-14 input.sk-toggleable__control:checked~div.sk-toggleable__content {max-height: 200px;max-width: 100%;overflow: auto;}#sk-container-id-14 input.sk-toggleable__control:checked~label.sk-toggleable__label-arrow:before {content: \"▾\";}#sk-container-id-14 div.sk-estimator input.sk-toggleable__control:checked~label.sk-toggleable__label {background-color: #d4ebff;}#sk-container-id-14 div.sk-label input.sk-toggleable__control:checked~label.sk-toggleable__label {background-color: #d4ebff;}#sk-container-id-14 input.sk-hidden--visually {border: 0;clip: rect(1px 1px 1px 1px);clip: rect(1px, 1px, 1px, 1px);height: 1px;margin: -1px;overflow: hidden;padding: 0;position: absolute;width: 1px;}#sk-container-id-14 div.sk-estimator {font-family: monospace;background-color: #f0f8ff;border: 1px dotted black;border-radius: 0.25em;box-sizing: border-box;margin-bottom: 0.5em;}#sk-container-id-14 div.sk-estimator:hover {background-color: #d4ebff;}#sk-container-id-14 div.sk-parallel-item::after {content: \"\";width: 100%;border-bottom: 1px solid gray;flex-grow: 1;}#sk-container-id-14 div.sk-label:hover label.sk-toggleable__label {background-color: #d4ebff;}#sk-container-id-14 div.sk-serial::before {content: \"\";position: absolute;border-left: 1px solid gray;box-sizing: border-box;top: 0;bottom: 0;left: 50%;z-index: 0;}#sk-container-id-14 div.sk-serial {display: flex;flex-direction: column;align-items: center;background-color: white;padding-right: 0.2em;padding-left: 0.2em;position: relative;}#sk-container-id-14 div.sk-item {position: relative;z-index: 1;}#sk-container-id-14 div.sk-parallel {display: flex;align-items: stretch;justify-content: center;background-color: white;position: relative;}#sk-container-id-14 div.sk-item::before, #sk-container-id-14 div.sk-parallel-item::before {content: \"\";position: absolute;border-left: 1px solid gray;box-sizing: border-box;top: 0;bottom: 0;left: 50%;z-index: -1;}#sk-container-id-14 div.sk-parallel-item {display: flex;flex-direction: column;z-index: 1;position: relative;background-color: white;}#sk-container-id-14 div.sk-parallel-item:first-child::after {align-self: flex-end;width: 50%;}#sk-container-id-14 div.sk-parallel-item:last-child::after {align-self: flex-start;width: 50%;}#sk-container-id-14 div.sk-parallel-item:only-child::after {width: 0;}#sk-container-id-14 div.sk-dashed-wrapped {border: 1px dashed gray;margin: 0 0.4em 0.5em 0.4em;box-sizing: border-box;padding-bottom: 0.4em;background-color: white;}#sk-container-id-14 div.sk-label label {font-family: monospace;font-weight: bold;display: inline-block;line-height: 1.2em;}#sk-container-id-14 div.sk-label-container {text-align: center;}#sk-container-id-14 div.sk-container {/* jupyter's `normalize.less` sets `[hidden] { display: none; }` but bootstrap.min.css set `[hidden] { display: none !important; }` so we also need the `!important` here to be able to override the default hidden behavior on the sphinx rendered scikit-learn.org. See: https://github.com/scikit-learn/scikit-learn/issues/21755 */display: inline-block !important;position: relative;}#sk-container-id-14 div.sk-text-repr-fallback {display: none;}</style><div id=\"sk-container-id-14\" class=\"sk-top-container\"><div class=\"sk-text-repr-fallback\"><pre>Pipeline(steps=[(&#x27;standardscaler&#x27;, StandardScaler()),\n",
       "                (&#x27;randomforestclassifier&#x27;,\n",
       "                 RandomForestClassifier(class_weight=&#x27;balanced&#x27;, max_depth=40,\n",
       "                                        max_features=&#x27;log2&#x27;))])</pre><b>In a Jupyter environment, please rerun this cell to show the HTML representation or trust the notebook. <br />On GitHub, the HTML representation is unable to render, please try loading this page with nbviewer.org.</b></div><div class=\"sk-container\" hidden><div class=\"sk-item sk-dashed-wrapped\"><div class=\"sk-label-container\"><div class=\"sk-label sk-toggleable\"><input class=\"sk-toggleable__control sk-hidden--visually\" id=\"sk-estimator-id-28\" type=\"checkbox\" ><label for=\"sk-estimator-id-28\" class=\"sk-toggleable__label sk-toggleable__label-arrow\">Pipeline</label><div class=\"sk-toggleable__content\"><pre>Pipeline(steps=[(&#x27;standardscaler&#x27;, StandardScaler()),\n",
       "                (&#x27;randomforestclassifier&#x27;,\n",
       "                 RandomForestClassifier(class_weight=&#x27;balanced&#x27;, max_depth=40,\n",
       "                                        max_features=&#x27;log2&#x27;))])</pre></div></div></div><div class=\"sk-serial\"><div class=\"sk-item\"><div class=\"sk-estimator sk-toggleable\"><input class=\"sk-toggleable__control sk-hidden--visually\" id=\"sk-estimator-id-29\" type=\"checkbox\" ><label for=\"sk-estimator-id-29\" class=\"sk-toggleable__label sk-toggleable__label-arrow\">StandardScaler</label><div class=\"sk-toggleable__content\"><pre>StandardScaler()</pre></div></div></div><div class=\"sk-item\"><div class=\"sk-estimator sk-toggleable\"><input class=\"sk-toggleable__control sk-hidden--visually\" id=\"sk-estimator-id-30\" type=\"checkbox\" ><label for=\"sk-estimator-id-30\" class=\"sk-toggleable__label sk-toggleable__label-arrow\">RandomForestClassifier</label><div class=\"sk-toggleable__content\"><pre>RandomForestClassifier(class_weight=&#x27;balanced&#x27;, max_depth=40,\n",
       "                       max_features=&#x27;log2&#x27;)</pre></div></div></div></div></div></div></div>"
      ],
      "text/plain": [
       "Pipeline(steps=[('standardscaler', StandardScaler()),\n",
       "                ('randomforestclassifier',\n",
       "                 RandomForestClassifier(class_weight='balanced', max_depth=40,\n",
       "                                        max_features='log2'))])"
      ]
     },
     "execution_count": 103,
     "metadata": {},
     "output_type": "execute_result"
    }
   ],
   "source": [
    "rf_clf_b.fit(dev_dataset_X_train.features, dev_dataset_X_train.labels.ravel(), **fit_params)"
   ]
  },
  {
   "cell_type": "code",
   "execution_count": 104,
   "id": "3613be78-ef03-49f8-8d7d-b0de0d6c6dbe",
   "metadata": {},
   "outputs": [],
   "source": [
    "# validation metric summary\n",
    "dataset_rw_X_val = RW.fit_transform(dataset_X_val)\n",
    "thresh_arr = np.linspace(0.01, 0.5, 50)\n",
    "rf_val_metrics = test(dataset=dataset_rw_X_val,\n",
    "                   model=rf_clf_b,\n",
    "                   thresh_arr=thresh_arr)\n",
    "rf_org_best_ind = np.argmax(rf_val_metrics['bal_acc'])"
   ]
  },
  {
   "cell_type": "code",
   "execution_count": 105,
   "id": "f11a904b-13e5-4ee5-8546-b5a742ffeaf2",
   "metadata": {},
   "outputs": [
    {
     "name": "stdout",
     "output_type": "stream",
     "text": [
      "Threshold corresponding to Best balanced accuracy: 0.2800\n",
      "Best balanced accuracy: 0.9204\n",
      "Corresponding 1-min(DI, 1/DI) value: 0.4119\n",
      "Corresponding average odds difference value: -0.0554\n",
      "Corresponding statistical parity difference value: -0.1019\n",
      "Corresponding equal opportunity difference value: -0.0584\n",
      "Corresponding Theil index value: 0.0342\n"
     ]
    }
   ],
   "source": [
    "describe_metrics(rf_val_metrics, thresh_arr)"
   ]
  },
  {
   "cell_type": "code",
   "execution_count": 106,
   "id": "b04e5155-45a7-4f87-907f-2be82b889c15",
   "metadata": {},
   "outputs": [],
   "source": [
    "# test metric summary\n",
    "dataset_rw_X_test = RW.fit_transform(dataset_X_test)\n",
    "thresh_arr = np.linspace(0.01, 0.5, 50)\n",
    "rf_test_metrics = test(dataset=dataset_rw_X_test,\n",
    "                   model=rf_clf_b,\n",
    "                   thresh_arr=thresh_arr)"
   ]
  },
  {
   "cell_type": "code",
   "execution_count": 107,
   "id": "da28072e-6611-48a4-a0bd-307a4a299d37",
   "metadata": {},
   "outputs": [
    {
     "name": "stdout",
     "output_type": "stream",
     "text": [
      "Threshold corresponding to Best balanced accuracy: 0.2900\n",
      "Best balanced accuracy: 0.9253\n",
      "Corresponding 1-min(DI, 1/DI) value: 0.4116\n",
      "Corresponding average odds difference value: -0.0460\n",
      "Corresponding statistical parity difference value: -0.0984\n",
      "Corresponding equal opportunity difference value: -0.0386\n",
      "Corresponding Theil index value: 0.0319\n"
     ]
    }
   ],
   "source": [
    "describe_metrics(rf_test_metrics, thresh_arr)"
   ]
  },
  {
   "cell_type": "code",
   "execution_count": 108,
   "id": "caaef178-712f-4eac-945d-80f18cb0ef2f",
   "metadata": {},
   "outputs": [],
   "source": [
    "# Plotting Disparate Impact for Random Forest after DisparateImpactRemover\n",
    "\n",
    "disp_imp = np.array(rf_val_metrics['disp_imp'])\n",
    "disp_imp_err = 1 - np.minimum(disp_imp, 1/disp_imp)\n",
    "plot(thresh_arr, 'Classification Thresholds',\n",
    "     rf_val_metrics['bal_acc'], 'Balanced Accuracy',\n",
    "     disp_imp_err, '1 - min(DI, 1/DI)')"
   ]
  },
  {
   "cell_type": "code",
   "execution_count": 109,
   "id": "c9f2d484-a804-4fe6-9237-b14a9442931c",
   "metadata": {},
   "outputs": [],
   "source": [
    "# Plotting Avg. Odds Diff. for Random Forest after DisparateImpactRemover\n",
    "\n",
    "plot(thresh_arr, 'Classification Thresholds',\n",
    "     rf_val_metrics['bal_acc'], 'Balanced Accuracy',\n",
    "     rf_val_metrics['avg_odds_diff'], 'avg. odds diff.')"
   ]
  },
  {
   "attachments": {},
   "cell_type": "markdown",
   "id": "9ccd0072",
   "metadata": {},
   "source": [
    "### Section 5 Discussion\n",
    "\n",
    "Use these questions to evaluate your models during bias-mitigation processes. \n",
    "\n",
    "#### 5A. For **both** the logistic regression and random forest classifiers, please include visualizations the pre-processing results of your bias mitigation techniques. \n",
    "\n",
    "**In addition, for each Model + Bias mitigation technique, please write 1-2 SENTENCES explaining the following:**\n",
    "\n",
    "1. Describe the bias mitigation techniques applied (what stage? type? explain what that debiasing technique does?)\\\n",
    "The technique applied is reweighting. Reweighing is a preprocessing technique that weights the examples in each (group, label) combination differently to ensure fairness before classification.\n",
    "2. Based on defintions and sources of bias we covered in class, what type of bias are we trying to mitigate in our models?\\\n",
    "Reweighing primarily addresses statistical or sampling bias. It ensures that the training data does not disproportionately represent certain groups over others.\n",
    "3. Do both models exhibit fairness and maintain accuracy? List the fairness metrics you used to support this. What about model drift?\\\n",
    "For the logistic regression model, the 1-min (DI, 1/DI) and average odds difference fairness metrics indicate that it's not very fair (i.e. somewhat far away from their ideal values), but maintains good accuracy. The random forest maintains high accuracy and is slightly more fair than the logistic regression model.\n",
    "4. For the classifier ‘high’ utilization in these models + pre-processing mitigation technique; would you recommend this for our use case as a \"fair\" classifier? Why or why not? Use previous questions and the slide 'Sources of Bias in AI and Health Data' from our Week-07 slides, to help you answer this.\\\n",
    "I would recommend this for our use case for a fair classifier as it performs relatively well in terms of performance metrics.\n",
    "\n",
    "#### 5B. For **both** the logistic regression and random forest classifiers, please include visualizations the post-processing results of your bias mitigation techniques. \n",
    "\n",
    "**In addition, for each Model + Bias mitigation technique, please write 1-2 SENTENCES explaining the following:**\n",
    "\n",
    "1. Describe the bias mitigation techniques applied (what stage? type? explain what that debiasing technique does?)\\\n",
    "The technique applied is prejudice remover. Prejudice remover is an in-processing technique that adds a discrimination-aware regularization term to the learning objective. \n",
    "2. Based on defintions and sources of bias we covered in class, what type of bias are we trying to mitigate in our models?\\\n",
    "This technique aims at reducing prejudice or bias related to sensitive attributes (like race, gender) during the model training, addressing algorithmic bias.\n",
    "3. Do both models exhibit fairness and maintain accuracy? List the fairness metrics you used to support this. What about model drift?\\\n",
    "Using the 1-min (DI, 1/DI) and average odds difference fairness metrics again, the models exhibit less fairness than those of the previous part and maintain a passable accuracy.\n",
    "4. For the classifier ‘high’ utilization in these models + post-processing mitigation technique; would you recommend this for our use case as a \"fair\" classifier? Why or why not? Use previous questions and the slide 'Sources of Bias in AI and Health Data' from our Week-07 slides, to help you answer this.\\\n",
    "I would not recommend this as our use case for a fair classifier as it performs less well in terms of performance metrics compared to the other processing techniques.\n",
    "\n",
    "#### 5C. For **both** the logistic regression and random forest classifiers, please include visualizations for processing results of your bias mitigation techniques OF YOUR CHOICE. \n",
    "\n",
    "**In addition, for each Model + Bias mitigation technique of your choice, please write 1-2 SENTENCES explaining the following:**\n",
    "\n",
    "1. Describe the bias mitigation techniques applied (what stage? type? explain what that debiasing technique does?)\\\n",
    "\n",
    "The technique applied is disparate impact remover (DIR). DIR is a pre-processing technique that is designed to reduce bias in training data through adjusting feature values in order to weaken the association with said protected attribute, such as race or gender. It equalizes the distributions of feature values between privileged and unprivileged groups, thus making them more similar through using the 'repair_level' parameter. \n",
    "\n",
    "2. Based on defintions and sources of bias we covered in class, what type of bias are we trying to mitigate in our models?\\\n",
    "\n",
    "We're trying to mitigate disparate impact bias, which is a type of unintentional discrimination that can occur when policies, practicies, rules, or other related-systems appear to be neutral in result in a disproportionate impact on a protected group. Through adjusting feature distributions to minimize their correlation in terms of protected attributes like race or gender, we aim to reduce disparate impact bias and further promote fairness in our model's predictions. \n",
    "\n",
    "3. Do both models exhibit fairness and maintain accuracy? List the fairness metrics you used to support this. What about model drift?\\\n",
    "\n",
    "Both models appear to have some level of balance between maintaining accuracy and exhibiting some degree of fairness, but neither were able to achieve complete fairness across fairness metrics. The fairness metrics used werethe 1-min (DI, 1/DI) and average odds difference fairness metrics and reflect that both models have values less than 1 in terms of measuring disparate impact and negative average odds difference values, suggesting some bias still remains.\n",
    "\n",
    "4. For the classifier ‘high’ utilization in these models + post-processing mitigation technique; would you recommend this for our use case as a \"fair\" classifier? Why or why not? Use previous questions and the slide 'Sources of Bias in AI and Health Data' from our Week-07 slides, to help you answer this.\\\n",
    "\n",
    "We would not recommend this as our use case for a fair classifier as it also performs less well in terms of performance metrics compared to the other processing techniques. It indicates that while the models perform well in terms of accuracy, there are still some disparities impacting underprivileged groups. The presence of bias, as evidenced by these metrics, suggests that the classifier may still not be entirely fair.\n",
    "\n",
    "### Section 5: Overall Discussion for Bias Mitigation, write 1-2 paragraphs for each question\n",
    "\n",
    "1. What factors must be considered during AI model-development and performance? How and where are they vulnerable to introducing bias?\\\n",
    "\n",
    "Bias can be introduced at any stage in the machine learning model life cycle, which includes data collection, model development, and performance. It's important to consider historical or representation bias that may occur in the data itself, measurement or aggregation bias during the model development, and deployment bias when evaluating performance. These considerations correspond to the main stages of the life cycle: preprocessing, in-processing, and post-processing.\n",
    "Before the data is used in the model, the dataset may not be representative, which means it would not be generalizable for groups in the population and inaccurately reflect the times. During the model development, the chosen features/labels should be relevant to prevent noise. Moreover, joining data from multiple sources could create an inappropriate combination of heterogeneous groups in the model. Considering model performance, inappropriate use of performance metrics, or the interpretation of the model in real life could reinforce bias.\n",
    "\n",
    "\n",
    "2. How and what should be measured to assess downstream impact of AI, and what factors should be used to audit for bias and clinical impact?\\\n",
    "\n",
    "Assessing the downstream impact of AI requires a comprehensive approach that involves fairness metrics, audits, and regulations that are specific to AI. Depending on the context and the priorities, the appropriate fairness metrics should be chosen to analyze the model's performance across different demographic groups and evaluate the impact of the model on protected attributes. Additionally, conducting audits should encompass the entire AI development lifecycle to ensure transparency, accountability, and adherence to ethical standards. Integrating AI-specific regulations into this assessment framework is essential for compliance and ethical AI deployment. However, the last two factors come with their challenges, particularly the lack of standardization, false sense of security, legal issues, and definition of \"fairness.\"\n",
    "\n",
    "\n",
    "3. Define what disparate impact is. How can the type, dimension, collection-method, and representation in data lead to bias and disparate impact in communities of concern? Use the MEPS codebooks, and websites to help you explain this. Refer to Center of Disease Control (CDC) [Health Equity Guiding Principles for Inclusive Communication](https://www.cdc.gov/healthcommunication/Health_Equity.html) for style recommendations when referring to affected groups. \n",
    "\n",
    "Disparate impact bias is a type of unintentional discrimination that can occur when policies, practicies, rules, or other related-systems appear to be neutral in result in a disproportionate impact on a protected group. Type of data reflects upon historical inequalities or societal biases, and the models trained on this data may perpetuate or amplify these biases. For the dimension of data, features selected for modeul use could lead to bias if they correlate too closely with protected variables. How the data is collected can also introduce bias, especially if the method of data collection varied between communities or if certain groups were less likely to be included in the data collection process, ultimately leading to underrepresentation. If an algorithm is primarily trained on data from only one demographic group (or majority of a demographic), then it will not perform as accurately for excluded groups. This can be a detrimental issue if a minority is overrepresented in data. \n",
    "\n",
    "4. Where there any social factors overlooked when developing AI-targets or outcomes for the AIF360 exmaple? How could they delay access and quality of care to underserved populations?\n",
    "\n",
    "One can argue that any aspect of demographic data plays a social factor that can be overlooked when developing AI-targets or the AIF360 example. Examples such as varying health diagnoses, region, age, sex, race, marital status, etc. are reflective upon the socioeconomic status, cultural differences, geographic variability, healthcare system interactions, and any behavioral and lifestyle factors that can lead AI models to inaccurately predict recommendations. This could delay access and quality of care for underserved populations through misallocating healthcare resources, or even depriving underserved communities of any needed medical interventions. If these systems fail to incorporate social factors affecting one's health, the individual may underestimate the risk of certain conditions, and thus leading to later interventions from the community/group. \n",
    "\n",
    "5. (a) Overall, if you were to select ONE (a) Model, and (b) Bias-mitigation technique - for this use case where you are recommending a 'Fair' classifier for flagging 'High' utilization, which would you chose and why? (b) How would it affect Non-White beneficiaries who could have risk factor predictors that could inform a model to prioritize additional care? How could it do the opposite? (c) Explain how you would justify fair-accuracy trade-off.\\\n",
    "Based on our exploration of different models and bias mitigation techniques, we would choose logistic regression as the model and disparate impact remover as the bias mitigation technique. Since we're focusing on fair classification between different groups, we want to use the disparate impact remover that adjusts the data/features values to increase group fairness and reduce disparate impact.\n",
    "While this chosen approach aims to mitigate bias, it could overlook risk factors of Non-White beneficiaries that could inform a model to prioritize additional care and result in missed opportunities for such service. This means we need to make sure that it's not solely the protected attributes that are disproportionately influencing the model's predictions.  A fair-accuracy trade-off involves careful balance and practicality. While one needs to consider the real-world context and complexities of the problem and make sure the model maintains sufficient accuracy to be effective and reliable, more of the justification needs to focus on the pursuit of equitable outcomes for all groups."
   ]
  },
  {
   "cell_type": "code",
   "execution_count": null,
   "id": "6cfd759d",
   "metadata": {},
   "outputs": [],
   "source": []
  },
  {
   "cell_type": "markdown",
   "id": "2b79a2ba",
   "metadata": {},
   "source": [
    "---"
   ]
  },
  {
   "cell_type": "markdown",
   "id": "106d7b57",
   "metadata": {},
   "source": [
    "### [6.](#Table-of-Contents) Results Summary"
   ]
  },
  {
   "cell_type": "markdown",
   "id": "61997b93",
   "metadata": {},
   "source": [
    "### [7.](#Table-of-Contents) Explainability"
   ]
  },
  {
   "cell_type": "markdown",
   "id": "a9010ecc",
   "metadata": {},
   "source": [
    "### [8.](#Table-of-Contents) Conclusion & Discussion"
   ]
  }
 ],
 "metadata": {
  "kernelspec": {
   "display_name": "Python 3",
   "language": "python",
   "name": "python3"
  },
  "language_info": {
   "codemirror_mode": {
    "name": "ipython",
    "version": 3
   },
   "file_extension": ".py",
   "mimetype": "text/x-python",
   "name": "python",
   "nbconvert_exporter": "python",
   "pygments_lexer": "ipython3",
   "version": "3.9.18"
  },
  "toc-autonumbering": false,
  "toc-showcode": true,
  "toc-showmarkdowntxt": true,
  "toc-showtags": true,
  "vscode": {
   "interpreter": {
    "hash": "31f2aee4e71d21fbe5cf8b01ff0e069b9275f58929596ceb00d14d90e3e16cd6"
   }
  }
 },
 "nbformat": 4,
 "nbformat_minor": 5
}
