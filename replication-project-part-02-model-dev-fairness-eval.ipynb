{
 "cells": [
  {
   "cell_type": "markdown",
   "id": "9395c475",
   "metadata": {},
   "source": [
    "## DSC 180AB Data Science Capstone\n",
    "### Replication Project"
   ]
  },
  {
   "cell_type": "markdown",
   "id": "9e49e865",
   "metadata": {},
   "source": [
    "Team Members: Stephanie Chavez, Benjamin Chen, Sam Horio, Jayson Leach, Natalie Wu"
   ]
  },
  {
   "cell_type": "markdown",
   "id": "9aa1c3d2",
   "metadata": {},
   "source": [
    "### Table of Contents\n",
    "To return to the table of contents, click on the number at any major section heading."
   ]
  },
  {
   "cell_type": "markdown",
   "id": "1dacfbb4",
   "metadata": {
    "tags": []
   },
   "source": [
    "[1. Introduction](#1.-Introduction)\n",
    "\n",
    "[2. Exploratory Data Analysis](#2.-Exploratory-Data-Analysis)\n",
    "\n",
    "[3. Model Development](#3.-Model-Development)\n",
    "\n",
    "[4. Model Evaluation](#4.-Model-Evaluation)\n",
    "\n",
    "[5. Bias Mitigation](#5.-Bias-Mitigation)\n",
    "\n",
    "[6. Results Summary](#6.-Results-Summary)\n",
    "\n",
    "[7. Explainability](#7.-Explainability)\n",
    "\n",
    "[8. Conclusion & Discussion](#8.-Conclusion-&-Discussion)\n"
   ]
  },
  {
   "cell_type": "markdown",
   "id": "76354145-7d96-4a89-92ec-4dfa713ff959",
   "metadata": {
    "tags": []
   },
   "source": [
    "## This tutorial demonstrates classification model learning with bias mitigation as a part of a Care Management use case using Medical Expenditure data."
   ]
  },
  {
   "cell_type": "markdown",
   "id": "7799d7d3-7572-4e08-9e3a-812ba39befda",
   "metadata": {},
   "source": [
    "The notebook demonstrates how the AIF 360 toolkit can be used to detect and reduce bias when learning classifiers using a variety of fairness metrics and algorithms . It also demonstrates how explanations can be generated for predictions made by models learnt with the toolkit using LIME.\n",
    "\n",
    "* Classifiers are built using Logistic Regression as well as Random Forests.\n",
    "* Bias detection is demonstrated using several metrics, including disparate impact, average odds difference, statistical parity difference, equal opportunity difference, and Theil index.\n",
    "* Bias alleviation is explored via a variety of methods, including reweighing (pre-processing algorithm), prejudice remover (in-processing algorithm), and disparate impact remover (pre-processing technique).\n",
    "* Data from the [Medical Expenditure Panel Survey](https://urldefense.com/v3/__https://meps.ahrq.gov/mepsweb/__;!!Mih3wA!BOEOztl97chVva97r53aT50dEFwNxxI2GkzmaN6Ka1BWLdgKKh2LJXrxTrJ7odgsEuyLI8wAkAntFYG1ghc$ ) is used in this tutorial.\n",
    "\n",
    "\n",
    "The Medical Expenditure Panel Survey (MEPS) provides nationally representative estimates of health expenditure, utilization, payment sources, health status, and health insurance coverage among the noninstitutionalized U.S. population. These government-produced data sets examine how people use the US healthcare system.\n",
    "\n",
    "MEPS is administered by the Agency for Healthcare Research and Quality (AHRQ) and is divided into three components: \n",
    "* Household\n",
    "* Insurance/Employer, and \n",
    "* Medical Provider. \n",
    "\n",
    "These components provide comprehensive national estimates of health care use and payment by individuals, families, and any other demographic group of interest."
   ]
  },
  {
   "cell_type": "markdown",
   "id": "954e8582",
   "metadata": {},
   "source": [
    "### Abstract\n",
    "The increasing integration of AI across various domains raises important questions about its potential biases and equitable treatment of different groups. These issues revolve around the quality of data and the concept of algorithmic fairness. However, addressing these concerns cannot rely solely on legal or government regulations; it demands a comprehensive examination at the confluence of ethics and technical expertise. Therefore, it is crucial to dedicate thoughtful consideration to the detection and mitigation of bias and fairness issues throughout the entire machine learning model life cycle.\n",
    "\n",
    "In this research, we use the Medical Expenditure Panel Survey dataset to investigate the detection and mitigation of racial bias in a medical care management scenario, employing the IBM AI Fairness 360 toolkit. Our ultimate goal is to provide valuable insights and tools to data science practitioners and the communities affected by these biases, facilitating the promotion of AI fairness and transparency."
   ]
  },
  {
   "cell_type": "markdown",
   "id": "ebad3269",
   "metadata": {},
   "source": [
    "### [1.](#Table-of-Contents) Introduction"
   ]
  },
  {
   "cell_type": "markdown",
   "id": "c682f615",
   "metadata": {},
   "source": [
    "The [AI Fairness 360 toolkit](https://urldefense.com/v3/__https://github.com/Trusted-AI/AIF360__;!!Mih3wA!BOEOztl97chVva97r53aT50dEFwNxxI2GkzmaN6Ka1BWLdgKKh2LJXrxTrJ7odgsEuyLI8wAkAntlAxz2VI$ ) is an extensible open-source library containing techniques developed by the research community to help detect and mitigate bias in machine learning models throughout the AI application lifecycle. AI Fairness 360 package is available in both Python and R. Documentation is available [here](https://urldefense.com/v3/__https://aif360.readthedocs.io/en/v0.2.3/index.html)*5Cn__;JQ!!Mih3wA!BOEOztl97chVva97r53aT50dEFwNxxI2GkzmaN6Ka1BWLdgKKh2LJXrxTrJ7odgsEuyLI8wAkAntKVyrvtU$ \n",
    "The AI Fairness 360 package includes: \n",
    "- a comprehensive set of metrics for datasets and models to test for biases,\n",
    "- explanations for these metrics, and\n",
    "- algorithms to mitigate bias in datasets and models\n",
    "It is designed to translate algorithmic research from the lab into the actual practice of domains as wide-ranging as finance, human capital management, healthcare, and education"
   ]
  },
  {
   "cell_type": "markdown",
   "id": "17d9f1e7",
   "metadata": {},
   "source": [
    "As machine learning becomes more prevalent in the coming years, there are many ethical considerations to take into account when building models that affect the real world. For AI to be considered ethically fair, it requires evaluation of how representative the data being used to train these algorithms is of the population and if it contains sensitive information about individuals that should be safeguarded to prevent discriminatory treatment, i.e., protected attributes. Additionally, when the algorithms use this data, it’s important to examine if they make different types of errors across certain groups and whether or not they’re disparately accurate for certain groups. To be more precise, we want to observe if the algorithm predicts outcomes better for one group than for another, as well as if it produces differing false positive or false negative rates for certain groups. With the intent to enable equity across all participants, we aim to improve the bias detection within AI systems and mitigate them through algorithmic means."
   ]
  },
  {
   "cell_type": "markdown",
   "id": "523227a6-425b-4dba-bb8a-81ea10e59102",
   "metadata": {
    "tags": []
   },
   "source": [
    "#### 1.1 Use Case\n",
    "\n",
    "**In order to demonstrate how AIF360 can be used to detect and mitigate bias in classfier models, we adopt the following use case:**\n",
    "\n",
    "* Data scientist develops a 'fair' healthcare utilization scoring model with respect to defined protected classes. Fairness may be dictated by legal or government regulations, such as a requirement that additional care decisions be not predicated on factors such as race of the patient.\n",
    "* Developer takes the model AND performance characteristics / specs of the model (e.g. accuracy, fairness tests, etc. basically the model factsheet) and deploys the model in an enterprise app that prioritizes cases for care management.\n",
    "* The app is put into production and starts scoring people and making recommendations. \n",
    "* Explanations are generated for each recommendation\n",
    "* Both recommendations and associated explanations are given to nurses as a part of the care management process. The nurses can evaluate the recommendations for quality and correctness and provide feedback.\n",
    "* Nurse feedback as well as analysis of usage data with respect to specs of the model w.r.t accuracy and fairness is communicated to AI Ops specialist and LOB user periodically.\n",
    "* When significant drift in model specs relative to the model factsheet is observed, the model is sent back for retraining."
   ]
  },
  {
   "cell_type": "markdown",
   "id": "c47d37f3",
   "metadata": {},
   "source": [
    "#### 1.2 Literature Review & Prior Work\n",
    "With the rise of artificial intelligence brings a growing concern with its application in the public health sphere. Historical and systemic prejudices, along with a lack of representation in the data collection processes have bred empirical evidence that support these concerns1. Ethical considerations in AI necessitate representative population samples in research, mirroring the diversity of the demographics they aim to depict. \n",
    "\n",
    "For instance, health sector research frequently highlights data on traditionally marginalized groups, such as the Black and Hispanic communities, yet tends to overlook indigenous Native American populations. In the United States, Native Americans exhibit the lowest life expectancy among all racial or ethnic groups. They faced the highest COVID-19 infection rates, yet received disproportionately lower healthcare support, as evidenced by the stark decline in life expectancy from the average 71.8 to 65.2 years between 2019 and 20212. The skewed distribution of health surveys, which often omit critical segments of the population, introduces systemic bias. This in turn may result in recommendations that fail to address the true needs of these communities. For the purpose of this paper, bias mitigation could be approached through transparent sampling methods and the application of data preprocessing techniques.\n",
    "\n",
    "Furthermore, informed consent and transparency are crucial in gathering and processing sensitive data. A lack of clarity regarding the use and extent of data application can foster distrust in AI, particularly affecting research participation rates. This aspect is particularly notable among the most vulnerable groups, who may be hesitant to share their data due to historical mistreatment by the medical industrial complex. Black women, who disproportionately suffer from pregnancy-related mortality—a rate 2.6 times higher than that of their white counterparts—are historically subjected to medical experimentation and stereotypes regarding pain tolerance3. Addressing these deeply ingrained systemic issues yields a growing need towards robust transparency and the implementation of clear, comprehensible informed consent processes. Enhancing understanding through the use of plain language explanations of data use and AI algorithmic functions could foster more trust and accessibility.\n",
    "\n",
    "Regarding findings on the disparities between insurance, income, and racial/ethnicity and how they affect children’s usual source of care, people in high-income families were significantly less likely than any income group to lack a usual source of healthcare. Although these numbers have decreased since, there has only been a 1.1% decrease in US children without usual healthcare between 2004 and 20144. Although factors such as ethnicity, race, and income may not appear to directly affect all young adolescents, the insurance and subsequent health care these children receive are often reflective of the system they were brought up in. Thus, contextualizing the issue and/or concern, being inclusive of the population sample, and opening up a broader conversation as to better educating vulnerable populations can lead to a potentially beneficial and revitalized healthcare system.\n",
    "\n",
    "When conducting data analysis on our dataset, it is imperative to prioritize diversity, equity, and inclusion when determining the integrity and relevance of prior work and domain research, particularly within the scope of public health. Prior research must be meticulously scrutinized for its domain knowledge in DEI in order to identify latent biases stemming from the inclusion and the omission of diverse populations in the data collection process. Contextual awareness allows for a more nuanced understanding of the data, and in turn fosters the development of AI systems that are truly inclusive and equitable. The integration of DEI expertise in AI research is not optional but a necessary criterion for ethical rigor, societal relevance, and the future of medical scientific research. Thus, we aim to provide a classification model that accounts for sensitive features that may impact an individual's ability to access additional healthcare. The pursuit of comprehensive inclusivity in data—both in collection and analysis—stands as a beacon for the advancement of a healthcare paradigm that is equitable and universally beneficial.\n",
    "\n",
    "#### Citations\n",
    "Dwork, Cynthia, and Martha Minow. “Distrust of Artificial Intelligence: Sources & Responses from Computer Science & Law.” Daedalus, vol. 151, no. 2, 2022, pp. 309–21. JSTOR, https://www.jstor.org/stable/48662044. Accessed 4 Nov. 2023.\n",
    "\n",
    "Leggat-Barr, Katherine, et al. “COVID-19 Risk Factors and Mortality among Native Americans.” Demographic Research, vol. 45, 2021, pp. 1185–218. JSTOR, https://www.jstor.org/stable/48640810. Accessed 4 Nov. 2023.\n",
    "\n",
    "Njoku, Anuli et al. “Listen to the Whispers before They Become Screams: Addressing Black Maternal Morbidity and Mortality in the United States.” Healthcare (Basel, Switzerland) vol. 11,3 438. 3 Feb. 2023, doi:10.3390/healthcare11030438\n",
    "\n",
    "Naomi Zewde, PhD and Terceira Berdahl, PhD. \n",
    "“Children's Usual Source of Care: Insurance, Income, and Racial/Ethnic Disparities.” Medical Expenditure Panel Survey, Statistical brief #501. Agency for Healthcare Research and Quality, https://meps.ahrq.gov/data_files/publications/st501/stat501.pdf. Accessed 5 Nov. 2023."
   ]
  },
  {
   "cell_type": "markdown",
   "id": "f8b3fccd-dada-42d4-a408-42582b8d060f",
   "metadata": {
    "tags": []
   },
   "source": [
    "#### 1.3 Description of Relevant Data\n",
    "For this replication project, we’re focusing on the Medical Expenditure Panel Survey (MEPS) for years 2015 to 2016, a government-produced dataset that examines how people use the U.S. healthcare system and such is organized into three components: (1) household, (2) insurance/employer, and (3) medical provider. This dataset provides comprehensive estimates of health care use and payment based on a nationally representative sample of the civilian noninstitutionalized population of the United States. Such data is suitable for the investigation of detecting and mitigating racial bias in a medical care management scenario as the MEPS contains large diverse/representative data, detailed information on healthcare with a variety of features, and longitudinal data collected over multiple years. This allows for a comprehensive examination of racial disparities and bias in healthcare over time, and statistically robust results. However, the said dataset could be less useful for more specific analyses, such as racially/ethnically subgroups or geographically, and could suffer from a time lag, which affects the generalization and timeliness of the research.on evolving healthcare disparities and data.\n",
    "\n",
    "The specific data being used is the 2015 Full Year Consolidated Data File (i.e. MEPS HC-181) and the 2016 Full Year Consolidated Data File (i.e. MEPS HC-192). In the 2015 file, the MEPS survey data obtained in rounds 3, 4, and 5 of panel 19 (2014) and rounds 1, 2, and 3 of panel 20 (2015). The 2016 file consists of data from rounds 3, 4, and 5 of panel 20 (2015) and rounds 1, 2, 3 of panel 21 (2016). Both contain all the final 2015 person-level variables, including survey administration, language of interview variable, demographics, parent identifiers, health status, disability days variables, access to care, employment, quality of care, patient satisfaction, health insurance, use variables, income variables, and expenditure variables– which were previously released on the HC-174 and HC-181 files. For our research, three datasets were constructed for different stages of building the model. Panel 19, round 5 was used for learning the model; panel 20, round 3 was used for deployment/testing the model’s steps; panel 21, round 3 was used for retraining and deployment/testing of the updated model.\n",
    "\n",
    "Using MEPS, specifically the household component, we want to build a “fair” healthcare utilization scoring model to determine if a person is high-utilizer of medical care and therefore, needs additional care. The classification model uses race as the sensitive feature, i.e., protected attribute, and to identify these potential candidates.For each dataset, the sensitive attribute ‘RACE’ was constructed so that ‘Whites’ (privileged class) was defined by RACEV2X = 1 (White) and HISPANX = 2 (non-Hispanic), and ‘Non-Whites’ included all other individuals. In addition to race, the model utilized other features, including demographics (e.g. race, age, gender, active-duty status), physical/mental health assessments, diagnosis codes (e.g. history of diagnosis of cancer, or diabetes), and limitations (e.g. cognitive or hearing or vision limitation). \n",
    "\n",
    "In order to measure utilization, we create the feature ‘UTILIZATION,’ which measures the total number of trips requiring medical care, by summing the features: OBTOTV15(16), the number of office based visits; OPTOTV15(16), the number of outpatient visits; ERTOT15(16), the number of ER visits; IPNGTD15(16), the number of inpatient nights, and + HHTOTD16. If UTILIZATION >= 10, around the average utilization for the population, the person is considered ‘high’ utilization, which is what the classification model aims to predict. Each dataset consisted of around 17% high utilization respondents. For this medical care management scenario, each dataset is split into three parts: a train, a validation, and a test set. The classification model is initially built and tuned using the 2015 panel 19 train/test test, with the initial deployment being simulated to the 2015 panel 20 deployment data. Then, using the 2016 panel 21 deployment data, we observe change in performance and/or fairness over time; if there’s a shift, we use the 2015 train/validation to learn a new model and evaluate it again on the 2016 deployment data."
   ]
  },
  {
   "cell_type": "markdown",
   "id": "4bcd0b66-89d3-4e62-a3af-1b62b3dbaf27",
   "metadata": {
    "jp-MarkdownHeadingCollapsed": true,
    "tags": []
   },
   "source": [
    "#### 1.4 Methodology \n",
    "\n",
    "For each dataset, the sensitive attribute is 'RACE' constructed as follows: 'Whites' (privileged class) defined by the features RACEV2X = 1 (White) and HISPANX = 2 (non Hispanic); 'Non-Whites' that included everyone else.  \n",
    "\n",
    "* Along with race as the sensitive feature, other features used for modeling include demographics  (such as age, gender, active duty status), physical/mental health assessments, diagnosis codes (such as history of diagnosis of cancer, or diabetes), and limitations (such as cognitive or hearing or vision limitation).\n",
    "* To measure utilization, a composite feature, 'UTILIZATION', was created to measure the total number of trips requiring some sort of medical care by summing up the following features: OBTOTV15(16), the number of office based visits;  OPTOTV15(16), the number of outpatient visits; ERTOT15(16), the number of ER visits;  IPNGTD15(16), the number of inpatient nights, and  + HHTOTD16, the number of home health visits.\n",
    "* The model classification task is to predict whether a person would have 'high' utilization (defined as UTILIZATION >= 10, roughly the average utilization for the considered population). High utilization respondents constituted around 17% of each dataset.\n",
    "* To simulate the scenario, each dataset is split into 3 parts: a train, a validation, and a test/deployment part.\n",
    "\n",
    "**We assume that the model is initially built and tuned using the 2015 Panel 19 train/test data**\n",
    "* It is then put into practice and used to score people to identify potential candidates for care management. \n",
    "* Initial deployment is simulated to 2015 Panel 20 deployment data. \n",
    "* To show change in performance and/or fairness over time, the 2016 Panel 21 deployment data is used. \n",
    "* Finally, if drift is observed, the 2015 train/validation data is used to learn a new model and evaluated again on the 2016 deployment data"
   ]
  },
  {
   "cell_type": "markdown",
   "id": "913a44da",
   "metadata": {},
   "source": [
    "### 1.5 Insert writeup of overall replication project goals and big picture thinking (2-3 paragraphs).  \n",
    "* Why do we care about this? \n",
    "* What would the benefit of predicting utilization be? \n",
    "* What might occur if there are errors?\n",
    "* Who are the affected parties and stakeholders?\n",
    "* Other thoughts?"
   ]
  },
  {
   "cell_type": "markdown",
   "id": "5cd7569b-9388-4939-9422-6d134dbc0303",
   "metadata": {},
   "source": [
    "**Write up here:**"
   ]
  },
  {
   "cell_type": "markdown",
   "id": "20f776c5-8ed6-49c3-9f12-f2afed0605d4",
   "metadata": {},
   "source": [
    "---\n",
    "End of Introduction"
   ]
  },
  {
   "cell_type": "markdown",
   "id": "5f1413d0",
   "metadata": {},
   "source": [
    "### [2.](#Table-of-Contents) Exploratory Data Analysis (EDA)\n"
   ]
  },
  {
   "cell_type": "markdown",
   "id": "e6c4a57f-abcf-47c6-961e-baec728e930a",
   "metadata": {},
   "source": [
    "The specific data used is the [2015 Full Year Consolidated Data File](https://urldefense.com/v3/__https://meps.ahrq.gov/mepsweb/data_stats/download_data_files_detail.jsp?cboPufNumber=HC-181__;!!Mih3wA!BOEOztl97chVva97r53aT50dEFwNxxI2GkzmaN6Ka1BWLdgKKh2LJXrxTrJ7odgsEuyLI8wAkAnt6P5AG7M$ ) as well as the [2016 Full Year Consolidated Data File](https://urldefense.com/v3/__https://meps.ahrq.gov/mepsweb/data_stats/download_data_files_detail.jsp?cboPufNumber=HC-192).*5Cn__;JQ!!Mih3wA!BOEOztl97chVva97r53aT50dEFwNxxI2GkzmaN6Ka1BWLdgKKh2LJXrxTrJ7odgsEuyLI8wAkAntl5zrAwQ$ \n",
    "* The 2015 file contains data from rounds 3,4,5 of panel 19 (2014) and rounds 1,2,3 of panel 20 (2015). \n",
    "* The 2016 file contains data from rounds 3,4,5 of panel 20 (2015) and rounds 1,2,3 of panel 21 (2016).\n",
    "\n",
    "In this example, three datasets were constructed: one from panel 19, round 5 (used for learning models), one from panel 20, round 3 (used for deployment/testing of model - steps); the other from panel 21, round 3 (used for re-training and deployment/testing of updated model).\n",
    "\n",
    "See the corresponding [Codebook](https://urldefense.com/v3/__https://meps.ahrq.gov/mepsweb/data_stats/download_data_files_detail.jsp?cboPufNumber=HC-181__;!!Mih3wA!BOEOztl97chVva97r53aT50dEFwNxxI2GkzmaN6Ka1BWLdgKKh2LJXrxTrJ7odgsEuyLI8wAkAnt6P5AG7M$ ) for information on variables.\n",
    "\n",
    "##### Key MEPS dataset features include:\n",
    "* **Utilization**: To measure utilization, a composite feature, 'UTILIZATION', was created to measure the total number of trips requiring some sort of medical care by summing up the following features: OBTOTV15(16), the number of office based visits;  OPTOTV15(16), the number of outpatient visits; ERTOT15(16), the number of ER visits;  IPNGTD15(16), the number of inpatient nights, and  + HHTOTD16, the number of home health visits.\n",
    "* The model classification task is to predict whether a person would have **'high'** utilization (defined as UTILIZATION >= 10, roughly the average utilization for the considered population). High utilization respondents constituted around 17% of each dataset."
   ]
  },
  {
   "cell_type": "markdown",
   "id": "d7368b94-7451-4cf1-8a66-229d2a07907d",
   "metadata": {
    "jp-MarkdownHeadingCollapsed": true,
    "tags": []
   },
   "source": [
    "#### 2.0 Pre-processing Scripts (for each Panel)\n",
    "\n",
    "There is currently minimal EDA for this tutorial within IBM AIF360 Medical Expenditure Tutorial. Therefore, we have adapted  utility scripts from IBM AIF360 Tutorial for ease of understanding for how datasets were pre-processed. These will be used primarily for EDA purposes. We will utilize IBM's tutorial for the remainder of the project. We have utilized Pandas for this portion of the project. \n",
    "\n",
    "**Note:** these pre-processing script below are run for each data file, and then filtered for each panel. This was done in order to match subsequent portions of the tutorial, and how train/test/validation datasets were split."
   ]
  },
  {
   "cell_type": "markdown",
   "id": "49b833fd",
   "metadata": {
    "tags": []
   },
   "source": [
    "#### 2.1 Get and Load Dataset, Apply Pre-processing"
   ]
  },
  {
   "cell_type": "markdown",
   "id": "cd36982c-27bb-4159-9d99-1730c1ca8b6c",
   "metadata": {
    "tags": []
   },
   "source": [
    "**Before Proceeding Ensure You Have:**\n",
    "* Forked the AIF360 R=repository and cloned locally to your disk or virtual machine\n",
    "* Downloaded the `h181.csv` and `h192.csv` data files uploaded [here](https://urldefense.com/v3/__https://www.kaggle.com/datasets/nanrahman/mepsdata)*5Cn__;JQ!!Mih3wA!BOEOztl97chVva97r53aT50dEFwNxxI2GkzmaN6Ka1BWLdgKKh2LJXrxTrJ7odgsEuyLI8wAkAntxPNtW1E$ * Place the `h181.csv` and `h192.csv` in a folder you can access (we placed it in `../aif360/data/raw/meps/` of our forked AIF360 repository)\n",
    "* For EDA we only focus on `h181.csv` "
   ]
  },
  {
   "cell_type": "code",
   "execution_count": 2,
   "id": "52b887ff",
   "metadata": {},
   "outputs": [],
   "source": [
    "%%capture output\n",
    "# silence the stupid aif warnings\n",
    "\n",
    "# Imports\n",
    "import sys\n",
    "\n",
    "%matplotlib inline\n",
    "import matplotlib.pyplot as plt\n",
    "import numpy as np\n",
    "from IPython.display import Markdown, display\n",
    "import pandas as pd\n",
    "import seaborn as sns\n",
    "\n",
    "# Datasets\n",
    "from aif360.datasets import MEPSDataset19\n",
    "from aif360.datasets import MEPSDataset20\n",
    "from aif360.datasets import MEPSDataset21\n",
    "\n",
    "# Fairness metrics\n",
    "from aif360.metrics import BinaryLabelDatasetMetric\n",
    "from aif360.metrics import ClassificationMetric\n",
    "\n",
    "from sklearn.pipeline import make_pipeline\n",
    "\n",
    "# import processing function(s)\n",
    "from pre_processing import pre_processing"
   ]
  },
  {
   "cell_type": "code",
   "execution_count": 3,
   "id": "0cda8ade-95db-4e09-a4fa-92c469311434",
   "metadata": {},
   "outputs": [],
   "source": [
    "raw_181 = pd.read_csv('data/h181.csv')"
   ]
  },
  {
   "cell_type": "markdown",
   "id": "059c3d64-d4c9-4d83-9173-e67f361797e8",
   "metadata": {},
   "source": [
    "#### Apply pre-processing scripts"
   ]
  },
  {
   "cell_type": "code",
   "execution_count": 4,
   "id": "aa60a926-0bec-4611-a670-e15caf7ccd2d",
   "metadata": {},
   "outputs": [],
   "source": [
    "default_mappings = {\n",
    "    'label_maps': [{1.0: '>= 10 Visits', 0.0: '< 10 Visits'}],\n",
    "    'protected_attribute_maps': [{1.0: 'White', 0.0: 'Non-White'}]}"
   ]
  },
  {
   "cell_type": "markdown",
   "id": "2eb94a97-e567-4b2e-ba81-52291f0ab66c",
   "metadata": {},
   "source": [
    "#### Taken from pre-processing scripts to retain same columns used in model development for tutorial"
   ]
  },
  {
   "cell_type": "code",
   "execution_count": 5,
   "id": "0fa62be8-3771-4878-90d5-501890be645b",
   "metadata": {},
   "outputs": [],
   "source": [
    "# idk what this section is useful for\n",
    "label_name='UTILIZATION'\n",
    "favorable_classes=[1.0]\n",
    "protected_attribute_names=['RACE']\n",
    "privileged_classes=[['White']]\n",
    "instance_weights_name='PERWT15F'\n",
    "categorical_features=['REGION','SEX','MARRY',\n",
    "                                 'FTSTU','ACTDTY','HONRDC','RTHLTH','MNHLTH','HIBPDX','CHDDX','ANGIDX',\n",
    "                                 'MIDX','OHRTDX','STRKDX','EMPHDX','CHBRON','CHOLDX','CANCERDX','DIABDX',\n",
    "                                 'JTPAIN','ARTHDX','ARTHTYPE','ASTHDX','ADHDADDX','PREGNT','WLKLIM',\n",
    "                                 'ACTLIM','SOCLIM','COGLIM','DFHEAR42','DFSEE42', 'ADSMOK42', 'PHQ242',\n",
    "                                 'EMPST','POVCAT','INSCOV']\n",
    "\n",
    "features_to_drop=[]\n",
    "na_values=[]\n",
    "# custom_preprocessing=default_preprocessing <- don't need this yet for EDA\n",
    "metadata=default_mappings"
   ]
  },
  {
   "cell_type": "code",
   "execution_count": 6,
   "id": "590aaa93-f929-469b-99b7-4e8ec9f681d8",
   "metadata": {},
   "outputs": [],
   "source": [
    "df_panel_19 = pre_processing(raw_181, 19)\n",
    "df_panel_19_reduced = df_panel_19.copy()"
   ]
  },
  {
   "cell_type": "code",
   "execution_count": 7,
   "id": "85ee5b62-b00f-44c4-8dce-a92504fc8cc6",
   "metadata": {},
   "outputs": [],
   "source": [
    "df_panel_20 =pre_processing(raw_181, 20)\n",
    "df_panel_20_reduced = df_panel_20.copy()"
   ]
  },
  {
   "cell_type": "markdown",
   "id": "46f025d0-245e-4819-86a0-52d47f0671b4",
   "metadata": {},
   "source": [
    "#### 2.2 Data shape and features"
   ]
  },
  {
   "cell_type": "code",
   "execution_count": 8,
   "id": "ceb589d9-6609-4b63-a81f-a4cf9758b227",
   "metadata": {},
   "outputs": [
    {
     "data": {
      "text/html": [
       "<div>\n",
       "<style scoped>\n",
       "    .dataframe tbody tr th:only-of-type {\n",
       "        vertical-align: middle;\n",
       "    }\n",
       "\n",
       "    .dataframe tbody tr th {\n",
       "        vertical-align: top;\n",
       "    }\n",
       "\n",
       "    .dataframe thead th {\n",
       "        text-align: right;\n",
       "    }\n",
       "</style>\n",
       "<table border=\"1\" class=\"dataframe\">\n",
       "  <thead>\n",
       "    <tr style=\"text-align: right;\">\n",
       "      <th></th>\n",
       "      <th>Description</th>\n",
       "      <th>Data Type</th>\n",
       "    </tr>\n",
       "  </thead>\n",
       "  <tbody>\n",
       "    <tr>\n",
       "      <th>REGION</th>\n",
       "      <td>Region</td>\n",
       "      <td>Categorical</td>\n",
       "    </tr>\n",
       "    <tr>\n",
       "      <th>AGE</th>\n",
       "      <td>Age</td>\n",
       "      <td>Numerical</td>\n",
       "    </tr>\n",
       "    <tr>\n",
       "      <th>SEX</th>\n",
       "      <td>Sex</td>\n",
       "      <td>Categorical</td>\n",
       "    </tr>\n",
       "    <tr>\n",
       "      <th>RACE</th>\n",
       "      <td>Race</td>\n",
       "      <td>Categorical</td>\n",
       "    </tr>\n",
       "    <tr>\n",
       "      <th>MARRY</th>\n",
       "      <td>Marital Status</td>\n",
       "      <td>Categorical</td>\n",
       "    </tr>\n",
       "    <tr>\n",
       "      <th>FTSTU</th>\n",
       "      <td>Student Status</td>\n",
       "      <td>Categorical</td>\n",
       "    </tr>\n",
       "    <tr>\n",
       "      <th>ACTDTY</th>\n",
       "      <td>Military Status</td>\n",
       "      <td>Categorical</td>\n",
       "    </tr>\n",
       "    <tr>\n",
       "      <th>HONRDC</th>\n",
       "      <td>Honorable Discharge Status</td>\n",
       "      <td>Categorical</td>\n",
       "    </tr>\n",
       "    <tr>\n",
       "      <th>RTHLTH</th>\n",
       "      <td>Percieved Health Status</td>\n",
       "      <td>Categorical</td>\n",
       "    </tr>\n",
       "    <tr>\n",
       "      <th>MNHLTH</th>\n",
       "      <td>Mental Health Status</td>\n",
       "      <td>Categorical</td>\n",
       "    </tr>\n",
       "    <tr>\n",
       "      <th>HIBPDX</th>\n",
       "      <td>High Blood Pressure Diagnosis</td>\n",
       "      <td>Categorical</td>\n",
       "    </tr>\n",
       "    <tr>\n",
       "      <th>CHDDX</th>\n",
       "      <td>Coronary Heart Disease Diagnosis</td>\n",
       "      <td>Categorical</td>\n",
       "    </tr>\n",
       "    <tr>\n",
       "      <th>ANGIDX</th>\n",
       "      <td>Angina Diagnosis</td>\n",
       "      <td>Categorical</td>\n",
       "    </tr>\n",
       "    <tr>\n",
       "      <th>MIDX</th>\n",
       "      <td>Heart Attack (MI) Diagnosis</td>\n",
       "      <td>Categorical</td>\n",
       "    </tr>\n",
       "    <tr>\n",
       "      <th>OHRTDX</th>\n",
       "      <td>Other Heart Disease Diagnosis</td>\n",
       "      <td>Categorical</td>\n",
       "    </tr>\n",
       "    <tr>\n",
       "      <th>STRKDX</th>\n",
       "      <td>Stroke Diagnosis</td>\n",
       "      <td>Categorical</td>\n",
       "    </tr>\n",
       "    <tr>\n",
       "      <th>EMPHDX</th>\n",
       "      <td>Emphysema Diagnosis</td>\n",
       "      <td>Categorical</td>\n",
       "    </tr>\n",
       "    <tr>\n",
       "      <th>CHBRON</th>\n",
       "      <td>Chronic Bronchitis (&gt; 12 Months) Diagnosis</td>\n",
       "      <td>Categorical</td>\n",
       "    </tr>\n",
       "    <tr>\n",
       "      <th>CHOLDX</th>\n",
       "      <td>High Cholesterol Diagnosis</td>\n",
       "      <td>Categorical</td>\n",
       "    </tr>\n",
       "    <tr>\n",
       "      <th>CANCERDX</th>\n",
       "      <td>Cancer Diagnosis</td>\n",
       "      <td>Categorical</td>\n",
       "    </tr>\n",
       "    <tr>\n",
       "      <th>DIABDX</th>\n",
       "      <td>Diabetes Diagnosis</td>\n",
       "      <td>Categorical</td>\n",
       "    </tr>\n",
       "    <tr>\n",
       "      <th>JTPAIN</th>\n",
       "      <td>Joint Pain (&gt; 12 Months) Diagnosis</td>\n",
       "      <td>Categorical</td>\n",
       "    </tr>\n",
       "    <tr>\n",
       "      <th>ARTHDX</th>\n",
       "      <td>Arthritis Diagnosis</td>\n",
       "      <td>Categorical</td>\n",
       "    </tr>\n",
       "    <tr>\n",
       "      <th>ARTHTYPE</th>\n",
       "      <td>Arthritis Type</td>\n",
       "      <td>Categorical</td>\n",
       "    </tr>\n",
       "    <tr>\n",
       "      <th>ASTHDX</th>\n",
       "      <td>Asthma Diagnosis</td>\n",
       "      <td>Categorical</td>\n",
       "    </tr>\n",
       "    <tr>\n",
       "      <th>ADHDADDX</th>\n",
       "      <td>ADHD ADD Diagnois</td>\n",
       "      <td>Categorical</td>\n",
       "    </tr>\n",
       "    <tr>\n",
       "      <th>PREGNT</th>\n",
       "      <td>Pregnancy Status</td>\n",
       "      <td>Categorical</td>\n",
       "    </tr>\n",
       "    <tr>\n",
       "      <th>WLKLIM</th>\n",
       "      <td>Limitation in Physical Activity</td>\n",
       "      <td>Categorical</td>\n",
       "    </tr>\n",
       "    <tr>\n",
       "      <th>ACTLIM</th>\n",
       "      <td>Limitation in Work, Housework, School</td>\n",
       "      <td>Categorical</td>\n",
       "    </tr>\n",
       "    <tr>\n",
       "      <th>SOCLIM</th>\n",
       "      <td>Social Limitations</td>\n",
       "      <td>Categorical</td>\n",
       "    </tr>\n",
       "    <tr>\n",
       "      <th>COGLIM</th>\n",
       "      <td>Cognitive Limitations</td>\n",
       "      <td>Categorical</td>\n",
       "    </tr>\n",
       "    <tr>\n",
       "      <th>DFHEAR42</th>\n",
       "      <td>Serious Difficulty Hearing</td>\n",
       "      <td>Categorical</td>\n",
       "    </tr>\n",
       "    <tr>\n",
       "      <th>DFSEE42</th>\n",
       "      <td>Serious Difficulty Seeing with Glasses</td>\n",
       "      <td>Categorical</td>\n",
       "    </tr>\n",
       "    <tr>\n",
       "      <th>ADSMOK42</th>\n",
       "      <td>Currently Smoke</td>\n",
       "      <td>Categorical</td>\n",
       "    </tr>\n",
       "    <tr>\n",
       "      <th>PCS42</th>\n",
       "      <td>Physical Component Summary</td>\n",
       "      <td>Numerical</td>\n",
       "    </tr>\n",
       "    <tr>\n",
       "      <th>MCS42</th>\n",
       "      <td>Mental Component Summary</td>\n",
       "      <td>Numerical</td>\n",
       "    </tr>\n",
       "    <tr>\n",
       "      <th>K6SUM42</th>\n",
       "      <td>Overall Rating of Feelings 30 Days</td>\n",
       "      <td>Categorical</td>\n",
       "    </tr>\n",
       "    <tr>\n",
       "      <th>PHQ242</th>\n",
       "      <td>Overall Rating of Feelings 2 Weeks</td>\n",
       "      <td>Categorical</td>\n",
       "    </tr>\n",
       "    <tr>\n",
       "      <th>EMPST</th>\n",
       "      <td>Employment Status</td>\n",
       "      <td>Categorical</td>\n",
       "    </tr>\n",
       "    <tr>\n",
       "      <th>POVCAT</th>\n",
       "      <td>Family Income as Percent of Poverty Line</td>\n",
       "      <td>Categorical</td>\n",
       "    </tr>\n",
       "    <tr>\n",
       "      <th>INSCOV</th>\n",
       "      <td>Health Insurance Coverage</td>\n",
       "      <td>Categorical</td>\n",
       "    </tr>\n",
       "    <tr>\n",
       "      <th>UTILIZATION</th>\n",
       "      <td>Utilization Based on Number of Trips</td>\n",
       "      <td>Categorical</td>\n",
       "    </tr>\n",
       "    <tr>\n",
       "      <th>PERWT15F</th>\n",
       "      <td>Final Person Statistical Weight</td>\n",
       "      <td>Numerical</td>\n",
       "    </tr>\n",
       "  </tbody>\n",
       "</table>\n",
       "</div>"
      ],
      "text/plain": [
       "                                            Description    Data Type\n",
       "REGION                                           Region  Categorical\n",
       "AGE                                                 Age    Numerical\n",
       "SEX                                                 Sex  Categorical\n",
       "RACE                                               Race  Categorical\n",
       "MARRY                                    Marital Status  Categorical\n",
       "FTSTU                                    Student Status  Categorical\n",
       "ACTDTY                                  Military Status  Categorical\n",
       "HONRDC                       Honorable Discharge Status  Categorical\n",
       "RTHLTH                          Percieved Health Status  Categorical\n",
       "MNHLTH                             Mental Health Status  Categorical\n",
       "HIBPDX                    High Blood Pressure Diagnosis  Categorical\n",
       "CHDDX                  Coronary Heart Disease Diagnosis  Categorical\n",
       "ANGIDX                                 Angina Diagnosis  Categorical\n",
       "MIDX                        Heart Attack (MI) Diagnosis  Categorical\n",
       "OHRTDX                    Other Heart Disease Diagnosis  Categorical\n",
       "STRKDX                                 Stroke Diagnosis  Categorical\n",
       "EMPHDX                              Emphysema Diagnosis  Categorical\n",
       "CHBRON       Chronic Bronchitis (> 12 Months) Diagnosis  Categorical\n",
       "CHOLDX                       High Cholesterol Diagnosis  Categorical\n",
       "CANCERDX                               Cancer Diagnosis  Categorical\n",
       "DIABDX                               Diabetes Diagnosis  Categorical\n",
       "JTPAIN               Joint Pain (> 12 Months) Diagnosis  Categorical\n",
       "ARTHDX                              Arthritis Diagnosis  Categorical\n",
       "ARTHTYPE                                 Arthritis Type  Categorical\n",
       "ASTHDX                                 Asthma Diagnosis  Categorical\n",
       "ADHDADDX                              ADHD ADD Diagnois  Categorical\n",
       "PREGNT                                 Pregnancy Status  Categorical\n",
       "WLKLIM                  Limitation in Physical Activity  Categorical\n",
       "ACTLIM            Limitation in Work, Housework, School  Categorical\n",
       "SOCLIM                               Social Limitations  Categorical\n",
       "COGLIM                            Cognitive Limitations  Categorical\n",
       "DFHEAR42                     Serious Difficulty Hearing  Categorical\n",
       "DFSEE42          Serious Difficulty Seeing with Glasses  Categorical\n",
       "ADSMOK42                                Currently Smoke  Categorical\n",
       "PCS42                        Physical Component Summary    Numerical\n",
       "MCS42                          Mental Component Summary    Numerical\n",
       "K6SUM42              Overall Rating of Feelings 30 Days  Categorical\n",
       "PHQ242               Overall Rating of Feelings 2 Weeks  Categorical\n",
       "EMPST                                 Employment Status  Categorical\n",
       "POVCAT         Family Income as Percent of Poverty Line  Categorical\n",
       "INSCOV                        Health Insurance Coverage  Categorical\n",
       "UTILIZATION        Utilization Based on Number of Trips  Categorical\n",
       "PERWT15F                Final Person Statistical Weight    Numerical"
      ]
     },
     "execution_count": 8,
     "metadata": {},
     "output_type": "execute_result"
    }
   ],
   "source": [
    "# Identify feature names\n",
    "# Check for categorical features\n",
    "feat = ['REGION','AGE','SEX','RACE','MARRY',\n",
    "                                 'FTSTU','ACTDTY','HONRDC','RTHLTH','MNHLTH','HIBPDX','CHDDX','ANGIDX',\n",
    "                                 'MIDX','OHRTDX','STRKDX','EMPHDX','CHBRON','CHOLDX','CANCERDX','DIABDX',\n",
    "                                 'JTPAIN','ARTHDX','ARTHTYPE','ASTHDX','ADHDADDX','PREGNT','WLKLIM',\n",
    "                                 'ACTLIM','SOCLIM','COGLIM','DFHEAR42','DFSEE42', 'ADSMOK42',\n",
    "                                 'PCS42','MCS42','K6SUM42','PHQ242','EMPST','POVCAT','INSCOV','UTILIZATION', 'PERWT15F']\n",
    "d = [['Region', 'Categorical'], ['Age', 'Numerical'], ['Sex', 'Categorical'], ['Race', 'Categorical'],\n",
    "     ['Marital Status', 'Categorical'], ['Student Status', 'Categorical'], ['Military Status', 'Categorical'],\n",
    "     ['Honorable Discharge Status', 'Categorical'], ['Percieved Health Status', 'Categorical'],\n",
    "     ['Mental Health Status', 'Categorical'], ['High Blood Pressure Diagnosis', 'Categorical'],\n",
    "     ['Coronary Heart Disease Diagnosis', 'Categorical'], ['Angina Diagnosis', 'Categorical'],\n",
    "     ['Heart Attack (MI) Diagnosis', 'Categorical'], ['Other Heart Disease Diagnosis', 'Categorical'],\n",
    "     ['Stroke Diagnosis', 'Categorical'], ['Emphysema Diagnosis', 'Categorical'],\n",
    "     ['Chronic Bronchitis (> 12 Months) Diagnosis', 'Categorical'], ['High Cholesterol Diagnosis', 'Categorical'],\n",
    "     ['Cancer Diagnosis', 'Categorical'], ['Diabetes Diagnosis', 'Categorical'],\n",
    "     ['Joint Pain (> 12 Months) Diagnosis', 'Categorical'], ['Arthritis Diagnosis', 'Categorical'],\n",
    "     ['Arthritis Type', 'Categorical'], ['Asthma Diagnosis', 'Categorical'], ['ADHD ADD Diagnois', 'Categorical'],\n",
    "     ['Pregnancy Status', 'Categorical'], ['Limitation in Physical Activity', 'Categorical'],\n",
    "     ['Limitation in Work, Housework, School', 'Categorical'], ['Social Limitations', 'Categorical'],\n",
    "     ['Cognitive Limitations', 'Categorical'], ['Serious Difficulty Hearing', 'Categorical'],\n",
    "     ['Serious Difficulty Seeing with Glasses', 'Categorical'], ['Currently Smoke', 'Categorical'],\n",
    "     ['Physical Component Summary', 'Numerical'], ['Mental Component Summary', 'Numerical'],\n",
    "     ['Overall Rating of Feelings 30 Days', 'Categorical'], ['Overall Rating of Feelings 2 Weeks', 'Categorical'],\n",
    "     ['Employment Status', 'Categorical'], ['Family Income as Percent of Poverty Line', 'Categorical'],\n",
    "     ['Health Insurance Coverage', 'Categorical'], ['Utilization Based on Number of Trips', 'Categorical'],\n",
    "     ['Final Person Statistical Weight', 'Numerical']]\n",
    "feature_key = pd.DataFrame(data=d, index=feat, columns = ['Description', 'Data Type'])\n",
    "feature_key"
   ]
  },
  {
   "cell_type": "code",
   "execution_count": 9,
   "id": "aa5a954b-21cf-4ac0-8b74-db364507f68d",
   "metadata": {},
   "outputs": [],
   "source": [
    "numerical_features = feature_key[feature_key['Data Type'] == 'Numerical']\n",
    "# fix later"
   ]
  },
  {
   "cell_type": "code",
   "execution_count": 10,
   "id": "0d0858de-a75d-4b12-9305-d51613d2226e",
   "metadata": {},
   "outputs": [
    {
     "data": {
      "text/html": [
       "<div>\n",
       "<style scoped>\n",
       "    .dataframe tbody tr th:only-of-type {\n",
       "        vertical-align: middle;\n",
       "    }\n",
       "\n",
       "    .dataframe tbody tr th {\n",
       "        vertical-align: top;\n",
       "    }\n",
       "\n",
       "    .dataframe thead th {\n",
       "        text-align: right;\n",
       "    }\n",
       "</style>\n",
       "<table border=\"1\" class=\"dataframe\">\n",
       "  <thead>\n",
       "    <tr style=\"text-align: right;\">\n",
       "      <th></th>\n",
       "      <th>count</th>\n",
       "      <th>mean</th>\n",
       "      <th>std</th>\n",
       "      <th>min</th>\n",
       "      <th>25%</th>\n",
       "      <th>50%</th>\n",
       "      <th>75%</th>\n",
       "      <th>max</th>\n",
       "    </tr>\n",
       "  </thead>\n",
       "  <tbody>\n",
       "    <tr>\n",
       "      <th>REGION</th>\n",
       "      <td>15830.0</td>\n",
       "      <td>2.825584</td>\n",
       "      <td>1.002033</td>\n",
       "      <td>1.0</td>\n",
       "      <td>2.000000</td>\n",
       "      <td>3.000000</td>\n",
       "      <td>4.000000</td>\n",
       "      <td>4.000000</td>\n",
       "    </tr>\n",
       "    <tr>\n",
       "      <th>AGE</th>\n",
       "      <td>15830.0</td>\n",
       "      <td>35.090461</td>\n",
       "      <td>22.475549</td>\n",
       "      <td>0.0</td>\n",
       "      <td>15.000000</td>\n",
       "      <td>33.000000</td>\n",
       "      <td>53.000000</td>\n",
       "      <td>85.000000</td>\n",
       "    </tr>\n",
       "    <tr>\n",
       "      <th>SEX</th>\n",
       "      <td>15830.0</td>\n",
       "      <td>1.521162</td>\n",
       "      <td>0.499568</td>\n",
       "      <td>1.0</td>\n",
       "      <td>1.000000</td>\n",
       "      <td>2.000000</td>\n",
       "      <td>2.000000</td>\n",
       "      <td>2.000000</td>\n",
       "    </tr>\n",
       "    <tr>\n",
       "      <th>MARRY</th>\n",
       "      <td>15830.0</td>\n",
       "      <td>3.661213</td>\n",
       "      <td>2.121255</td>\n",
       "      <td>1.0</td>\n",
       "      <td>1.000000</td>\n",
       "      <td>5.000000</td>\n",
       "      <td>6.000000</td>\n",
       "      <td>10.000000</td>\n",
       "    </tr>\n",
       "    <tr>\n",
       "      <th>FTSTU</th>\n",
       "      <td>15830.0</td>\n",
       "      <td>-0.720088</td>\n",
       "      <td>0.910025</td>\n",
       "      <td>-1.0</td>\n",
       "      <td>-1.000000</td>\n",
       "      <td>-1.000000</td>\n",
       "      <td>-1.000000</td>\n",
       "      <td>3.000000</td>\n",
       "    </tr>\n",
       "    <tr>\n",
       "      <th>ACTDTY</th>\n",
       "      <td>15830.0</td>\n",
       "      <td>2.581364</td>\n",
       "      <td>0.758747</td>\n",
       "      <td>1.0</td>\n",
       "      <td>2.000000</td>\n",
       "      <td>2.000000</td>\n",
       "      <td>3.000000</td>\n",
       "      <td>4.000000</td>\n",
       "    </tr>\n",
       "    <tr>\n",
       "      <th>HONRDC</th>\n",
       "      <td>15830.0</td>\n",
       "      <td>2.224889</td>\n",
       "      <td>0.512242</td>\n",
       "      <td>1.0</td>\n",
       "      <td>2.000000</td>\n",
       "      <td>2.000000</td>\n",
       "      <td>3.000000</td>\n",
       "      <td>4.000000</td>\n",
       "    </tr>\n",
       "    <tr>\n",
       "      <th>RTHLTH</th>\n",
       "      <td>15830.0</td>\n",
       "      <td>2.187871</td>\n",
       "      <td>1.054677</td>\n",
       "      <td>-1.0</td>\n",
       "      <td>1.000000</td>\n",
       "      <td>2.000000</td>\n",
       "      <td>3.000000</td>\n",
       "      <td>5.000000</td>\n",
       "    </tr>\n",
       "    <tr>\n",
       "      <th>MNHLTH</th>\n",
       "      <td>15830.0</td>\n",
       "      <td>1.993051</td>\n",
       "      <td>1.002657</td>\n",
       "      <td>-1.0</td>\n",
       "      <td>1.000000</td>\n",
       "      <td>2.000000</td>\n",
       "      <td>3.000000</td>\n",
       "      <td>5.000000</td>\n",
       "    </tr>\n",
       "    <tr>\n",
       "      <th>HIBPDX</th>\n",
       "      <td>15830.0</td>\n",
       "      <td>0.918067</td>\n",
       "      <td>1.267763</td>\n",
       "      <td>-1.0</td>\n",
       "      <td>-1.000000</td>\n",
       "      <td>1.000000</td>\n",
       "      <td>2.000000</td>\n",
       "      <td>2.000000</td>\n",
       "    </tr>\n",
       "    <tr>\n",
       "      <th>CHDDX</th>\n",
       "      <td>15830.0</td>\n",
       "      <td>1.114908</td>\n",
       "      <td>1.340741</td>\n",
       "      <td>-1.0</td>\n",
       "      <td>-1.000000</td>\n",
       "      <td>2.000000</td>\n",
       "      <td>2.000000</td>\n",
       "      <td>2.000000</td>\n",
       "    </tr>\n",
       "    <tr>\n",
       "      <th>ANGIDX</th>\n",
       "      <td>15830.0</td>\n",
       "      <td>1.135629</td>\n",
       "      <td>1.346520</td>\n",
       "      <td>-1.0</td>\n",
       "      <td>-1.000000</td>\n",
       "      <td>2.000000</td>\n",
       "      <td>2.000000</td>\n",
       "      <td>2.000000</td>\n",
       "    </tr>\n",
       "    <tr>\n",
       "      <th>MIDX</th>\n",
       "      <td>15830.0</td>\n",
       "      <td>1.127922</td>\n",
       "      <td>1.344410</td>\n",
       "      <td>-1.0</td>\n",
       "      <td>-1.000000</td>\n",
       "      <td>2.000000</td>\n",
       "      <td>2.000000</td>\n",
       "      <td>2.000000</td>\n",
       "    </tr>\n",
       "    <tr>\n",
       "      <th>OHRTDX</th>\n",
       "      <td>15830.0</td>\n",
       "      <td>1.078143</td>\n",
       "      <td>1.329630</td>\n",
       "      <td>-1.0</td>\n",
       "      <td>-1.000000</td>\n",
       "      <td>2.000000</td>\n",
       "      <td>2.000000</td>\n",
       "      <td>2.000000</td>\n",
       "    </tr>\n",
       "    <tr>\n",
       "      <th>STRKDX</th>\n",
       "      <td>15830.0</td>\n",
       "      <td>1.123752</td>\n",
       "      <td>1.343250</td>\n",
       "      <td>-1.0</td>\n",
       "      <td>-1.000000</td>\n",
       "      <td>2.000000</td>\n",
       "      <td>2.000000</td>\n",
       "      <td>2.000000</td>\n",
       "    </tr>\n",
       "    <tr>\n",
       "      <th>EMPHDX</th>\n",
       "      <td>15830.0</td>\n",
       "      <td>1.138471</td>\n",
       "      <td>1.347286</td>\n",
       "      <td>-1.0</td>\n",
       "      <td>-1.000000</td>\n",
       "      <td>2.000000</td>\n",
       "      <td>2.000000</td>\n",
       "      <td>2.000000</td>\n",
       "    </tr>\n",
       "    <tr>\n",
       "      <th>CHBRON</th>\n",
       "      <td>15830.0</td>\n",
       "      <td>1.136450</td>\n",
       "      <td>1.348992</td>\n",
       "      <td>-1.0</td>\n",
       "      <td>-1.000000</td>\n",
       "      <td>2.000000</td>\n",
       "      <td>2.000000</td>\n",
       "      <td>2.000000</td>\n",
       "    </tr>\n",
       "    <tr>\n",
       "      <th>CHOLDX</th>\n",
       "      <td>15830.0</td>\n",
       "      <td>0.940114</td>\n",
       "      <td>1.277653</td>\n",
       "      <td>-1.0</td>\n",
       "      <td>-1.000000</td>\n",
       "      <td>2.000000</td>\n",
       "      <td>2.000000</td>\n",
       "      <td>2.000000</td>\n",
       "    </tr>\n",
       "    <tr>\n",
       "      <th>CANCERDX</th>\n",
       "      <td>15830.0</td>\n",
       "      <td>1.090587</td>\n",
       "      <td>1.333515</td>\n",
       "      <td>-1.0</td>\n",
       "      <td>-1.000000</td>\n",
       "      <td>2.000000</td>\n",
       "      <td>2.000000</td>\n",
       "      <td>2.000000</td>\n",
       "    </tr>\n",
       "    <tr>\n",
       "      <th>DIABDX</th>\n",
       "      <td>15830.0</td>\n",
       "      <td>1.075679</td>\n",
       "      <td>1.328846</td>\n",
       "      <td>-1.0</td>\n",
       "      <td>-1.000000</td>\n",
       "      <td>2.000000</td>\n",
       "      <td>2.000000</td>\n",
       "      <td>2.000000</td>\n",
       "    </tr>\n",
       "    <tr>\n",
       "      <th>JTPAIN</th>\n",
       "      <td>15830.0</td>\n",
       "      <td>0.920910</td>\n",
       "      <td>1.271451</td>\n",
       "      <td>-1.0</td>\n",
       "      <td>-1.000000</td>\n",
       "      <td>1.000000</td>\n",
       "      <td>2.000000</td>\n",
       "      <td>2.000000</td>\n",
       "    </tr>\n",
       "    <tr>\n",
       "      <th>ARTHDX</th>\n",
       "      <td>15830.0</td>\n",
       "      <td>0.966582</td>\n",
       "      <td>1.288929</td>\n",
       "      <td>-1.0</td>\n",
       "      <td>-1.000000</td>\n",
       "      <td>2.000000</td>\n",
       "      <td>2.000000</td>\n",
       "      <td>2.000000</td>\n",
       "    </tr>\n",
       "    <tr>\n",
       "      <th>ARTHTYPE</th>\n",
       "      <td>15830.0</td>\n",
       "      <td>-0.379469</td>\n",
       "      <td>1.338561</td>\n",
       "      <td>-1.0</td>\n",
       "      <td>-1.000000</td>\n",
       "      <td>-1.000000</td>\n",
       "      <td>-1.000000</td>\n",
       "      <td>3.000000</td>\n",
       "    </tr>\n",
       "    <tr>\n",
       "      <th>ASTHDX</th>\n",
       "      <td>15830.0</td>\n",
       "      <td>1.906759</td>\n",
       "      <td>0.290779</td>\n",
       "      <td>1.0</td>\n",
       "      <td>2.000000</td>\n",
       "      <td>2.000000</td>\n",
       "      <td>2.000000</td>\n",
       "      <td>2.000000</td>\n",
       "    </tr>\n",
       "    <tr>\n",
       "      <th>ADHDADDX</th>\n",
       "      <td>15830.0</td>\n",
       "      <td>-0.304296</td>\n",
       "      <td>1.245504</td>\n",
       "      <td>-1.0</td>\n",
       "      <td>-1.000000</td>\n",
       "      <td>-1.000000</td>\n",
       "      <td>-1.000000</td>\n",
       "      <td>2.000000</td>\n",
       "    </tr>\n",
       "    <tr>\n",
       "      <th>PREGNT</th>\n",
       "      <td>15830.0</td>\n",
       "      <td>-0.393178</td>\n",
       "      <td>1.195652</td>\n",
       "      <td>-1.0</td>\n",
       "      <td>-1.000000</td>\n",
       "      <td>-1.000000</td>\n",
       "      <td>-1.000000</td>\n",
       "      <td>2.000000</td>\n",
       "    </tr>\n",
       "    <tr>\n",
       "      <th>WLKLIM</th>\n",
       "      <td>15830.0</td>\n",
       "      <td>1.900569</td>\n",
       "      <td>0.310441</td>\n",
       "      <td>-1.0</td>\n",
       "      <td>2.000000</td>\n",
       "      <td>2.000000</td>\n",
       "      <td>2.000000</td>\n",
       "      <td>2.000000</td>\n",
       "    </tr>\n",
       "    <tr>\n",
       "      <th>ACTLIM</th>\n",
       "      <td>15830.0</td>\n",
       "      <td>1.713898</td>\n",
       "      <td>0.784799</td>\n",
       "      <td>-1.0</td>\n",
       "      <td>2.000000</td>\n",
       "      <td>2.000000</td>\n",
       "      <td>2.000000</td>\n",
       "      <td>2.000000</td>\n",
       "    </tr>\n",
       "    <tr>\n",
       "      <th>SOCLIM</th>\n",
       "      <td>15830.0</td>\n",
       "      <td>1.952369</td>\n",
       "      <td>0.228447</td>\n",
       "      <td>-1.0</td>\n",
       "      <td>2.000000</td>\n",
       "      <td>2.000000</td>\n",
       "      <td>2.000000</td>\n",
       "      <td>2.000000</td>\n",
       "    </tr>\n",
       "    <tr>\n",
       "      <th>COGLIM</th>\n",
       "      <td>15830.0</td>\n",
       "      <td>1.106759</td>\n",
       "      <td>1.340637</td>\n",
       "      <td>-1.0</td>\n",
       "      <td>-1.000000</td>\n",
       "      <td>2.000000</td>\n",
       "      <td>2.000000</td>\n",
       "      <td>2.000000</td>\n",
       "    </tr>\n",
       "    <tr>\n",
       "      <th>DFHEAR42</th>\n",
       "      <td>15830.0</td>\n",
       "      <td>1.900821</td>\n",
       "      <td>0.473993</td>\n",
       "      <td>-1.0</td>\n",
       "      <td>2.000000</td>\n",
       "      <td>2.000000</td>\n",
       "      <td>2.000000</td>\n",
       "      <td>2.000000</td>\n",
       "    </tr>\n",
       "    <tr>\n",
       "      <th>DFSEE42</th>\n",
       "      <td>15830.0</td>\n",
       "      <td>1.905054</td>\n",
       "      <td>0.470381</td>\n",
       "      <td>-1.0</td>\n",
       "      <td>2.000000</td>\n",
       "      <td>2.000000</td>\n",
       "      <td>2.000000</td>\n",
       "      <td>2.000000</td>\n",
       "    </tr>\n",
       "    <tr>\n",
       "      <th>ADSMOK42</th>\n",
       "      <td>15830.0</td>\n",
       "      <td>0.726153</td>\n",
       "      <td>1.419339</td>\n",
       "      <td>-1.0</td>\n",
       "      <td>-1.000000</td>\n",
       "      <td>2.000000</td>\n",
       "      <td>2.000000</td>\n",
       "      <td>2.000000</td>\n",
       "    </tr>\n",
       "    <tr>\n",
       "      <th>PCS42</th>\n",
       "      <td>15830.0</td>\n",
       "      <td>29.358455</td>\n",
       "      <td>25.996522</td>\n",
       "      <td>-9.0</td>\n",
       "      <td>-1.000000</td>\n",
       "      <td>39.505000</td>\n",
       "      <td>54.800000</td>\n",
       "      <td>72.070000</td>\n",
       "    </tr>\n",
       "    <tr>\n",
       "      <th>MCS42</th>\n",
       "      <td>15830.0</td>\n",
       "      <td>30.851517</td>\n",
       "      <td>26.968146</td>\n",
       "      <td>-9.0</td>\n",
       "      <td>-1.000000</td>\n",
       "      <td>42.480000</td>\n",
       "      <td>56.580000</td>\n",
       "      <td>75.510000</td>\n",
       "    </tr>\n",
       "    <tr>\n",
       "      <th>K6SUM42</th>\n",
       "      <td>15830.0</td>\n",
       "      <td>1.274289</td>\n",
       "      <td>3.955331</td>\n",
       "      <td>-9.0</td>\n",
       "      <td>-1.000000</td>\n",
       "      <td>0.000000</td>\n",
       "      <td>2.000000</td>\n",
       "      <td>24.000000</td>\n",
       "    </tr>\n",
       "    <tr>\n",
       "      <th>PHQ242</th>\n",
       "      <td>15830.0</td>\n",
       "      <td>-0.003853</td>\n",
       "      <td>1.278136</td>\n",
       "      <td>-1.0</td>\n",
       "      <td>-1.000000</td>\n",
       "      <td>0.000000</td>\n",
       "      <td>0.000000</td>\n",
       "      <td>6.000000</td>\n",
       "    </tr>\n",
       "    <tr>\n",
       "      <th>EMPST</th>\n",
       "      <td>15830.0</td>\n",
       "      <td>1.375426</td>\n",
       "      <td>1.854929</td>\n",
       "      <td>-1.0</td>\n",
       "      <td>-1.000000</td>\n",
       "      <td>1.000000</td>\n",
       "      <td>4.000000</td>\n",
       "      <td>4.000000</td>\n",
       "    </tr>\n",
       "    <tr>\n",
       "      <th>POVCAT</th>\n",
       "      <td>15830.0</td>\n",
       "      <td>3.298547</td>\n",
       "      <td>1.476351</td>\n",
       "      <td>1.0</td>\n",
       "      <td>2.000000</td>\n",
       "      <td>4.000000</td>\n",
       "      <td>5.000000</td>\n",
       "      <td>5.000000</td>\n",
       "    </tr>\n",
       "    <tr>\n",
       "      <th>INSCOV</th>\n",
       "      <td>15830.0</td>\n",
       "      <td>1.585344</td>\n",
       "      <td>0.688718</td>\n",
       "      <td>1.0</td>\n",
       "      <td>1.000000</td>\n",
       "      <td>1.000000</td>\n",
       "      <td>2.000000</td>\n",
       "      <td>3.000000</td>\n",
       "    </tr>\n",
       "    <tr>\n",
       "      <th>UTILIZATION</th>\n",
       "      <td>15830.0</td>\n",
       "      <td>0.171699</td>\n",
       "      <td>0.377131</td>\n",
       "      <td>0.0</td>\n",
       "      <td>0.000000</td>\n",
       "      <td>0.000000</td>\n",
       "      <td>0.000000</td>\n",
       "      <td>1.000000</td>\n",
       "    </tr>\n",
       "    <tr>\n",
       "      <th>PERWT15F</th>\n",
       "      <td>15830.0</td>\n",
       "      <td>8930.337369</td>\n",
       "      <td>8521.260446</td>\n",
       "      <td>0.0</td>\n",
       "      <td>3428.548713</td>\n",
       "      <td>6146.458935</td>\n",
       "      <td>11749.810086</td>\n",
       "      <td>94264.071559</td>\n",
       "    </tr>\n",
       "  </tbody>\n",
       "</table>\n",
       "</div>"
      ],
      "text/plain": [
       "               count         mean          std  min          25%          50%  \\\n",
       "REGION       15830.0     2.825584     1.002033  1.0     2.000000     3.000000   \n",
       "AGE          15830.0    35.090461    22.475549  0.0    15.000000    33.000000   \n",
       "SEX          15830.0     1.521162     0.499568  1.0     1.000000     2.000000   \n",
       "MARRY        15830.0     3.661213     2.121255  1.0     1.000000     5.000000   \n",
       "FTSTU        15830.0    -0.720088     0.910025 -1.0    -1.000000    -1.000000   \n",
       "ACTDTY       15830.0     2.581364     0.758747  1.0     2.000000     2.000000   \n",
       "HONRDC       15830.0     2.224889     0.512242  1.0     2.000000     2.000000   \n",
       "RTHLTH       15830.0     2.187871     1.054677 -1.0     1.000000     2.000000   \n",
       "MNHLTH       15830.0     1.993051     1.002657 -1.0     1.000000     2.000000   \n",
       "HIBPDX       15830.0     0.918067     1.267763 -1.0    -1.000000     1.000000   \n",
       "CHDDX        15830.0     1.114908     1.340741 -1.0    -1.000000     2.000000   \n",
       "ANGIDX       15830.0     1.135629     1.346520 -1.0    -1.000000     2.000000   \n",
       "MIDX         15830.0     1.127922     1.344410 -1.0    -1.000000     2.000000   \n",
       "OHRTDX       15830.0     1.078143     1.329630 -1.0    -1.000000     2.000000   \n",
       "STRKDX       15830.0     1.123752     1.343250 -1.0    -1.000000     2.000000   \n",
       "EMPHDX       15830.0     1.138471     1.347286 -1.0    -1.000000     2.000000   \n",
       "CHBRON       15830.0     1.136450     1.348992 -1.0    -1.000000     2.000000   \n",
       "CHOLDX       15830.0     0.940114     1.277653 -1.0    -1.000000     2.000000   \n",
       "CANCERDX     15830.0     1.090587     1.333515 -1.0    -1.000000     2.000000   \n",
       "DIABDX       15830.0     1.075679     1.328846 -1.0    -1.000000     2.000000   \n",
       "JTPAIN       15830.0     0.920910     1.271451 -1.0    -1.000000     1.000000   \n",
       "ARTHDX       15830.0     0.966582     1.288929 -1.0    -1.000000     2.000000   \n",
       "ARTHTYPE     15830.0    -0.379469     1.338561 -1.0    -1.000000    -1.000000   \n",
       "ASTHDX       15830.0     1.906759     0.290779  1.0     2.000000     2.000000   \n",
       "ADHDADDX     15830.0    -0.304296     1.245504 -1.0    -1.000000    -1.000000   \n",
       "PREGNT       15830.0    -0.393178     1.195652 -1.0    -1.000000    -1.000000   \n",
       "WLKLIM       15830.0     1.900569     0.310441 -1.0     2.000000     2.000000   \n",
       "ACTLIM       15830.0     1.713898     0.784799 -1.0     2.000000     2.000000   \n",
       "SOCLIM       15830.0     1.952369     0.228447 -1.0     2.000000     2.000000   \n",
       "COGLIM       15830.0     1.106759     1.340637 -1.0    -1.000000     2.000000   \n",
       "DFHEAR42     15830.0     1.900821     0.473993 -1.0     2.000000     2.000000   \n",
       "DFSEE42      15830.0     1.905054     0.470381 -1.0     2.000000     2.000000   \n",
       "ADSMOK42     15830.0     0.726153     1.419339 -1.0    -1.000000     2.000000   \n",
       "PCS42        15830.0    29.358455    25.996522 -9.0    -1.000000    39.505000   \n",
       "MCS42        15830.0    30.851517    26.968146 -9.0    -1.000000    42.480000   \n",
       "K6SUM42      15830.0     1.274289     3.955331 -9.0    -1.000000     0.000000   \n",
       "PHQ242       15830.0    -0.003853     1.278136 -1.0    -1.000000     0.000000   \n",
       "EMPST        15830.0     1.375426     1.854929 -1.0    -1.000000     1.000000   \n",
       "POVCAT       15830.0     3.298547     1.476351  1.0     2.000000     4.000000   \n",
       "INSCOV       15830.0     1.585344     0.688718  1.0     1.000000     1.000000   \n",
       "UTILIZATION  15830.0     0.171699     0.377131  0.0     0.000000     0.000000   \n",
       "PERWT15F     15830.0  8930.337369  8521.260446  0.0  3428.548713  6146.458935   \n",
       "\n",
       "                      75%           max  \n",
       "REGION           4.000000      4.000000  \n",
       "AGE             53.000000     85.000000  \n",
       "SEX              2.000000      2.000000  \n",
       "MARRY            6.000000     10.000000  \n",
       "FTSTU           -1.000000      3.000000  \n",
       "ACTDTY           3.000000      4.000000  \n",
       "HONRDC           3.000000      4.000000  \n",
       "RTHLTH           3.000000      5.000000  \n",
       "MNHLTH           3.000000      5.000000  \n",
       "HIBPDX           2.000000      2.000000  \n",
       "CHDDX            2.000000      2.000000  \n",
       "ANGIDX           2.000000      2.000000  \n",
       "MIDX             2.000000      2.000000  \n",
       "OHRTDX           2.000000      2.000000  \n",
       "STRKDX           2.000000      2.000000  \n",
       "EMPHDX           2.000000      2.000000  \n",
       "CHBRON           2.000000      2.000000  \n",
       "CHOLDX           2.000000      2.000000  \n",
       "CANCERDX         2.000000      2.000000  \n",
       "DIABDX           2.000000      2.000000  \n",
       "JTPAIN           2.000000      2.000000  \n",
       "ARTHDX           2.000000      2.000000  \n",
       "ARTHTYPE        -1.000000      3.000000  \n",
       "ASTHDX           2.000000      2.000000  \n",
       "ADHDADDX        -1.000000      2.000000  \n",
       "PREGNT          -1.000000      2.000000  \n",
       "WLKLIM           2.000000      2.000000  \n",
       "ACTLIM           2.000000      2.000000  \n",
       "SOCLIM           2.000000      2.000000  \n",
       "COGLIM           2.000000      2.000000  \n",
       "DFHEAR42         2.000000      2.000000  \n",
       "DFSEE42          2.000000      2.000000  \n",
       "ADSMOK42         2.000000      2.000000  \n",
       "PCS42           54.800000     72.070000  \n",
       "MCS42           56.580000     75.510000  \n",
       "K6SUM42          2.000000     24.000000  \n",
       "PHQ242           0.000000      6.000000  \n",
       "EMPST            4.000000      4.000000  \n",
       "POVCAT           5.000000      5.000000  \n",
       "INSCOV           2.000000      3.000000  \n",
       "UTILIZATION      0.000000      1.000000  \n",
       "PERWT15F     11749.810086  94264.071559  "
      ]
     },
     "execution_count": 10,
     "metadata": {},
     "output_type": "execute_result"
    }
   ],
   "source": [
    "df_panel_19_reduced.describe().T"
   ]
  },
  {
   "cell_type": "code",
   "execution_count": 11,
   "id": "b909ddc9-e7ab-4f65-ba42-a43d4c4a31c9",
   "metadata": {},
   "outputs": [
    {
     "data": {
      "text/html": [
       "<div>\n",
       "<style scoped>\n",
       "    .dataframe tbody tr th:only-of-type {\n",
       "        vertical-align: middle;\n",
       "    }\n",
       "\n",
       "    .dataframe tbody tr th {\n",
       "        vertical-align: top;\n",
       "    }\n",
       "\n",
       "    .dataframe thead th {\n",
       "        text-align: right;\n",
       "    }\n",
       "</style>\n",
       "<table border=\"1\" class=\"dataframe\">\n",
       "  <thead>\n",
       "    <tr style=\"text-align: right;\">\n",
       "      <th></th>\n",
       "      <th>count</th>\n",
       "      <th>mean</th>\n",
       "      <th>std</th>\n",
       "      <th>min</th>\n",
       "      <th>25%</th>\n",
       "      <th>50%</th>\n",
       "      <th>75%</th>\n",
       "      <th>max</th>\n",
       "    </tr>\n",
       "  </thead>\n",
       "  <tbody>\n",
       "    <tr>\n",
       "      <th>REGION</th>\n",
       "      <td>17570.0</td>\n",
       "      <td>2.778201</td>\n",
       "      <td>1.016363</td>\n",
       "      <td>1.0</td>\n",
       "      <td>2.000000</td>\n",
       "      <td>3.000000</td>\n",
       "      <td>4.00000</td>\n",
       "      <td>4.000000</td>\n",
       "    </tr>\n",
       "    <tr>\n",
       "      <th>AGE</th>\n",
       "      <td>17570.0</td>\n",
       "      <td>35.396187</td>\n",
       "      <td>22.662113</td>\n",
       "      <td>0.0</td>\n",
       "      <td>15.000000</td>\n",
       "      <td>34.000000</td>\n",
       "      <td>53.00000</td>\n",
       "      <td>85.000000</td>\n",
       "    </tr>\n",
       "    <tr>\n",
       "      <th>SEX</th>\n",
       "      <td>17570.0</td>\n",
       "      <td>1.519465</td>\n",
       "      <td>0.499635</td>\n",
       "      <td>1.0</td>\n",
       "      <td>1.000000</td>\n",
       "      <td>2.000000</td>\n",
       "      <td>2.00000</td>\n",
       "      <td>2.000000</td>\n",
       "    </tr>\n",
       "    <tr>\n",
       "      <th>MARRY</th>\n",
       "      <td>17570.0</td>\n",
       "      <td>3.626010</td>\n",
       "      <td>2.148104</td>\n",
       "      <td>1.0</td>\n",
       "      <td>1.000000</td>\n",
       "      <td>5.000000</td>\n",
       "      <td>6.00000</td>\n",
       "      <td>10.000000</td>\n",
       "    </tr>\n",
       "    <tr>\n",
       "      <th>FTSTU</th>\n",
       "      <td>17570.0</td>\n",
       "      <td>-0.718668</td>\n",
       "      <td>0.908419</td>\n",
       "      <td>-1.0</td>\n",
       "      <td>-1.000000</td>\n",
       "      <td>-1.000000</td>\n",
       "      <td>-1.00000</td>\n",
       "      <td>3.000000</td>\n",
       "    </tr>\n",
       "    <tr>\n",
       "      <th>ACTDTY</th>\n",
       "      <td>17570.0</td>\n",
       "      <td>2.594764</td>\n",
       "      <td>0.767781</td>\n",
       "      <td>1.0</td>\n",
       "      <td>2.000000</td>\n",
       "      <td>2.000000</td>\n",
       "      <td>3.00000</td>\n",
       "      <td>4.000000</td>\n",
       "    </tr>\n",
       "    <tr>\n",
       "      <th>HONRDC</th>\n",
       "      <td>17570.0</td>\n",
       "      <td>2.223734</td>\n",
       "      <td>0.518731</td>\n",
       "      <td>1.0</td>\n",
       "      <td>2.000000</td>\n",
       "      <td>2.000000</td>\n",
       "      <td>3.00000</td>\n",
       "      <td>4.000000</td>\n",
       "    </tr>\n",
       "    <tr>\n",
       "      <th>RTHLTH</th>\n",
       "      <td>17570.0</td>\n",
       "      <td>2.167103</td>\n",
       "      <td>1.084599</td>\n",
       "      <td>-1.0</td>\n",
       "      <td>1.000000</td>\n",
       "      <td>2.000000</td>\n",
       "      <td>3.00000</td>\n",
       "      <td>5.000000</td>\n",
       "    </tr>\n",
       "    <tr>\n",
       "      <th>MNHLTH</th>\n",
       "      <td>17570.0</td>\n",
       "      <td>1.942971</td>\n",
       "      <td>1.012665</td>\n",
       "      <td>-1.0</td>\n",
       "      <td>1.000000</td>\n",
       "      <td>2.000000</td>\n",
       "      <td>3.00000</td>\n",
       "      <td>5.000000</td>\n",
       "    </tr>\n",
       "    <tr>\n",
       "      <th>HIBPDX</th>\n",
       "      <td>17570.0</td>\n",
       "      <td>0.922595</td>\n",
       "      <td>1.268244</td>\n",
       "      <td>-1.0</td>\n",
       "      <td>-1.000000</td>\n",
       "      <td>1.000000</td>\n",
       "      <td>2.00000</td>\n",
       "      <td>2.000000</td>\n",
       "    </tr>\n",
       "    <tr>\n",
       "      <th>CHDDX</th>\n",
       "      <td>17570.0</td>\n",
       "      <td>1.121912</td>\n",
       "      <td>1.341231</td>\n",
       "      <td>-1.0</td>\n",
       "      <td>-1.000000</td>\n",
       "      <td>2.000000</td>\n",
       "      <td>2.00000</td>\n",
       "      <td>2.000000</td>\n",
       "    </tr>\n",
       "    <tr>\n",
       "      <th>ANGIDX</th>\n",
       "      <td>17570.0</td>\n",
       "      <td>1.139556</td>\n",
       "      <td>1.346080</td>\n",
       "      <td>-1.0</td>\n",
       "      <td>-1.000000</td>\n",
       "      <td>2.000000</td>\n",
       "      <td>2.00000</td>\n",
       "      <td>2.000000</td>\n",
       "    </tr>\n",
       "    <tr>\n",
       "      <th>MIDX</th>\n",
       "      <td>17570.0</td>\n",
       "      <td>1.129141</td>\n",
       "      <td>1.343247</td>\n",
       "      <td>-1.0</td>\n",
       "      <td>-1.000000</td>\n",
       "      <td>2.000000</td>\n",
       "      <td>2.00000</td>\n",
       "      <td>2.000000</td>\n",
       "    </tr>\n",
       "    <tr>\n",
       "      <th>OHRTDX</th>\n",
       "      <td>17570.0</td>\n",
       "      <td>1.089812</td>\n",
       "      <td>1.331764</td>\n",
       "      <td>-1.0</td>\n",
       "      <td>-1.000000</td>\n",
       "      <td>2.000000</td>\n",
       "      <td>2.00000</td>\n",
       "      <td>2.000000</td>\n",
       "    </tr>\n",
       "    <tr>\n",
       "      <th>STRKDX</th>\n",
       "      <td>17570.0</td>\n",
       "      <td>1.127205</td>\n",
       "      <td>1.342711</td>\n",
       "      <td>-1.0</td>\n",
       "      <td>-1.000000</td>\n",
       "      <td>2.000000</td>\n",
       "      <td>2.00000</td>\n",
       "      <td>2.000000</td>\n",
       "    </tr>\n",
       "    <tr>\n",
       "      <th>EMPHDX</th>\n",
       "      <td>17570.0</td>\n",
       "      <td>1.142402</td>\n",
       "      <td>1.346839</td>\n",
       "      <td>-1.0</td>\n",
       "      <td>-1.000000</td>\n",
       "      <td>2.000000</td>\n",
       "      <td>2.00000</td>\n",
       "      <td>2.000000</td>\n",
       "    </tr>\n",
       "    <tr>\n",
       "      <th>CHBRON</th>\n",
       "      <td>17570.0</td>\n",
       "      <td>1.132442</td>\n",
       "      <td>1.350997</td>\n",
       "      <td>-1.0</td>\n",
       "      <td>-1.000000</td>\n",
       "      <td>2.000000</td>\n",
       "      <td>2.00000</td>\n",
       "      <td>2.000000</td>\n",
       "    </tr>\n",
       "    <tr>\n",
       "      <th>CHOLDX</th>\n",
       "      <td>17570.0</td>\n",
       "      <td>0.953045</td>\n",
       "      <td>1.281671</td>\n",
       "      <td>-1.0</td>\n",
       "      <td>-1.000000</td>\n",
       "      <td>2.000000</td>\n",
       "      <td>2.00000</td>\n",
       "      <td>2.000000</td>\n",
       "    </tr>\n",
       "    <tr>\n",
       "      <th>CANCERDX</th>\n",
       "      <td>17570.0</td>\n",
       "      <td>1.093625</td>\n",
       "      <td>1.332932</td>\n",
       "      <td>-1.0</td>\n",
       "      <td>-1.000000</td>\n",
       "      <td>2.000000</td>\n",
       "      <td>2.00000</td>\n",
       "      <td>2.000000</td>\n",
       "    </tr>\n",
       "    <tr>\n",
       "      <th>DIABDX</th>\n",
       "      <td>17570.0</td>\n",
       "      <td>1.078486</td>\n",
       "      <td>1.328222</td>\n",
       "      <td>-1.0</td>\n",
       "      <td>-1.000000</td>\n",
       "      <td>2.000000</td>\n",
       "      <td>2.00000</td>\n",
       "      <td>2.000000</td>\n",
       "    </tr>\n",
       "    <tr>\n",
       "      <th>JTPAIN</th>\n",
       "      <td>17570.0</td>\n",
       "      <td>0.910074</td>\n",
       "      <td>1.269751</td>\n",
       "      <td>-1.0</td>\n",
       "      <td>-1.000000</td>\n",
       "      <td>1.000000</td>\n",
       "      <td>2.00000</td>\n",
       "      <td>2.000000</td>\n",
       "    </tr>\n",
       "    <tr>\n",
       "      <th>ARTHDX</th>\n",
       "      <td>17570.0</td>\n",
       "      <td>0.988332</td>\n",
       "      <td>1.296163</td>\n",
       "      <td>-1.0</td>\n",
       "      <td>-1.000000</td>\n",
       "      <td>2.000000</td>\n",
       "      <td>2.00000</td>\n",
       "      <td>2.000000</td>\n",
       "    </tr>\n",
       "    <tr>\n",
       "      <th>ARTHTYPE</th>\n",
       "      <td>17570.0</td>\n",
       "      <td>-0.452191</td>\n",
       "      <td>1.266708</td>\n",
       "      <td>-1.0</td>\n",
       "      <td>-1.000000</td>\n",
       "      <td>-1.000000</td>\n",
       "      <td>-1.00000</td>\n",
       "      <td>3.000000</td>\n",
       "    </tr>\n",
       "    <tr>\n",
       "      <th>ASTHDX</th>\n",
       "      <td>17570.0</td>\n",
       "      <td>1.895788</td>\n",
       "      <td>0.305544</td>\n",
       "      <td>1.0</td>\n",
       "      <td>2.000000</td>\n",
       "      <td>2.000000</td>\n",
       "      <td>2.00000</td>\n",
       "      <td>2.000000</td>\n",
       "    </tr>\n",
       "    <tr>\n",
       "      <th>ADHDADDX</th>\n",
       "      <td>17570.0</td>\n",
       "      <td>-0.344451</td>\n",
       "      <td>1.221904</td>\n",
       "      <td>-1.0</td>\n",
       "      <td>-1.000000</td>\n",
       "      <td>-1.000000</td>\n",
       "      <td>-1.00000</td>\n",
       "      <td>2.000000</td>\n",
       "    </tr>\n",
       "    <tr>\n",
       "      <th>PREGNT</th>\n",
       "      <td>17570.0</td>\n",
       "      <td>-0.410643</td>\n",
       "      <td>1.181570</td>\n",
       "      <td>-1.0</td>\n",
       "      <td>-1.000000</td>\n",
       "      <td>-1.000000</td>\n",
       "      <td>-1.00000</td>\n",
       "      <td>2.000000</td>\n",
       "    </tr>\n",
       "    <tr>\n",
       "      <th>WLKLIM</th>\n",
       "      <td>17570.0</td>\n",
       "      <td>1.896585</td>\n",
       "      <td>0.333417</td>\n",
       "      <td>-1.0</td>\n",
       "      <td>2.000000</td>\n",
       "      <td>2.000000</td>\n",
       "      <td>2.00000</td>\n",
       "      <td>2.000000</td>\n",
       "    </tr>\n",
       "    <tr>\n",
       "      <th>ACTLIM</th>\n",
       "      <td>17570.0</td>\n",
       "      <td>1.704212</td>\n",
       "      <td>0.804669</td>\n",
       "      <td>-1.0</td>\n",
       "      <td>2.000000</td>\n",
       "      <td>2.000000</td>\n",
       "      <td>2.00000</td>\n",
       "      <td>2.000000</td>\n",
       "    </tr>\n",
       "    <tr>\n",
       "      <th>SOCLIM</th>\n",
       "      <td>17570.0</td>\n",
       "      <td>1.947581</td>\n",
       "      <td>0.260990</td>\n",
       "      <td>-1.0</td>\n",
       "      <td>2.000000</td>\n",
       "      <td>2.000000</td>\n",
       "      <td>2.00000</td>\n",
       "      <td>2.000000</td>\n",
       "    </tr>\n",
       "    <tr>\n",
       "      <th>COGLIM</th>\n",
       "      <td>17570.0</td>\n",
       "      <td>1.103756</td>\n",
       "      <td>1.342863</td>\n",
       "      <td>-1.0</td>\n",
       "      <td>-1.000000</td>\n",
       "      <td>2.000000</td>\n",
       "      <td>2.00000</td>\n",
       "      <td>2.000000</td>\n",
       "    </tr>\n",
       "    <tr>\n",
       "      <th>DFHEAR42</th>\n",
       "      <td>17570.0</td>\n",
       "      <td>1.886397</td>\n",
       "      <td>0.499259</td>\n",
       "      <td>-1.0</td>\n",
       "      <td>2.000000</td>\n",
       "      <td>2.000000</td>\n",
       "      <td>2.00000</td>\n",
       "      <td>2.000000</td>\n",
       "    </tr>\n",
       "    <tr>\n",
       "      <th>DFSEE42</th>\n",
       "      <td>17570.0</td>\n",
       "      <td>1.899374</td>\n",
       "      <td>0.488940</td>\n",
       "      <td>-1.0</td>\n",
       "      <td>2.000000</td>\n",
       "      <td>2.000000</td>\n",
       "      <td>2.00000</td>\n",
       "      <td>2.000000</td>\n",
       "    </tr>\n",
       "    <tr>\n",
       "      <th>ADSMOK42</th>\n",
       "      <td>17570.0</td>\n",
       "      <td>0.744906</td>\n",
       "      <td>1.415675</td>\n",
       "      <td>-1.0</td>\n",
       "      <td>-1.000000</td>\n",
       "      <td>2.000000</td>\n",
       "      <td>2.00000</td>\n",
       "      <td>2.000000</td>\n",
       "    </tr>\n",
       "    <tr>\n",
       "      <th>PCS42</th>\n",
       "      <td>17570.0</td>\n",
       "      <td>29.609575</td>\n",
       "      <td>25.940198</td>\n",
       "      <td>-9.0</td>\n",
       "      <td>-1.000000</td>\n",
       "      <td>39.730000</td>\n",
       "      <td>54.80000</td>\n",
       "      <td>71.060000</td>\n",
       "    </tr>\n",
       "    <tr>\n",
       "      <th>MCS42</th>\n",
       "      <td>17570.0</td>\n",
       "      <td>31.174532</td>\n",
       "      <td>26.900476</td>\n",
       "      <td>-9.0</td>\n",
       "      <td>-1.000000</td>\n",
       "      <td>42.965000</td>\n",
       "      <td>56.71000</td>\n",
       "      <td>73.160000</td>\n",
       "    </tr>\n",
       "    <tr>\n",
       "      <th>K6SUM42</th>\n",
       "      <td>17570.0</td>\n",
       "      <td>1.318042</td>\n",
       "      <td>3.952222</td>\n",
       "      <td>-9.0</td>\n",
       "      <td>-1.000000</td>\n",
       "      <td>0.000000</td>\n",
       "      <td>2.00000</td>\n",
       "      <td>24.000000</td>\n",
       "    </tr>\n",
       "    <tr>\n",
       "      <th>PHQ242</th>\n",
       "      <td>17570.0</td>\n",
       "      <td>0.015766</td>\n",
       "      <td>1.287219</td>\n",
       "      <td>-1.0</td>\n",
       "      <td>-1.000000</td>\n",
       "      <td>0.000000</td>\n",
       "      <td>0.00000</td>\n",
       "      <td>6.000000</td>\n",
       "    </tr>\n",
       "    <tr>\n",
       "      <th>EMPST</th>\n",
       "      <td>17570.0</td>\n",
       "      <td>1.369437</td>\n",
       "      <td>1.847585</td>\n",
       "      <td>-1.0</td>\n",
       "      <td>-1.000000</td>\n",
       "      <td>1.000000</td>\n",
       "      <td>4.00000</td>\n",
       "      <td>4.000000</td>\n",
       "    </tr>\n",
       "    <tr>\n",
       "      <th>POVCAT</th>\n",
       "      <td>17570.0</td>\n",
       "      <td>3.310757</td>\n",
       "      <td>1.488707</td>\n",
       "      <td>1.0</td>\n",
       "      <td>2.000000</td>\n",
       "      <td>4.000000</td>\n",
       "      <td>5.00000</td>\n",
       "      <td>5.000000</td>\n",
       "    </tr>\n",
       "    <tr>\n",
       "      <th>INSCOV</th>\n",
       "      <td>17570.0</td>\n",
       "      <td>1.569380</td>\n",
       "      <td>0.685918</td>\n",
       "      <td>1.0</td>\n",
       "      <td>1.000000</td>\n",
       "      <td>1.000000</td>\n",
       "      <td>2.00000</td>\n",
       "      <td>3.000000</td>\n",
       "    </tr>\n",
       "    <tr>\n",
       "      <th>UTILIZATION</th>\n",
       "      <td>17570.0</td>\n",
       "      <td>0.172112</td>\n",
       "      <td>0.377488</td>\n",
       "      <td>0.0</td>\n",
       "      <td>0.000000</td>\n",
       "      <td>0.000000</td>\n",
       "      <td>0.00000</td>\n",
       "      <td>1.000000</td>\n",
       "    </tr>\n",
       "    <tr>\n",
       "      <th>PERWT15F</th>\n",
       "      <td>17570.0</td>\n",
       "      <td>9322.578166</td>\n",
       "      <td>8127.601760</td>\n",
       "      <td>0.0</td>\n",
       "      <td>3833.173318</td>\n",
       "      <td>7068.043378</td>\n",
       "      <td>12283.54961</td>\n",
       "      <td>98103.984953</td>\n",
       "    </tr>\n",
       "  </tbody>\n",
       "</table>\n",
       "</div>"
      ],
      "text/plain": [
       "               count         mean          std  min          25%          50%  \\\n",
       "REGION       17570.0     2.778201     1.016363  1.0     2.000000     3.000000   \n",
       "AGE          17570.0    35.396187    22.662113  0.0    15.000000    34.000000   \n",
       "SEX          17570.0     1.519465     0.499635  1.0     1.000000     2.000000   \n",
       "MARRY        17570.0     3.626010     2.148104  1.0     1.000000     5.000000   \n",
       "FTSTU        17570.0    -0.718668     0.908419 -1.0    -1.000000    -1.000000   \n",
       "ACTDTY       17570.0     2.594764     0.767781  1.0     2.000000     2.000000   \n",
       "HONRDC       17570.0     2.223734     0.518731  1.0     2.000000     2.000000   \n",
       "RTHLTH       17570.0     2.167103     1.084599 -1.0     1.000000     2.000000   \n",
       "MNHLTH       17570.0     1.942971     1.012665 -1.0     1.000000     2.000000   \n",
       "HIBPDX       17570.0     0.922595     1.268244 -1.0    -1.000000     1.000000   \n",
       "CHDDX        17570.0     1.121912     1.341231 -1.0    -1.000000     2.000000   \n",
       "ANGIDX       17570.0     1.139556     1.346080 -1.0    -1.000000     2.000000   \n",
       "MIDX         17570.0     1.129141     1.343247 -1.0    -1.000000     2.000000   \n",
       "OHRTDX       17570.0     1.089812     1.331764 -1.0    -1.000000     2.000000   \n",
       "STRKDX       17570.0     1.127205     1.342711 -1.0    -1.000000     2.000000   \n",
       "EMPHDX       17570.0     1.142402     1.346839 -1.0    -1.000000     2.000000   \n",
       "CHBRON       17570.0     1.132442     1.350997 -1.0    -1.000000     2.000000   \n",
       "CHOLDX       17570.0     0.953045     1.281671 -1.0    -1.000000     2.000000   \n",
       "CANCERDX     17570.0     1.093625     1.332932 -1.0    -1.000000     2.000000   \n",
       "DIABDX       17570.0     1.078486     1.328222 -1.0    -1.000000     2.000000   \n",
       "JTPAIN       17570.0     0.910074     1.269751 -1.0    -1.000000     1.000000   \n",
       "ARTHDX       17570.0     0.988332     1.296163 -1.0    -1.000000     2.000000   \n",
       "ARTHTYPE     17570.0    -0.452191     1.266708 -1.0    -1.000000    -1.000000   \n",
       "ASTHDX       17570.0     1.895788     0.305544  1.0     2.000000     2.000000   \n",
       "ADHDADDX     17570.0    -0.344451     1.221904 -1.0    -1.000000    -1.000000   \n",
       "PREGNT       17570.0    -0.410643     1.181570 -1.0    -1.000000    -1.000000   \n",
       "WLKLIM       17570.0     1.896585     0.333417 -1.0     2.000000     2.000000   \n",
       "ACTLIM       17570.0     1.704212     0.804669 -1.0     2.000000     2.000000   \n",
       "SOCLIM       17570.0     1.947581     0.260990 -1.0     2.000000     2.000000   \n",
       "COGLIM       17570.0     1.103756     1.342863 -1.0    -1.000000     2.000000   \n",
       "DFHEAR42     17570.0     1.886397     0.499259 -1.0     2.000000     2.000000   \n",
       "DFSEE42      17570.0     1.899374     0.488940 -1.0     2.000000     2.000000   \n",
       "ADSMOK42     17570.0     0.744906     1.415675 -1.0    -1.000000     2.000000   \n",
       "PCS42        17570.0    29.609575    25.940198 -9.0    -1.000000    39.730000   \n",
       "MCS42        17570.0    31.174532    26.900476 -9.0    -1.000000    42.965000   \n",
       "K6SUM42      17570.0     1.318042     3.952222 -9.0    -1.000000     0.000000   \n",
       "PHQ242       17570.0     0.015766     1.287219 -1.0    -1.000000     0.000000   \n",
       "EMPST        17570.0     1.369437     1.847585 -1.0    -1.000000     1.000000   \n",
       "POVCAT       17570.0     3.310757     1.488707  1.0     2.000000     4.000000   \n",
       "INSCOV       17570.0     1.569380     0.685918  1.0     1.000000     1.000000   \n",
       "UTILIZATION  17570.0     0.172112     0.377488  0.0     0.000000     0.000000   \n",
       "PERWT15F     17570.0  9322.578166  8127.601760  0.0  3833.173318  7068.043378   \n",
       "\n",
       "                     75%           max  \n",
       "REGION           4.00000      4.000000  \n",
       "AGE             53.00000     85.000000  \n",
       "SEX              2.00000      2.000000  \n",
       "MARRY            6.00000     10.000000  \n",
       "FTSTU           -1.00000      3.000000  \n",
       "ACTDTY           3.00000      4.000000  \n",
       "HONRDC           3.00000      4.000000  \n",
       "RTHLTH           3.00000      5.000000  \n",
       "MNHLTH           3.00000      5.000000  \n",
       "HIBPDX           2.00000      2.000000  \n",
       "CHDDX            2.00000      2.000000  \n",
       "ANGIDX           2.00000      2.000000  \n",
       "MIDX             2.00000      2.000000  \n",
       "OHRTDX           2.00000      2.000000  \n",
       "STRKDX           2.00000      2.000000  \n",
       "EMPHDX           2.00000      2.000000  \n",
       "CHBRON           2.00000      2.000000  \n",
       "CHOLDX           2.00000      2.000000  \n",
       "CANCERDX         2.00000      2.000000  \n",
       "DIABDX           2.00000      2.000000  \n",
       "JTPAIN           2.00000      2.000000  \n",
       "ARTHDX           2.00000      2.000000  \n",
       "ARTHTYPE        -1.00000      3.000000  \n",
       "ASTHDX           2.00000      2.000000  \n",
       "ADHDADDX        -1.00000      2.000000  \n",
       "PREGNT          -1.00000      2.000000  \n",
       "WLKLIM           2.00000      2.000000  \n",
       "ACTLIM           2.00000      2.000000  \n",
       "SOCLIM           2.00000      2.000000  \n",
       "COGLIM           2.00000      2.000000  \n",
       "DFHEAR42         2.00000      2.000000  \n",
       "DFSEE42          2.00000      2.000000  \n",
       "ADSMOK42         2.00000      2.000000  \n",
       "PCS42           54.80000     71.060000  \n",
       "MCS42           56.71000     73.160000  \n",
       "K6SUM42          2.00000     24.000000  \n",
       "PHQ242           0.00000      6.000000  \n",
       "EMPST            4.00000      4.000000  \n",
       "POVCAT           5.00000      5.000000  \n",
       "INSCOV           2.00000      3.000000  \n",
       "UTILIZATION      0.00000      1.000000  \n",
       "PERWT15F     12283.54961  98103.984953  "
      ]
     },
     "execution_count": 11,
     "metadata": {},
     "output_type": "execute_result"
    }
   ],
   "source": [
    "df_panel_20_reduced.describe().T"
   ]
  },
  {
   "cell_type": "code",
   "execution_count": 12,
   "id": "c791d933-ea51-4d53-bf52-c3d74575929a",
   "metadata": {},
   "outputs": [
    {
     "data": {
      "text/plain": [
       "((15830, 43), (17570, 43))"
      ]
     },
     "execution_count": 12,
     "metadata": {},
     "output_type": "execute_result"
    }
   ],
   "source": [
    "# Shapes\n",
    "df_panel_19_reduced.shape, df_panel_20_reduced.shape"
   ]
  },
  {
   "cell_type": "markdown",
   "id": "fb155077-bc0e-46a2-a870-c721654ecf77",
   "metadata": {},
   "source": [
    "#### 2.3 Outlier Detection and Handling"
   ]
  },
  {
   "cell_type": "code",
   "execution_count": 13,
   "id": "2a1f0d00-160f-4869-bbfe-f6d1297a01d3",
   "metadata": {},
   "outputs": [],
   "source": [
    "# # Null handling"
   ]
  },
  {
   "cell_type": "code",
   "execution_count": 14,
   "id": "8963a036",
   "metadata": {},
   "outputs": [],
   "source": [
    "# handle -9 which is null value in columns PCS42, MCS42, K6SUM42\n",
    "df_panel_19_reduced = df_panel_19_reduced[(df_panel_19_reduced['PCS42'] != -9)\n",
    "                        & (df_panel_19_reduced['MCS42'] != -9) & (df_panel_19_reduced['K6SUM42'] != -9)]\n",
    "df_panel_20_reduced = df_panel_20_reduced[(df_panel_20_reduced['PCS42'] != -9)\n",
    "                        & (df_panel_20_reduced['MCS42'] != -9) & (df_panel_20_reduced['K6SUM42'] != -9)]"
   ]
  },
  {
   "cell_type": "code",
   "execution_count": 15,
   "id": "7ed74186-b856-4296-ad54-2b7c43499942",
   "metadata": {},
   "outputs": [
    {
     "data": {
      "text/html": [
       "<div>\n",
       "<style scoped>\n",
       "    .dataframe tbody tr th:only-of-type {\n",
       "        vertical-align: middle;\n",
       "    }\n",
       "\n",
       "    .dataframe tbody tr th {\n",
       "        vertical-align: top;\n",
       "    }\n",
       "\n",
       "    .dataframe thead th {\n",
       "        text-align: right;\n",
       "    }\n",
       "</style>\n",
       "<table border=\"1\" class=\"dataframe\">\n",
       "  <thead>\n",
       "    <tr style=\"text-align: right;\">\n",
       "      <th></th>\n",
       "      <th>Description</th>\n",
       "      <th>Data Type</th>\n",
       "    </tr>\n",
       "  </thead>\n",
       "  <tbody>\n",
       "    <tr>\n",
       "      <th>AGE</th>\n",
       "      <td>Age</td>\n",
       "      <td>Numerical</td>\n",
       "    </tr>\n",
       "    <tr>\n",
       "      <th>PCS42</th>\n",
       "      <td>Physical Component Summary</td>\n",
       "      <td>Numerical</td>\n",
       "    </tr>\n",
       "    <tr>\n",
       "      <th>MCS42</th>\n",
       "      <td>Mental Component Summary</td>\n",
       "      <td>Numerical</td>\n",
       "    </tr>\n",
       "    <tr>\n",
       "      <th>PERWT15F</th>\n",
       "      <td>Final Person Statistical Weight</td>\n",
       "      <td>Numerical</td>\n",
       "    </tr>\n",
       "  </tbody>\n",
       "</table>\n",
       "</div>"
      ],
      "text/plain": [
       "                              Description  Data Type\n",
       "AGE                                   Age  Numerical\n",
       "PCS42          Physical Component Summary  Numerical\n",
       "MCS42            Mental Component Summary  Numerical\n",
       "PERWT15F  Final Person Statistical Weight  Numerical"
      ]
     },
     "execution_count": 15,
     "metadata": {},
     "output_type": "execute_result"
    }
   ],
   "source": [
    "# only numerical can have outliers\n",
    "feature_key[feature_key['Data Type'] == 'Numerical'] "
   ]
  },
  {
   "cell_type": "markdown",
   "id": "8cbdfd5c-d894-48fe-9d4a-83722a3e5956",
   "metadata": {},
   "source": [
    "PCS42, MCS42, PERWT15F are difficult to consider as outliers - as such, we will leave them as is. This leaves us with investigating AGE."
   ]
  },
  {
   "cell_type": "code",
   "execution_count": 55,
   "id": "d09b5b51-210a-4d0a-a5b8-6fe695a9667e",
   "metadata": {},
   "outputs": [
    {
     "data": {
      "image/png": "[encoded data removed]",
      "text/plain": [
       "<Figure size 640x480 with 1 Axes>"
      ]
     },
     "metadata": {},
     "output_type": "display_data"
    }
   ],
   "source": [
    "sns.histplot(df_panel_19_reduced['AGE'])\n",
    "plt.title('distribution of ages in panel_19')\n",
    "plt.show()"
   ]
  },
  {
   "cell_type": "markdown",
   "id": "c14eb1c9-1273-42ad-867a-eb0770a13307",
   "metadata": {},
   "source": [
    "There's a concerning number of ages that are less than 18, which is rather unexpected. The age of consent is 18, meaning that we'd expect the minimum age to be 18 for someone to participate in this study."
   ]
  },
  {
   "cell_type": "code",
   "execution_count": 27,
   "id": "be5ca155-ba7a-46c9-9089-4b6325eb1019",
   "metadata": {},
   "outputs": [
    {
     "data": {
      "text/plain": [
       "4         3\n",
       "7         4\n",
       "8         1\n",
       "11       12\n",
       "12       10\n",
       "         ..\n",
       "16556     0\n",
       "16558    10\n",
       "16562     3\n",
       "16572     5\n",
       "16575     2\n",
       "Name: AGE, Length: 4474, dtype: int64"
      ]
     },
     "execution_count": 27,
     "metadata": {},
     "output_type": "execute_result"
    }
   ],
   "source": [
    "df_panel_19_reduced[df_panel_19_reduced['AGE'] < 18]['AGE'].value_counts()"
   ]
  },
  {
   "cell_type": "markdown",
   "id": "c73dec45-46b5-42fc-8054-b8876661bad1",
   "metadata": {},
   "source": [
    "There's 4474 observations in the data on people less than 18, which is concerning as the legal age of consent is 18. A bit of research tells us that MEPS collects data on people as young as 10 - so let's use that as our floor for age. We will consider all observations with an age less than 10 as outliers."
   ]
  },
  {
   "cell_type": "code",
   "execution_count": 56,
   "id": "4bc0e391-eaa9-494c-9612-5fbacfe0116b",
   "metadata": {},
   "outputs": [],
   "source": [
    "# floor age // discard observations with an age less than the cut off\n",
    "age_cutoff = 10\n",
    "df_panel_19_reduced = df_panel_19_reduced[df_panel_19_reduced['AGE'] >= age_cutoff]\n",
    "df_panel_20_reduced = df_panel_20_reduced[df_panel_20_reduced['AGE'] >= age_cutoff]"
   ]
  },
  {
   "cell_type": "markdown",
   "id": "73fa3de1-a9c8-4949-9bb4-18967129d713",
   "metadata": {},
   "source": [
    "We can see that the highest age in the distribution is about 85 - though this is well above the mean of 35 within panel_19, we choose to retain it as (reasonably) large ages is an important phenomena to retain as older people likely have to use health services more."
   ]
  },
  {
   "cell_type": "code",
   "execution_count": 57,
   "id": "9132afff",
   "metadata": {},
   "outputs": [
    {
     "data": {
      "text/plain": [
       "((11135, 43), (12358, 43))"
      ]
     },
     "execution_count": 57,
     "metadata": {},
     "output_type": "execute_result"
    }
   ],
   "source": [
    "# Shapes after removing nulls and providing cutoffs\n",
    "df_panel_19_reduced.shape, df_panel_20_reduced.shape"
   ]
  },
  {
   "cell_type": "markdown",
   "id": "61c08e9d-b4e4-495b-90ee-c524476ddf3f",
   "metadata": {},
   "source": [
    "#### 2.4 Correlation Analysis"
   ]
  },
  {
   "cell_type": "code",
   "execution_count": 62,
   "id": "bf405c3a-6ec2-41a4-8975-eb3ccfce6d69",
   "metadata": {},
   "outputs": [
    {
     "data": {
      "image/png": "[encoded data removed]",
      "text/plain": [
       "<Figure size 622.375x500 with 1 Axes>"
      ]
     },
     "metadata": {},
     "output_type": "display_data"
    }
   ],
   "source": [
    "# identified disparity in occurance of high utilization with categories of race\n",
    "non_white_counts = df_panel_19_reduced[df_panel_19_reduced['RACE'] == 'Non-White']['UTILIZATION'].value_counts()\n",
    "white_counts = df_panel_19_reduced[df_panel_19_reduced['RACE'] != 'Non-White']['UTILIZATION'].value_counts()\n",
    "\n",
    "# data preparation\n",
    "util_data_1 = df_panel_19_reduced.copy()[['RACE', 'UTILIZATION', 'AGE']].rename(columns={'AGE': 'COUNT'})\n",
    "util_data_1['UTILIZATION'] = util_data_1['UTILIZATION'].replace([0, 1], ['Low', 'High'])\n",
    "util_data_1 = util_data_1.groupby(['RACE', 'UTILIZATION']).count().reset_index()\n",
    "\n",
    "# Calculate proportions\n",
    "util_data_1['PROPORTION'] = util_data_1.groupby('RACE')['COUNT'].transform(lambda x: x / x.sum())\n",
    "\n",
    "# Visualize with proportions\n",
    "sns.catplot(data=util_data_1, kind=\"bar\", x=\"UTILIZATION\", y=\"PROPORTION\", hue=\"RACE\", palette=['tomato', 'deepskyblue'])\n",
    "plt.title('White vs. Non-White Utilization (Panel 19)')\n",
    "plt.show()"
   ]
  },
  {
   "cell_type": "code",
   "execution_count": 60,
   "id": "6d9841ff-85cc-402c-a626-6d0a1ea7b3b9",
   "metadata": {},
   "outputs": [
    {
     "data": {
      "image/png": "[encoded data removed]",
      "text/plain": [
       "<Figure size 637.75x500 with 1 Axes>"
      ]
     },
     "metadata": {},
     "output_type": "display_data"
    }
   ],
   "source": [
    "# identified disparity in occurance of high utilization with categories of employment\n",
    "# -1 inapplicable, 1 employed, 2 job to return, 3 job during period, 4 unemployed\n",
    "# df_panel_19_reduced[df_panel_19_reduced['EMPST'] == 4]['UTILIZATION'].value_counts(), df_panel_19_reduced[(df_panel_19_reduced['EMPST'] != 4) & (df_panel_19_reduced['EMPST'] != -1)]['UTILIZATION'].value_counts()\n",
    "# select and modify useful columns, remove inapplicables\n",
    "util_data_2 = df_panel_19_reduced.copy()[['EMPST', 'UTILIZATION', 'AGE']].rename(columns={'AGE': 'COUNT'})\n",
    "util_data_2 = util_data_2[util_data_2['EMPST'] != -1]\n",
    "util_data_2['EMPST'] = util_data_2['EMPST'].replace([1, 2, 3], 'Employed').replace(4, 'Unemployed')\n",
    "util_data_2['UTILIZATION'] = util_data_2['UTILIZATION'].replace([0, 1], ['Low', 'High'])\n",
    "util_data_2 = util_data_2.groupby(['EMPST', 'UTILIZATION']).count().reset_index()\n",
    "\n",
    "# Calculate proportions\n",
    "util_data_2['PROPORTION'] = util_data_2.groupby('EMPST')['COUNT'].transform(lambda x: x / x.sum())\n",
    "\n",
    "# Visualize with proportions\n",
    "sns.catplot(data=util_data_2, kind=\"bar\", x=\"UTILIZATION\", y=\"PROPORTION\", hue=\"EMPST\", palette=['deepskyblue', 'tomato'])\n",
    "plt.title('Employed vs. Unemployed Utilization (Panel 19)')\n",
    "plt.show()"
   ]
  },
  {
   "cell_type": "code",
   "execution_count": 37,
   "id": "35a06dc4-74b3-4d01-891b-31692d3142e5",
   "metadata": {},
   "outputs": [
    {
     "data": {
      "image/png": "[encoded data removed]",
      "text/plain": [
       "<Figure size 1000x500 with 2 Axes>"
      ]
     },
     "metadata": {},
     "output_type": "display_data"
    }
   ],
   "source": [
    "# identified disparity in occurance of high utilization with age\n",
    "# select and modify useful columns, remove inapplicables\n",
    "util_data_3 = df_panel_19_reduced.copy()\n",
    "util_data_3['UTILIZATION'] = util_data_3['UTILIZATION'].replace([0,1], ['Low', 'High'])\n",
    "# visualize\n",
    "sns.displot(util_data_3, x=\"AGE\", col=\"UTILIZATION\")\n",
    "plt.show()"
   ]
  },
  {
   "cell_type": "code",
   "execution_count": 38,
   "id": "cb47bd93-df17-434d-ab72-c4a2ac8851ec",
   "metadata": {},
   "outputs": [
    {
     "data": {
      "image/png": "[encoded data removed]",
      "text/plain": [
       "<Figure size 1000x600 with 1 Axes>"
      ]
     },
     "metadata": {},
     "output_type": "display_data"
    }
   ],
   "source": [
    "df = df_panel_19_reduced.copy()\n",
    "df['UTILIZATION'] = df['UTILIZATION'].replace([0,1], ['Low', 'High'])\n",
    "# Calculate the minimum and maximum ages in the dataset\n",
    "min_age = df['AGE'].min()\n",
    "max_age = df['AGE'].max()\n",
    "\n",
    "# Define the bin edges with a 5-year interval\n",
    "bin_edges = list(range(min_age, max_age + 6, 5))\n",
    "bin_labels = [f'{start}-{start + 4}' for start in bin_edges[:-1]]\n",
    "\n",
    "# Create age bins\n",
    "df['Age Bin'] = pd.cut(df['AGE'], bins=bin_edges, labels=bin_labels, right=False)\n",
    "\n",
    "# Calculate average proportions within each age bin\n",
    "proportions_data = df.groupby(['Age Bin', 'UTILIZATION'], observed=True).size().unstack()\n",
    "proportions_data['Proportion'] = proportions_data['High'] / (proportions_data['High'] + proportions_data['Low'])\n",
    "proportions_data = proportions_data.reset_index()\n",
    "\n",
    "# Create a bar plot\n",
    "plt.figure(figsize=(10, 6))\n",
    "sns.barplot(data=proportions_data, x='Age Bin', y='Proportion', hue_order=['Low', 'High'])\n",
    "plt.xlabel('Age Bin')\n",
    "plt.ylabel('Average Proportion')\n",
    "plt.title('Average Proportion of High and Low Utilization Aggregated per 5 Years')\n",
    "plt.show()\n",
    "\n",
    "# as age increases, high utilization increases -> 65+ seems to be a group of interest"
   ]
  },
  {
   "cell_type": "code",
   "execution_count": 39,
   "id": "173e7b7e-dc3d-43aa-8f95-fbbcd5b70eff",
   "metadata": {},
   "outputs": [
    {
     "data": {
      "image/png": "[encoded data removed]",
      "text/plain": [
       "<Figure size 640x480 with 2 Axes>"
      ]
     },
     "metadata": {},
     "output_type": "display_data"
    }
   ],
   "source": [
    "# Correlation plots\n",
    "# not sure of which columns we all want to use yet but these are the ones I would keep in features_to_keep.\n",
    "# Looking at the full correlation matrix for all the columns, a lot of the ones left out are highly correlated to a\n",
    "# column included. Feel free to look at the full matrix for context.\n",
    "cor = df_panel_19_reduced[['SEX', 'RACE', 'AGE', 'FTSTU', 'MARRY', 'RTHLTH', 'MNHLTH', 'HIBPDX', 'WLKLIM', 'PREGNT', 'PCS42', 'MCS42', 'K6SUM42', 'PHQ242', 'EMPST', 'POVCAT', 'INSCOV', 'UTILIZATION', 'PERWT15F']].replace(['Non-White', 'White'],[0, 1]).corr()\n",
    "hm = sns.heatmap(cor, vmin=-1, cmap='coolwarm')\n",
    "plt.title('Correlation Matrix')\n",
    "plt.show()"
   ]
  },
  {
   "cell_type": "markdown",
   "id": "e59e719c-534b-4a9a-9184-39c7044bdd5b",
   "metadata": {},
   "source": [
    "#### 2.5 Other analysis"
   ]
  },
  {
   "cell_type": "code",
   "execution_count": 40,
   "id": "3f256ebf-021a-4a88-86f0-e85cc744039c",
   "metadata": {},
   "outputs": [
    {
     "data": {
      "image/png": "[encoded data removed]",
      "text/plain": [
       "<Figure size 597.111x500 with 1 Axes>"
      ]
     },
     "metadata": {},
     "output_type": "display_data"
    }
   ],
   "source": [
    "# Comparing utilization between different insurance types\n",
    "# It seems that those with Public insurance tend to have a relatively higher utilization score\n",
    "\n",
    "ins_df = df_panel_19_reduced.copy()[['INSCOV', 'UTILIZATION', 'AGE']]\n",
    "ins_df = ins_df[ins_df['INSCOV'] != -1]\n",
    "ins_df['INSCOV'] = ins_df['INSCOV'].replace({1: \"Private\", 2: \"Public\", 3: \"Uninsured\"})\n",
    "ins_df['UTILIZATION'] = ins_df['UTILIZATION'].replace({0: \"Low\", 1: \"High\"})\n",
    "ins_df = ins_df.groupby(['UTILIZATION', 'INSCOV'])['AGE'].count().reset_index()\n",
    "ins_df['PROPS'] = ins_df['AGE'] / (ins_df['AGE'].sum())\n",
    "\n",
    "sns.catplot(data=ins_df, kind=\"bar\", x=\"INSCOV\", y=\"PROPS\", hue=\"UTILIZATION\", palette=['deepskyblue', 'tomato'])\n",
    "plt.title('Utilization by Insurance Type (Panel 19)')\n",
    "plt.ylabel('Proportion')\n",
    "plt.xlabel('Insurance Type')\n",
    "plt.show()"
   ]
  },
  {
   "cell_type": "code",
   "execution_count": 41,
   "id": "a5b93c44-490d-4534-bd39-0c8e1afed0d5",
   "metadata": {},
   "outputs": [
    {
     "data": {
      "image/png": "[encoded data removed]",
      "text/plain": [
       "<Figure size 597.111x500 with 1 Axes>"
      ]
     },
     "metadata": {},
     "output_type": "display_data"
    }
   ],
   "source": [
    "reg_df = df_panel_19_reduced.copy()[['REGION', 'UTILIZATION', 'AGE']]\n",
    "reg_df = reg_df[reg_df['REGION'] != -1]\n",
    "reg_df['REGION'] = reg_df['REGION'].replace({1: \"Northeast\", 2: \"Midwest\", 3: \"South\", 4: 'West'})\n",
    "reg_df['UTILIZATION'] = reg_df['UTILIZATION'].replace({0: \"Low\", 1: \"High\"})\n",
    "reg_df = reg_df.groupby(['UTILIZATION', 'REGION'])['AGE'].count().reset_index()\n",
    "reg_df['PROPS'] = reg_df['AGE'] / (reg_df['AGE'].sum())\n",
    "\n",
    "sns.catplot(data=reg_df, kind=\"bar\", x=\"REGION\", y=\"PROPS\", hue=\"UTILIZATION\", palette=['deepskyblue', 'tomato'])\n",
    "plt.title('Utilization by Region (Panel 19)')\n",
    "plt.ylabel('Proportion')\n",
    "plt.xlabel('Insurance Type')\n",
    "plt.show()"
   ]
  },
  {
   "cell_type": "code",
   "execution_count": 42,
   "id": "3a92def4-47e1-42eb-bde8-a1ef9e1810eb",
   "metadata": {},
   "outputs": [
    {
     "data": {
      "text/plain": [
       "<matplotlib.legend.Legend at 0x7fc3a87100a0>"
      ]
     },
     "execution_count": 42,
     "metadata": {},
     "output_type": "execute_result"
    },
    {
     "data": {
      "image/png": "[encoded data removed]",
      "text/plain": [
       "<Figure size 640x480 with 1 Axes>"
      ]
     },
     "metadata": {},
     "output_type": "display_data"
    }
   ],
   "source": [
    "# looking at diseases by region\n",
    "\n",
    "cols = ['REGION'] + [i for i in df_panel_19_reduced.columns if i.endswith('DX')]\n",
    "regdx_df = df_panel_19_reduced.copy()[cols]\n",
    "regdx_df['REGION'] = regdx_df['REGION'].replace({1: \"Northeast\", 2: \"Midwest\", 3: \"South\", 4: 'West'})\n",
    "regdx_df = regdx_df[~regdx_df.eq(-1).any(axis=1)]\n",
    "regdx_df = regdx_df.replace({2: 0})\n",
    "regdx_df = regdx_df.groupby('REGION').sum()\n",
    "regdx_df = regdx_df[regdx_df.sum().sort_values()[-5:].index] #only using the top 5 dx for simplicity's sake\n",
    "regdx_dens = regdx_df.divide(regdx_df.sum(axis = 1), axis = 0)\n",
    "\n",
    "regdx_dens.plot(kind='bar', stacked=True)\n",
    "plt.title('DX Distribution by Region (Panel 19)')\n",
    "plt.ylabel('Proportion')\n",
    "plt.xlabel('Region')\n",
    "plt.legend(fontsize = 10, bbox_to_anchor=(1.025, 1.02))"
   ]
  },
  {
   "cell_type": "markdown",
   "id": "89cb0cec-6f20-4201-bdaa-feb032b62411",
   "metadata": {
    "tags": []
   },
   "source": [
    "\n",
    "### End of Replication Part 01 -  EDA\n"
   ]
  },
  {
   "cell_type": "markdown",
   "id": "bef7f4e6-b2f0-4c7c-ab1f-9094a6339865",
   "metadata": {
    "tags": []
   },
   "source": [
    "-----\n",
    "# Start of Replication Part 02 -  Model Development, and Fairness Evaluation\n",
    "\n",
    "## There are **two** components to `Replication Project Part #02`\n",
    "1. Training models without de-biasing, using IBM's tutorial\n",
    "2. Training models without de-biasing, using your own model development techniques including (1) Feature Selection, (2) Encoding, (3) Binning Features, and other items \n",
    "\n",
    "#### We will now return to IBM AIF360's [Medical Expenditure Tutorial](https://urldefense.com/v3/__https://nbviewer.org/github/IBM/AIF360/blob/master/examples/tutorial_medical_expenditure.ipynb__;!!Mih3wA!BOEOztl97chVva97r53aT50dEFwNxxI2GkzmaN6Ka1BWLdgKKh2LJXrxTrJ7odgsEuyLI8wAkAntxJCXF4o$ ) \n",
    "_*Note that it is primarily Scikit-learn based_\n",
    "\n",
    "* A reminder, you will need to fork [AIF360's repository](https://urldefense.com/v3/__https://github.com/Trusted-AI/AIF360__;!!Mih3wA!BOEOztl97chVva97r53aT50dEFwNxxI2GkzmaN6Ka1BWLdgKKh2LJXrxTrJ7odgsEuyLI8wAkAntlAxz2VI$ ) into your own GitHub and access the notebook locally or via your method of choice\n",
    "* AIF360's Repository can be found under: `AIF360`/`Examples`/tutorial_medical_expenditure.ipynb\n",
    "* Ensure you have your `aif360` environment turned and activated using a miniconda prompt\n",
    "* Use Jupyter Labs\n",
    "* Refer to [Week 03](https://urldefense.com/v3/__https://nanrahman.github.io/capstone-responsible-ai/weeks/03-Replication-Part-00/__;!!Mih3wA!BOEOztl97chVva97r53aT50dEFwNxxI2GkzmaN6Ka1BWLdgKKh2LJXrxTrJ7odgsEuyLI8wAkAntCqYttZg$ ) content on the course Website to access the `Quickstart Guide`\n",
    "\n",
    "\n",
    "\n",
    "\n"
   ]
  },
  {
   "cell_type": "markdown",
   "id": "5550894e-d038-45ae-aea8-fbbcdf9e1b09",
   "metadata": {
    "tags": []
   },
   "source": [
    "### [3.](#Table-of-Contents) Model Development without Debiasing \n"
   ]
  },
  {
   "cell_type": "markdown",
   "id": "d6b80716-116d-4a6f-b3ab-d74ed6becb20",
   "metadata": {},
   "source": [
    "First, load all necessary packages"
   ]
  },
  {
   "cell_type": "code",
   "execution_count": 43,
   "id": "bddca008-8041-47b5-915e-3df884b48823",
   "metadata": {},
   "outputs": [],
   "source": [
    "import sys\n",
    "sys.path.insert(0, '../')\n",
    "\n",
    "%matplotlib inline\n",
    "import matplotlib.pyplot as plt\n",
    "import numpy as np\n",
    "from IPython.display import Markdown, display\n",
    "\n",
    "# Datasets\n",
    "from aif360.datasets import MEPSDataset19\n",
    "from aif360.datasets import MEPSDataset20\n",
    "from aif360.datasets import MEPSDataset21\n",
    "from aif360.datasets import StandardDataset\n",
    "\n",
    "# Fairness metrics\n",
    "from aif360.metrics import BinaryLabelDatasetMetric\n",
    "from aif360.metrics import ClassificationMetric\n",
    "\n",
    "# Explainers\n",
    "from aif360.explainers import MetricTextExplainer\n",
    "\n",
    "# Train Test Split\n",
    "from sklearn.model_selection import train_test_split\n",
    "\n",
    "# Pre-processing from Sklearn\n",
    "from sklearn.preprocessing import StandardScaler\n",
    "from sklearn.preprocessing import FunctionTransformer\n",
    "\n",
    "# Classifiers\n",
    "from sklearn.ensemble import RandomForestClassifier\n",
    "from sklearn.linear_model import LogisticRegression\n",
    "from sklearn.model_selection import GridSearchCV\n",
    "from sklearn.pipeline import make_pipeline\n",
    "\n",
    "# Bias mitigation techniques\n",
    "from aif360.algorithms.preprocessing import Reweighing\n",
    "from aif360.algorithms.inprocessing import PrejudiceRemover\n",
    "\n",
    "# LIME\n",
    "from aif360.datasets.lime_encoder import LimeEncoder\n",
    "import lime\n",
    "from lime.lime_tabular import LimeTabularExplainer\n",
    "\n",
    "np.random.seed(1)"
   ]
  },
  {
   "cell_type": "markdown",
   "id": "80c80809-7254-49b7-8cce-0adfdee9a135",
   "metadata": {},
   "source": [
    "### 3.1. Load data & create splits for learning/validating/testing model"
   ]
  },
  {
   "cell_type": "code",
   "execution_count": 44,
   "id": "a3c66f90",
   "metadata": {},
   "outputs": [],
   "source": [
    "# combine panel 19 and 20 raw data\n",
    "df_panel_19['PANEL'] = [19]*df_panel_19.shape[0]\n",
    "df_panel_20['PANEL'] = [20]*df_panel_20.shape[0]\n",
    "X = pd.concat([df_panel_19, df_panel_20], ignore_index=True)\n",
    "\n",
    "# White and Non-White to 1 and 0 (change to default_mappings)\n",
    "X = X.replace({'White':1, 'Non-White':0})"
   ]
  },
  {
   "cell_type": "code",
   "execution_count": 45,
   "id": "40d7eb6c",
   "metadata": {},
   "outputs": [],
   "source": [
    "# transforming dataframe into AIF compatible format\n",
    "dataset = StandardDataset(X, label_name = 'UTILIZATION', favorable_classes=[1],\n",
    "                 protected_attribute_names= ['RACE'], privileged_classes = [[1]], metadata=default_mappings)"
   ]
  },
  {
   "cell_type": "code",
   "execution_count": 46,
   "id": "6645db93",
   "metadata": {},
   "outputs": [],
   "source": [
    "# Splitting into 70/15/15 train/val/test\n",
    "dataset_X_train, dataset_X_val, dataset_X_test = dataset.split([0.7, 0.85], shuffle=True)"
   ]
  },
  {
   "cell_type": "markdown",
   "id": "26851f9c",
   "metadata": {},
   "source": [
    "##### Utility Functions for Bias Metric Evaluation"
   ]
  },
  {
   "cell_type": "code",
   "execution_count": 47,
   "id": "528273b8",
   "metadata": {},
   "outputs": [],
   "source": [
    "from collections import defaultdict\n",
    "\n",
    "privileged_groups = [{'RACE': 1}]\n",
    "unprivileged_groups = [{'RACE': 0}]\n",
    "\n",
    "def test(dataset, model, thresh_arr):\n",
    "    try:\n",
    "        # sklearn classifier\n",
    "        y_val_pred_prob = model.predict_proba(dataset.features)\n",
    "        pos_ind = np.where(model.classes_ == dataset.favorable_label)[0][0]\n",
    "        \n",
    "    except AttributeError:\n",
    "        # aif360 inprocessing algorithm\n",
    "        y_val_pred_prob = model.predict(dataset).scores\n",
    "        pos_ind = 0\n",
    "    \n",
    "    metric_arrs = defaultdict(list)\n",
    "    for thresh in thresh_arr:\n",
    "        y_val_pred = (y_val_pred_prob[:, pos_ind] > thresh).astype(np.float64)\n",
    "\n",
    "        dataset_pred = dataset.copy()\n",
    "        dataset_pred.labels = y_val_pred\n",
    "        metric = ClassificationMetric(\n",
    "                dataset, dataset_pred,\n",
    "                unprivileged_groups=unprivileged_groups,\n",
    "                privileged_groups=privileged_groups)\n",
    "\n",
    "        metric_arrs['bal_acc'].append((metric.true_positive_rate()\n",
    "                                     + metric.true_negative_rate()) / 2)\n",
    "        metric_arrs['avg_odds_diff'].append(metric.average_odds_difference())\n",
    "        metric_arrs['disp_imp'].append(metric.disparate_impact())\n",
    "        metric_arrs['stat_par_diff'].append(metric.statistical_parity_difference())\n",
    "        metric_arrs['eq_opp_diff'].append(metric.equal_opportunity_difference())\n",
    "        metric_arrs['theil_ind'].append(metric.theil_index())\n",
    "    \n",
    "    return metric_arrs"
   ]
  },
  {
   "cell_type": "code",
   "execution_count": 48,
   "id": "d098a021",
   "metadata": {},
   "outputs": [],
   "source": [
    "# Function to display bias metrics\n",
    "\n",
    "def describe_metrics(metrics, thresh_arr):\n",
    "    best_ind = np.argmax(metrics['bal_acc'])\n",
    "    print(\"Threshold corresponding to Best balanced accuracy: {:6.4f}\".format(thresh_arr[best_ind]))\n",
    "    print(\"Best balanced accuracy: {:6.4f}\".format(metrics['bal_acc'][best_ind]))\n",
    "    disp_imp_at_best_ind = 1 - min(metrics['disp_imp'][best_ind], 1/metrics['disp_imp'][best_ind])\n",
    "    print(\"Corresponding 1-min(DI, 1/DI) value: {:6.4f}\".format(disp_imp_at_best_ind))\n",
    "    print(\"Corresponding average odds difference value: {:6.4f}\".format(metrics['avg_odds_diff'][best_ind]))\n",
    "    print(\"Corresponding statistical parity difference value: {:6.4f}\".format(metrics['stat_par_diff'][best_ind]))\n",
    "    print(\"Corresponding equal opportunity difference value: {:6.4f}\".format(metrics['eq_opp_diff'][best_ind]))\n",
    "    print(\"Corresponding Theil index value: {:6.4f}\".format(metrics['theil_ind'][best_ind]))"
   ]
  },
  {
   "cell_type": "markdown",
   "id": "16a94295-27c2-482c-966f-751714b61e7e",
   "metadata": {
    "tags": []
   },
   "source": [
    "### 3.2. Learning a Logistic Regression (LR) classifier on original data"
   ]
  },
  {
   "cell_type": "code",
   "execution_count": 49,
   "id": "3d6535a8",
   "metadata": {},
   "outputs": [
    {
     "data": {
      "text/html": [
       "<style>#sk-container-id-1 {color: black;background-color: white;}#sk-container-id-1 pre{padding: 0;}#sk-container-id-1 div.sk-toggleable {background-color: white;}#sk-container-id-1 label.sk-toggleable__label {cursor: pointer;display: block;width: 100%;margin-bottom: 0;padding: 0.3em;box-sizing: border-box;text-align: center;}#sk-container-id-1 label.sk-toggleable__label-arrow:before {content: \"▸\";float: left;margin-right: 0.25em;color: #696969;}#sk-container-id-1 label.sk-toggleable__label-arrow:hover:before {color: black;}#sk-container-id-1 div.sk-estimator:hover label.sk-toggleable__label-arrow:before {color: black;}#sk-container-id-1 div.sk-toggleable__content {max-height: 0;max-width: 0;overflow: hidden;text-align: left;background-color: #f0f8ff;}#sk-container-id-1 div.sk-toggleable__content pre {margin: 0.2em;color: black;border-radius: 0.25em;background-color: #f0f8ff;}#sk-container-id-1 input.sk-toggleable__control:checked~div.sk-toggleable__content {max-height: 200px;max-width: 100%;overflow: auto;}#sk-container-id-1 input.sk-toggleable__control:checked~label.sk-toggleable__label-arrow:before {content: \"▾\";}#sk-container-id-1 div.sk-estimator input.sk-toggleable__control:checked~label.sk-toggleable__label {background-color: #d4ebff;}#sk-container-id-1 div.sk-label input.sk-toggleable__control:checked~label.sk-toggleable__label {background-color: #d4ebff;}#sk-container-id-1 input.sk-hidden--visually {border: 0;clip: rect(1px 1px 1px 1px);clip: rect(1px, 1px, 1px, 1px);height: 1px;margin: -1px;overflow: hidden;padding: 0;position: absolute;width: 1px;}#sk-container-id-1 div.sk-estimator {font-family: monospace;background-color: #f0f8ff;border: 1px dotted black;border-radius: 0.25em;box-sizing: border-box;margin-bottom: 0.5em;}#sk-container-id-1 div.sk-estimator:hover {background-color: #d4ebff;}#sk-container-id-1 div.sk-parallel-item::after {content: \"\";width: 100%;border-bottom: 1px solid gray;flex-grow: 1;}#sk-container-id-1 div.sk-label:hover label.sk-toggleable__label {background-color: #d4ebff;}#sk-container-id-1 div.sk-serial::before {content: \"\";position: absolute;border-left: 1px solid gray;box-sizing: border-box;top: 0;bottom: 0;left: 50%;z-index: 0;}#sk-container-id-1 div.sk-serial {display: flex;flex-direction: column;align-items: center;background-color: white;padding-right: 0.2em;padding-left: 0.2em;position: relative;}#sk-container-id-1 div.sk-item {position: relative;z-index: 1;}#sk-container-id-1 div.sk-parallel {display: flex;align-items: stretch;justify-content: center;background-color: white;position: relative;}#sk-container-id-1 div.sk-item::before, #sk-container-id-1 div.sk-parallel-item::before {content: \"\";position: absolute;border-left: 1px solid gray;box-sizing: border-box;top: 0;bottom: 0;left: 50%;z-index: -1;}#sk-container-id-1 div.sk-parallel-item {display: flex;flex-direction: column;z-index: 1;position: relative;background-color: white;}#sk-container-id-1 div.sk-parallel-item:first-child::after {align-self: flex-end;width: 50%;}#sk-container-id-1 div.sk-parallel-item:last-child::after {align-self: flex-start;width: 50%;}#sk-container-id-1 div.sk-parallel-item:only-child::after {width: 0;}#sk-container-id-1 div.sk-dashed-wrapped {border: 1px dashed gray;margin: 0 0.4em 0.5em 0.4em;box-sizing: border-box;padding-bottom: 0.4em;background-color: white;}#sk-container-id-1 div.sk-label label {font-family: monospace;font-weight: bold;display: inline-block;line-height: 1.2em;}#sk-container-id-1 div.sk-label-container {text-align: center;}#sk-container-id-1 div.sk-container {/* jupyter's `normalize.less` sets `[hidden] { display: none; }` but bootstrap.min.css set `[hidden] { display: none !important; }` so we also need the `!important` here to be able to override the default hidden behavior on the sphinx rendered scikit-learn.org. See: https://github.com/scikit-learn/scikit-learn/issues/21755 */display: inline-block !important;position: relative;}#sk-container-id-1 div.sk-text-repr-fallback {display: none;}</style><div id=\"sk-container-id-1\" class=\"sk-top-container\"><div class=\"sk-text-repr-fallback\"><pre>LogisticRegression(C=10, penalty=&#x27;l1&#x27;, random_state=1, solver=&#x27;liblinear&#x27;)</pre><b>In a Jupyter environment, please rerun this cell to show the HTML representation or trust the notebook. <br />On GitHub, the HTML representation is unable to render, please try loading this page with nbviewer.org.</b></div><div class=\"sk-container\" hidden><div class=\"sk-item\"><div class=\"sk-estimator sk-toggleable\"><input class=\"sk-toggleable__control sk-hidden--visually\" id=\"sk-estimator-id-1\" type=\"checkbox\" checked><label for=\"sk-estimator-id-1\" class=\"sk-toggleable__label sk-toggleable__label-arrow\">LogisticRegression</label><div class=\"sk-toggleable__content\"><pre>LogisticRegression(C=10, penalty=&#x27;l1&#x27;, random_state=1, solver=&#x27;liblinear&#x27;)</pre></div></div></div></div></div>"
      ],
      "text/plain": [
       "LogisticRegression(C=10, penalty='l1', random_state=1, solver='liblinear')"
      ]
     },
     "execution_count": 49,
     "metadata": {},
     "output_type": "execute_result"
    }
   ],
   "source": [
    "# hyper parameter tuning\n",
    "params = {'penalty': ['l1','l2'], 'C': [0.001, 0.01, 0.1, 1, 10, 100, 1000]}\n",
    "clf = GridSearchCV(LogisticRegression(solver = 'liblinear', random_state=1), params, refit=True)\n",
    "clf = clf.fit(dataset_X_train.features, dataset_X_train.labels.ravel())\n",
    "clf.best_estimator_"
   ]
  },
  {
   "cell_type": "code",
   "execution_count": 50,
   "id": "b8beb0a6",
   "metadata": {},
   "outputs": [
    {
     "data": {
      "text/html": [
       "<style>#sk-container-id-2 {color: black;background-color: white;}#sk-container-id-2 pre{padding: 0;}#sk-container-id-2 div.sk-toggleable {background-color: white;}#sk-container-id-2 label.sk-toggleable__label {cursor: pointer;display: block;width: 100%;margin-bottom: 0;padding: 0.3em;box-sizing: border-box;text-align: center;}#sk-container-id-2 label.sk-toggleable__label-arrow:before {content: \"▸\";float: left;margin-right: 0.25em;color: #696969;}#sk-container-id-2 label.sk-toggleable__label-arrow:hover:before {color: black;}#sk-container-id-2 div.sk-estimator:hover label.sk-toggleable__label-arrow:before {color: black;}#sk-container-id-2 div.sk-toggleable__content {max-height: 0;max-width: 0;overflow: hidden;text-align: left;background-color: #f0f8ff;}#sk-container-id-2 div.sk-toggleable__content pre {margin: 0.2em;color: black;border-radius: 0.25em;background-color: #f0f8ff;}#sk-container-id-2 input.sk-toggleable__control:checked~div.sk-toggleable__content {max-height: 200px;max-width: 100%;overflow: auto;}#sk-container-id-2 input.sk-toggleable__control:checked~label.sk-toggleable__label-arrow:before {content: \"▾\";}#sk-container-id-2 div.sk-estimator input.sk-toggleable__control:checked~label.sk-toggleable__label {background-color: #d4ebff;}#sk-container-id-2 div.sk-label input.sk-toggleable__control:checked~label.sk-toggleable__label {background-color: #d4ebff;}#sk-container-id-2 input.sk-hidden--visually {border: 0;clip: rect(1px 1px 1px 1px);clip: rect(1px, 1px, 1px, 1px);height: 1px;margin: -1px;overflow: hidden;padding: 0;position: absolute;width: 1px;}#sk-container-id-2 div.sk-estimator {font-family: monospace;background-color: #f0f8ff;border: 1px dotted black;border-radius: 0.25em;box-sizing: border-box;margin-bottom: 0.5em;}#sk-container-id-2 div.sk-estimator:hover {background-color: #d4ebff;}#sk-container-id-2 div.sk-parallel-item::after {content: \"\";width: 100%;border-bottom: 1px solid gray;flex-grow: 1;}#sk-container-id-2 div.sk-label:hover label.sk-toggleable__label {background-color: #d4ebff;}#sk-container-id-2 div.sk-serial::before {content: \"\";position: absolute;border-left: 1px solid gray;box-sizing: border-box;top: 0;bottom: 0;left: 50%;z-index: 0;}#sk-container-id-2 div.sk-serial {display: flex;flex-direction: column;align-items: center;background-color: white;padding-right: 0.2em;padding-left: 0.2em;position: relative;}#sk-container-id-2 div.sk-item {position: relative;z-index: 1;}#sk-container-id-2 div.sk-parallel {display: flex;align-items: stretch;justify-content: center;background-color: white;position: relative;}#sk-container-id-2 div.sk-item::before, #sk-container-id-2 div.sk-parallel-item::before {content: \"\";position: absolute;border-left: 1px solid gray;box-sizing: border-box;top: 0;bottom: 0;left: 50%;z-index: -1;}#sk-container-id-2 div.sk-parallel-item {display: flex;flex-direction: column;z-index: 1;position: relative;background-color: white;}#sk-container-id-2 div.sk-parallel-item:first-child::after {align-self: flex-end;width: 50%;}#sk-container-id-2 div.sk-parallel-item:last-child::after {align-self: flex-start;width: 50%;}#sk-container-id-2 div.sk-parallel-item:only-child::after {width: 0;}#sk-container-id-2 div.sk-dashed-wrapped {border: 1px dashed gray;margin: 0 0.4em 0.5em 0.4em;box-sizing: border-box;padding-bottom: 0.4em;background-color: white;}#sk-container-id-2 div.sk-label label {font-family: monospace;font-weight: bold;display: inline-block;line-height: 1.2em;}#sk-container-id-2 div.sk-label-container {text-align: center;}#sk-container-id-2 div.sk-container {/* jupyter's `normalize.less` sets `[hidden] { display: none; }` but bootstrap.min.css set `[hidden] { display: none !important; }` so we also need the `!important` here to be able to override the default hidden behavior on the sphinx rendered scikit-learn.org. See: https://github.com/scikit-learn/scikit-learn/issues/21755 */display: inline-block !important;position: relative;}#sk-container-id-2 div.sk-text-repr-fallback {display: none;}</style><div id=\"sk-container-id-2\" class=\"sk-top-container\"><div class=\"sk-text-repr-fallback\"><pre>Pipeline(steps=[(&#x27;standardscaler&#x27;, StandardScaler()),\n",
       "                (&#x27;logisticregression&#x27;,\n",
       "                 LogisticRegression(C=10, penalty=&#x27;l1&#x27;, random_state=1,\n",
       "                                    solver=&#x27;liblinear&#x27;))])</pre><b>In a Jupyter environment, please rerun this cell to show the HTML representation or trust the notebook. <br />On GitHub, the HTML representation is unable to render, please try loading this page with nbviewer.org.</b></div><div class=\"sk-container\" hidden><div class=\"sk-item sk-dashed-wrapped\"><div class=\"sk-label-container\"><div class=\"sk-label sk-toggleable\"><input class=\"sk-toggleable__control sk-hidden--visually\" id=\"sk-estimator-id-2\" type=\"checkbox\" ><label for=\"sk-estimator-id-2\" class=\"sk-toggleable__label sk-toggleable__label-arrow\">Pipeline</label><div class=\"sk-toggleable__content\"><pre>Pipeline(steps=[(&#x27;standardscaler&#x27;, StandardScaler()),\n",
       "                (&#x27;logisticregression&#x27;,\n",
       "                 LogisticRegression(C=10, penalty=&#x27;l1&#x27;, random_state=1,\n",
       "                                    solver=&#x27;liblinear&#x27;))])</pre></div></div></div><div class=\"sk-serial\"><div class=\"sk-item\"><div class=\"sk-estimator sk-toggleable\"><input class=\"sk-toggleable__control sk-hidden--visually\" id=\"sk-estimator-id-3\" type=\"checkbox\" ><label for=\"sk-estimator-id-3\" class=\"sk-toggleable__label sk-toggleable__label-arrow\">StandardScaler</label><div class=\"sk-toggleable__content\"><pre>StandardScaler()</pre></div></div></div><div class=\"sk-item\"><div class=\"sk-estimator sk-toggleable\"><input class=\"sk-toggleable__control sk-hidden--visually\" id=\"sk-estimator-id-4\" type=\"checkbox\" ><label for=\"sk-estimator-id-4\" class=\"sk-toggleable__label sk-toggleable__label-arrow\">LogisticRegression</label><div class=\"sk-toggleable__content\"><pre>LogisticRegression(C=10, penalty=&#x27;l1&#x27;, random_state=1, solver=&#x27;liblinear&#x27;)</pre></div></div></div></div></div></div></div>"
      ],
      "text/plain": [
       "Pipeline(steps=[('standardscaler', StandardScaler()),\n",
       "                ('logisticregression',\n",
       "                 LogisticRegression(C=10, penalty='l1', random_state=1,\n",
       "                                    solver='liblinear'))])"
      ]
     },
     "execution_count": 50,
     "metadata": {},
     "output_type": "execute_result"
    }
   ],
   "source": [
    "# applying best estimator\n",
    "log_clf = make_pipeline(StandardScaler(), clf.best_estimator_)\n",
    "log_clf.fit(dataset_X_train.features, dataset_X_train.labels.ravel())"
   ]
  },
  {
   "cell_type": "code",
   "execution_count": 51,
   "id": "1b2e7610",
   "metadata": {},
   "outputs": [
    {
     "name": "stdout",
     "output_type": "stream",
     "text": [
      "Threshold corresponding to Best balanced accuracy: 0.1400\n",
      "Best balanced accuracy: 0.7519\n",
      "Corresponding 1-min(DI, 1/DI) value: 0.5947\n",
      "Corresponding average odds difference value: -0.2664\n",
      "Corresponding statistical parity difference value: -0.3415\n",
      "Corresponding equal opportunity difference value: -0.2224\n",
      "Corresponding Theil index value: 0.0916\n"
     ]
    }
   ],
   "source": [
    "# validation metric summary\n",
    "thresh_arr = np.linspace(0.01, 0.5, 50)\n",
    "log_val_metrics = test(dataset=dataset_X_val,\n",
    "                   model=log_clf,\n",
    "                   thresh_arr=thresh_arr)\n",
    "log_org_best_ind = np.argmax(log_val_metrics['bal_acc'])\n",
    "describe_metrics(log_val_metrics, thresh_arr)"
   ]
  },
  {
   "cell_type": "markdown",
   "id": "22318c2a-8698-4430-9670-41366dd9a39e",
   "metadata": {},
   "source": [
    "### 3.3. Learning a Random Forest (RF) classifier on original data"
   ]
  },
  {
   "cell_type": "code",
   "execution_count": 52,
   "id": "688e8cea",
   "metadata": {},
   "outputs": [
    {
     "data": {
      "text/html": [
       "<style>#sk-container-id-3 {color: black;background-color: white;}#sk-container-id-3 pre{padding: 0;}#sk-container-id-3 div.sk-toggleable {background-color: white;}#sk-container-id-3 label.sk-toggleable__label {cursor: pointer;display: block;width: 100%;margin-bottom: 0;padding: 0.3em;box-sizing: border-box;text-align: center;}#sk-container-id-3 label.sk-toggleable__label-arrow:before {content: \"▸\";float: left;margin-right: 0.25em;color: #696969;}#sk-container-id-3 label.sk-toggleable__label-arrow:hover:before {color: black;}#sk-container-id-3 div.sk-estimator:hover label.sk-toggleable__label-arrow:before {color: black;}#sk-container-id-3 div.sk-toggleable__content {max-height: 0;max-width: 0;overflow: hidden;text-align: left;background-color: #f0f8ff;}#sk-container-id-3 div.sk-toggleable__content pre {margin: 0.2em;color: black;border-radius: 0.25em;background-color: #f0f8ff;}#sk-container-id-3 input.sk-toggleable__control:checked~div.sk-toggleable__content {max-height: 200px;max-width: 100%;overflow: auto;}#sk-container-id-3 input.sk-toggleable__control:checked~label.sk-toggleable__label-arrow:before {content: \"▾\";}#sk-container-id-3 div.sk-estimator input.sk-toggleable__control:checked~label.sk-toggleable__label {background-color: #d4ebff;}#sk-container-id-3 div.sk-label input.sk-toggleable__control:checked~label.sk-toggleable__label {background-color: #d4ebff;}#sk-container-id-3 input.sk-hidden--visually {border: 0;clip: rect(1px 1px 1px 1px);clip: rect(1px, 1px, 1px, 1px);height: 1px;margin: -1px;overflow: hidden;padding: 0;position: absolute;width: 1px;}#sk-container-id-3 div.sk-estimator {font-family: monospace;background-color: #f0f8ff;border: 1px dotted black;border-radius: 0.25em;box-sizing: border-box;margin-bottom: 0.5em;}#sk-container-id-3 div.sk-estimator:hover {background-color: #d4ebff;}#sk-container-id-3 div.sk-parallel-item::after {content: \"\";width: 100%;border-bottom: 1px solid gray;flex-grow: 1;}#sk-container-id-3 div.sk-label:hover label.sk-toggleable__label {background-color: #d4ebff;}#sk-container-id-3 div.sk-serial::before {content: \"\";position: absolute;border-left: 1px solid gray;box-sizing: border-box;top: 0;bottom: 0;left: 50%;z-index: 0;}#sk-container-id-3 div.sk-serial {display: flex;flex-direction: column;align-items: center;background-color: white;padding-right: 0.2em;padding-left: 0.2em;position: relative;}#sk-container-id-3 div.sk-item {position: relative;z-index: 1;}#sk-container-id-3 div.sk-parallel {display: flex;align-items: stretch;justify-content: center;background-color: white;position: relative;}#sk-container-id-3 div.sk-item::before, #sk-container-id-3 div.sk-parallel-item::before {content: \"\";position: absolute;border-left: 1px solid gray;box-sizing: border-box;top: 0;bottom: 0;left: 50%;z-index: -1;}#sk-container-id-3 div.sk-parallel-item {display: flex;flex-direction: column;z-index: 1;position: relative;background-color: white;}#sk-container-id-3 div.sk-parallel-item:first-child::after {align-self: flex-end;width: 50%;}#sk-container-id-3 div.sk-parallel-item:last-child::after {align-self: flex-start;width: 50%;}#sk-container-id-3 div.sk-parallel-item:only-child::after {width: 0;}#sk-container-id-3 div.sk-dashed-wrapped {border: 1px dashed gray;margin: 0 0.4em 0.5em 0.4em;box-sizing: border-box;padding-bottom: 0.4em;background-color: white;}#sk-container-id-3 div.sk-label label {font-family: monospace;font-weight: bold;display: inline-block;line-height: 1.2em;}#sk-container-id-3 div.sk-label-container {text-align: center;}#sk-container-id-3 div.sk-container {/* jupyter's `normalize.less` sets `[hidden] { display: none; }` but bootstrap.min.css set `[hidden] { display: none !important; }` so we also need the `!important` here to be able to override the default hidden behavior on the sphinx rendered scikit-learn.org. See: https://github.com/scikit-learn/scikit-learn/issues/21755 */display: inline-block !important;position: relative;}#sk-container-id-3 div.sk-text-repr-fallback {display: none;}</style><div id=\"sk-container-id-3\" class=\"sk-top-container\"><div class=\"sk-text-repr-fallback\"><pre>RandomForestClassifier(class_weight=&#x27;balanced&#x27;)</pre><b>In a Jupyter environment, please rerun this cell to show the HTML representation or trust the notebook. <br />On GitHub, the HTML representation is unable to render, please try loading this page with nbviewer.org.</b></div><div class=\"sk-container\" hidden><div class=\"sk-item\"><div class=\"sk-estimator sk-toggleable\"><input class=\"sk-toggleable__control sk-hidden--visually\" id=\"sk-estimator-id-5\" type=\"checkbox\" checked><label for=\"sk-estimator-id-5\" class=\"sk-toggleable__label sk-toggleable__label-arrow\">RandomForestClassifier</label><div class=\"sk-toggleable__content\"><pre>RandomForestClassifier(class_weight=&#x27;balanced&#x27;)</pre></div></div></div></div></div>"
      ],
      "text/plain": [
       "RandomForestClassifier(class_weight='balanced')"
      ]
     },
     "execution_count": 52,
     "metadata": {},
     "output_type": "execute_result"
    }
   ],
   "source": [
    "# Training Random Forest\n",
    "\n",
    "rf_clf = RandomForestClassifier(class_weight = 'balanced') \n",
    "#'High Utilization' class makes up only ~20% of the test/val sets; unbalanced\n",
    "rf_clf.fit(dataset_X_train.features, dataset_X_train.labels.ravel())"
   ]
  },
  {
   "cell_type": "markdown",
   "id": "68a5bb1b",
   "metadata": {},
   "source": [
    "##### Validation Set Fairness Metric Summary"
   ]
  },
  {
   "cell_type": "code",
   "execution_count": 53,
   "id": "6bede1bb",
   "metadata": {},
   "outputs": [],
   "source": [
    "thresh_arr = np.linspace(0.01, 0.5, 50)\n",
    "val_metrics = test(dataset=dataset_X_val,\n",
    "                   model=rf_clf,\n",
    "                   thresh_arr=thresh_arr)\n",
    "rf_org_best_ind = np.argmax(val_metrics['bal_acc'])"
   ]
  },
  {
   "cell_type": "code",
   "execution_count": 54,
   "id": "97384f48",
   "metadata": {},
   "outputs": [
    {
     "name": "stdout",
     "output_type": "stream",
     "text": [
      "Threshold corresponding to Best balanced accuracy: 0.1400\n",
      "Best balanced accuracy: 0.7588\n",
      "Corresponding 1-min(DI, 1/DI) value: 0.4920\n",
      "Corresponding average odds difference value: -0.1932\n",
      "Corresponding statistical parity difference value: -0.2761\n",
      "Corresponding equal opportunity difference value: -0.1410\n",
      "Corresponding Theil index value: 0.0864\n"
     ]
    }
   ],
   "source": [
    "describe_metrics(val_metrics, thresh_arr)"
   ]
  },
  {
   "cell_type": "markdown",
   "id": "7a7e7c0b",
   "metadata": {},
   "source": [
    "##### Test Set Fairness Metric Summary"
   ]
  },
  {
   "cell_type": "code",
   "execution_count": 41,
   "id": "195b8872",
   "metadata": {},
   "outputs": [],
   "source": [
    "thresh_arr = np.linspace(0.01, 0.5, 50)\n",
    "test_metrics = test(dataset=dataset_X_test,\n",
    "                   model=rf_clf,\n",
    "                   thresh_arr=thresh_arr)"
   ]
  },
  {
   "cell_type": "code",
   "execution_count": 42,
   "id": "54b7f984",
   "metadata": {},
   "outputs": [
    {
     "name": "stdout",
     "output_type": "stream",
     "text": [
      "Threshold corresponding to Best balanced accuracy: 0.1900\n",
      "Best balanced accuracy: 0.7715\n",
      "Corresponding 1-min(DI, 1/DI) value: 0.5408\n",
      "Corresponding average odds difference value: -0.1698\n",
      "Corresponding statistical parity difference value: -0.2534\n",
      "Corresponding equal opportunity difference value: -0.1358\n",
      "Corresponding Theil index value: 0.0894\n"
     ]
    }
   ],
   "source": [
    "describe_metrics(test_metrics, thresh_arr)"
   ]
  },
  {
   "cell_type": "markdown",
   "id": "780381f0-6341-4b13-901e-112e156b829b",
   "metadata": {
    "tags": []
   },
   "source": [
    "### Section 3 Write Up here\n",
    "\n",
    "### Part-01: For **both** the logistic regression and random forest classifiers learned on the original data, please include explain the results of your fairness metrics. For _each_ metric result briefly describe what this value means in 1-2 sentences (is it fair, is it not fair? Why?)\n",
    "\n",
    "**Fairness Metric Summary** \n",
    "* Threshold corresponding to Best balanced accuracy:\n",
    "* Best balanced accuracy: \n",
    "* Corresponding 1-min(DI, 1/DI) value: \n",
    "* Corresponding average odds difference value: \n",
    "* Corresponding statistical parity difference value: \n",
    "* Corresponding equal opportunity difference value:\n",
    "* Corresponding Theil index value:\n",
    "\n",
    "### Part-02: Please write one paragraph for each question.\n",
    "1. How can we determine which metrics to use, given our data and use case? You can refer to [Course material](https://urldefense.com/v3/__https://nanrahman.github.io/capstone-responsible-ai/weeks/06-Fairness-Assessments/__;!!Mih3wA!BOEOztl97chVva97r53aT50dEFwNxxI2GkzmaN6Ka1BWLdgKKh2LJXrxTrJ7odgsEuyLI8wAkAntO_2AYl4$ ), online research and Guidance provided by [AIF360](https://urldefense.com/v3/__http://aif360.mybluemix.net/resources*)*5Cn__;IyU!!Mih3wA!BOEOztl97chVva97r53aT50dEFwNxxI2GkzmaN6Ka1BWLdgKKh2LJXrxTrJ7odgsEuyLI8wAkAntaNs6CTw$ 2. When you have competing fairness metrics, how to pick which to prioritize?\n",
    "3. What do you do when you encounter different definitions for similar metrics?\n",
    "4. Based on this, which model and fairness metric appears the best to proceed with?"
   ]
  },
  {
   "cell_type": "markdown",
   "id": "d53682fc-9332-498f-abe9-209744d7cbbd",
   "metadata": {
    "jp-MarkdownHeadingCollapsed": true,
    "tags": []
   },
   "source": [
    "### [4.](#Table-of-Contents) Additional Model Development\n",
    "\n"
   ]
  },
  {
   "cell_type": "markdown",
   "id": "de965d1e-5cf4-45f6-84e5-4b5a5caf34c2",
   "metadata": {
    "tags": []
   },
   "source": [
    "### 4.1A Load data & create splits for learning/validating/testing model"
   ]
  },
  {
   "cell_type": "code",
   "execution_count": 43,
   "id": "dcb04691",
   "metadata": {},
   "outputs": [],
   "source": [
    "# combine panel 19 and 20 reduced data\n",
    "df_panel_19_reduced['PANEL'] = [19]*df_panel_19_reduced.shape[0]\n",
    "df_panel_20_reduced['PANEL'] = [20]*df_panel_20_reduced.shape[0]\n",
    "X = pd.concat([df_panel_19_reduced, df_panel_20_reduced], ignore_index=True)\n",
    "\n",
    "# White and Non-White to 1 and 0 (change to default_mappings)\n",
    "X = X.replace({'White':1, 'Non-White':0})"
   ]
  },
  {
   "cell_type": "code",
   "execution_count": 44,
   "id": "c84d3cb3",
   "metadata": {},
   "outputs": [],
   "source": [
    "# transforming dataframe into AIF compatible format\n",
    "dataset = StandardDataset(X, label_name = 'UTILIZATION', favorable_classes=[1],\n",
    "                 protected_attribute_names= ['RACE'], privileged_classes = [[1]], metadata=default_mappings)"
   ]
  },
  {
   "cell_type": "code",
   "execution_count": 45,
   "id": "80312dc9",
   "metadata": {},
   "outputs": [],
   "source": [
    "# Splitting into 70/15/15 train/val/test\n",
    "dataset_X_train, dataset_X_val, dataset_X_test = dataset.split([0.7, 0.85], shuffle=True)"
   ]
  },
  {
   "cell_type": "markdown",
   "id": "8ae16fc0-16de-49ab-bb8a-70a1d58cc4ab",
   "metadata": {
    "tags": []
   },
   "source": [
    "### 4.1B Utilize findings from your EDA to complete any additional model development"
   ]
  },
  {
   "cell_type": "code",
   "execution_count": 46,
   "id": "fcf86f7a-1a16-4383-a3ee-544337442742",
   "metadata": {},
   "outputs": [],
   "source": [
    "# Examples:\n",
    "\n",
    "# Feature selection \n",
    "# encoding\n",
    "# binning categorical features\n",
    "\n",
    "# not really sure what things we could do rn, I feel like we would need to really understand the dataset\n",
    "\n",
    "# Feel free to use the codebook from MEPS to explore other variables"
   ]
  },
  {
   "cell_type": "code",
   "execution_count": 47,
   "id": "cf3f4540",
   "metadata": {
    "scrolled": true
   },
   "outputs": [],
   "source": [
    "# binning weight, 1 being the lowest representation and 5 being the highest\n",
    "# since weight is so weirdly collected i figured this would help, but it still is unclear in context. \n",
    "# tbh don't think it made a difference lol, feel free to delete/change\n",
    "dev_X = X.copy()\n",
    "dev_X['WeightBins'] = pd.cut(dev_X['PERWT15F'], 5, labels = [1, 2, 3, 4, 5]) \n",
    "dev_X = dev_X.drop(columns = 'PERWT15F')"
   ]
  },
  {
   "cell_type": "code",
   "execution_count": 48,
   "id": "71b1fc94",
   "metadata": {},
   "outputs": [],
   "source": [
    "# binning other numerical columns\n",
    "# selecting number of bins in order to separate -1 into its own bin\n",
    "dev_X['PCS42Bins'] = pd.cut(dev_X['PCS42'], 14, labels = [-1, 1, 2, 3, 4, 5, 6, 7, 8, 9, 10, 11, 12, 13])\n",
    "dev_X['MCS42Bins'] = pd.cut(dev_X['MCS42'], 11, labels = [-1, 1, 2, 3, 4, 5, 6, 7, 8, 9, 10])\n",
    "dev_X = dev_X.drop(columns = ['PCS42', 'MCS42'])"
   ]
  },
  {
   "cell_type": "code",
   "execution_count": 49,
   "id": "01b74201",
   "metadata": {},
   "outputs": [],
   "source": [
    "dev_dataset = StandardDataset(dev_X, label_name = 'UTILIZATION', favorable_classes=[1],\n",
    "                 protected_attribute_names= ['RACE'], privileged_classes = [[1]], metadata=default_mappings)"
   ]
  },
  {
   "cell_type": "code",
   "execution_count": 50,
   "id": "d0d05437",
   "metadata": {},
   "outputs": [],
   "source": [
    "# Splitting into 70/15/15 train/val/test\n",
    "dev_dataset_X_train, dev_dataset_X_val, dev_dataset_X_test = dev_dataset.split([0.7, 0.85], shuffle=True)"
   ]
  },
  {
   "cell_type": "markdown",
   "id": "22345104-7e28-43c0-af32-efffcf8b4920",
   "metadata": {
    "tags": []
   },
   "source": [
    "### 4.2. Learning a Logistic Regression (LR) classifier on original data"
   ]
  },
  {
   "cell_type": "code",
   "execution_count": 51,
   "id": "37eb5576",
   "metadata": {},
   "outputs": [
    {
     "data": {
      "text/plain": [
       "LogisticRegression(C=0.1, penalty='l1', random_state=1, solver='liblinear')"
      ]
     },
     "execution_count": 51,
     "metadata": {},
     "output_type": "execute_result"
    }
   ],
   "source": [
    "# Use the same methods from Section 3\n",
    "# hyper parameter tuning\n",
    "params = {'penalty': ['l1','l2'], 'C': [0.001, 0.01, 0.1, 1, 10, 100, 1000]}\n",
    "clf = GridSearchCV(LogisticRegression(solver = 'liblinear', random_state=1), params, refit=True)\n",
    "clf = clf.fit(dev_dataset_X_train.features, dev_dataset_X_train.labels.ravel())\n",
    "clf.best_estimator_"
   ]
  },
  {
   "cell_type": "code",
   "execution_count": 52,
   "id": "f1547e0f-a23a-4bbf-82a8-107bab7ac739",
   "metadata": {},
   "outputs": [
    {
     "data": {
      "text/plain": [
       "Pipeline(steps=[('standardscaler', StandardScaler()),\n",
       "                ('logisticregression',\n",
       "                 LogisticRegression(C=0.1, penalty='l1', random_state=1,\n",
       "                                    solver='liblinear'))])"
      ]
     },
     "execution_count": 52,
     "metadata": {},
     "output_type": "execute_result"
    }
   ],
   "source": [
    "# applying best estimator\n",
    "log_clf = make_pipeline(StandardScaler(), clf.best_estimator_)\n",
    "log_clf.fit(dev_dataset_X_train.features, dev_dataset_X_train.labels.ravel())"
   ]
  },
  {
   "cell_type": "code",
   "execution_count": 53,
   "id": "9c6c5ba8",
   "metadata": {},
   "outputs": [
    {
     "name": "stdout",
     "output_type": "stream",
     "text": [
      "Threshold corresponding to Best balanced accuracy: 0.1400\n",
      "Best balanced accuracy: 0.7588\n",
      "Corresponding 1-min(DI, 1/DI) value: 0.4920\n",
      "Corresponding average odds difference value: -0.1932\n",
      "Corresponding statistical parity difference value: -0.2761\n",
      "Corresponding equal opportunity difference value: -0.1410\n",
      "Corresponding Theil index value: 0.0864\n"
     ]
    }
   ],
   "source": [
    "# validation metric summary\n",
    "thresh_arr = np.linspace(0.01, 0.5, 50)\n",
    "log_val_metrics = test(dataset=dev_dataset_X_val,\n",
    "                   model=log_clf,\n",
    "                   thresh_arr=thresh_arr)\n",
    "log_org_best_ind = np.argmax(log_val_metrics['bal_acc'])\n",
    "describe_metrics(val_metrics, thresh_arr)"
   ]
  },
  {
   "cell_type": "markdown",
   "id": "da8258f9-430f-4569-bb8c-f7a1ca1580ef",
   "metadata": {},
   "source": [
    "### 4.3. Learning a Random Forest (RF) classifier on original data"
   ]
  },
  {
   "cell_type": "code",
   "execution_count": 54,
   "id": "d228c01c-6058-4706-9179-206629a8e800",
   "metadata": {},
   "outputs": [
    {
     "data": {
      "text/plain": [
       "RandomForestClassifier(class_weight='balanced', max_depth=40,\n",
       "                       max_features='log2')"
      ]
     },
     "execution_count": 54,
     "metadata": {},
     "output_type": "execute_result"
    }
   ],
   "source": [
    "# Use the same methods from Section 3\n",
    "# Training Random Forest\n",
    "rf_params = {'max_depth': [20, 40, 60, 80, 100, None], 'max_features': ['sqrt', 'log2']}\n",
    "rf_clf = GridSearchCV(RandomForestClassifier(class_weight = 'balanced'), rf_params, refit=True)\n",
    "\n",
    "rf_clf.fit(dev_dataset_X_train.features, dev_dataset_X_train.labels.ravel())\n",
    "rf_clf.best_estimator_"
   ]
  },
  {
   "cell_type": "markdown",
   "id": "881186a8",
   "metadata": {},
   "source": [
    "##### Validation Set Fairness Metric Summary"
   ]
  },
  {
   "cell_type": "code",
   "execution_count": 55,
   "id": "1cb325e5",
   "metadata": {},
   "outputs": [],
   "source": [
    "thresh_arr = np.linspace(0.01, 0.5, 50)\n",
    "val_metrics = test(dataset=dev_dataset_X_val,\n",
    "                   model=rf_clf,\n",
    "                   thresh_arr=thresh_arr)\n",
    "rf_org_best_ind = np.argmax(val_metrics['bal_acc'])"
   ]
  },
  {
   "cell_type": "code",
   "execution_count": 56,
   "id": "764fde00",
   "metadata": {},
   "outputs": [
    {
     "name": "stdout",
     "output_type": "stream",
     "text": [
      "Threshold corresponding to Best balanced accuracy: 0.2500\n",
      "Best balanced accuracy: 0.7513\n",
      "Corresponding 1-min(DI, 1/DI) value: 0.4877\n",
      "Corresponding average odds difference value: -0.1273\n",
      "Corresponding statistical parity difference value: -0.2145\n",
      "Corresponding equal opportunity difference value: -0.0981\n",
      "Corresponding Theil index value: 0.1104\n"
     ]
    }
   ],
   "source": [
    "describe_metrics(val_metrics, thresh_arr)"
   ]
  },
  {
   "cell_type": "markdown",
   "id": "16048809",
   "metadata": {},
   "source": [
    "##### Test Set Fairness Metric Summary"
   ]
  },
  {
   "cell_type": "code",
   "execution_count": 57,
   "id": "41ceaf1f",
   "metadata": {},
   "outputs": [],
   "source": [
    "thresh_arr = np.linspace(0.01, 0.5, 50)\n",
    "test_metrics = test(dataset=dev_dataset_X_test,\n",
    "                   model=rf_clf,\n",
    "                   thresh_arr=thresh_arr)"
   ]
  },
  {
   "cell_type": "code",
   "execution_count": 58,
   "id": "cc16c1bb",
   "metadata": {},
   "outputs": [
    {
     "name": "stdout",
     "output_type": "stream",
     "text": [
      "Threshold corresponding to Best balanced accuracy: 0.2200\n",
      "Best balanced accuracy: 0.7608\n",
      "Corresponding 1-min(DI, 1/DI) value: 0.4697\n",
      "Corresponding average odds difference value: -0.1437\n",
      "Corresponding statistical parity difference value: -0.2275\n",
      "Corresponding equal opportunity difference value: -0.1041\n",
      "Corresponding Theil index value: 0.1026\n"
     ]
    }
   ],
   "source": [
    "describe_metrics(test_metrics, thresh_arr)"
   ]
  },
  {
   "cell_type": "markdown",
   "id": "bc612147-c6ab-4aea-a37f-95f44363cf90",
   "metadata": {
    "tags": []
   },
   "source": [
    "### Section 4 Write Up here\n",
    "\n",
    "**1. For both the logistic regression and random forest classifiers learned on the original data, please include the results of your fairness metrics. For _each_ metric result briefly describe (1-2 sentences) if you saw any differences from your results in Part 3, and what that might mean.**\n",
    "\n",
    "_Fairness Metrics_\n",
    "   * Threshold corresponding to Best balanced accuracy:\n",
    "   * Best balanced accuracy: \n",
    "   * Corresponding 1-min(DI, 1/DI) value: \n",
    "   * Corresponding average odds difference value: \n",
    "   * Corresponding statistical parity difference value: \n",
    "   * Corresponding equal opportunity difference value:\n",
    "   * Corresponding Theil index value:\n",
    "    \n",
    "**2. Based on this, would you make any recommendations during model development? Does it change which model and fairness metric would be the best to proceed with?** (Please write at least one paragraph)"
   ]
  },
  {
   "cell_type": "markdown",
   "id": "99473a5c-2910-4c77-a53a-f0022871225d",
   "metadata": {
    "tags": []
   },
   "source": [
    "\n",
    "### End of Replication Part 02 -  Model Development and Fairness Evaluation\n",
    "\n",
    "----\n"
   ]
  },
  {
   "cell_type": "markdown",
   "id": "cdad4c69-65f4-4646-87a2-996c8f983447",
   "metadata": {
    "jp-MarkdownHeadingCollapsed": true,
    "tags": []
   },
   "source": [
    "#### _Items below will be updated as course progress_\n",
    "\n"
   ]
  },
  {
   "cell_type": "markdown",
   "id": "58b3e294",
   "metadata": {},
   "source": [
    "### [5.](#Table-of-Contents) Bias Mitigation"
   ]
  },
  {
   "cell_type": "markdown",
   "id": "106d7b57",
   "metadata": {},
   "source": [
    "### [6.](#Table-of-Contents) Results Summary"
   ]
  },
  {
   "cell_type": "markdown",
   "id": "61997b93",
   "metadata": {},
   "source": [
    "### [7.](#Table-of-Contents) Explainability"
   ]
  },
  {
   "cell_type": "markdown",
   "id": "a9010ecc",
   "metadata": {},
   "source": [
    "### [8.](#Table-of-Contents) Conclusion & Discussion"
   ]
  }
 ],
 "metadata": {
  "kernelspec": {
   "display_name": "Python 3",
   "language": "python",
   "name": "python3"
  },
  "language_info": {
   "codemirror_mode": {
    "name": "ipython",
    "version": 3
   },
   "file_extension": ".py",
   "mimetype": "text/x-python",
   "name": "python",
   "nbconvert_exporter": "python",
   "pygments_lexer": "ipython3",
   "version": "3.9.18"
  },
  "toc-autonumbering": false,
  "toc-showcode": true,
  "toc-showmarkdowntxt": true,
  "toc-showtags": true
 },
 "nbformat": 4,
 "nbformat_minor": 5
}
